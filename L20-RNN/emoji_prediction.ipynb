{
  "nbformat": 4,
  "nbformat_minor": 0,
  "metadata": {
    "kernelspec": {
      "name": "python3",
      "display_name": "Python 3"
    },
    "language_info": {
      "codemirror_mode": {
        "name": "ipython",
        "version": 3
      },
      "file_extension": ".py",
      "mimetype": "text/x-python",
      "name": "python",
      "nbconvert_exporter": "python",
      "pygments_lexer": "ipython3",
      "version": "3.6.1"
    },
    "colab": {
      "name": "emoji-prediction.ipynb",
      "version": "0.3.2",
      "provenance": []
    },
    "accelerator": "GPU"
  },
  "cells": [
    {
      "cell_type": "code",
      "metadata": {
        "id": "KmvT12eEFEb2",
        "colab_type": "code",
        "colab": {
          "base_uri": "https://localhost:8080/",
          "height": 86
        },
        "outputId": "4937a6f9-56c5-4733-c1d8-932a18608427"
      },
      "source": [
        "!unzip drive/My\\ Drive/emoji"
      ],
      "execution_count": 6,
      "outputs": [
        {
          "output_type": "stream",
          "text": [
            "Archive:  drive/My Drive/emoji.zip\n",
            "   creating: emoji/\n",
            "  inflating: emoji/test_emoji.csv    \n",
            "  inflating: emoji/train_emoji.csv   \n"
          ],
          "name": "stdout"
        }
      ]
    },
    {
      "cell_type": "code",
      "metadata": {
        "id": "GgsRxGHUEtEG",
        "colab_type": "code",
        "colab": {}
      },
      "source": [
        "import emoji\n"
      ],
      "execution_count": 0,
      "outputs": []
    },
    {
      "cell_type": "code",
      "metadata": {
        "id": "kU6iZrJ2IaWE",
        "colab_type": "code",
        "colab": {}
      },
      "source": [
        "from tensorboardcolab import *"
      ],
      "execution_count": 0,
      "outputs": []
    },
    {
      "cell_type": "code",
      "metadata": {
        "id": "s6elJPnDEtEv",
        "colab_type": "code",
        "colab": {
          "base_uri": "https://localhost:8080/",
          "height": 52
        },
        "outputId": "83d1f50a-f5c1-41e0-dd9d-5a82499175ed"
      },
      "source": [
        "print(emoji.emojize(\":angry_face:\"))\n",
        "print(emoji.emojize(\":OK_hand_light_skin_tone:\"))"
      ],
      "execution_count": 2,
      "outputs": [
        {
          "output_type": "stream",
          "text": [
            "😠\n",
            "👌🏻\n"
          ],
          "name": "stdout"
        }
      ]
    },
    {
      "cell_type": "code",
      "metadata": {
        "id": "NOGIN3_TEtFG",
        "colab_type": "code",
        "colab": {}
      },
      "source": [
        "import pandas as pd"
      ],
      "execution_count": 0,
      "outputs": []
    },
    {
      "cell_type": "code",
      "metadata": {
        "id": "H8cXGGBXEtFa",
        "colab_type": "code",
        "colab": {}
      },
      "source": [
        "data = pd.read_csv(\"emoji/train_emoji.csv\",header=None)"
      ],
      "execution_count": 0,
      "outputs": []
    },
    {
      "cell_type": "code",
      "metadata": {
        "id": "2eiXCR29EtFj",
        "colab_type": "code",
        "colab": {
          "base_uri": "https://localhost:8080/",
          "height": 363
        },
        "outputId": "a9e7726e-6fa5-455b-d92e-572dc80e07c9"
      },
      "source": [
        "data.head(n=10)"
      ],
      "execution_count": 5,
      "outputs": [
        {
          "output_type": "execute_result",
          "data": {
            "text/html": [
              "<div>\n",
              "<style scoped>\n",
              "    .dataframe tbody tr th:only-of-type {\n",
              "        vertical-align: middle;\n",
              "    }\n",
              "\n",
              "    .dataframe tbody tr th {\n",
              "        vertical-align: top;\n",
              "    }\n",
              "\n",
              "    .dataframe thead th {\n",
              "        text-align: right;\n",
              "    }\n",
              "</style>\n",
              "<table border=\"1\" class=\"dataframe\">\n",
              "  <thead>\n",
              "    <tr style=\"text-align: right;\">\n",
              "      <th></th>\n",
              "      <th>0</th>\n",
              "      <th>1</th>\n",
              "      <th>2</th>\n",
              "      <th>3</th>\n",
              "    </tr>\n",
              "  </thead>\n",
              "  <tbody>\n",
              "    <tr>\n",
              "      <th>0</th>\n",
              "      <td>never talk to me again</td>\n",
              "      <td>3</td>\n",
              "      <td>NaN</td>\n",
              "      <td>NaN</td>\n",
              "    </tr>\n",
              "    <tr>\n",
              "      <th>1</th>\n",
              "      <td>I am proud of your achievements</td>\n",
              "      <td>2</td>\n",
              "      <td>NaN</td>\n",
              "      <td>NaN</td>\n",
              "    </tr>\n",
              "    <tr>\n",
              "      <th>2</th>\n",
              "      <td>It is the worst day in my life</td>\n",
              "      <td>3</td>\n",
              "      <td>NaN</td>\n",
              "      <td>NaN</td>\n",
              "    </tr>\n",
              "    <tr>\n",
              "      <th>3</th>\n",
              "      <td>Miss you so much</td>\n",
              "      <td>0</td>\n",
              "      <td>NaN</td>\n",
              "      <td>[0]</td>\n",
              "    </tr>\n",
              "    <tr>\n",
              "      <th>4</th>\n",
              "      <td>food is life</td>\n",
              "      <td>4</td>\n",
              "      <td>NaN</td>\n",
              "      <td>NaN</td>\n",
              "    </tr>\n",
              "    <tr>\n",
              "      <th>5</th>\n",
              "      <td>I love you mum</td>\n",
              "      <td>0</td>\n",
              "      <td>NaN</td>\n",
              "      <td>NaN</td>\n",
              "    </tr>\n",
              "    <tr>\n",
              "      <th>6</th>\n",
              "      <td>Stop saying bullshit</td>\n",
              "      <td>3</td>\n",
              "      <td>NaN</td>\n",
              "      <td>NaN</td>\n",
              "    </tr>\n",
              "    <tr>\n",
              "      <th>7</th>\n",
              "      <td>congratulations on your acceptance</td>\n",
              "      <td>2</td>\n",
              "      <td>NaN</td>\n",
              "      <td>NaN</td>\n",
              "    </tr>\n",
              "    <tr>\n",
              "      <th>8</th>\n",
              "      <td>The assignment is too long</td>\n",
              "      <td>3</td>\n",
              "      <td>NaN</td>\n",
              "      <td>NaN</td>\n",
              "    </tr>\n",
              "    <tr>\n",
              "      <th>9</th>\n",
              "      <td>I want to go play</td>\n",
              "      <td>1</td>\n",
              "      <td>NaN</td>\n",
              "      <td>[3]</td>\n",
              "    </tr>\n",
              "  </tbody>\n",
              "</table>\n",
              "</div>"
            ],
            "text/plain": [
              "                                    0  1   2     3\n",
              "0              never talk to me again  3 NaN   NaN\n",
              "1     I am proud of your achievements  2 NaN   NaN\n",
              "2      It is the worst day in my life  3 NaN   NaN\n",
              "3                    Miss you so much  0 NaN   [0]\n",
              "4                        food is life  4 NaN   NaN\n",
              "5                      I love you mum  0 NaN   NaN\n",
              "6                Stop saying bullshit  3 NaN   NaN\n",
              "7  congratulations on your acceptance  2 NaN   NaN\n",
              "8         The assignment is too long   3 NaN   NaN\n",
              "9                   I want to go play  1 NaN   [3]"
            ]
          },
          "metadata": {
            "tags": []
          },
          "execution_count": 5
        }
      ]
    },
    {
      "cell_type": "code",
      "metadata": {
        "id": "zYgsbqQxEtFu",
        "colab_type": "code",
        "colab": {}
      },
      "source": [
        "emoji_dict = {\n",
        "    0:\":beating_heart:\",\n",
        "    1:\":baseball:\",\n",
        "    2:\":beaming_face_with_smiling_eyes:\",\n",
        "    3:\":disappointed_face:\",\n",
        "    4:\":fork_and_knife:\"    \n",
        "}"
      ],
      "execution_count": 0,
      "outputs": []
    },
    {
      "cell_type": "code",
      "metadata": {
        "id": "tytKy0-zEtF4",
        "colab_type": "code",
        "colab": {
          "base_uri": "https://localhost:8080/",
          "height": 104
        },
        "outputId": "8c769fc4-8958-4aed-8a27-5ec3b20a599d"
      },
      "source": [
        "for ix in emoji_dict.values():\n",
        "    print(emoji.emojize(ix))"
      ],
      "execution_count": 7,
      "outputs": [
        {
          "output_type": "stream",
          "text": [
            "💓\n",
            "⚾\n",
            "😁\n",
            "😞\n",
            "🍴\n"
          ],
          "name": "stdout"
        }
      ]
    },
    {
      "cell_type": "code",
      "metadata": {
        "id": "MCXQ_v9JEtGF",
        "colab_type": "code",
        "colab": {}
      },
      "source": [
        "X_train = data[0]\n",
        "Y_train = data[1]"
      ],
      "execution_count": 0,
      "outputs": []
    },
    {
      "cell_type": "code",
      "metadata": {
        "id": "GvT4HOfBEtGS",
        "colab_type": "code",
        "colab": {
          "base_uri": "https://localhost:8080/",
          "height": 34
        },
        "outputId": "bc099e31-2dba-451b-f3c2-cfb9f5ffa5bc"
      },
      "source": [
        "print(X_train.shape)"
      ],
      "execution_count": 9,
      "outputs": [
        {
          "output_type": "stream",
          "text": [
            "(132,)\n"
          ],
          "name": "stdout"
        }
      ]
    },
    {
      "cell_type": "code",
      "metadata": {
        "id": "JPeyXzPxEtGb",
        "colab_type": "code",
        "colab": {
          "base_uri": "https://localhost:8080/",
          "height": 34
        },
        "outputId": "1caa612c-502c-4193-bb08-d05035f38866"
      },
      "source": [
        "print(Y_train.shape)"
      ],
      "execution_count": 10,
      "outputs": [
        {
          "output_type": "stream",
          "text": [
            "(132,)\n"
          ],
          "name": "stdout"
        }
      ]
    },
    {
      "cell_type": "code",
      "metadata": {
        "id": "OvZCIdr2EtGk",
        "colab_type": "code",
        "colab": {
          "base_uri": "https://localhost:8080/",
          "height": 34
        },
        "outputId": "18adcca1-5bb9-4847-ee6b-3e486d1c19a4"
      },
      "source": [
        "print(X_train[0])"
      ],
      "execution_count": 11,
      "outputs": [
        {
          "output_type": "stream",
          "text": [
            "never talk to me again\n"
          ],
          "name": "stdout"
        }
      ]
    },
    {
      "cell_type": "code",
      "metadata": {
        "id": "SLWuX_ikEtGt",
        "colab_type": "code",
        "colab": {
          "base_uri": "https://localhost:8080/",
          "height": 34
        },
        "outputId": "f65cea64-e852-49fb-bcdf-c5ce42e8616c"
      },
      "source": [
        "print(emoji.emojize(emoji_dict[Y_train[0]]))"
      ],
      "execution_count": 12,
      "outputs": [
        {
          "output_type": "stream",
          "text": [
            "😞\n"
          ],
          "name": "stdout"
        }
      ]
    },
    {
      "cell_type": "code",
      "metadata": {
        "id": "v4x06iABEtG1",
        "colab_type": "code",
        "colab": {
          "base_uri": "https://localhost:8080/",
          "height": 124
        },
        "outputId": "b1b90126-7732-4c20-abdf-fe99fdd6ac26"
      },
      "source": [
        "#convert every sentence into a list of words\n",
        "for ix in range(132):\n",
        "    X_train[ix] = X_train[ix].lower().split()"
      ],
      "execution_count": 13,
      "outputs": [
        {
          "output_type": "stream",
          "text": [
            "/usr/local/lib/python3.6/dist-packages/ipykernel_launcher.py:2: SettingWithCopyWarning: \n",
            "A value is trying to be set on a copy of a slice from a DataFrame\n",
            "\n",
            "See the caveats in the documentation: http://pandas.pydata.org/pandas-docs/stable/indexing.html#indexing-view-versus-copy\n",
            "  \n"
          ],
          "name": "stderr"
        }
      ]
    },
    {
      "cell_type": "code",
      "metadata": {
        "id": "8hRMQee0EtG9",
        "colab_type": "code",
        "colab": {
          "base_uri": "https://localhost:8080/",
          "height": 34
        },
        "outputId": "01379925-cea2-4f10-e76b-ec14687424ea"
      },
      "source": [
        "print(X_train[1])"
      ],
      "execution_count": 14,
      "outputs": [
        {
          "output_type": "stream",
          "text": [
            "['i', 'am', 'proud', 'of', 'your', 'achievements']\n"
          ],
          "name": "stdout"
        }
      ]
    },
    {
      "cell_type": "code",
      "metadata": {
        "id": "pBvcgywdEtHH",
        "colab_type": "code",
        "colab": {}
      },
      "source": [
        "def read_glove_vecs(glove_file):\n",
        "    with open(glove_file, 'r',encoding='utf8') as f:\n",
        "        words = set()\n",
        "        word_to_vec_map = {}\n",
        "        for line in f:\n",
        "            line = line.strip().split()\n",
        "            curr_word = line[0]\n",
        "            words.add(curr_word)\n",
        "            word_to_vec_map[curr_word] = np.array(line[1:], dtype=np.float64)\n",
        "        \n",
        "        i = 1\n",
        "        words_to_index = {}\n",
        "        index_to_words = {}\n",
        "        for w in sorted(words):\n",
        "            words_to_index[w] = i\n",
        "            index_to_words[i] = w\n",
        "            i = i + 1\n",
        "    return words_to_index, index_to_words, word_to_vec_map\n"
      ],
      "execution_count": 0,
      "outputs": []
    },
    {
      "cell_type": "code",
      "metadata": {
        "id": "AMIdXTxtEtHO",
        "colab_type": "code",
        "colab": {}
      },
      "source": [
        "import numpy as np\n",
        "words_to_index, index_to_words, word_to_vec_map = read_glove_vecs(\"glove.6B.50d.txt\")"
      ],
      "execution_count": 0,
      "outputs": []
    },
    {
      "cell_type": "code",
      "metadata": {
        "id": "iDaexpkQEtHZ",
        "colab_type": "code",
        "colab": {
          "base_uri": "https://localhost:8080/",
          "height": 34
        },
        "outputId": "2eba2768-0c94-4e54-98c1-50b46bcca66d"
      },
      "source": [
        "word_to_vec_map[\"happy\"].shape"
      ],
      "execution_count": 24,
      "outputs": [
        {
          "output_type": "execute_result",
          "data": {
            "text/plain": [
              "(50,)"
            ]
          },
          "metadata": {
            "tags": []
          },
          "execution_count": 24
        }
      ]
    },
    {
      "cell_type": "code",
      "metadata": {
        "id": "9EeDa3bxEtHj",
        "colab_type": "code",
        "colab": {}
      },
      "source": [
        "def avg_vector(words):\n",
        "    \n",
        "    ans = word_to_vec_map[words[0]]\n",
        "   # print(ans)\n",
        "    for i in range(1,len(words)):\n",
        "        ans = np.add(ans,word_to_vec_map[words[i]])\n",
        "    ans = ans/float(len(words))\n",
        "    return ans    "
      ],
      "execution_count": 0,
      "outputs": []
    },
    {
      "cell_type": "code",
      "metadata": {
        "id": "XT9DqdO0EtHs",
        "colab_type": "code",
        "colab": {}
      },
      "source": [
        "ans = avg_vector(X_train[0])"
      ],
      "execution_count": 0,
      "outputs": []
    },
    {
      "cell_type": "code",
      "metadata": {
        "id": "P3qmPQgFEtH2",
        "colab_type": "code",
        "colab": {}
      },
      "source": [
        "X_numbers = np.zeros((132,50))"
      ],
      "execution_count": 0,
      "outputs": []
    },
    {
      "cell_type": "code",
      "metadata": {
        "id": "t9gHuUzgEtH7",
        "colab_type": "code",
        "colab": {}
      },
      "source": [
        "for i in range(X_train.shape[0]):\n",
        "    X_numbers[i] = avg_vector(X_train[i])"
      ],
      "execution_count": 0,
      "outputs": []
    },
    {
      "cell_type": "code",
      "metadata": {
        "id": "6vHhCbmSEtIG",
        "colab_type": "code",
        "colab": {
          "base_uri": "https://localhost:8080/",
          "height": 260
        },
        "outputId": "24370fb4-decc-4199-c90e-379d42f8dbae"
      },
      "source": [
        "print(X_numbers.shape)\n",
        "print(X_numbers)"
      ],
      "execution_count": 29,
      "outputs": [
        {
          "output_type": "stream",
          "text": [
            "(132, 50)\n",
            "[[ 0.0971846   0.0174374   0.052843   ... -0.2522034  -0.2197784\n",
            "   0.307606  ]\n",
            " [ 0.00563117  0.59711333 -0.13939717 ... -0.06701233 -0.025773\n",
            "   0.32180167]\n",
            " [ 0.27343125  0.33763875 -0.33053875 ... -0.335001    0.06524875\n",
            "  -0.04257963]\n",
            " ...\n",
            " [ 0.29220562  0.1533622  -0.015246   ...  0.032272    0.1313342\n",
            "   0.472114  ]\n",
            " [-0.00701397  0.54196333 -0.19225433 ... -0.80106333 -0.20057967\n",
            "   0.78087   ]\n",
            " [-0.1149985   0.6452325  -0.39727    ...  0.142175   -0.2057708\n",
            "   0.5231    ]]\n"
          ],
          "name": "stdout"
        }
      ]
    },
    {
      "cell_type": "code",
      "metadata": {
        "id": "M2WOgCRwEtIL",
        "colab_type": "code",
        "colab": {
          "base_uri": "https://localhost:8080/",
          "height": 34
        },
        "outputId": "86f33c58-2e45-4d1f-e8ec-a832f07f1d30"
      },
      "source": [
        "from keras.models import Sequential\n",
        "from keras.layers import Dense,Input,Activation\n",
        "from keras.utils import to_categorical\n"
      ],
      "execution_count": 30,
      "outputs": [
        {
          "output_type": "stream",
          "text": [
            "Using TensorFlow backend.\n"
          ],
          "name": "stderr"
        }
      ]
    },
    {
      "cell_type": "code",
      "metadata": {
        "id": "Eva90Lm6EtIV",
        "colab_type": "code",
        "colab": {}
      },
      "source": [
        "model = Sequential()\n",
        "# Build neural network\n",
        "model.add(Dense(10, activation='relu', input_shape=(50,)))\n",
        "model.add(Dense(5, activation='softmax'))"
      ],
      "execution_count": 0,
      "outputs": []
    },
    {
      "cell_type": "code",
      "metadata": {
        "id": "blhkXl04EtIb",
        "colab_type": "code",
        "colab": {}
      },
      "source": [
        "model.compile(optimizer='adam',\n",
        "              loss='categorical_crossentropy',\n",
        "              metrics=['accuracy'])"
      ],
      "execution_count": 0,
      "outputs": []
    },
    {
      "cell_type": "code",
      "metadata": {
        "id": "0THsJMxoIQe7",
        "colab_type": "code",
        "colab": {
          "base_uri": "https://localhost:8080/",
          "height": 208
        },
        "outputId": "66896518-9160-4f79-a93e-48c771938d26"
      },
      "source": [
        "model.summary()"
      ],
      "execution_count": 61,
      "outputs": [
        {
          "output_type": "stream",
          "text": [
            "_________________________________________________________________\n",
            "Layer (type)                 Output Shape              Param #   \n",
            "=================================================================\n",
            "dense_5 (Dense)              (None, 10)                510       \n",
            "_________________________________________________________________\n",
            "dense_6 (Dense)              (None, 5)                 55        \n",
            "=================================================================\n",
            "Total params: 565\n",
            "Trainable params: 565\n",
            "Non-trainable params: 0\n",
            "_________________________________________________________________\n"
          ],
          "name": "stdout"
        }
      ]
    },
    {
      "cell_type": "code",
      "metadata": {
        "id": "UKmdVJ4LEtIf",
        "colab_type": "code",
        "colab": {
          "base_uri": "https://localhost:8080/",
          "height": 52
        },
        "outputId": "e2f3d654-11f3-42b1-81f8-a2c1aee3d21b"
      },
      "source": [
        "print(Y_train.shape)\n",
        "Y_onehot = to_categorical(Y_train)\n",
        "print(Y_onehot.shape)"
      ],
      "execution_count": 62,
      "outputs": [
        {
          "output_type": "stream",
          "text": [
            "(132,)\n",
            "(132, 5)\n"
          ],
          "name": "stdout"
        }
      ]
    },
    {
      "cell_type": "code",
      "metadata": {
        "id": "uzIFujGBEtIq",
        "colab_type": "code",
        "colab": {}
      },
      "source": [
        "from keras.callbacks import *\n",
        "cp = ModelCheckpoint('model.h5', monitor = 'val_loss', save_best_only = \"True\")\n",
        "es = EarlyStopping(monitor = 'val_acc', patience = 1)"
      ],
      "execution_count": 0,
      "outputs": []
    },
    {
      "cell_type": "code",
      "metadata": {
        "id": "V6kEhkN0IYNe",
        "colab_type": "code",
        "colab": {
          "base_uri": "https://localhost:8080/",
          "height": 69
        },
        "outputId": "7233ade9-da64-4b2c-df33-d0e533a42258"
      },
      "source": [
        "tbc= TensorBoardColab()\n"
      ],
      "execution_count": 64,
      "outputs": [
        {
          "output_type": "stream",
          "text": [
            "Wait for 8 seconds...\n",
            "TensorBoard link:\n",
            "https://6d07458a.ngrok.io\n"
          ],
          "name": "stdout"
        }
      ]
    },
    {
      "cell_type": "code",
      "metadata": {
        "id": "jPW6mMs4EtIw",
        "colab_type": "code",
        "colab": {
          "base_uri": "https://localhost:8080/",
          "height": 176
        },
        "outputId": "f225afe3-38d2-4cd4-d465-661e485857dd"
      },
      "source": [
        "model.fit(X_numbers,Y_onehot, validation_split= 0.3, epochs=100, callbacks=[cp,es, TensorBoardColabCallback(tbc)])"
      ],
      "execution_count": 69,
      "outputs": [
        {
          "output_type": "stream",
          "text": [
            "Train on 92 samples, validate on 40 samples\n",
            "Epoch 1/100\n",
            "92/92 [==============================] - 0s 182us/step - loss: 1.0401 - acc: 0.6848 - val_loss: 1.2491 - val_acc: 0.4750\n",
            "Epoch 2/100\n",
            "92/92 [==============================] - 0s 155us/step - loss: 1.0343 - acc: 0.6848 - val_loss: 1.2451 - val_acc: 0.5000\n",
            "Epoch 3/100\n",
            "92/92 [==============================] - 0s 159us/step - loss: 1.0277 - acc: 0.6848 - val_loss: 1.2402 - val_acc: 0.5000\n"
          ],
          "name": "stdout"
        },
        {
          "output_type": "execute_result",
          "data": {
            "text/plain": [
              "<keras.callbacks.History at 0x7fe8600952e8>"
            ]
          },
          "metadata": {
            "tags": []
          },
          "execution_count": 69
        }
      ]
    },
    {
      "cell_type": "code",
      "metadata": {
        "id": "5zXQPb52EtI2",
        "colab_type": "code",
        "colab": {
          "base_uri": "https://localhost:8080/",
          "height": 34
        },
        "outputId": "2ffcd007-41b4-4f36-a80c-ccec7ee8806f"
      },
      "source": [
        "i = 7\n",
        "print(data[0][i])"
      ],
      "execution_count": 70,
      "outputs": [
        {
          "output_type": "stream",
          "text": [
            "['congratulations', 'on', 'your', 'acceptance']\n"
          ],
          "name": "stdout"
        }
      ]
    },
    {
      "cell_type": "code",
      "metadata": {
        "id": "bM--V_70EtI-",
        "colab_type": "code",
        "colab": {}
      },
      "source": [
        "output = np.argmax(model.predict(X_numbers),axis=1)"
      ],
      "execution_count": 0,
      "outputs": []
    },
    {
      "cell_type": "code",
      "metadata": {
        "id": "ynRW1PC8EtJC",
        "colab_type": "code",
        "colab": {
          "base_uri": "https://localhost:8080/",
          "height": 208
        },
        "outputId": "daf6d0e6-af92-4c80-c633-2256c063b3ba"
      },
      "source": [
        "print(Y_train[:10])"
      ],
      "execution_count": 72,
      "outputs": [
        {
          "output_type": "stream",
          "text": [
            "0    3\n",
            "1    2\n",
            "2    3\n",
            "3    0\n",
            "4    4\n",
            "5    0\n",
            "6    3\n",
            "7    2\n",
            "8    3\n",
            "9    1\n",
            "Name: 1, dtype: int64\n"
          ],
          "name": "stdout"
        }
      ]
    },
    {
      "cell_type": "code",
      "metadata": {
        "id": "bx14TS2dEtJJ",
        "colab_type": "code",
        "colab": {
          "base_uri": "https://localhost:8080/",
          "height": 34
        },
        "outputId": "57167941-40a9-47a0-aa31-9da15ecd248a"
      },
      "source": [
        "np.sum(output==Y_train)"
      ],
      "execution_count": 73,
      "outputs": [
        {
          "output_type": "execute_result",
          "data": {
            "text/plain": [
              "83"
            ]
          },
          "metadata": {
            "tags": []
          },
          "execution_count": 73
        }
      ]
    },
    {
      "cell_type": "code",
      "metadata": {
        "id": "2DZ31rLxEtJP",
        "colab_type": "code",
        "colab": {
          "base_uri": "https://localhost:8080/",
          "height": 52
        },
        "outputId": "f4e56ad6-4949-4286-ae15-72f9f17acd5b"
      },
      "source": [
        "text = \"i love this movie\"\n",
        "\n",
        "avg_v = avg_vector(text.split())\n",
        "print(avg_v.shape)\n",
        "avg_v= avg_v.reshape(1,50)\n",
        "print(avg_v.shape)"
      ],
      "execution_count": 74,
      "outputs": [
        {
          "output_type": "stream",
          "text": [
            "(50,)\n",
            "(1, 50)\n"
          ],
          "name": "stdout"
        }
      ]
    },
    {
      "cell_type": "code",
      "metadata": {
        "id": "oF-CcwqOEtJV",
        "colab_type": "code",
        "colab": {}
      },
      "source": [
        "emoji_label_predict = np.argmax(model.predict(avg_v))"
      ],
      "execution_count": 0,
      "outputs": []
    },
    {
      "cell_type": "code",
      "metadata": {
        "id": "zxuVTvDGEtJZ",
        "colab_type": "code",
        "colab": {
          "base_uri": "https://localhost:8080/",
          "height": 52
        },
        "outputId": "15dd93aa-414c-44ee-fa2d-6aa9ebc5e7e3"
      },
      "source": [
        "print(emoji_label_predict)\n",
        "print(emoji.emojize(emoji_dict[emoji_label_predict]))"
      ],
      "execution_count": 76,
      "outputs": [
        {
          "output_type": "stream",
          "text": [
            "2\n",
            "😁\n"
          ],
          "name": "stdout"
        }
      ]
    },
    {
      "cell_type": "code",
      "metadata": {
        "id": "uSXSQxi8EtJe",
        "colab_type": "code",
        "colab": {}
      },
      "source": [
        ""
      ],
      "execution_count": 0,
      "outputs": []
    },
    {
      "cell_type": "code",
      "metadata": {
        "id": "09DQEEv1EtJl",
        "colab_type": "code",
        "colab": {}
      },
      "source": [
        ""
      ],
      "execution_count": 0,
      "outputs": []
    },
    {
      "cell_type": "code",
      "metadata": {
        "id": "xI_zeKU-EtJq",
        "colab_type": "code",
        "colab": {}
      },
      "source": [
        ""
      ],
      "execution_count": 0,
      "outputs": []
    },
    {
      "cell_type": "code",
      "metadata": {
        "id": "6gLyycOFEtJw",
        "colab_type": "code",
        "colab": {}
      },
      "source": [
        ""
      ],
      "execution_count": 0,
      "outputs": []
    },
    {
      "cell_type": "code",
      "metadata": {
        "id": "alOn19hvEtJ5",
        "colab_type": "code",
        "colab": {}
      },
      "source": [
        ""
      ],
      "execution_count": 0,
      "outputs": []
    },
    {
      "cell_type": "code",
      "metadata": {
        "id": "XoLJAbvHEtKA",
        "colab_type": "code",
        "colab": {}
      },
      "source": [
        ""
      ],
      "execution_count": 0,
      "outputs": []
    },
    {
      "cell_type": "code",
      "metadata": {
        "id": "KVk3QSXPEtKE",
        "colab_type": "code",
        "colab": {
          "base_uri": "https://localhost:8080/",
          "height": 52
        },
        "outputId": "fbf6b38f-4d84-4f2a-b7a5-d902b7cac112"
      },
      "source": [
        "!ls"
      ],
      "execution_count": 22,
      "outputs": [
        {
          "output_type": "stream",
          "text": [
            "drive  glove.6B.100d.txt  glove.6B.300d.txt  glove.6B.zip  model.h5\n",
            "emoji  glove.6B.200d.txt  glove.6B.50d.txt   Graph\t   sample_data\n"
          ],
          "name": "stdout"
        }
      ]
    },
    {
      "cell_type": "code",
      "metadata": {
        "id": "jaLOX8vNHBzY",
        "colab_type": "code",
        "colab": {
          "base_uri": "https://localhost:8080/",
          "height": 104
        },
        "outputId": "8187fd71-c410-4797-a452-5cda7b9eeab1"
      },
      "source": [
        "!unzip glove.6B"
      ],
      "execution_count": 20,
      "outputs": [
        {
          "output_type": "stream",
          "text": [
            "Archive:  glove.6B.zip\n",
            "  inflating: glove.6B.50d.txt        \n",
            "  inflating: glove.6B.100d.txt       \n",
            "  inflating: glove.6B.200d.txt       \n",
            "  inflating: glove.6B.300d.txt       \n"
          ],
          "name": "stdout"
        }
      ]
    },
    {
      "cell_type": "code",
      "metadata": {
        "id": "KiJFuRbzHb4L",
        "colab_type": "code",
        "colab": {}
      },
      "source": [
        ""
      ],
      "execution_count": 0,
      "outputs": []
    }
  ]
}