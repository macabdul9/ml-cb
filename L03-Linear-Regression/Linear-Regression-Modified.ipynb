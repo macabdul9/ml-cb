{
 "cells": [
  {
   "cell_type": "code",
   "execution_count": 139,
   "metadata": {},
   "outputs": [],
   "source": [
    "import numpy as np\n",
    "import matplotlib.pyplot as plt\n"
   ]
  },
  {
   "cell_type": "markdown",
   "metadata": {},
   "source": [
    "### Data Preparation"
   ]
  },
  {
   "cell_type": "code",
   "execution_count": 144,
   "metadata": {},
   "outputs": [],
   "source": [
    "X = np.random.randn(100)\n",
    "e = np.random.randn(100)\n",
    "Y = 2*X + 0.6*e + 3"
   ]
  },
  {
   "cell_type": "code",
   "execution_count": 145,
   "metadata": {},
   "outputs": [
    {
     "data": {
      "image/png": "[encoded data removed]",
      "text/plain": [
       "<Figure size 432x288 with 1 Axes>"
      ]
     },
     "metadata": {
      "needs_background": "light"
     },
     "output_type": "display_data"
    }
   ],
   "source": [
    "plt.scatter(X, Y, label = \"Standard Distribition\", c= \"red\");"
   ]
  },
  {
   "cell_type": "markdown",
   "metadata": {},
   "source": [
    "### Normalizing Data"
   ]
  },
  {
   "cell_type": "code",
   "execution_count": 146,
   "metadata": {},
   "outputs": [],
   "source": [
    "u = np.mean(X)\n",
    "sigma = np.std(X)\n",
    "X = (X - u)/sigma\n",
    "Y = Y"
   ]
  },
  {
   "cell_type": "code",
   "execution_count": 147,
   "metadata": {},
   "outputs": [
    {
     "data": {
      "image/png": "[encoded data removed]",
      "text/plain": [
       "<Figure size 432x288 with 1 Axes>"
      ]
     },
     "metadata": {
      "needs_background": "light"
     },
     "output_type": "display_data"
    }
   ],
   "source": [
    "plt.scatter(X, Y, label = \"Standard Normal Distribition\", c= \"red\");"
   ]
  },
  {
   "cell_type": "markdown",
   "metadata": {},
   "source": [
    "### Finding the parameters"
   ]
  },
  {
   "cell_type": "code",
   "execution_count": 176,
   "metadata": {},
   "outputs": [],
   "source": [
    "sx = np.std(X)\n",
    "sy = np.std(Y)\n",
    "ux = np.mean(X)\n",
    "uy = np.mean(Y)\n",
    "coef = 0.0\n",
    "n = X.shape[0]\n",
    "for i in range(n):\n",
    "    coef += ((X[i] - sx)*(Y[i] - sy))/sx*sy\n",
    "    "
   ]
  },
  {
   "cell_type": "code",
   "execution_count": 177,
   "metadata": {},
   "outputs": [
    {
     "data": {
      "text/plain": [
       "198.31099551915435"
      ]
     },
     "execution_count": 177,
     "metadata": {},
     "output_type": "execute_result"
    }
   ],
   "source": [
    "coef"
   ]
  },
  {
   "cell_type": "code",
   "execution_count": 178,
   "metadata": {},
   "outputs": [],
   "source": [
    "coef /= (n - 1)"
   ]
  },
  {
   "cell_type": "code",
   "execution_count": 179,
   "metadata": {},
   "outputs": [
    {
     "data": {
      "text/plain": [
       "2.003141368880347"
      ]
     },
     "execution_count": 179,
     "metadata": {},
     "output_type": "execute_result"
    }
   ],
   "source": [
    "coef"
   ]
  },
  {
   "cell_type": "code",
   "execution_count": 182,
   "metadata": {},
   "outputs": [],
   "source": [
    "coef = n*(np.sum(X*Y) - np.sum(X)*np.sum(Y))/((n*np.sum(X*X) - (np.sum(X))**2)*(n*np.sum(Y*Y) - (np.sum(Y))**2))*.5"
   ]
  },
  {
   "cell_type": "code",
   "execution_count": 183,
   "metadata": {},
   "outputs": [
    {
     "data": {
      "text/plain": [
       "2.2150213466094786e-05"
      ]
     },
     "execution_count": 183,
     "metadata": {},
     "output_type": "execute_result"
    }
   ],
   "source": [
    "coef"
   ]
  },
  {
   "cell_type": "code",
   "execution_count": 184,
   "metadata": {},
   "outputs": [],
   "source": [
    "slope = coef*(sy/sx)"
   ]
  },
  {
   "cell_type": "code",
   "execution_count": 185,
   "metadata": {},
   "outputs": [
    {
     "data": {
      "text/plain": [
       "4.810724372643775e-05"
      ]
     },
     "execution_count": 185,
     "metadata": {},
     "output_type": "execute_result"
    }
   ],
   "source": [
    "slope"
   ]
  },
  {
   "cell_type": "code",
   "execution_count": 186,
   "metadata": {},
   "outputs": [],
   "source": [
    "# y = a + bx\n",
    "intercept = uy - slope*ux"
   ]
  },
  {
   "cell_type": "code",
   "execution_count": 187,
   "metadata": {},
   "outputs": [],
   "source": [
    "test = np.linspace(-3, 3, 20)"
   ]
  },
  {
   "cell_type": "code",
   "execution_count": 188,
   "metadata": {},
   "outputs": [
    {
     "data": {
      "image/png": "[encoded data removed]",
      "text/plain": [
       "<Figure size 432x288 with 1 Axes>"
      ]
     },
     "metadata": {
      "needs_background": "light"
     },
     "output_type": "display_data"
    }
   ],
   "source": [
    "\n",
    "plt.plot(test, [(intercept + slope*each) for each in test], c= \"green\")\n",
    "\n",
    "\n",
    "plt.scatter(X, Y, label = \"Standard Normal Distribition\", c= \"red\");"
   ]
  },
  {
   "cell_type": "code",
   "execution_count": 174,
   "metadata": {},
   "outputs": [],
   "source": [
    "np.std?"
   ]
  },
  {
   "cell_type": "code",
   "execution_count": 175,
   "metadata": {},
   "outputs": [
    {
     "data": {
      "text/plain": [
       "array([ 1.44335477, -0.70279199,  0.96457454, -1.22938906, -0.62312638,\n",
       "        1.8688315 , -0.62719019,  2.84996681, -1.77973274, -0.51222774,\n",
       "       -1.04015029,  3.09158595, -0.58921727,  1.30284442, -0.6530048 ,\n",
       "        4.66737384, -0.78458805,  8.55809838, -1.91357135,  6.96913748,\n",
       "       10.24979975, -1.30667718,  6.12732689, 15.28536125,  7.92751172,\n",
       "       -0.69909844, -0.85019128, -2.2344434 , 12.12889084,  0.71853661,\n",
       "       -1.24792322,  5.20074273, -1.45592711,  1.91863868, -1.62836211,\n",
       "        1.26597101,  0.7420818 , -0.84942454, -0.60248422,  2.63230834,\n",
       "       -0.4686869 , -0.07253572, -0.23038361,  3.92519558, -1.01069373,\n",
       "       -1.28300913, -0.94512794,  7.55655757,  0.67443465,  2.37142813,\n",
       "       10.74913507,  4.85302308,  4.05272092, -0.5032556 , -0.77211349,\n",
       "        0.06127485, -0.46190869,  5.90122429,  5.65394495,  5.60159892,\n",
       "        6.23916281, -0.32362683, -0.8528343 ,  9.561174  ,  0.75680995,\n",
       "        4.3447214 ,  6.70670523,  4.19668417, -0.60209233, -1.38193238,\n",
       "       -0.96118581, -1.02926691, -1.405809  , -1.61432348, -1.69424805,\n",
       "        0.03805859, -1.10743834,  9.74932537,  6.38500396, -1.85771427,\n",
       "        0.05027053,  3.50490995,  1.9363266 ,  4.98372882,  5.69224299,\n",
       "        1.17440117, -0.3170634 , -0.88513592,  0.80169005,  3.71846048,\n",
       "        0.7895331 ,  3.27250754, -0.54737421, -0.57126215, -0.63938033,\n",
       "        7.89431416, 16.2886785 , -1.2282288 ,  1.75683243,  5.90588454])"
      ]
     },
     "execution_count": 175,
     "metadata": {},
     "output_type": "execute_result"
    }
   ],
   "source": [
    "X*Y"
   ]
  },
  {
   "cell_type": "code",
   "execution_count": null,
   "metadata": {},
   "outputs": [],
   "source": []
  }
 ],
 "metadata": {
  "kernelspec": {
   "display_name": "Python 3",
   "language": "python",
   "name": "python3"
  },
  "language_info": {
   "codemirror_mode": {
    "name": "ipython",
    "version": 3
   },
   "file_extension": ".py",
   "mimetype": "text/x-python",
   "name": "python",
   "nbconvert_exporter": "python",
   "pygments_lexer": "ipython3",
   "version": "3.6.8"
  }
 },
 "nbformat": 4,
 "nbformat_minor": 2
}
