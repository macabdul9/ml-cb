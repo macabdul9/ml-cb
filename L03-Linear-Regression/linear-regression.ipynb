{
 "cells": [
  {
   "cell_type": "code",
   "execution_count": 44,
   "metadata": {},
   "outputs": [],
   "source": [
    "import numpy as np\n",
    "import matplotlib.pyplot as plt\n",
    "%matplotlib inline"
   ]
  },
  {
   "cell_type": "markdown",
   "metadata": {},
   "source": [
    "### standard deviation - :\n",
    "a quantity expressing by how much the members of a group differ from the mean value for the group."
   ]
  },
  {
   "cell_type": "code",
   "execution_count": 45,
   "metadata": {},
   "outputs": [],
   "source": [
    "arr = np.random.randn(10) +  10"
   ]
  },
  {
   "cell_type": "code",
   "execution_count": 46,
   "metadata": {},
   "outputs": [
    {
     "data": {
      "text/plain": [
       "array([ 9.11815514,  8.45820735, 10.17642642,  9.59178893, 10.32849307,\n",
       "       12.28075559,  8.49202026, 10.41626348,  9.801903  , 10.87658328])"
      ]
     },
     "execution_count": 46,
     "metadata": {},
     "output_type": "execute_result"
    }
   ],
   "source": [
    "arr"
   ]
  },
  {
   "cell_type": "code",
   "execution_count": 47,
   "metadata": {},
   "outputs": [],
   "source": [
    "std = np.std(arr)"
   ]
  },
  {
   "cell_type": "code",
   "execution_count": 48,
   "metadata": {},
   "outputs": [
    {
     "data": {
      "text/plain": [
       "1.0906926670592116"
      ]
     },
     "execution_count": 48,
     "metadata": {},
     "output_type": "execute_result"
    }
   ],
   "source": [
    "std"
   ]
  },
  {
   "cell_type": "code",
   "execution_count": 49,
   "metadata": {},
   "outputs": [
    {
     "name": "stdout",
     "output_type": "stream",
     "text": [
      "[-0.58484891 -0.1175054  -0.16072138  2.0359758  -1.33007561 -1.28610856\n",
      "  0.3523754   0.56357439  0.05876796  0.6259342  -1.43196748  0.26636838\n",
      "  0.11771131 -1.02647002  0.44938193 -1.09955651 -0.28018909  1.44593714\n",
      " -1.55250469  0.68035482  1.67105723  0.39237544 -1.17992618  0.31348715\n",
      " -0.54111762  0.71227273  2.47087392 -0.4538955  -0.2869192   0.2428957\n",
      " -0.14669501  2.37835142 -1.1392872  -1.46624644 -0.56537695 -0.26800189\n",
      "  0.5454226  -0.12802009 -1.53383115 -0.39578638  1.16797689 -0.81247148\n",
      "  0.98488851 -0.35914197 -0.41819329 -0.70592197 -0.77352199  0.11391438\n",
      " -0.94648078  1.30079749]\n",
      "[ 3.44112208  4.88802733  4.95237921  8.71303912  3.02938095  2.88405743\n",
      "  5.96940413  6.20770735  5.53965193  6.08255423  1.69189676  5.74698996\n",
      "  5.16088899  2.93290015  6.60218162  2.72016649  4.30565863  8.09542693\n",
      "  2.31030329  6.48465033  7.88446195  4.60208339  2.56291853  6.19205342\n",
      "  3.67369758  5.97678558  9.95818514  4.40094514  4.41237466  5.23536492\n",
      "  4.67957001 10.07746735  2.19882183  2.18242002  4.25390041  5.05603469\n",
      "  6.78360884  4.24258654  1.80484682  4.18066505  6.94073975  3.3549053\n",
      "  7.42589216  4.30612795  4.23292307  3.56982791  4.21992992  5.41586648\n",
      "  2.5322071   7.42068308]\n"
     ]
    }
   ],
   "source": [
    "x = np.random.randn(50)\n",
    "e = np.random.randn(50) # gaussian noise\n",
    "y = 2*x + 5 + 0.4*e \n",
    "\n",
    "print(x)\n",
    "print(y)"
   ]
  },
  {
   "cell_type": "code",
   "execution_count": 50,
   "metadata": {},
   "outputs": [
    {
     "name": "stdout",
     "output_type": "stream",
     "text": [
      "-0.042001759315592316 4.950725630117415\n"
     ]
    }
   ],
   "source": [
    "x_mean = np.mean(x)\n",
    "y_mean = np.mean(y)\n",
    "print(x_mean, y_mean)"
   ]
  },
  {
   "cell_type": "code",
   "execution_count": 51,
   "metadata": {},
   "outputs": [
    {
     "data": {
      "image/png": "[encoded data removed]",
      "text/plain": [
       "<Figure size 432x288 with 1 Axes>"
      ]
     },
     "metadata": {
      "needs_background": "light"
     },
     "output_type": "display_data"
    }
   ],
   "source": [
    "plt.scatter(x_mean, y_mean, color = \"red\")\n",
    "plt.scatter(x, y, color = 'green')\n",
    "plt.xlabel('x')\n",
    "plt.ylabel('y')\n",
    "plt.show()"
   ]
  },
  {
   "cell_type": "code",
   "execution_count": 52,
   "metadata": {},
   "outputs": [],
   "source": [
    "sx = np.std(x)\n",
    "sy = np.std(y)"
   ]
  },
  {
   "cell_type": "code",
   "execution_count": 53,
   "metadata": {},
   "outputs": [],
   "source": [
    "r = np.corrcoef(x, y)\n",
    "r = r[0][1]"
   ]
  },
  {
   "cell_type": "code",
   "execution_count": 54,
   "metadata": {},
   "outputs": [],
   "source": [
    "slope = (sy/sx)*r"
   ]
  },
  {
   "cell_type": "code",
   "execution_count": 55,
   "metadata": {},
   "outputs": [],
   "source": [
    "x_reg = np.arange(start = x_mean , step = 1, stop = max(y))"
   ]
  },
  {
   "cell_type": "code",
   "execution_count": 56,
   "metadata": {},
   "outputs": [
    {
     "data": {
      "text/plain": [
       "array([-0.04200176,  0.95799824,  1.95799824,  2.95799824,  3.95799824,\n",
       "        4.95799824,  5.95799824,  6.95799824,  7.95799824,  8.95799824,\n",
       "        9.95799824])"
      ]
     },
     "execution_count": 56,
     "metadata": {},
     "output_type": "execute_result"
    }
   ],
   "source": [
    "x_reg"
   ]
  },
  {
   "cell_type": "code",
   "execution_count": 57,
   "metadata": {},
   "outputs": [],
   "source": [
    "y_reg = x_reg + slope"
   ]
  },
  {
   "cell_type": "code",
   "execution_count": 58,
   "metadata": {},
   "outputs": [
    {
     "data": {
      "text/plain": [
       "[<matplotlib.lines.Line2D at 0x7fbcbf8d6710>]"
      ]
     },
     "execution_count": 58,
     "metadata": {},
     "output_type": "execute_result"
    },
    {
     "data": {
      "image/png": "[encoded data removed]",
      "text/plain": [
       "<Figure size 432x288 with 1 Axes>"
      ]
     },
     "metadata": {
      "needs_background": "light"
     },
     "output_type": "display_data"
    }
   ],
   "source": [
    "plt.scatter(x, y, color = 'green')\n",
    "plt.plot(x_reg, y_reg, color = \"red\")"
   ]
  },
  {
   "cell_type": "markdown",
   "metadata": {},
   "source": [
    "# Linear  Regeression\n",
    "### gradient descent algorithm\n",
    "gradient descent algorithm is based upon minimizing the total error."
   ]
  },
  {
   "cell_type": "code",
   "execution_count": 59,
   "metadata": {},
   "outputs": [],
   "source": [
    "import pandas as pd\n",
    "import numpy as np\n",
    "import matplotlib.pyplot as plt"
   ]
  },
  {
   "cell_type": "markdown",
   "metadata": {},
   "source": [
    "### Preparing Data"
   ]
  },
  {
   "cell_type": "code",
   "execution_count": 60,
   "metadata": {},
   "outputs": [],
   "source": [
    "x = np.random.randn(100) # standared normal distribution\n",
    "g_err = np.random.randn(100) # gaussian error\n",
    "y = 2*x + 0.6*g_err"
   ]
  },
  {
   "cell_type": "markdown",
   "metadata": {},
   "source": [
    "### visualization and normalizing data"
   ]
  },
  {
   "cell_type": "code",
   "execution_count": 61,
   "metadata": {},
   "outputs": [
    {
     "data": {
      "image/png": "[encoded data removed]",
      "text/plain": [
       "<Figure size 432x288 with 1 Axes>"
      ]
     },
     "metadata": {
      "needs_background": "light"
     },
     "output_type": "display_data"
    }
   ],
   "source": [
    "plt.scatter(x, y, color = \"red\")\n",
    "X = ((x - np.mean(x))/np.std(x))   # normal standard distribution\n",
    "Y = y\n",
    "plt.scatter(X, Y, color = \"orange\")\n",
    "plt.show()"
   ]
  },
  {
   "cell_type": "code",
   "execution_count": 62,
   "metadata": {},
   "outputs": [
    {
     "data": {
      "text/plain": [
       "'-0.000000'"
      ]
     },
     "execution_count": 62,
     "metadata": {},
     "output_type": "execute_result"
    }
   ],
   "source": [
    "\"{:f}\".format(float(np.mean(X))) "
   ]
  },
  {
   "cell_type": "code",
   "execution_count": 63,
   "metadata": {},
   "outputs": [
    {
     "data": {
      "image/png": "[encoded data removed]",
      "text/plain": [
       "<Figure size 432x288 with 1 Axes>"
      ]
     },
     "metadata": {
      "needs_background": "light"
     },
     "output_type": "display_data"
    }
   ],
   "source": [
    "plt.scatter(X, Y);"
   ]
  },
  {
   "cell_type": "markdown",
   "metadata": {},
   "source": [
    "### now we have to fit a line in the above training data (X, Y) \n",
    "###### we will do that by minimizing the error and this algorithm is called gradient descent"
   ]
  },
  {
   "cell_type": "markdown",
   "metadata": {},
   "source": [
    "## Gradient Descent Algorithm\n",
    "- Start with random theta\n",
    "- Update the theta as per update <br>\n",
    "   - Repeat step 2 until convergance"
   ]
  },
  {
   "cell_type": "code",
   "execution_count": null,
   "metadata": {},
   "outputs": [],
   "source": [
    "\n",
    "\n",
    "\n"
   ]
  },
  {
   "cell_type": "code",
   "execution_count": 64,
   "metadata": {},
   "outputs": [],
   "source": [
    "# hyptothesis function or regression line\n",
    "def line_hypothesis(x, theta):\n",
    "    return theta[0] + theta[1]*x\n",
    "\n",
    "# calculating total error\n",
    "def err(X, Y, theta):\n",
    "    m = X.shape[0]\n",
    "    e = 0 # initial error value\n",
    "    for i in range(m):\n",
    "        hx = line_hypothesis(X[i], theta)\n",
    "        e += (hx - Y[i])**2    \n",
    "    return  e\n",
    "\n",
    "def gradient(X, Y, theta):\n",
    "    grad = np.zeros((2,))\n",
    "    m = X.shape[0]\n",
    "    for i in range(m):\n",
    "        hx = line_hypothesis(X[i], theta)\n",
    "        grad[0] += hx - Y[i]\n",
    "        grad[1] += (hx - Y[i])*X[i]\n",
    "    return grad\n",
    "\n",
    "# gradient descent function\n",
    "def gradient_descent(X, Y, learning_rate = 0.001):\n",
    "    theta = np.zeros((2,))\n",
    "    error_list = []\n",
    "    for i in range(100):\n",
    "        grad = gradient(X, Y, theta)\n",
    "        e = err(X, Y, theta)\n",
    "        error_list.append(e)\n",
    "        theta[0]  = theta[0] - learning_rate*grad[0]\n",
    "        theta[1]  = theta[1]  - learning_rate*grad[1]\n",
    "\n",
    "    return error_list, theta\n",
    "    \n",
    "    \n",
    "    \n",
    "    "
   ]
  },
  {
   "cell_type": "code",
   "execution_count": 65,
   "metadata": {},
   "outputs": [],
   "source": [
    "error_list, final_theta = gradient_descent(X, Y)"
   ]
  },
  {
   "cell_type": "code",
   "execution_count": 66,
   "metadata": {},
   "outputs": [
    {
     "data": {
      "image/png": "[encoded data removed]",
      "text/plain": [
       "<Figure size 432x288 with 1 Axes>"
      ]
     },
     "metadata": {
      "needs_background": "light"
     },
     "output_type": "display_data"
    }
   ],
   "source": [
    "plt.plot(error_list);"
   ]
  },
  {
   "cell_type": "code",
   "execution_count": 67,
   "metadata": {},
   "outputs": [],
   "source": [
    "test = np.linspace(-4, 4, 12)"
   ]
  },
  {
   "cell_type": "code",
   "execution_count": 68,
   "metadata": {},
   "outputs": [
    {
     "data": {
      "image/png": "[encoded data removed]",
      "text/plain": [
       "<Figure size 432x288 with 1 Axes>"
      ]
     },
     "metadata": {
      "needs_background": "light"
     },
     "output_type": "display_data"
    }
   ],
   "source": [
    "plt.plot(test, line_hypothesis(test, final_theta), color = \"red\")\n",
    "plt.scatter(X, Y, color = \"orange\");"
   ]
  },
  {
   "cell_type": "markdown",
   "metadata": {},
   "source": [
    "### Different Method"
   ]
  },
  {
   "cell_type": "code",
   "execution_count": 69,
   "metadata": {},
   "outputs": [],
   "source": [
    "x_mean = np.mean(X)\n",
    "y_mean = np.mean(Y)\n",
    "sx = np.std(X)\n",
    "sy = np.std(Y)"
   ]
  },
  {
   "cell_type": "code",
   "execution_count": 70,
   "metadata": {},
   "outputs": [
    {
     "data": {
      "text/plain": [
       "-4.440892098500626e-18"
      ]
     },
     "execution_count": 70,
     "metadata": {},
     "output_type": "execute_result"
    }
   ],
   "source": [
    "x_mean"
   ]
  },
  {
   "cell_type": "code",
   "execution_count": null,
   "metadata": {},
   "outputs": [],
   "source": []
  },
  {
   "cell_type": "code",
   "execution_count": 71,
   "metadata": {},
   "outputs": [],
   "source": [
    "m = X.shape[0]\n",
    "sigma = 0\n",
    "for i in range(m):\n",
    "    sigma += ((X[i]  - x_mean)*(Y[i] - y_mean))/sx*sy \n",
    "    "
   ]
  },
  {
   "cell_type": "code",
   "execution_count": 72,
   "metadata": {},
   "outputs": [
    {
     "data": {
      "text/plain": [
       "298.4333005395588"
      ]
     },
     "execution_count": 72,
     "metadata": {},
     "output_type": "execute_result"
    }
   ],
   "source": [
    "sigma"
   ]
  },
  {
   "cell_type": "code",
   "execution_count": 73,
   "metadata": {},
   "outputs": [],
   "source": [
    "r = sigma/ (m - 1)"
   ]
  },
  {
   "cell_type": "code",
   "execution_count": 74,
   "metadata": {},
   "outputs": [],
   "source": [
    "slope =  r*sy/sx"
   ]
  },
  {
   "cell_type": "code",
   "execution_count": 75,
   "metadata": {},
   "outputs": [],
   "source": [
    "y_intercept = y_mean - slope*x_mean"
   ]
  },
  {
   "cell_type": "code",
   "execution_count": 76,
   "metadata": {},
   "outputs": [
    {
     "data": {
      "text/plain": [
       "0.10801904401678816"
      ]
     },
     "execution_count": 76,
     "metadata": {},
     "output_type": "execute_result"
    }
   ],
   "source": [
    "final_theta[0]"
   ]
  },
  {
   "cell_type": "code",
   "execution_count": 77,
   "metadata": {},
   "outputs": [
    {
     "data": {
      "text/plain": [
       "0.1080219132299141"
      ]
     },
     "execution_count": 77,
     "metadata": {},
     "output_type": "execute_result"
    }
   ],
   "source": [
    "y_intercept"
   ]
  },
  {
   "cell_type": "code",
   "execution_count": 78,
   "metadata": {},
   "outputs": [
    {
     "data": {
      "text/plain": [
       "0.10801904401678816"
      ]
     },
     "execution_count": 78,
     "metadata": {},
     "output_type": "execute_result"
    }
   ],
   "source": [
    "final_theta[0]"
   ]
  },
  {
   "cell_type": "code",
   "execution_count": 79,
   "metadata": {},
   "outputs": [
    {
     "data": {
      "text/plain": [
       "10.8021913229914"
      ]
     },
     "execution_count": 79,
     "metadata": {},
     "output_type": "execute_result"
    }
   ],
   "source": [
    "sum(y)"
   ]
  },
  {
   "cell_type": "code",
   "execution_count": null,
   "metadata": {},
   "outputs": [],
   "source": []
  },
  {
   "cell_type": "code",
   "execution_count": 80,
   "metadata": {},
   "outputs": [],
   "source": [
    "y_intercept\n",
    "\n",
    "theta  = np.zeros((2, ))\n",
    "theta[0] = y_intercept\n",
    "theta[1] = slope"
   ]
  },
  {
   "cell_type": "code",
   "execution_count": 81,
   "metadata": {},
   "outputs": [
    {
     "data": {
      "image/png": "[encoded data removed]",
      "text/plain": [
       "<Figure size 432x288 with 1 Axes>"
      ]
     },
     "metadata": {
      "needs_background": "light"
     },
     "output_type": "display_data"
    }
   ],
   "source": [
    "plt.plot(test, line_hypothesis(test, theta), color = \"red\")\n",
    "plt.scatter(X, Y, color = \"orange\");"
   ]
  },
  {
   "cell_type": "code",
   "execution_count": 82,
   "metadata": {},
   "outputs": [
    {
     "data": {
      "text/plain": [
       "0.006075407557482446"
      ]
     },
     "execution_count": 82,
     "metadata": {},
     "output_type": "execute_result"
    }
   ],
   "source": [
    "np.mean(x)"
   ]
  },
  {
   "cell_type": "code",
   "execution_count": 83,
   "metadata": {},
   "outputs": [],
   "source": [
    "new_x = X*np.std(x) + np.mean(x) # normal standard distribution\n"
   ]
  },
  {
   "cell_type": "code",
   "execution_count": 84,
   "metadata": {},
   "outputs": [
    {
     "data": {
      "text/plain": [
       "0.8538986532407823"
      ]
     },
     "execution_count": 84,
     "metadata": {},
     "output_type": "execute_result"
    }
   ],
   "source": [
    "np.std(x)"
   ]
  },
  {
   "cell_type": "code",
   "execution_count": 85,
   "metadata": {},
   "outputs": [
    {
     "data": {
      "text/plain": [
       "array([ 0.40058578,  1.8508691 , -0.66245247, -1.27073084, -1.5971608 ,\n",
       "        0.91184059,  1.15297149,  0.28892772, -0.32380209, -0.31603743,\n",
       "        0.41166871, -0.22942655, -0.97586031, -2.39157402, -1.21956523,\n",
       "       -0.26722476, -0.05298483, -0.13852203, -0.08322818, -0.10176489,\n",
       "        0.60706141,  1.96643749,  0.98636544,  0.72630507,  0.58665711,\n",
       "       -0.70101489,  1.72741661,  0.52482278, -0.47729686, -1.14884629,\n",
       "       -0.75080918, -0.59642467, -1.72715877,  0.72919623, -1.13393366,\n",
       "        0.49150173,  0.69773284,  0.2211765 , -0.39344004,  0.05446369,\n",
       "        0.84831294,  0.18765268, -1.46466226,  1.61052952, -0.76647281,\n",
       "        0.02641359,  0.64664116, -0.42821049, -0.83261645,  0.94004948,\n",
       "       -1.05193754,  1.06031343, -0.41182339, -1.40211756, -0.68478065,\n",
       "       -0.22315363,  0.19447703, -0.64498111,  0.53462187,  1.91528835,\n",
       "        0.1342211 , -0.6309725 , -0.08381031, -0.36427563,  0.3237121 ,\n",
       "       -0.04425921, -0.25199462,  0.24493633,  1.65442042, -0.69718023,\n",
       "       -0.06778394, -0.76010651,  0.51293908,  0.62135696, -0.57316868,\n",
       "        0.98053113, -0.40370204, -0.1236189 ,  0.22624936,  1.2410424 ,\n",
       "       -0.34459465,  0.7365405 ,  0.91528746,  0.12485513, -0.12453816,\n",
       "       -0.0445157 ,  0.0767242 , -0.45999647,  0.65120735,  0.70056529,\n",
       "        0.01579212, -0.28322099, -0.54869147, -0.42726603,  0.5954895 ,\n",
       "        0.24804829,  1.4737217 , -1.81272367, -0.86656231,  0.2125967 ])"
      ]
     },
     "execution_count": 85,
     "metadata": {},
     "output_type": "execute_result"
    }
   ],
   "source": [
    "new_x"
   ]
  },
  {
   "cell_type": "code",
   "execution_count": 86,
   "metadata": {},
   "outputs": [
    {
     "data": {
      "text/plain": [
       "array([ 0.40058578,  1.8508691 , -0.66245247, -1.27073084, -1.5971608 ,\n",
       "        0.91184059,  1.15297149,  0.28892772, -0.32380209, -0.31603743,\n",
       "        0.41166871, -0.22942655, -0.97586031, -2.39157402, -1.21956523,\n",
       "       -0.26722476, -0.05298483, -0.13852203, -0.08322818, -0.10176489,\n",
       "        0.60706141,  1.96643749,  0.98636544,  0.72630507,  0.58665711,\n",
       "       -0.70101489,  1.72741661,  0.52482278, -0.47729686, -1.14884629,\n",
       "       -0.75080918, -0.59642467, -1.72715877,  0.72919623, -1.13393366,\n",
       "        0.49150173,  0.69773284,  0.2211765 , -0.39344004,  0.05446369,\n",
       "        0.84831294,  0.18765268, -1.46466226,  1.61052952, -0.76647281,\n",
       "        0.02641359,  0.64664116, -0.42821049, -0.83261645,  0.94004948,\n",
       "       -1.05193754,  1.06031343, -0.41182339, -1.40211756, -0.68478065,\n",
       "       -0.22315363,  0.19447703, -0.64498111,  0.53462187,  1.91528835,\n",
       "        0.1342211 , -0.6309725 , -0.08381031, -0.36427563,  0.3237121 ,\n",
       "       -0.04425921, -0.25199462,  0.24493633,  1.65442042, -0.69718023,\n",
       "       -0.06778394, -0.76010651,  0.51293908,  0.62135696, -0.57316868,\n",
       "        0.98053113, -0.40370204, -0.1236189 ,  0.22624936,  1.2410424 ,\n",
       "       -0.34459465,  0.7365405 ,  0.91528746,  0.12485513, -0.12453816,\n",
       "       -0.0445157 ,  0.0767242 , -0.45999647,  0.65120735,  0.70056529,\n",
       "        0.01579212, -0.28322099, -0.54869147, -0.42726603,  0.5954895 ,\n",
       "        0.24804829,  1.4737217 , -1.81272367, -0.86656231,  0.2125967 ])"
      ]
     },
     "execution_count": 86,
     "metadata": {},
     "output_type": "execute_result"
    }
   ],
   "source": [
    "x"
   ]
  },
  {
   "cell_type": "code",
   "execution_count": null,
   "metadata": {},
   "outputs": [],
   "source": []
  },
  {
   "cell_type": "code",
   "execution_count": null,
   "metadata": {},
   "outputs": [],
   "source": []
  }
 ],
 "metadata": {
  "kernelspec": {
   "display_name": "Python 3",
   "language": "python",
   "name": "python3"
  },
  "language_info": {
   "codemirror_mode": {
    "name": "ipython",
    "version": 3
   },
   "file_extension": ".py",
   "mimetype": "text/x-python",
   "name": "python",
   "nbconvert_exporter": "python",
   "pygments_lexer": "ipython3",
   "version": "3.6.8"
  }
 },
 "nbformat": 4,
 "nbformat_minor": 2
}
