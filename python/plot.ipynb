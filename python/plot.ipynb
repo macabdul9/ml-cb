{
 "cells": [
  {
   "cell_type": "code",
   "execution_count": 1,
   "metadata": {},
   "outputs": [],
   "source": [
    "countries = ([\"India\", \"UK\"])\n",
    "capitals = ([\"New Delhi\", \"London\"])"
   ]
  },
  {
   "cell_type": "code",
   "execution_count": 243,
   "metadata": {},
   "outputs": [],
   "source": [
    "#d = dict(zip(countries , capitals))"
   ]
  },
  {
   "cell_type": "code",
   "execution_count": 5,
   "metadata": {},
   "outputs": [
    {
     "data": {
      "text/plain": [
       "dict"
      ]
     },
     "execution_count": 5,
     "metadata": {},
     "output_type": "execute_result"
    }
   ],
   "source": [
    "type(d)"
   ]
  },
  {
   "cell_type": "code",
   "execution_count": 6,
   "metadata": {},
   "outputs": [
    {
     "data": {
      "text/plain": [
       "{'India': 'New Delhi', 'UK': 'London'}"
      ]
     },
     "execution_count": 6,
     "metadata": {},
     "output_type": "execute_result"
    }
   ],
   "source": [
    "d"
   ]
  },
  {
   "cell_type": "code",
   "execution_count": 7,
   "metadata": {},
   "outputs": [],
   "source": [
    "import numpy as np"
   ]
  },
  {
   "cell_type": "code",
   "execution_count": 32,
   "metadata": {},
   "outputs": [
    {
     "data": {
      "text/plain": [
       "(3, 3)"
      ]
     },
     "execution_count": 32,
     "metadata": {},
     "output_type": "execute_result"
    }
   ],
   "source": [
    "arr = np.asarray([[1, 2, 3],[4, 5, 6],[7, 8, 9]], dtype = np.float64)\n",
    "arr.shape"
   ]
  },
  {
   "cell_type": "code",
   "execution_count": 33,
   "metadata": {},
   "outputs": [],
   "source": [
    "import matplotlib.pyplot as plt"
   ]
  },
  {
   "cell_type": "code",
   "execution_count": 37,
   "metadata": {},
   "outputs": [],
   "source": [
    "x = np.asarray([1, 2, 3, 4, 5 ])\n",
    "y = np.asarray([5, 6, 7, 8, 5 ])"
   ]
  },
  {
   "cell_type": "code",
   "execution_count": 38,
   "metadata": {},
   "outputs": [
    {
     "data": {
      "image/png": "[encoded data removed]",
      "text/plain": [
       "<Figure size 432x288 with 1 Axes>"
      ]
     },
     "metadata": {
      "needs_background": "light"
     },
     "output_type": "display_data"
    }
   ],
   "source": [
    "plt.plot(x, y)\n",
    "plt.xlabel(\"x-axis\")\n",
    "plt.ylabel('y-axis')\n",
    "plt.show()"
   ]
  },
  {
   "cell_type": "code",
   "execution_count": 55,
   "metadata": {},
   "outputs": [],
   "source": [
    "import pandas as pd"
   ]
  },
  {
   "cell_type": "code",
   "execution_count": 57,
   "metadata": {},
   "outputs": [],
   "source": [
    "df = pd.read_csv(\"movie_metadata.csv\")"
   ]
  },
  {
   "cell_type": "code",
   "execution_count": 60,
   "metadata": {},
   "outputs": [
    {
     "data": {
      "text/html": [
       "<div>\n",
       "<style scoped>\n",
       "    .dataframe tbody tr th:only-of-type {\n",
       "        vertical-align: middle;\n",
       "    }\n",
       "\n",
       "    .dataframe tbody tr th {\n",
       "        vertical-align: top;\n",
       "    }\n",
       "\n",
       "    .dataframe thead th {\n",
       "        text-align: right;\n",
       "    }\n",
       "</style>\n",
       "<table border=\"1\" class=\"dataframe\">\n",
       "  <thead>\n",
       "    <tr style=\"text-align: right;\">\n",
       "      <th></th>\n",
       "      <th>color</th>\n",
       "      <th>director_name</th>\n",
       "      <th>num_critic_for_reviews</th>\n",
       "      <th>duration</th>\n",
       "      <th>director_facebook_likes</th>\n",
       "      <th>actor_3_facebook_likes</th>\n",
       "      <th>actor_2_name</th>\n",
       "      <th>actor_1_facebook_likes</th>\n",
       "      <th>gross</th>\n",
       "      <th>genres</th>\n",
       "      <th>...</th>\n",
       "      <th>num_user_for_reviews</th>\n",
       "      <th>language</th>\n",
       "      <th>country</th>\n",
       "      <th>content_rating</th>\n",
       "      <th>budget</th>\n",
       "      <th>title_year</th>\n",
       "      <th>actor_2_facebook_likes</th>\n",
       "      <th>imdb_score</th>\n",
       "      <th>aspect_ratio</th>\n",
       "      <th>movie_facebook_likes</th>\n",
       "    </tr>\n",
       "  </thead>\n",
       "  <tbody>\n",
       "    <tr>\n",
       "      <th>0</th>\n",
       "      <td>Color</td>\n",
       "      <td>James Cameron</td>\n",
       "      <td>723.0</td>\n",
       "      <td>178.0</td>\n",
       "      <td>0.0</td>\n",
       "      <td>855.0</td>\n",
       "      <td>Joel David Moore</td>\n",
       "      <td>1000.0</td>\n",
       "      <td>760505847.0</td>\n",
       "      <td>Action|Adventure|Fantasy|Sci-Fi</td>\n",
       "      <td>...</td>\n",
       "      <td>3054.0</td>\n",
       "      <td>English</td>\n",
       "      <td>USA</td>\n",
       "      <td>PG-13</td>\n",
       "      <td>237000000.0</td>\n",
       "      <td>2009.0</td>\n",
       "      <td>936.0</td>\n",
       "      <td>7.9</td>\n",
       "      <td>1.78</td>\n",
       "      <td>33000</td>\n",
       "    </tr>\n",
       "    <tr>\n",
       "      <th>1</th>\n",
       "      <td>Color</td>\n",
       "      <td>Gore Verbinski</td>\n",
       "      <td>302.0</td>\n",
       "      <td>169.0</td>\n",
       "      <td>563.0</td>\n",
       "      <td>1000.0</td>\n",
       "      <td>Orlando Bloom</td>\n",
       "      <td>40000.0</td>\n",
       "      <td>309404152.0</td>\n",
       "      <td>Action|Adventure|Fantasy</td>\n",
       "      <td>...</td>\n",
       "      <td>1238.0</td>\n",
       "      <td>English</td>\n",
       "      <td>USA</td>\n",
       "      <td>PG-13</td>\n",
       "      <td>300000000.0</td>\n",
       "      <td>2007.0</td>\n",
       "      <td>5000.0</td>\n",
       "      <td>7.1</td>\n",
       "      <td>2.35</td>\n",
       "      <td>0</td>\n",
       "    </tr>\n",
       "    <tr>\n",
       "      <th>2</th>\n",
       "      <td>Color</td>\n",
       "      <td>Sam Mendes</td>\n",
       "      <td>602.0</td>\n",
       "      <td>148.0</td>\n",
       "      <td>0.0</td>\n",
       "      <td>161.0</td>\n",
       "      <td>Rory Kinnear</td>\n",
       "      <td>11000.0</td>\n",
       "      <td>200074175.0</td>\n",
       "      <td>Action|Adventure|Thriller</td>\n",
       "      <td>...</td>\n",
       "      <td>994.0</td>\n",
       "      <td>English</td>\n",
       "      <td>UK</td>\n",
       "      <td>PG-13</td>\n",
       "      <td>245000000.0</td>\n",
       "      <td>2015.0</td>\n",
       "      <td>393.0</td>\n",
       "      <td>6.8</td>\n",
       "      <td>2.35</td>\n",
       "      <td>85000</td>\n",
       "    </tr>\n",
       "    <tr>\n",
       "      <th>3</th>\n",
       "      <td>Color</td>\n",
       "      <td>Christopher Nolan</td>\n",
       "      <td>813.0</td>\n",
       "      <td>164.0</td>\n",
       "      <td>22000.0</td>\n",
       "      <td>23000.0</td>\n",
       "      <td>Christian Bale</td>\n",
       "      <td>27000.0</td>\n",
       "      <td>448130642.0</td>\n",
       "      <td>Action|Thriller</td>\n",
       "      <td>...</td>\n",
       "      <td>2701.0</td>\n",
       "      <td>English</td>\n",
       "      <td>USA</td>\n",
       "      <td>PG-13</td>\n",
       "      <td>250000000.0</td>\n",
       "      <td>2012.0</td>\n",
       "      <td>23000.0</td>\n",
       "      <td>8.5</td>\n",
       "      <td>2.35</td>\n",
       "      <td>164000</td>\n",
       "    </tr>\n",
       "    <tr>\n",
       "      <th>4</th>\n",
       "      <td>NaN</td>\n",
       "      <td>Doug Walker</td>\n",
       "      <td>NaN</td>\n",
       "      <td>NaN</td>\n",
       "      <td>131.0</td>\n",
       "      <td>NaN</td>\n",
       "      <td>Rob Walker</td>\n",
       "      <td>131.0</td>\n",
       "      <td>NaN</td>\n",
       "      <td>Documentary</td>\n",
       "      <td>...</td>\n",
       "      <td>NaN</td>\n",
       "      <td>NaN</td>\n",
       "      <td>NaN</td>\n",
       "      <td>NaN</td>\n",
       "      <td>NaN</td>\n",
       "      <td>NaN</td>\n",
       "      <td>12.0</td>\n",
       "      <td>7.1</td>\n",
       "      <td>NaN</td>\n",
       "      <td>0</td>\n",
       "    </tr>\n",
       "  </tbody>\n",
       "</table>\n",
       "<p>5 rows × 28 columns</p>\n",
       "</div>"
      ],
      "text/plain": [
       "   color      director_name  num_critic_for_reviews  duration  \\\n",
       "0  Color      James Cameron                   723.0     178.0   \n",
       "1  Color     Gore Verbinski                   302.0     169.0   \n",
       "2  Color         Sam Mendes                   602.0     148.0   \n",
       "3  Color  Christopher Nolan                   813.0     164.0   \n",
       "4    NaN        Doug Walker                     NaN       NaN   \n",
       "\n",
       "   director_facebook_likes  actor_3_facebook_likes      actor_2_name  \\\n",
       "0                      0.0                   855.0  Joel David Moore   \n",
       "1                    563.0                  1000.0     Orlando Bloom   \n",
       "2                      0.0                   161.0      Rory Kinnear   \n",
       "3                  22000.0                 23000.0    Christian Bale   \n",
       "4                    131.0                     NaN        Rob Walker   \n",
       "\n",
       "   actor_1_facebook_likes        gross                           genres  ...  \\\n",
       "0                  1000.0  760505847.0  Action|Adventure|Fantasy|Sci-Fi  ...   \n",
       "1                 40000.0  309404152.0         Action|Adventure|Fantasy  ...   \n",
       "2                 11000.0  200074175.0        Action|Adventure|Thriller  ...   \n",
       "3                 27000.0  448130642.0                  Action|Thriller  ...   \n",
       "4                   131.0          NaN                      Documentary  ...   \n",
       "\n",
       "  num_user_for_reviews language  country  content_rating       budget  \\\n",
       "0               3054.0  English      USA           PG-13  237000000.0   \n",
       "1               1238.0  English      USA           PG-13  300000000.0   \n",
       "2                994.0  English       UK           PG-13  245000000.0   \n",
       "3               2701.0  English      USA           PG-13  250000000.0   \n",
       "4                  NaN      NaN      NaN             NaN          NaN   \n",
       "\n",
       "   title_year actor_2_facebook_likes imdb_score  aspect_ratio  \\\n",
       "0      2009.0                  936.0        7.9          1.78   \n",
       "1      2007.0                 5000.0        7.1          2.35   \n",
       "2      2015.0                  393.0        6.8          2.35   \n",
       "3      2012.0                23000.0        8.5          2.35   \n",
       "4         NaN                   12.0        7.1           NaN   \n",
       "\n",
       "  movie_facebook_likes  \n",
       "0                33000  \n",
       "1                    0  \n",
       "2                85000  \n",
       "3               164000  \n",
       "4                    0  \n",
       "\n",
       "[5 rows x 28 columns]"
      ]
     },
     "execution_count": 60,
     "metadata": {},
     "output_type": "execute_result"
    }
   ],
   "source": [
    "df.head()"
   ]
  },
  {
   "cell_type": "code",
   "execution_count": 64,
   "metadata": {},
   "outputs": [],
   "source": [
    "title = np.asarray(df.movie_title)"
   ]
  },
  {
   "cell_type": "code",
   "execution_count": 70,
   "metadata": {},
   "outputs": [],
   "source": [
    "title_length = list()\n",
    "for each in title:\n",
    "    title_length.append(len(each))"
   ]
  },
  {
   "cell_type": "code",
   "execution_count": 86,
   "metadata": {},
   "outputs": [],
   "source": [
    "title_dict = dict()\n",
    "for each in title_length:\n",
    "    if each in title_dict:\n",
    "        title_dict[each] += 1\n",
    "    else:\n",
    "        title_dict[each] = 1"
   ]
  },
  {
   "cell_type": "code",
   "execution_count": 126,
   "metadata": {},
   "outputs": [],
   "source": [
    "plt.plot?"
   ]
  },
  {
   "cell_type": "code",
   "execution_count": 128,
   "metadata": {},
   "outputs": [
    {
     "data": {
      "image/png": "[encoded data removed]",
      "text/plain": [
       "<Figure size 432x288 with 1 Axes>"
      ]
     },
     "metadata": {
      "needs_background": "light"
     },
     "output_type": "display_data"
    }
   ],
   "source": [
    "plt.plot(list(title_dict.keys()), list(title_dict.values()))\n",
    "plt.xlabel(\"movies length\")\n",
    "plt.ylabel(\"no of movies\")\n",
    "plt.show()"
   ]
  },
  {
   "cell_type": "code",
   "execution_count": 118,
   "metadata": {},
   "outputs": [
    {
     "data": {
      "text/plain": [
       "78.796875"
      ]
     },
     "execution_count": 118,
     "metadata": {},
     "output_type": "execute_result"
    }
   ],
   "source": [
    "np.mean(list(title_dict.values()))"
   ]
  },
  {
   "cell_type": "code",
   "execution_count": 123,
   "metadata": {},
   "outputs": [
    {
     "data": {
      "text/plain": [
       "16.54967281380131"
      ]
     },
     "execution_count": 123,
     "metadata": {},
     "output_type": "execute_result"
    }
   ],
   "source": [
    "np.mean(np.array(title_length))"
   ]
  },
  {
   "cell_type": "code",
   "execution_count": 119,
   "metadata": {},
   "outputs": [
    {
     "data": {
      "text/plain": [
       "35.015625"
      ]
     },
     "execution_count": 119,
     "metadata": {},
     "output_type": "execute_result"
    }
   ],
   "source": [
    "np.mean(list(title_dict.keys()))"
   ]
  },
  {
   "cell_type": "code",
   "execution_count": 129,
   "metadata": {},
   "outputs": [],
   "source": [
    "plt.hist?"
   ]
  },
  {
   "cell_type": "code",
   "execution_count": 133,
   "metadata": {},
   "outputs": [],
   "source": [
    "arr = np.random.randn(1000)"
   ]
  },
  {
   "cell_type": "code",
   "execution_count": 134,
   "metadata": {},
   "outputs": [
    {
     "data": {
      "text/plain": [
       "array([-9.30833468e-01, -5.66650308e-01,  2.90553440e-01, -9.61289577e-01,\n",
       "       -1.76984687e-01,  6.53788602e-01,  1.10784522e+00,  8.23793291e-01,\n",
       "       -1.99999580e+00,  1.26259806e+00,  1.30692314e+00, -3.56964187e-01,\n",
       "       -1.56136996e+00, -1.62335098e-01, -2.82915840e-01, -1.93683455e+00,\n",
       "        1.54358746e-02,  1.66567639e-01, -2.02484559e+00,  1.59952941e+00,\n",
       "        1.22080461e+00,  9.31220900e-01, -8.58716042e-01, -1.81405346e+00,\n",
       "        1.41558400e+00, -1.22927905e+00, -4.98767301e-01,  2.46507766e+00,\n",
       "       -6.58987895e-01,  8.02133462e-01,  9.22037366e-01,  6.10333942e-01,\n",
       "       -2.40204024e+00,  3.59669648e-01,  7.09131583e-01, -1.96964454e+00,\n",
       "        4.73063500e-01,  5.82256306e-01, -9.85430045e-02,  4.16021498e-01,\n",
       "       -2.17318062e-01,  7.07901602e-01, -1.40955121e-01, -5.80445023e-01,\n",
       "        1.75357852e+00,  1.20010262e-02,  8.42751875e-01, -8.33966326e-01,\n",
       "       -8.90375062e-01, -7.24897352e-02, -3.32568703e-01,  4.57308248e-01,\n",
       "        1.04900493e+00,  2.93906867e-01,  1.30613213e+00, -1.64142813e-01,\n",
       "       -1.40393092e+00,  2.30037255e-01, -1.48442588e+00,  3.85012136e-02,\n",
       "       -1.37139535e+00, -5.81017571e-01,  3.30597794e-01,  5.47176154e-01,\n",
       "       -6.69197212e-01,  8.18586187e-01, -2.14621964e+00, -6.06768423e-01,\n",
       "       -1.82350296e-02,  1.53539320e+00, -2.52615974e-01,  5.83662200e-01,\n",
       "        1.88823490e+00, -7.66612841e-01, -2.40344922e+00, -4.11589282e-01,\n",
       "       -3.80321728e-01,  2.09345085e+00, -1.62238850e-01, -1.47305074e+00,\n",
       "       -4.00452267e-01,  1.29878943e-02,  3.27851471e-01, -4.77492539e-01,\n",
       "        5.79088152e-01, -2.26955848e-01,  1.31457753e+00,  4.35313545e-01,\n",
       "       -7.92125007e-01, -4.67190939e-01,  1.15632567e+00, -8.00398763e-01,\n",
       "       -1.97654285e-01, -8.68695944e-01,  5.74779164e-01,  3.31589152e-01,\n",
       "       -7.13754694e-01,  7.21928542e-02, -2.93085094e-01,  1.20588071e+00,\n",
       "       -2.37537665e+00, -1.54658571e+00,  8.26493640e-01, -2.94747221e+00,\n",
       "       -6.12460864e-01,  1.23082378e-01, -1.54081530e-01,  4.96649122e-01,\n",
       "       -7.34631695e-01,  1.77581372e-01,  1.91912009e+00,  2.97740734e-01,\n",
       "        4.25322584e-01, -4.60659366e-01,  7.10149548e-01,  1.19136635e+00,\n",
       "       -1.08547401e+00,  2.95836172e-02, -1.78914965e-02,  1.02199487e+00,\n",
       "       -1.54723750e+00,  1.83240394e+00,  1.58534590e+00,  1.57767654e+00,\n",
       "        9.40865701e-01,  1.35799597e+00,  9.36570161e-01,  6.37473435e-01,\n",
       "       -8.77224641e-01, -7.21069939e-01, -2.72806076e-01,  2.75698149e-01,\n",
       "       -7.48327282e-01,  4.72767107e-01,  4.37460439e-01,  4.30133055e-01,\n",
       "       -7.95006490e-01, -6.51216115e-02,  1.17197044e+00, -4.51745485e-01,\n",
       "        2.18953725e-01,  2.47415800e+00, -3.28402591e-02,  1.16151773e+00,\n",
       "       -1.30361815e+00, -1.55199126e-01, -4.56993297e-01,  4.13093150e-01,\n",
       "       -9.79776675e-01,  6.94445697e-01, -1.72636719e+00, -2.83596387e-02,\n",
       "       -9.12027025e-01, -4.48339685e-01,  1.30457627e+00,  1.53657753e-01,\n",
       "        5.70508652e-01,  1.38432027e-01, -8.02802534e-02, -2.34631406e-03,\n",
       "       -8.14414340e-01, -7.25987646e-01, -1.30480963e+00,  4.93079506e-01,\n",
       "       -4.30817692e-01,  2.31371511e+00, -8.05070206e-01,  1.07577411e+00,\n",
       "        1.24517215e+00, -8.62488592e-01,  9.09587929e-01,  9.16461671e-02,\n",
       "        1.60078004e+00, -5.06287604e-01, -6.65125453e-01, -8.27881249e-01,\n",
       "       -9.73260819e-01, -1.61307195e+00,  2.68251743e+00,  1.39577913e+00,\n",
       "       -6.80894461e-01, -1.21569473e+00, -2.96479983e-02,  1.17002273e+00,\n",
       "       -2.79452360e+00,  3.06728341e-01, -2.57382527e-01,  3.90725619e-01,\n",
       "       -1.13889812e+00,  4.33282945e-01,  2.96695554e-01, -5.99313495e-01,\n",
       "        8.78016096e-01,  1.23743944e+00, -2.24449794e+00, -1.53345612e+00,\n",
       "        1.31030945e+00, -6.72266013e-02, -5.11386240e-01,  6.69637680e-01,\n",
       "        9.31669587e-01,  1.10222216e+00, -4.59762099e-01, -1.32205096e+00,\n",
       "        1.15949640e+00, -1.63601522e+00, -3.89504517e-01,  1.08903337e+00,\n",
       "       -9.43096784e-01, -4.35525120e-01, -2.95403085e-01,  1.54029526e+00,\n",
       "       -6.15567059e-01, -1.58754820e+00, -1.10051557e+00,  2.43658684e+00,\n",
       "       -7.16995314e-01,  3.11295254e-01, -9.17812450e-02,  1.66082876e+00,\n",
       "       -1.32340647e+00, -1.22696657e+00, -7.19584307e-01, -8.96147222e-01,\n",
       "        3.52376357e-02,  4.11150350e-01, -1.27168434e+00,  6.18159733e-01,\n",
       "       -1.47513794e+00,  3.27538188e+00,  2.37199346e-02,  5.91287467e-01,\n",
       "       -7.24723706e-01, -2.26086494e-02,  1.18852466e+00,  1.78101087e+00,\n",
       "        8.89135547e-01,  9.99044168e-01, -1.82583973e+00,  5.20030907e-01,\n",
       "        4.32117533e-01, -1.42982436e-01,  7.09045392e-01, -5.56533182e-01,\n",
       "        7.43627879e-01,  1.63210401e+00, -1.25280080e-01,  5.16413155e-01,\n",
       "       -1.99335084e+00,  1.16773169e+00, -2.11072331e+00,  4.56417016e-01,\n",
       "       -8.95138809e-01,  3.64477856e-01, -9.28579274e-02, -4.24762954e-02,\n",
       "       -9.17113133e-01,  7.93126760e-01, -1.65856908e-01, -9.11103440e-01,\n",
       "        1.86047066e+00, -6.55065332e-01,  1.31508210e+00, -1.05142159e-01,\n",
       "       -2.43151255e-01, -4.07740427e-01, -2.10284537e+00, -1.08998638e+00,\n",
       "        1.91351927e-01,  2.92275193e+00,  9.98334341e-01,  1.55930964e+00,\n",
       "        1.11036870e+00, -1.71687423e-01,  1.27789722e-02, -1.40276549e-01,\n",
       "        5.76645554e-01,  9.27388735e-01, -2.75636120e-02,  6.49439901e-01,\n",
       "       -1.33800033e-01, -4.50250389e-01,  1.06069037e-01, -8.48638960e-01,\n",
       "        5.44795547e-01, -1.28917171e+00, -9.93816751e-01, -2.91141322e+00,\n",
       "       -3.28941389e+00,  2.67863665e+00, -9.27610518e-01, -1.16047392e+00,\n",
       "       -7.14078520e-01,  9.92683807e-01, -2.03949803e+00, -1.29179264e+00,\n",
       "       -1.51399661e-01, -1.11987950e+00, -8.44035998e-01,  1.71770138e-01,\n",
       "       -2.83352292e-01, -1.61409958e+00,  1.95446329e+00, -1.05699054e+00,\n",
       "       -8.66363682e-01, -5.29149010e-02, -2.88283513e+00,  1.79181108e+00,\n",
       "       -8.94045671e-02, -1.22087807e-01, -1.63782411e+00, -1.03565916e+00,\n",
       "        5.01125985e-01,  3.04424655e-05, -1.65498007e+00,  1.61784605e-01,\n",
       "       -1.10327923e+00,  1.87174954e+00,  4.69053542e-01, -1.77899204e+00,\n",
       "        3.27491675e-01,  1.64768118e-01,  6.54415615e-01, -1.63929196e+00,\n",
       "       -1.17689203e+00,  3.60304701e-01, -1.77611290e-01,  1.92292973e+00,\n",
       "        7.70912594e-01,  3.56711761e-01,  3.79273652e-02,  3.22301507e-01,\n",
       "        9.61068039e-01,  4.54009853e-01, -5.85191042e-01,  5.46116043e-01,\n",
       "       -2.19138724e-01,  7.05440430e-01,  1.11104885e-01, -2.05798303e-01,\n",
       "        1.46573310e-01,  9.58401908e-01,  1.09779530e-01, -2.04713230e+00,\n",
       "       -4.23257204e-01, -1.38818393e-02,  6.41162779e-01,  7.95048258e-01,\n",
       "        5.79184777e-01,  3.37465546e-01,  6.29872778e-01, -3.64498164e-01,\n",
       "        2.30258512e-01, -4.98165060e-01, -1.55599870e+00,  7.41851645e-01,\n",
       "       -2.41722307e-01, -1.72462014e+00,  4.70528277e-01, -1.18608863e+00,\n",
       "        2.59052764e-01, -1.21166720e-01,  9.98248872e-01,  1.44967581e+00,\n",
       "       -2.62580266e+00, -7.43309021e-01,  8.69300444e-01, -1.57035611e+00,\n",
       "        3.15554875e-01, -6.75380395e-01,  2.48969250e-01, -7.02162161e-01,\n",
       "        1.63079845e+00,  2.30258821e+00,  1.85517589e+00,  1.34817277e+00,\n",
       "        9.38020930e-01,  2.06485862e-01, -1.40218705e-01,  8.74514357e-01,\n",
       "        1.98854105e-01,  4.84836085e-01, -1.45231175e+00,  7.59343209e-01,\n",
       "        1.68690191e+00,  9.23016010e-01, -1.01128593e-01, -4.80417966e-01,\n",
       "       -1.04020474e+00, -1.00480494e+00, -6.49016947e-01,  1.04290755e+00,\n",
       "        1.96772600e+00,  4.57165729e-01, -1.70316141e+00, -5.38857533e-01,\n",
       "        7.73562056e-01, -2.40882408e+00,  7.27572194e-01, -1.57720717e+00,\n",
       "        5.78099427e-01,  3.82107751e-01, -2.90464882e-01, -4.46794456e-01,\n",
       "        7.16991224e-01, -5.11348345e-01,  7.73404359e-01,  4.67692392e-01,\n",
       "       -6.38708093e-01, -4.45815696e-01,  2.09069868e-01,  6.98858166e-01,\n",
       "       -5.53991847e-01, -1.51357547e+00,  5.71268482e-02, -1.05103581e+00,\n",
       "       -2.36843909e-01, -4.19840627e-01, -2.57408867e-01,  2.38754530e-01,\n",
       "        6.81978809e-02,  6.55844822e-01, -9.11549744e-01, -8.75161531e-01,\n",
       "        1.09420738e+00, -1.20361791e+00,  1.24718481e+00,  1.35967538e+00,\n",
       "        7.90912119e-01, -9.38118400e-01, -1.00094290e-01, -6.20383580e-01,\n",
       "        6.02491826e-01,  1.15018519e+00,  4.26629499e-02,  8.80551416e-01,\n",
       "       -6.18765204e-01,  9.37215985e-01, -6.40286403e-01, -2.16895426e+00,\n",
       "        1.60635217e-01,  2.39688085e-02,  5.15139540e-01,  5.10374446e-01,\n",
       "       -5.69201386e-01, -1.50273629e+00, -7.73950918e-01, -1.72027187e+00,\n",
       "        1.40483808e-01,  1.39051090e+00, -7.03965165e-01,  4.10202556e-01,\n",
       "        9.27605717e-01, -7.05959913e-01, -9.62630426e-01,  4.08230952e-02,\n",
       "       -2.46872265e-01, -2.34692105e-01, -1.88388281e-01, -5.49818473e-01,\n",
       "        2.10667511e-01,  3.85313270e-02,  4.43725228e-01,  7.94601392e-02,\n",
       "       -3.35770420e-01, -1.36091686e-01,  7.51440319e-01,  7.08405673e-02,\n",
       "       -1.11330626e-01,  3.47054029e-01, -1.03172762e+00,  1.36397858e+00,\n",
       "        1.61471892e+00,  1.06110623e+00, -5.26718853e-01,  5.14154653e-01,\n",
       "        6.68613929e-01,  1.58183967e-02, -3.34181395e-01, -1.32692444e+00,\n",
       "       -2.79593548e-01,  1.22635029e+00,  3.04242920e-01,  2.11708174e-02,\n",
       "       -5.00505949e-01, -2.17958818e+00,  7.92102434e-01,  1.79013491e+00,\n",
       "       -8.93139615e-01, -1.32973516e+00,  2.98355672e-01, -1.22012118e+00,\n",
       "        1.87698827e+00,  7.23139997e-01, -1.55168667e-01,  1.74298402e+00,\n",
       "        1.04804171e+00,  8.78076817e-01, -9.17095789e-01, -1.43522701e+00,\n",
       "       -5.21520151e-01, -4.67686984e-01,  1.59520385e+00, -2.78064695e-01,\n",
       "       -1.01770712e+00, -1.15171681e+00, -3.79579396e-01, -1.03698098e+00,\n",
       "       -9.22956532e-01, -6.54544963e-01, -7.24609990e-01,  3.35406648e-01,\n",
       "        1.88910197e-01,  1.25354481e+00, -5.36620852e-01,  9.60469561e-01,\n",
       "       -9.16026097e-01, -1.89712558e-02,  3.22452269e-01,  1.82148762e+00,\n",
       "        2.28199066e-01,  1.61928351e+00, -3.50192819e-01,  1.33554747e-01,\n",
       "        4.64798850e-01,  3.30997151e-01,  1.09035738e-01, -8.83313510e-01,\n",
       "        2.09125529e-01,  3.38975030e-01, -1.18173268e-02, -7.45594164e-01,\n",
       "       -2.33167235e+00,  2.04851960e-01,  3.25273592e-01, -1.67859942e+00,\n",
       "        1.67821065e-01, -3.77178193e-02,  1.07433590e+00, -7.01212696e-01,\n",
       "        3.02449381e-01, -6.64234200e-01, -2.95822313e-01, -6.64627217e-02,\n",
       "       -7.89743243e-01, -3.57322012e-01, -4.13755900e-01,  2.71013726e-01,\n",
       "       -3.41996133e-01, -2.42675416e-02, -2.40499186e-01,  1.09336952e+00,\n",
       "        1.42795883e+00,  1.65978956e+00,  1.06401745e+00, -2.42850976e+00,\n",
       "       -1.71107546e+00,  1.27779010e+00, -4.17378440e-01, -1.85913445e-01,\n",
       "       -8.45512080e-01, -9.18711129e-02, -1.50870250e+00, -1.94673883e+00,\n",
       "       -1.67855413e+00,  1.02245855e+00,  5.07739366e-01,  8.08255398e-02,\n",
       "       -6.66426601e-01,  5.54820340e-01,  1.61611813e+00,  5.11878020e-01,\n",
       "       -4.65144931e-01, -5.09504222e-01,  1.08189132e-01,  8.63749697e-01,\n",
       "        8.05613357e-01, -1.36142190e+00,  5.21989511e-01,  7.48593205e-01,\n",
       "       -1.26207572e+00,  1.88146510e+00, -5.16222839e-01,  1.19444836e+00,\n",
       "        2.13134619e+00,  4.12151359e-01,  7.97144723e-01,  1.91311881e-01,\n",
       "        6.23972731e-01, -1.00560569e+00,  6.84858130e-01,  1.75698177e-01,\n",
       "        8.95923749e-01,  1.74363509e-01, -3.86379403e-01,  1.42720732e+00,\n",
       "        1.83844007e-01,  1.44235664e+00, -1.33776916e+00, -1.02664991e+00,\n",
       "       -1.19433884e-01, -5.82464763e-03,  5.79250479e-01,  1.45997283e+00,\n",
       "       -4.11749789e-01, -1.14055026e+00,  1.56889593e+00, -4.81183661e-01,\n",
       "       -1.43320826e-01, -7.38382014e-01, -1.07178650e+00, -9.96732969e-01,\n",
       "        2.43737200e+00,  7.83050136e-01, -1.30523851e-01, -3.74328254e-01,\n",
       "        1.10579898e-02, -2.43853631e-01,  1.04096082e-01, -2.68655923e+00,\n",
       "        6.85975879e-01,  5.35756423e-01,  6.78667496e-01,  7.42018480e-02,\n",
       "       -4.60459909e-01,  2.86821973e-01,  6.15366903e-01,  2.12712849e-01,\n",
       "       -2.15269659e+00, -1.32470751e+00,  1.41407557e+00,  2.52513161e-01,\n",
       "       -1.34969636e+00,  3.51154480e-03,  1.28982716e+00,  5.77231326e-01,\n",
       "        2.44656509e-01, -5.47342389e-01, -2.33367600e-01,  6.43844276e-01,\n",
       "        4.92355249e-01, -2.58341325e+00,  8.26665719e-02,  1.75797526e+00,\n",
       "        8.47128247e-01, -1.58026496e+00, -9.03054747e-02, -2.24234321e+00,\n",
       "       -1.34049368e+00, -6.47640773e-01, -8.28061971e-01,  3.20172536e-01,\n",
       "        9.34815452e-03, -9.51128550e-01,  4.31768225e-01,  1.29502236e-01,\n",
       "        4.57795916e-01,  2.55753304e-01, -1.50651432e+00, -8.03571168e-01,\n",
       "        5.40526847e-01, -1.54119983e+00, -4.94672768e-01, -2.78843297e-01,\n",
       "        1.58905602e+00, -4.26792651e-01,  1.32020875e-01, -4.38112993e-01,\n",
       "       -1.06444374e+00,  1.42482235e+00,  1.19567457e+00, -1.73247474e+00,\n",
       "        8.67481701e-01, -3.88259985e-03, -5.49610533e-01,  5.42515022e-01,\n",
       "        1.05719399e-01, -1.36344104e-01,  6.77935879e-01,  1.76408985e-01,\n",
       "       -4.87941740e-01, -1.76555660e-01, -3.00064346e-01, -8.10239896e-01,\n",
       "        1.53507127e-01, -3.17568082e-01, -2.61437170e+00, -1.35512978e-01,\n",
       "       -1.78092115e+00, -4.34031251e-02,  4.96096535e-01,  2.20183773e-01,\n",
       "        4.16501962e-02, -1.64315866e+00,  1.01889526e-01,  1.61000052e+00,\n",
       "       -5.42659525e-01,  2.12403937e+00,  1.98899870e-04,  1.34969088e+00,\n",
       "        1.10367947e+00, -1.75955216e+00, -7.33310667e-01, -6.18049851e-01,\n",
       "        1.05461414e+00,  1.84931695e+00, -6.68832868e-01,  6.45558162e-01,\n",
       "       -2.56973440e+00,  5.68695788e-01,  5.02007368e-01,  1.53837208e+00,\n",
       "        3.11729004e-01,  3.68365642e-01, -8.34720231e-01,  1.45611996e+00,\n",
       "        2.94676759e-02, -5.36648216e-01,  3.26202330e-01, -6.31982661e-01,\n",
       "       -1.59910324e+00,  7.16806616e-01, -6.73522112e-01,  1.54987556e+00,\n",
       "        8.69926056e-01, -2.72464494e+00,  1.68753588e+00, -2.79944731e-01,\n",
       "       -4.81883570e-01,  1.95265966e-01, -1.63185984e+00,  4.38366047e-02,\n",
       "        1.69063217e+00, -5.91898546e-01,  1.34196961e+00, -5.04380618e-01,\n",
       "        6.91077458e-01,  4.80688543e-01, -5.94286588e-01,  8.58548682e-01,\n",
       "        9.76829627e-01, -1.17224504e+00, -1.83710693e+00, -7.88604920e-02,\n",
       "       -1.47980430e-01,  1.04909922e+00,  2.02441745e-01,  1.03573621e+00,\n",
       "        4.46779785e-01, -2.82169939e+00, -7.32674706e-01,  7.44745741e-02,\n",
       "        1.29768664e-01, -1.09541878e+00, -7.01182732e-01, -4.55265661e-01,\n",
       "       -4.87604430e-02,  4.21397288e-01, -2.60529930e-01,  1.09355730e+00,\n",
       "       -4.92000956e-01, -4.50059623e-01,  5.54104630e-01, -1.15319839e+00,\n",
       "       -8.50104271e-01,  6.11362096e-01,  2.50822713e-01,  4.33152832e-02,\n",
       "        1.01888364e+00,  2.43208825e+00,  1.56714105e-01, -7.73746446e-01,\n",
       "        1.29731552e+00, -1.80510251e+00,  7.22094695e-02,  1.09517808e+00,\n",
       "       -3.49510450e-01,  1.16983112e+00,  9.26557302e-01, -2.07391306e-01,\n",
       "       -9.83082360e-01, -5.40494880e-01,  8.85432403e-02,  1.19817004e+00,\n",
       "        4.47377522e-01,  5.21263768e-02,  1.09275254e+00, -8.54111759e-01,\n",
       "       -3.57896569e-01,  2.97624143e-01, -1.56686450e+00,  9.68128690e-01,\n",
       "        3.23220246e-01, -1.67236548e+00, -8.86311118e-01,  2.63554367e-01,\n",
       "       -8.96275315e-01, -2.84625296e-01,  3.22509046e-01,  2.17149514e+00,\n",
       "       -1.24927424e+00, -1.48940072e-01,  7.08574822e-01, -2.99600181e-01,\n",
       "        1.64418211e-01, -4.25373400e-01, -1.31001746e-01,  8.82844271e-01,\n",
       "       -9.59774735e-01, -1.06401186e+00, -3.55932856e-01, -9.28736096e-01,\n",
       "       -6.38990744e-01,  1.22713425e+00,  9.70690953e-01,  5.69921523e-01,\n",
       "        5.65900507e-01, -4.47294533e-01,  4.88039256e-02,  1.56943440e+00,\n",
       "        7.06318720e-01, -8.86470967e-01, -3.78785972e-01, -5.64345567e-01,\n",
       "        5.94435045e-01,  2.19533851e+00,  3.26951049e-02, -6.62838044e-01,\n",
       "       -1.68383369e-01,  1.86083760e+00,  1.15449732e+00,  9.50980743e-01,\n",
       "        1.48649263e+00,  9.01260613e-01,  6.06624615e-01, -5.63633061e-01,\n",
       "       -3.57621705e-01,  8.13122667e-01,  6.83932604e-01,  7.14189744e-01,\n",
       "        3.39453118e-01,  5.84924449e-01,  9.34558752e-02, -2.87903570e-01,\n",
       "       -2.32229870e+00,  1.04972664e+00,  1.02722931e+00,  1.68518495e-01,\n",
       "       -1.43132094e-01, -2.27461157e-01,  3.00975360e-01, -1.26542821e+00,\n",
       "       -5.26142198e-01, -2.13797264e-01, -1.32020649e+00, -1.96856163e-01,\n",
       "        2.13678819e+00, -7.19878891e-01, -1.27777019e+00,  2.90786393e-01,\n",
       "        9.64156932e-01,  1.39703818e+00,  1.70966628e-01, -6.44323572e-02,\n",
       "        6.87763788e-01, -8.58793411e-01, -2.59389703e+00,  4.70595887e-01,\n",
       "       -4.12307567e-01,  9.66801747e-01,  1.77727385e-01, -1.53058198e-01,\n",
       "       -7.28813954e-01,  2.03040445e-01, -5.45542531e-01,  4.02045753e-01,\n",
       "       -8.90839420e-01, -2.00100729e+00,  6.20430728e-02, -1.64624238e+00,\n",
       "       -1.04728551e+00,  1.34535471e+00, -5.55601242e-01,  1.42728704e+00,\n",
       "       -1.63808388e+00,  4.18987536e-01, -2.76898150e-01,  1.05021280e+00,\n",
       "        5.13766534e-01,  2.21876941e+00, -2.02901090e+00,  1.42364752e+00,\n",
       "        2.23509503e+00,  6.04618447e-02,  8.48159025e-01, -1.42282871e+00,\n",
       "       -8.00983532e-01, -7.99832971e-01,  1.72977839e+00, -1.67772698e+00,\n",
       "       -2.37765010e+00,  7.31697121e-01, -5.31525974e-01,  9.80346466e-01,\n",
       "        5.16547540e-01,  1.05298800e+00,  5.52236746e-01, -1.88462119e-01,\n",
       "        1.42070408e+00,  4.38039824e-01, -7.63328387e-01, -1.13155203e-01,\n",
       "       -1.77850300e+00, -8.80040460e-01,  9.12841957e-01,  7.50181587e-01,\n",
       "        3.14857337e-03,  1.00367272e+00, -1.37970003e-01,  4.29156373e-01,\n",
       "       -1.30235072e-01, -1.62011849e+00, -8.29098484e-02, -1.03614613e+00,\n",
       "       -9.10060768e-01,  2.27117825e-01, -2.60515224e-01,  1.24291685e-01,\n",
       "        6.62028906e-01, -1.66019609e-01, -1.82324768e+00,  1.67529010e-01,\n",
       "        1.07944061e+00,  1.07295958e+00, -3.46090450e-02,  3.93818673e-01,\n",
       "       -5.99163393e-01,  9.76626419e-01, -1.47437472e-01,  6.88405638e-03,\n",
       "        3.53768723e-01, -2.44709097e-01, -7.38669964e-02,  1.62955637e-01,\n",
       "       -1.57406180e+00,  2.91186553e-01,  7.82843256e-01, -8.01880830e-01,\n",
       "       -1.16815149e-01,  4.52977287e-01,  5.99514876e-01,  8.70840913e-01,\n",
       "        6.99255651e-01, -4.38943977e-01, -1.93860626e+00, -1.36224535e+00,\n",
       "       -5.22726231e-01,  1.37154014e+00, -1.82367122e-01, -7.54723775e-01,\n",
       "       -7.39017946e-01, -3.94531652e-01, -1.76727694e+00,  1.36709408e-01,\n",
       "       -8.72849830e-01,  9.19131929e-02,  4.91108488e-01, -1.01772282e+00,\n",
       "        4.61846736e-01,  2.83960154e+00,  4.76301187e-01, -1.29235525e-01,\n",
       "       -9.75399601e-01, -5.21361535e-01,  8.65048184e-01, -6.99722472e-01,\n",
       "        4.71568132e-01, -8.18744617e-01,  1.09661553e+00,  8.40587124e-01,\n",
       "       -4.36173149e-01,  3.43415452e-01, -2.67831716e+00,  5.32237008e-02,\n",
       "       -1.78570175e+00, -7.36201065e-01, -2.00415982e+00,  9.95856109e-01,\n",
       "       -9.26125811e-02, -5.80322947e-01,  1.22651520e+00, -1.51102560e-01,\n",
       "        4.74896976e-01,  1.10334869e-01,  2.72609948e-01,  4.80403847e-01,\n",
       "        8.91405619e-01,  5.54003477e-01,  1.00451332e+00, -4.27071840e-01])"
      ]
     },
     "execution_count": 134,
     "metadata": {},
     "output_type": "execute_result"
    }
   ],
   "source": [
    "arr"
   ]
  },
  {
   "cell_type": "code",
   "execution_count": 136,
   "metadata": {},
   "outputs": [
    {
     "data": {
      "image/png": "[encoded data removed]",
      "text/plain": [
       "<Figure size 432x288 with 1 Axes>"
      ]
     },
     "metadata": {
      "needs_background": "light"
     },
     "output_type": "display_data"
    }
   ],
   "source": [
    "plt.hist(arr, bins = 100)\n",
    "plt.show()"
   ]
  },
  {
   "cell_type": "code",
   "execution_count": 142,
   "metadata": {},
   "outputs": [
    {
     "data": {
      "image/png": "[encoded data removed]",
      "text/plain": [
       "<Figure size 432x288 with 1 Axes>"
      ]
     },
     "metadata": {
      "needs_background": "light"
     },
     "output_type": "display_data"
    }
   ],
   "source": [
    "plt.hist(title_length, bins = 40)\n",
    "plt.show()"
   ]
  },
  {
   "cell_type": "code",
   "execution_count": 166,
   "metadata": {},
   "outputs": [],
   "source": [
    "marks = np.random.randn(100)*10 + 60"
   ]
  },
  {
   "cell_type": "code",
   "execution_count": 167,
   "metadata": {},
   "outputs": [
    {
     "data": {
      "text/plain": [
       "11.199192573326318"
      ]
     },
     "execution_count": 167,
     "metadata": {},
     "output_type": "execute_result"
    }
   ],
   "source": [
    "np.std(marks)"
   ]
  },
  {
   "cell_type": "code",
   "execution_count": 168,
   "metadata": {},
   "outputs": [
    {
     "data": {
      "text/plain": [
       "59.13591173974838"
      ]
     },
     "execution_count": 168,
     "metadata": {},
     "output_type": "execute_result"
    }
   ],
   "source": [
    "np.mean(marks)"
   ]
  },
  {
   "cell_type": "code",
   "execution_count": 169,
   "metadata": {},
   "outputs": [],
   "source": [
    "base_marks = [(each - 60)/10 for each in marks]"
   ]
  },
  {
   "cell_type": "code",
   "execution_count": 172,
   "metadata": {},
   "outputs": [
    {
     "data": {
      "image/png": "[encoded data removed]",
      "text/plain": [
       "<Figure size 432x288 with 1 Axes>"
      ]
     },
     "metadata": {
      "needs_background": "light"
     },
     "output_type": "display_data"
    }
   ],
   "source": [
    "plt.hist(base_marks, bins = 5, label = \"standard normal distribution\")\n",
    "plt.hist(marks, bins = 5, label = \"normal distribution\")\n",
    "plt.legend()\n",
    "plt.show()"
   ]
  },
  {
   "cell_type": "code",
   "execution_count": 173,
   "metadata": {},
   "outputs": [],
   "source": [
    "plt.hist?"
   ]
  },
  {
   "cell_type": "code",
   "execution_count": 174,
   "metadata": {},
   "outputs": [],
   "source": [
    "# multivriate normal distribution"
   ]
  },
  {
   "cell_type": "code",
   "execution_count": 267,
   "metadata": {},
   "outputs": [],
   "source": [
    "apple_data = np.random.multivariate_normal(mean = [4, 6], cov = [[1, 0.6], [0.6, 1]], size = 1000)\n",
    "orange_data = np.random.multivariate_normal(mean = [6, 9], cov = [[1, -0.5], [-0.5, 1]], size = 1000)"
   ]
  },
  {
   "cell_type": "code",
   "execution_count": 268,
   "metadata": {},
   "outputs": [
    {
     "data": {
      "image/png": "[encoded data removed]",
      "text/plain": [
       "<Figure size 432x288 with 1 Axes>"
      ]
     },
     "metadata": {
      "needs_background": "light"
     },
     "output_type": "display_data"
    }
   ],
   "source": [
    "plt.scatter(apple_data[:, 0], apple_data[:, 1], c = \"red\")\n",
    "plt.scatter(orange_data[:, 0], orange_data[:, 1], c = \"orange\")\n",
    "\n",
    "plt.xlabel(\"sweetness\")\n",
    "plt.ylabel(\"nutritions\")\n",
    "plt.show()"
   ]
  },
  {
   "cell_type": "markdown",
   "metadata": {},
   "source": [
    "## KNN\n",
    "#### data prep"
   ]
  },
  {
   "cell_type": "code",
   "execution_count": 269,
   "metadata": {},
   "outputs": [],
   "source": [
    "total_fruits = apple_data.shape[0] + orange_data.shape[0]"
   ]
  },
  {
   "cell_type": "code",
   "execution_count": 270,
   "metadata": {},
   "outputs": [
    {
     "name": "stdout",
     "output_type": "stream",
     "text": [
      "2000\n"
     ]
    }
   ],
   "source": [
    "print(total_fruits)"
   ]
  },
  {
   "cell_type": "code",
   "execution_count": 271,
   "metadata": {},
   "outputs": [],
   "source": [
    "x = np.zeros((total_fruits, 3))"
   ]
  },
  {
   "cell_type": "code",
   "execution_count": 272,
   "metadata": {},
   "outputs": [],
   "source": [
    "x[:1000, :-1] = apple_data\n",
    "x[1000:, :-1] = orange_data"
   ]
  },
  {
   "cell_type": "code",
   "execution_count": 273,
   "metadata": {},
   "outputs": [],
   "source": [
    "x[1000:, -1] = 1"
   ]
  },
  {
   "cell_type": "code",
   "execution_count": 274,
   "metadata": {},
   "outputs": [],
   "source": [
    "X = x[:, :-1]\n",
    "Y = x[:, -1]"
   ]
  },
  {
   "cell_type": "code",
   "execution_count": 275,
   "metadata": {},
   "outputs": [],
   "source": [
    "def distance(p1, p2):\n",
    "    return np.sum((p2 - p1)**2)**.5"
   ]
  },
  {
   "cell_type": "code",
   "execution_count": 290,
   "metadata": {},
   "outputs": [],
   "source": [
    "def knn(X, Y, test, k = 5):\n",
    "    m = X.shape[0]\n",
    "    l = []\n",
    "    for i in range(m):\n",
    "        l.append((distance(test, X[i]), Y[i]))\n",
    "        \n",
    "    l = np.array(sorted(l))[:, 1]\n",
    "    # take the K nearest points\n",
    "    l = l[:k]\n",
    "    t = np.unique(l, return_counts = True)\n",
    "    \n",
    "    idx = np.argmax(t[1])\n",
    "    pred = int(t[0][idx])\n",
    "    \n",
    "    if pred == 0:\n",
    "        return \"Apple\"\n",
    "    else:\n",
    "        return \"Orange\"\n",
    "    \n",
    "    \n",
    "    \n",
    "    "
   ]
  },
  {
   "cell_type": "code",
   "execution_count": 291,
   "metadata": {},
   "outputs": [
    {
     "data": {
      "text/plain": [
       "'Orange'"
      ]
     },
     "execution_count": 291,
     "metadata": {},
     "output_type": "execute_result"
    }
   ],
   "source": [
    "\n",
    "knn(X, Y, np.array([6.5, 6.5]))"
   ]
  },
  {
   "cell_type": "code",
   "execution_count": null,
   "metadata": {},
   "outputs": [],
   "source": []
  }
 ],
 "metadata": {
  "kernelspec": {
   "display_name": "Python 3",
   "language": "python",
   "name": "python3"
  },
  "language_info": {
   "codemirror_mode": {
    "name": "ipython",
    "version": 3
   },
   "file_extension": ".py",
   "mimetype": "text/x-python",
   "name": "python",
   "nbconvert_exporter": "python",
   "pygments_lexer": "ipython3",
   "version": "3.6.7"
  }
 },
 "nbformat": 4,
 "nbformat_minor": 2
}
