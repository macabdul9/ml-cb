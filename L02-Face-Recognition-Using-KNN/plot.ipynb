{
 "cells": [
  {
   "cell_type": "code",
   "execution_count": 2,
   "metadata": {},
   "outputs": [],
   "source": [
    "countries = ([\"India\", \"UK\"])\n",
    "capitals = ([\"New Delhi\", \"London\"])"
   ]
  },
  {
   "cell_type": "code",
   "execution_count": 3,
   "metadata": {},
   "outputs": [],
   "source": [
    "#d = dict(zip(countries , capitals))"
   ]
  },
  {
   "cell_type": "code",
   "execution_count": 4,
   "metadata": {},
   "outputs": [
    {
     "ename": "NameError",
     "evalue": "name 'd' is not defined",
     "output_type": "error",
     "traceback": [
      "\u001b[0;31m---------------------------------------------------------------------------\u001b[0m",
      "\u001b[0;31mNameError\u001b[0m                                 Traceback (most recent call last)",
      "\u001b[0;32m<ipython-input-4-c0f6703a6fe5>\u001b[0m in \u001b[0;36m<module>\u001b[0;34m\u001b[0m\n\u001b[0;32m----> 1\u001b[0;31m \u001b[0mtype\u001b[0m\u001b[0;34m(\u001b[0m\u001b[0md\u001b[0m\u001b[0;34m)\u001b[0m\u001b[0;34m\u001b[0m\u001b[0;34m\u001b[0m\u001b[0m\n\u001b[0m",
      "\u001b[0;31mNameError\u001b[0m: name 'd' is not defined"
     ]
    }
   ],
   "source": [
    "type(d)"
   ]
  },
  {
   "cell_type": "code",
   "execution_count": 5,
   "metadata": {},
   "outputs": [
    {
     "ename": "NameError",
     "evalue": "name 'd' is not defined",
     "output_type": "error",
     "traceback": [
      "\u001b[0;31m---------------------------------------------------------------------------\u001b[0m",
      "\u001b[0;31mNameError\u001b[0m                                 Traceback (most recent call last)",
      "\u001b[0;32m<ipython-input-5-e983f374794d>\u001b[0m in \u001b[0;36m<module>\u001b[0;34m\u001b[0m\n\u001b[0;32m----> 1\u001b[0;31m \u001b[0md\u001b[0m\u001b[0;34m\u001b[0m\u001b[0;34m\u001b[0m\u001b[0m\n\u001b[0m",
      "\u001b[0;31mNameError\u001b[0m: name 'd' is not defined"
     ]
    }
   ],
   "source": [
    "d"
   ]
  },
  {
   "cell_type": "code",
   "execution_count": 6,
   "metadata": {},
   "outputs": [],
   "source": [
    "import numpy as np"
   ]
  },
  {
   "cell_type": "code",
   "execution_count": 7,
   "metadata": {},
   "outputs": [
    {
     "data": {
      "text/plain": [
       "(3, 3)"
      ]
     },
     "execution_count": 7,
     "metadata": {},
     "output_type": "execute_result"
    }
   ],
   "source": [
    "arr = np.asarray([[1, 2, 3],[4, 5, 6],[7, 8, 9]], dtype = np.float64)\n",
    "arr.shape"
   ]
  },
  {
   "cell_type": "code",
   "execution_count": 8,
   "metadata": {},
   "outputs": [],
   "source": [
    "import matplotlib.pyplot as plt"
   ]
  },
  {
   "cell_type": "code",
   "execution_count": 9,
   "metadata": {},
   "outputs": [],
   "source": [
    "x = np.asarray([1, 2, 3, 4, 5 ])\n",
    "y = np.asarray([5, 6, 7, 8, 5 ])"
   ]
  },
  {
   "cell_type": "code",
   "execution_count": 10,
   "metadata": {},
   "outputs": [
    {
     "data": {
      "image/png": "[encoded data removed]",
      "text/plain": [
       "<Figure size 432x288 with 1 Axes>"
      ]
     },
     "metadata": {
      "needs_background": "light"
     },
     "output_type": "display_data"
    }
   ],
   "source": [
    "plt.plot(x, y)\n",
    "plt.xlabel(\"x-axis\")\n",
    "plt.ylabel('y-axis')\n",
    "plt.show()"
   ]
  },
  {
   "cell_type": "code",
   "execution_count": 11,
   "metadata": {},
   "outputs": [],
   "source": [
    "import pandas as pd"
   ]
  },
  {
   "cell_type": "code",
   "execution_count": 12,
   "metadata": {},
   "outputs": [
    {
     "ename": "FileNotFoundError",
     "evalue": "[Errno 2] File b'movie_metadata.csv' does not exist: b'movie_metadata.csv'",
     "output_type": "error",
     "traceback": [
      "\u001b[0;31m---------------------------------------------------------------------------\u001b[0m",
      "\u001b[0;31mFileNotFoundError\u001b[0m                         Traceback (most recent call last)",
      "\u001b[0;32m<ipython-input-12-6721173df71c>\u001b[0m in \u001b[0;36m<module>\u001b[0;34m\u001b[0m\n\u001b[0;32m----> 1\u001b[0;31m \u001b[0mdf\u001b[0m \u001b[0;34m=\u001b[0m \u001b[0mpd\u001b[0m\u001b[0;34m.\u001b[0m\u001b[0mread_csv\u001b[0m\u001b[0;34m(\u001b[0m\u001b[0;34m\"movie_metadata.csv\"\u001b[0m\u001b[0;34m)\u001b[0m\u001b[0;34m\u001b[0m\u001b[0;34m\u001b[0m\u001b[0m\n\u001b[0m",
      "\u001b[0;32m~/.local/lib/python3.6/site-packages/pandas/io/parsers.py\u001b[0m in \u001b[0;36mparser_f\u001b[0;34m(filepath_or_buffer, sep, delimiter, header, names, index_col, usecols, squeeze, prefix, mangle_dupe_cols, dtype, engine, converters, true_values, false_values, skipinitialspace, skiprows, skipfooter, nrows, na_values, keep_default_na, na_filter, verbose, skip_blank_lines, parse_dates, infer_datetime_format, keep_date_col, date_parser, dayfirst, iterator, chunksize, compression, thousands, decimal, lineterminator, quotechar, quoting, doublequote, escapechar, comment, encoding, dialect, tupleize_cols, error_bad_lines, warn_bad_lines, delim_whitespace, low_memory, memory_map, float_precision)\u001b[0m\n\u001b[1;32m    700\u001b[0m                     skip_blank_lines=skip_blank_lines)\n\u001b[1;32m    701\u001b[0m \u001b[0;34m\u001b[0m\u001b[0m\n\u001b[0;32m--> 702\u001b[0;31m         \u001b[0;32mreturn\u001b[0m \u001b[0m_read\u001b[0m\u001b[0;34m(\u001b[0m\u001b[0mfilepath_or_buffer\u001b[0m\u001b[0;34m,\u001b[0m \u001b[0mkwds\u001b[0m\u001b[0;34m)\u001b[0m\u001b[0;34m\u001b[0m\u001b[0;34m\u001b[0m\u001b[0m\n\u001b[0m\u001b[1;32m    703\u001b[0m \u001b[0;34m\u001b[0m\u001b[0m\n\u001b[1;32m    704\u001b[0m     \u001b[0mparser_f\u001b[0m\u001b[0;34m.\u001b[0m\u001b[0m__name__\u001b[0m \u001b[0;34m=\u001b[0m \u001b[0mname\u001b[0m\u001b[0;34m\u001b[0m\u001b[0;34m\u001b[0m\u001b[0m\n",
      "\u001b[0;32m~/.local/lib/python3.6/site-packages/pandas/io/parsers.py\u001b[0m in \u001b[0;36m_read\u001b[0;34m(filepath_or_buffer, kwds)\u001b[0m\n\u001b[1;32m    427\u001b[0m \u001b[0;34m\u001b[0m\u001b[0m\n\u001b[1;32m    428\u001b[0m     \u001b[0;31m# Create the parser.\u001b[0m\u001b[0;34m\u001b[0m\u001b[0;34m\u001b[0m\u001b[0;34m\u001b[0m\u001b[0m\n\u001b[0;32m--> 429\u001b[0;31m     \u001b[0mparser\u001b[0m \u001b[0;34m=\u001b[0m \u001b[0mTextFileReader\u001b[0m\u001b[0;34m(\u001b[0m\u001b[0mfilepath_or_buffer\u001b[0m\u001b[0;34m,\u001b[0m \u001b[0;34m**\u001b[0m\u001b[0mkwds\u001b[0m\u001b[0;34m)\u001b[0m\u001b[0;34m\u001b[0m\u001b[0;34m\u001b[0m\u001b[0m\n\u001b[0m\u001b[1;32m    430\u001b[0m \u001b[0;34m\u001b[0m\u001b[0m\n\u001b[1;32m    431\u001b[0m     \u001b[0;32mif\u001b[0m \u001b[0mchunksize\u001b[0m \u001b[0;32mor\u001b[0m \u001b[0miterator\u001b[0m\u001b[0;34m:\u001b[0m\u001b[0;34m\u001b[0m\u001b[0;34m\u001b[0m\u001b[0m\n",
      "\u001b[0;32m~/.local/lib/python3.6/site-packages/pandas/io/parsers.py\u001b[0m in \u001b[0;36m__init__\u001b[0;34m(self, f, engine, **kwds)\u001b[0m\n\u001b[1;32m    893\u001b[0m             \u001b[0mself\u001b[0m\u001b[0;34m.\u001b[0m\u001b[0moptions\u001b[0m\u001b[0;34m[\u001b[0m\u001b[0;34m'has_index_names'\u001b[0m\u001b[0;34m]\u001b[0m \u001b[0;34m=\u001b[0m \u001b[0mkwds\u001b[0m\u001b[0;34m[\u001b[0m\u001b[0;34m'has_index_names'\u001b[0m\u001b[0;34m]\u001b[0m\u001b[0;34m\u001b[0m\u001b[0;34m\u001b[0m\u001b[0m\n\u001b[1;32m    894\u001b[0m \u001b[0;34m\u001b[0m\u001b[0m\n\u001b[0;32m--> 895\u001b[0;31m         \u001b[0mself\u001b[0m\u001b[0;34m.\u001b[0m\u001b[0m_make_engine\u001b[0m\u001b[0;34m(\u001b[0m\u001b[0mself\u001b[0m\u001b[0;34m.\u001b[0m\u001b[0mengine\u001b[0m\u001b[0;34m)\u001b[0m\u001b[0;34m\u001b[0m\u001b[0;34m\u001b[0m\u001b[0m\n\u001b[0m\u001b[1;32m    896\u001b[0m \u001b[0;34m\u001b[0m\u001b[0m\n\u001b[1;32m    897\u001b[0m     \u001b[0;32mdef\u001b[0m \u001b[0mclose\u001b[0m\u001b[0;34m(\u001b[0m\u001b[0mself\u001b[0m\u001b[0;34m)\u001b[0m\u001b[0;34m:\u001b[0m\u001b[0;34m\u001b[0m\u001b[0;34m\u001b[0m\u001b[0m\n",
      "\u001b[0;32m~/.local/lib/python3.6/site-packages/pandas/io/parsers.py\u001b[0m in \u001b[0;36m_make_engine\u001b[0;34m(self, engine)\u001b[0m\n\u001b[1;32m   1120\u001b[0m     \u001b[0;32mdef\u001b[0m \u001b[0m_make_engine\u001b[0m\u001b[0;34m(\u001b[0m\u001b[0mself\u001b[0m\u001b[0;34m,\u001b[0m \u001b[0mengine\u001b[0m\u001b[0;34m=\u001b[0m\u001b[0;34m'c'\u001b[0m\u001b[0;34m)\u001b[0m\u001b[0;34m:\u001b[0m\u001b[0;34m\u001b[0m\u001b[0;34m\u001b[0m\u001b[0m\n\u001b[1;32m   1121\u001b[0m         \u001b[0;32mif\u001b[0m \u001b[0mengine\u001b[0m \u001b[0;34m==\u001b[0m \u001b[0;34m'c'\u001b[0m\u001b[0;34m:\u001b[0m\u001b[0;34m\u001b[0m\u001b[0;34m\u001b[0m\u001b[0m\n\u001b[0;32m-> 1122\u001b[0;31m             \u001b[0mself\u001b[0m\u001b[0;34m.\u001b[0m\u001b[0m_engine\u001b[0m \u001b[0;34m=\u001b[0m \u001b[0mCParserWrapper\u001b[0m\u001b[0;34m(\u001b[0m\u001b[0mself\u001b[0m\u001b[0;34m.\u001b[0m\u001b[0mf\u001b[0m\u001b[0;34m,\u001b[0m \u001b[0;34m**\u001b[0m\u001b[0mself\u001b[0m\u001b[0;34m.\u001b[0m\u001b[0moptions\u001b[0m\u001b[0;34m)\u001b[0m\u001b[0;34m\u001b[0m\u001b[0;34m\u001b[0m\u001b[0m\n\u001b[0m\u001b[1;32m   1123\u001b[0m         \u001b[0;32melse\u001b[0m\u001b[0;34m:\u001b[0m\u001b[0;34m\u001b[0m\u001b[0;34m\u001b[0m\u001b[0m\n\u001b[1;32m   1124\u001b[0m             \u001b[0;32mif\u001b[0m \u001b[0mengine\u001b[0m \u001b[0;34m==\u001b[0m \u001b[0;34m'python'\u001b[0m\u001b[0;34m:\u001b[0m\u001b[0;34m\u001b[0m\u001b[0;34m\u001b[0m\u001b[0m\n",
      "\u001b[0;32m~/.local/lib/python3.6/site-packages/pandas/io/parsers.py\u001b[0m in \u001b[0;36m__init__\u001b[0;34m(self, src, **kwds)\u001b[0m\n\u001b[1;32m   1851\u001b[0m         \u001b[0mkwds\u001b[0m\u001b[0;34m[\u001b[0m\u001b[0;34m'usecols'\u001b[0m\u001b[0;34m]\u001b[0m \u001b[0;34m=\u001b[0m \u001b[0mself\u001b[0m\u001b[0;34m.\u001b[0m\u001b[0musecols\u001b[0m\u001b[0;34m\u001b[0m\u001b[0;34m\u001b[0m\u001b[0m\n\u001b[1;32m   1852\u001b[0m \u001b[0;34m\u001b[0m\u001b[0m\n\u001b[0;32m-> 1853\u001b[0;31m         \u001b[0mself\u001b[0m\u001b[0;34m.\u001b[0m\u001b[0m_reader\u001b[0m \u001b[0;34m=\u001b[0m \u001b[0mparsers\u001b[0m\u001b[0;34m.\u001b[0m\u001b[0mTextReader\u001b[0m\u001b[0;34m(\u001b[0m\u001b[0msrc\u001b[0m\u001b[0;34m,\u001b[0m \u001b[0;34m**\u001b[0m\u001b[0mkwds\u001b[0m\u001b[0;34m)\u001b[0m\u001b[0;34m\u001b[0m\u001b[0;34m\u001b[0m\u001b[0m\n\u001b[0m\u001b[1;32m   1854\u001b[0m         \u001b[0mself\u001b[0m\u001b[0;34m.\u001b[0m\u001b[0munnamed_cols\u001b[0m \u001b[0;34m=\u001b[0m \u001b[0mself\u001b[0m\u001b[0;34m.\u001b[0m\u001b[0m_reader\u001b[0m\u001b[0;34m.\u001b[0m\u001b[0munnamed_cols\u001b[0m\u001b[0;34m\u001b[0m\u001b[0;34m\u001b[0m\u001b[0m\n\u001b[1;32m   1855\u001b[0m \u001b[0;34m\u001b[0m\u001b[0m\n",
      "\u001b[0;32mpandas/_libs/parsers.pyx\u001b[0m in \u001b[0;36mpandas._libs.parsers.TextReader.__cinit__\u001b[0;34m()\u001b[0m\n",
      "\u001b[0;32mpandas/_libs/parsers.pyx\u001b[0m in \u001b[0;36mpandas._libs.parsers.TextReader._setup_parser_source\u001b[0;34m()\u001b[0m\n",
      "\u001b[0;31mFileNotFoundError\u001b[0m: [Errno 2] File b'movie_metadata.csv' does not exist: b'movie_metadata.csv'"
     ]
    }
   ],
   "source": [
    "df = pd.read_csv(\"movie_metadata.csv\")"
   ]
  },
  {
   "cell_type": "code",
   "execution_count": null,
   "metadata": {},
   "outputs": [],
   "source": [
    "df.head()"
   ]
  },
  {
   "cell_type": "code",
   "execution_count": null,
   "metadata": {},
   "outputs": [],
   "source": [
    "title = np.asarray(df.movie_title)"
   ]
  },
  {
   "cell_type": "code",
   "execution_count": 13,
   "metadata": {},
   "outputs": [
    {
     "ename": "NameError",
     "evalue": "name 'title' is not defined",
     "output_type": "error",
     "traceback": [
      "\u001b[0;31m---------------------------------------------------------------------------\u001b[0m",
      "\u001b[0;31mNameError\u001b[0m                                 Traceback (most recent call last)",
      "\u001b[0;32m<ipython-input-13-2377b7d1ada4>\u001b[0m in \u001b[0;36m<module>\u001b[0;34m\u001b[0m\n\u001b[1;32m      1\u001b[0m \u001b[0mtitle_length\u001b[0m \u001b[0;34m=\u001b[0m \u001b[0mlist\u001b[0m\u001b[0;34m(\u001b[0m\u001b[0;34m)\u001b[0m\u001b[0;34m\u001b[0m\u001b[0;34m\u001b[0m\u001b[0m\n\u001b[0;32m----> 2\u001b[0;31m \u001b[0;32mfor\u001b[0m \u001b[0meach\u001b[0m \u001b[0;32min\u001b[0m \u001b[0mtitle\u001b[0m\u001b[0;34m:\u001b[0m\u001b[0;34m\u001b[0m\u001b[0;34m\u001b[0m\u001b[0m\n\u001b[0m\u001b[1;32m      3\u001b[0m     \u001b[0mtitle_length\u001b[0m\u001b[0;34m.\u001b[0m\u001b[0mappend\u001b[0m\u001b[0;34m(\u001b[0m\u001b[0mlen\u001b[0m\u001b[0;34m(\u001b[0m\u001b[0meach\u001b[0m\u001b[0;34m)\u001b[0m\u001b[0;34m)\u001b[0m\u001b[0;34m\u001b[0m\u001b[0;34m\u001b[0m\u001b[0m\n",
      "\u001b[0;31mNameError\u001b[0m: name 'title' is not defined"
     ]
    }
   ],
   "source": [
    "title_length = list()\n",
    "for each in title:\n",
    "    title_length.append(len(each))"
   ]
  },
  {
   "cell_type": "code",
   "execution_count": 14,
   "metadata": {},
   "outputs": [],
   "source": [
    "title_dict = dict()\n",
    "for each in title_length:\n",
    "    if each in title_dict:\n",
    "        title_dict[each] += 1\n",
    "    else:\n",
    "        title_dict[each] = 1"
   ]
  },
  {
   "cell_type": "code",
   "execution_count": 15,
   "metadata": {},
   "outputs": [],
   "source": [
    "plt.plot?"
   ]
  },
  {
   "cell_type": "code",
   "execution_count": 16,
   "metadata": {},
   "outputs": [
    {
     "data": {
      "image/png": "[encoded data removed]",
      "text/plain": [
       "<Figure size 432x288 with 1 Axes>"
      ]
     },
     "metadata": {
      "needs_background": "light"
     },
     "output_type": "display_data"
    }
   ],
   "source": [
    "plt.plot(list(title_dict.keys()), list(title_dict.values()))\n",
    "plt.xlabel(\"movies length\")\n",
    "plt.ylabel(\"no of movies\")\n",
    "plt.show()"
   ]
  },
  {
   "cell_type": "code",
   "execution_count": 17,
   "metadata": {},
   "outputs": [
    {
     "name": "stderr",
     "output_type": "stream",
     "text": [
      "/home/macab/.local/lib/python3.6/site-packages/numpy/core/fromnumeric.py:3118: RuntimeWarning: Mean of empty slice.\n",
      "  out=out, **kwargs)\n",
      "/home/macab/.local/lib/python3.6/site-packages/numpy/core/_methods.py:85: RuntimeWarning: invalid value encountered in double_scalars\n",
      "  ret = ret.dtype.type(ret / rcount)\n"
     ]
    },
    {
     "data": {
      "text/plain": [
       "nan"
      ]
     },
     "execution_count": 17,
     "metadata": {},
     "output_type": "execute_result"
    }
   ],
   "source": [
    "np.mean(list(title_dict.values()))"
   ]
  },
  {
   "cell_type": "code",
   "execution_count": 18,
   "metadata": {},
   "outputs": [
    {
     "data": {
      "text/plain": [
       "nan"
      ]
     },
     "execution_count": 18,
     "metadata": {},
     "output_type": "execute_result"
    }
   ],
   "source": [
    "np.mean(np.array(title_length))"
   ]
  },
  {
   "cell_type": "code",
   "execution_count": 19,
   "metadata": {},
   "outputs": [
    {
     "data": {
      "text/plain": [
       "nan"
      ]
     },
     "execution_count": 19,
     "metadata": {},
     "output_type": "execute_result"
    }
   ],
   "source": [
    "np.mean(list(title_dict.keys()))"
   ]
  },
  {
   "cell_type": "code",
   "execution_count": 20,
   "metadata": {},
   "outputs": [],
   "source": [
    "plt.hist?"
   ]
  },
  {
   "cell_type": "code",
   "execution_count": 21,
   "metadata": {},
   "outputs": [],
   "source": [
    "arr = np.random.randn(1000)"
   ]
  },
  {
   "cell_type": "code",
   "execution_count": 22,
   "metadata": {},
   "outputs": [
    {
     "data": {
      "text/plain": [
       "array([-1.41975661e+00,  3.28837339e-01, -2.87884654e-01, -1.20060775e+00,\n",
       "       -2.06371385e+00,  8.88963942e-01,  5.95490882e-01, -1.45295866e+00,\n",
       "       -6.84979348e-01,  3.88541262e-01,  2.10365630e-01,  2.44833935e+00,\n",
       "       -1.07006145e+00,  1.88711596e+00,  6.63485109e-01,  2.20390611e-01,\n",
       "       -1.66563610e-01,  3.27507357e-01,  1.15785032e+00, -1.71323833e+00,\n",
       "        6.84298390e-01,  1.33051293e+00,  6.57472626e-01,  7.88276561e-01,\n",
       "       -9.16761932e-01,  7.11655897e-01,  1.04454853e+00, -2.62756662e-01,\n",
       "       -3.89295783e-01, -5.65542136e-01,  1.40733286e+00, -1.47964516e-01,\n",
       "       -7.19635184e-02,  1.16752279e+00, -3.50760505e-01,  4.55070067e-01,\n",
       "       -1.58623786e+00, -4.94964014e-01, -6.70928914e-01,  5.20899820e-01,\n",
       "       -8.38005611e-01, -3.08879788e-01,  3.90959935e-02,  3.46474872e-01,\n",
       "        1.65652059e+00, -2.12929334e-02,  1.81198989e+00,  1.80200629e+00,\n",
       "       -4.58983041e-01, -1.50235727e+00, -3.22914790e-01,  5.72571520e-01,\n",
       "       -1.31890804e+00, -1.02083309e+00, -2.54565581e-03,  4.92064759e-01,\n",
       "        4.48792341e-01,  7.04517653e-01,  8.25420755e-01,  4.71785783e-01,\n",
       "       -1.56898303e+00,  8.55404646e-01,  1.49331523e+00, -2.72376398e-01,\n",
       "        1.54258261e-01,  4.17030463e-01, -2.62441552e-01,  3.20823308e-01,\n",
       "       -9.03549613e-02, -9.64690485e-01,  7.58331746e-01,  1.49435715e+00,\n",
       "       -2.17235207e+00,  7.99388748e-01, -2.35280405e-01,  1.55328078e-01,\n",
       "        1.50433054e-01,  6.05191517e-01, -5.25279835e-01, -1.29886630e+00,\n",
       "        2.53366397e+00,  7.00047490e-01, -1.27204439e-01, -3.66075474e-01,\n",
       "       -4.43291184e-01,  2.08169830e-02, -1.59590269e+00,  3.10075538e-01,\n",
       "       -3.92060172e-01,  1.55637526e+00, -3.41549102e-01, -1.37717773e+00,\n",
       "       -1.55627090e+00,  5.96464946e-01, -1.52790442e+00, -4.04035380e-01,\n",
       "        5.05538852e-02,  8.00486988e-01, -9.25120767e-01, -6.34545153e-01,\n",
       "       -9.90322889e-01,  8.29198975e-01,  1.19231142e+00, -8.21505605e-01,\n",
       "       -4.64135890e-01, -6.90989790e-02,  2.09944938e+00,  1.11830191e-01,\n",
       "       -1.05675685e+00,  1.00764287e-01,  3.84027640e-01, -1.01419659e+00,\n",
       "       -1.41929969e+00, -7.21911267e-01,  6.54216998e-02,  1.70558333e-01,\n",
       "       -2.30377334e+00, -3.53311420e-01,  7.23226842e-01, -1.16139991e+00,\n",
       "        5.09954547e-01, -5.00135494e-01, -7.66415550e-01,  3.96922012e-01,\n",
       "       -6.59430036e-01,  4.92163908e-01, -2.96673150e+00, -1.03933537e-01,\n",
       "       -9.33958777e-02,  3.35083823e-01, -3.50820812e-01, -5.40298025e-01,\n",
       "       -9.62535197e-01,  1.49348603e-01, -1.72615904e+00,  2.62905569e-02,\n",
       "        9.28376445e-01,  4.74089400e-01, -3.09080854e-01, -6.45202154e-01,\n",
       "       -3.70006918e-01,  8.35910546e-01, -4.55148901e-01,  1.10205862e+00,\n",
       "        5.35600427e-01, -1.15389577e+00, -1.21736797e-01,  6.09414488e-01,\n",
       "        1.51334543e-01,  1.12608732e-01, -1.24767674e+00, -2.10324496e+00,\n",
       "        7.62895854e-02, -1.43493946e+00, -2.08162473e-01,  7.63931806e-01,\n",
       "        1.01988859e+00,  1.32274859e-01,  9.76883909e-01, -4.08835879e-01,\n",
       "       -3.88190721e-01, -8.50785782e-03,  1.22389322e+00,  3.14106027e-01,\n",
       "        5.53596663e-01, -7.65182709e-01,  6.53612779e-02,  7.20852903e-01,\n",
       "        2.53325689e+00, -1.94698836e+00, -2.72534066e-01,  4.50780165e-01,\n",
       "       -5.62186516e-01, -1.75785270e+00,  4.00912500e-01,  1.56193868e+00,\n",
       "       -3.50255235e-01,  2.38902609e-01,  4.38724638e-01,  2.15295053e-02,\n",
       "        1.19221631e+00,  1.22325959e+00,  1.13395104e+00,  1.63870359e-01,\n",
       "        2.45959518e+00,  8.38923201e-01, -2.22330600e-01,  9.08173580e-01,\n",
       "       -2.10622605e+00, -6.83659253e-01, -1.14937510e+00,  4.94617378e-01,\n",
       "        1.14781361e-01,  1.55653647e+00, -4.00350805e-01, -3.59218680e-01,\n",
       "        1.25784007e-01,  9.11648924e-01,  3.72222045e-01, -1.05340407e+00,\n",
       "       -4.70732886e-01, -2.15970533e+00,  8.83379803e-02,  5.32925857e-01,\n",
       "       -9.36089627e-01, -8.82602555e-01,  1.03358025e+00, -1.92551656e-01,\n",
       "       -9.63714926e-01, -7.83759321e-01, -9.75063562e-01, -3.98613885e-02,\n",
       "        1.99040832e-01,  7.99499662e-01,  1.94010446e-01, -3.24756048e-01,\n",
       "       -4.28557397e-01,  5.87073894e-01, -1.73497450e+00, -1.62302674e+00,\n",
       "        1.22082537e+00, -1.48072131e+00, -6.13024818e-02,  1.66657888e-01,\n",
       "        5.11210460e-01,  1.32822752e-01,  9.94429590e-01,  9.76618414e-01,\n",
       "        3.46290797e-01, -1.46573364e+00, -3.20461391e-01, -2.04306249e+00,\n",
       "        9.63958002e-01,  5.75436402e-02,  6.92765777e-01, -7.38778111e-01,\n",
       "       -1.01008930e+00, -3.62584514e-01,  6.72451379e-01, -9.60021688e-01,\n",
       "       -6.03326595e-01,  9.30882198e-02,  3.08288941e-01, -1.13312120e+00,\n",
       "       -3.27278767e-01, -2.35126004e+00,  1.02063813e+00, -2.59883230e-01,\n",
       "        7.23859165e-01, -1.07415409e+00, -1.28223428e+00,  1.07084853e+00,\n",
       "        8.00074726e-01, -2.91333353e-01, -1.20436662e-01, -8.61266006e-01,\n",
       "       -1.41280878e-01, -2.02524997e+00, -7.97291723e-02,  4.94864436e-01,\n",
       "        3.82758730e-01, -1.29542863e-01,  1.13694659e+00,  2.16158907e-01,\n",
       "       -5.24026150e-01,  3.53054630e-01, -6.14290953e-01,  1.87047794e+00,\n",
       "       -1.30782300e+00, -4.53525080e-01,  2.67135259e+00, -7.46435926e-01,\n",
       "        9.35500251e-01, -4.43235647e-01, -3.64034515e-01, -1.24759893e+00,\n",
       "        6.57499337e-01, -8.24363791e-01, -3.55969932e-02,  4.64363484e-01,\n",
       "        1.59186485e+00,  1.92960262e-02,  9.57634702e-01,  1.34601924e+00,\n",
       "       -1.69259651e+00, -3.12784922e-01,  1.42563489e+00,  2.86797608e-01,\n",
       "       -1.12060490e+00,  7.59649006e-01, -5.85961480e-01, -2.32961703e-01,\n",
       "       -1.00160690e+00, -2.71394145e-01,  2.36658336e-01,  1.04667957e+00,\n",
       "        4.94554457e-01, -1.33437842e+00, -1.10460410e+00, -3.76770138e-01,\n",
       "        6.24072687e-01, -6.38158663e-01,  6.08135610e-02, -7.47440064e-01,\n",
       "        2.03118667e-01,  5.36024600e-01,  1.03700657e+00,  1.17736543e+00,\n",
       "        3.83146198e-01, -2.50659470e+00, -3.91298613e-02, -8.02852254e-02,\n",
       "        6.83523971e-02,  7.76435472e-01, -2.67315498e-01,  1.40899056e+00,\n",
       "        1.14258624e+00, -4.52326301e-01,  9.98892927e-01, -2.04672962e-01,\n",
       "       -6.62820951e-01, -8.64705485e-01, -1.25168515e-01,  3.47478804e-01,\n",
       "       -1.62017398e+00, -1.93426191e+00, -2.59286026e-01, -6.90145858e-01,\n",
       "       -1.49141937e+00, -9.25815262e-01,  6.04639535e-01, -3.24796369e-01,\n",
       "       -1.91440318e-01,  1.23131207e+00, -2.75711738e-01,  5.88437357e-01,\n",
       "       -8.89247835e-01,  5.21307775e-01,  2.43256657e-01, -1.14911326e+00,\n",
       "        6.25002170e-02,  6.40094946e-03,  5.64628998e-01, -3.21316669e-01,\n",
       "        2.81679326e+00,  5.48909228e-01, -7.12321581e-01,  3.79596510e-01,\n",
       "        9.82550230e-01,  1.37606555e+00, -5.60108356e-01,  2.48549190e-02,\n",
       "       -1.34190116e+00,  6.62796777e-02, -2.78958828e-01, -2.98823261e-02,\n",
       "       -3.74826994e-01, -2.67452873e-01, -1.67458956e+00,  9.67391204e-01,\n",
       "       -1.01297757e+00,  1.57538556e-01, -2.31944417e-01,  4.53209255e-01,\n",
       "        4.17018293e-01, -8.49937870e-01,  8.34428303e-01,  5.57888401e-01,\n",
       "       -9.87357877e-01,  6.38107253e-01,  8.92227613e-01, -1.37254810e-01,\n",
       "       -1.14905959e+00,  2.15136154e+00,  9.40279022e-02, -3.91285486e-01,\n",
       "       -1.03438019e+00,  6.68854518e-01, -2.65567577e-02, -2.36263654e-02,\n",
       "       -6.83009237e-01,  3.94717219e-01,  1.05218774e+00, -3.07866209e-02,\n",
       "        4.31644265e-01,  6.28127566e-01, -4.53352335e-01,  1.56948809e+00,\n",
       "       -6.67272729e-01, -5.09473657e-01,  2.04173594e-01, -1.84639100e+00,\n",
       "       -4.39100071e-01, -1.18149095e+00, -2.87252930e-01, -1.48790542e+00,\n",
       "        7.96759726e-01, -1.13719934e+00, -1.65048796e+00, -1.09120662e+00,\n",
       "       -8.76133685e-02, -9.45908055e-01,  3.33883377e-01, -6.64850047e-01,\n",
       "        7.51171120e-01,  4.42034548e-01,  4.11924491e-02,  4.05064826e-01,\n",
       "        1.87646905e-01, -2.26000163e-01, -9.00957778e-01, -3.28830293e-01,\n",
       "       -6.62409007e-01, -8.25797477e-01,  9.63034773e-01, -6.62705787e-01,\n",
       "       -4.57568284e-01, -1.09086262e+00,  3.05169698e-01,  1.09357590e+00,\n",
       "       -7.83715566e-01, -6.07466759e-02, -4.63214850e-01,  8.77672612e-01,\n",
       "       -2.05055124e+00, -6.65274948e-01, -1.05401257e+00, -1.00359556e+00,\n",
       "       -9.30098663e-01,  1.09445694e+00, -6.68919621e-02,  2.45395504e-01,\n",
       "       -5.37097730e-01,  1.19361769e+00,  4.08786248e-01,  8.44723481e-01,\n",
       "       -6.53640279e-01,  1.39801815e+00,  6.26288154e-01, -6.19609144e-02,\n",
       "        1.75638858e+00, -4.11814216e-01,  1.17195685e+00,  6.66002198e-01,\n",
       "        2.13397348e+00,  1.72876535e+00, -1.08078533e+00,  1.27883369e+00,\n",
       "        9.99134304e-01, -9.96165156e-02,  1.67748499e+00, -1.41541737e+00,\n",
       "       -3.47747570e-01, -8.25040848e-02, -1.57398774e+00, -9.66485375e-01,\n",
       "        3.92826207e-01,  3.15822387e-01,  3.68668859e-02,  1.49683536e+00,\n",
       "        1.04473614e+00,  1.74246802e+00,  2.61216949e+00, -6.30323888e-02,\n",
       "        1.28605549e-01,  5.20453484e-01, -2.92721934e-01, -7.75489146e-01,\n",
       "       -2.95352801e-01, -1.01476650e+00,  1.90432612e+00,  1.69054601e+00,\n",
       "       -1.64552459e-01, -2.30413036e-01, -5.59519334e-01,  4.12411865e-01,\n",
       "       -4.93616465e-01, -2.30592546e-01, -1.29008272e+00, -1.27387181e+00,\n",
       "       -1.36068339e+00,  1.03089009e+00, -1.51876919e-01, -1.85375820e+00,\n",
       "        3.39552066e-01,  8.90615145e-01,  1.36148502e+00, -2.25563896e-01,\n",
       "        9.30703373e-01, -3.90283148e-01,  6.53389370e-04, -4.37637720e-01,\n",
       "       -4.68727581e-01, -9.06626208e-01,  6.13105939e-01,  5.60999112e-01,\n",
       "       -6.09197516e-01, -1.51322224e+00, -5.51491377e-01,  1.33539033e+00,\n",
       "        1.15733979e+00,  8.68414850e-01, -2.98688899e-01, -2.36029007e-02,\n",
       "       -7.52054313e-01,  1.01708757e+00,  2.30045659e-01, -5.53915375e-01,\n",
       "        4.65219145e-01,  5.09701787e-02,  2.08684204e-01, -1.80447229e-01,\n",
       "       -6.66146107e-01,  3.90460637e-01, -3.94270104e-01, -6.35481084e-01,\n",
       "       -6.00354075e-01, -6.76661779e-01, -9.04420417e-02,  9.55827897e-01,\n",
       "        6.72248127e-01,  6.74895148e-01, -3.95892480e-01,  1.54041504e-01,\n",
       "        7.53113525e-01, -1.52490281e+00, -1.88891219e+00,  5.34277313e-01,\n",
       "       -8.24059016e-01, -1.20233527e+00,  3.62961064e-03,  4.43957954e-01,\n",
       "       -7.48937599e-02, -7.60851632e-01,  9.79159358e-02,  4.97192137e-01,\n",
       "       -1.70883587e+00, -3.33183902e-01, -4.19519767e-01,  3.98251952e-01,\n",
       "        1.57613590e+00,  2.51062262e-01, -1.48117445e+00, -8.34832533e-01,\n",
       "       -1.39731746e+00, -1.88350328e+00,  3.95494154e-01,  1.31775771e+00,\n",
       "        7.27325034e-02,  8.45555855e-01, -6.23249201e-01, -5.11700629e-02,\n",
       "       -1.98278739e-01, -2.41089373e+00, -1.47427736e+00,  2.07054630e-01,\n",
       "        3.92004588e-01,  5.05862480e-01,  5.72295423e-01, -1.73531399e+00,\n",
       "        7.11137522e-01,  3.01783472e-01, -5.60184213e-01,  1.54197746e+00,\n",
       "       -8.47121553e-02,  6.43644934e-01,  6.67778282e-01,  9.55959052e-01,\n",
       "       -4.12815576e-01, -3.77969754e-01, -1.38293505e+00, -2.35527154e+00,\n",
       "        1.72285308e+00,  1.30811155e+00, -1.25613802e-01,  1.14407850e+00,\n",
       "       -5.27951099e-01,  2.85878412e-01,  1.09440052e+00,  1.01517919e+00,\n",
       "        1.07237172e-01,  7.35487452e-01,  6.32517201e-01, -6.97300964e-01,\n",
       "       -5.98553793e-01, -7.10573911e-01, -2.16357654e+00,  1.65224292e+00,\n",
       "       -5.61408219e-01,  2.59783208e+00,  5.01625419e-01,  5.87643389e-01,\n",
       "        4.35530531e-01,  1.37955998e+00,  1.13900710e+00, -7.46412086e-01,\n",
       "        1.20134665e+00, -2.07627094e+00, -1.32336100e+00, -2.65376754e-01,\n",
       "       -7.88901192e-01,  6.82423430e-02,  5.56404659e-02,  2.01826875e-01,\n",
       "        2.16685092e-01,  1.28676875e-01, -1.10716372e+00,  1.62263487e+00,\n",
       "        1.66297843e+00,  1.08183351e+00, -3.29568687e-02,  1.22262391e+00,\n",
       "        6.72327753e-01, -2.00241206e+00, -1.65582211e+00, -1.28215062e+00,\n",
       "       -1.26981938e-01,  8.89679776e-01, -1.92064972e+00,  3.01752549e-01,\n",
       "       -1.15748345e+00,  4.37802921e-01, -1.10010521e+00, -2.66909340e-01,\n",
       "       -3.94702920e-01, -4.32635284e-01, -1.23197790e+00,  8.10384833e-01,\n",
       "        4.57005885e-01,  1.31445626e+00,  2.59755461e+00, -1.45678986e-01,\n",
       "       -3.79988883e-01, -3.67092282e-01, -4.66974260e-01,  2.23848355e-01,\n",
       "       -2.02029723e+00,  3.89350862e-01, -6.16027882e-01,  1.16859864e+00,\n",
       "        1.84694654e-01,  8.80698445e-01, -7.59720224e-01,  3.78641701e-01,\n",
       "       -1.07842865e+00, -1.19731977e+00, -1.62515979e+00,  2.38562410e-01,\n",
       "        6.51132415e-01, -1.12324150e+00,  6.29696501e-01,  5.34061615e-01,\n",
       "       -5.48002317e-01, -1.91317181e-01,  1.15041807e+00, -1.42120226e+00,\n",
       "        2.55643042e-01, -1.84298696e+00, -1.36460385e+00, -1.26957271e+00,\n",
       "       -1.54841796e+00, -3.22598060e-01,  1.06909065e+00,  2.95170622e-01,\n",
       "       -9.00681730e-01,  1.93458224e-01,  7.23268622e-01,  3.91320133e-01,\n",
       "       -4.22144516e-01, -1.42297376e-01,  1.91652267e-01,  7.55665197e-01,\n",
       "       -9.16130216e-01, -1.04101204e+00, -7.48807116e-01,  6.19391296e-02,\n",
       "        5.98758688e-01, -1.89092665e+00,  4.85129040e-02,  5.16700010e-01,\n",
       "       -6.21216768e-01, -5.25396133e-01, -1.33912259e+00,  2.96503110e+00,\n",
       "       -4.69464471e-01, -4.14756601e-01, -2.05459196e+00,  2.02479301e+00,\n",
       "       -2.32774466e-01,  9.31856635e-01, -2.53272423e-01,  3.65682758e-01,\n",
       "        1.32219566e+00,  1.25905381e+00,  1.37094397e+00, -5.76505405e-01,\n",
       "       -7.02918057e-01,  3.29045526e-01, -1.54515903e+00, -2.57246779e+00,\n",
       "       -9.30605693e-01, -1.82168614e-01,  2.10797519e+00,  6.77433298e-01,\n",
       "        6.10821727e-01, -1.61282300e+00,  5.93132189e-02, -2.84733911e-02,\n",
       "       -5.90158362e-01,  1.44231330e+00,  9.04273744e-02,  1.07446313e-01,\n",
       "       -4.98468258e-01,  6.51633774e-01, -1.33978456e+00,  2.15476862e+00,\n",
       "        7.59079406e-01,  7.78795322e-01,  1.12019981e-01, -1.06448301e+00,\n",
       "        7.43976308e-01,  8.52066309e-01,  3.30664213e-01,  9.58683468e-01,\n",
       "        1.32586756e+00, -5.90026358e-01,  1.25859983e-01,  2.07856446e-01,\n",
       "        2.03131962e+00, -3.88344594e-01, -1.26896029e+00, -7.37459658e-01,\n",
       "       -1.48482227e+00,  7.85673041e-01, -7.61986178e-01, -1.48906632e+00,\n",
       "       -4.34123227e-01,  3.03478288e-01, -1.18882978e+00, -1.50456302e+00,\n",
       "        5.30267192e-01,  4.54804104e-01,  7.97469739e-01,  9.14394233e-01,\n",
       "       -6.86221739e-01, -7.35012655e-01,  5.76043222e-01, -8.86679231e-01,\n",
       "        3.39219730e-01, -4.01838313e-01, -8.81768179e-01, -1.13248267e-01,\n",
       "        1.10145288e+00, -2.85932142e-01,  8.43613644e-01, -2.67694239e-03,\n",
       "       -8.61659912e-02, -1.19668716e+00,  2.51472039e+00, -9.33222610e-01,\n",
       "       -3.15839885e-01, -8.57853359e-01,  1.57860368e+00, -4.98944547e-01,\n",
       "       -7.42499196e-02, -8.78240026e-02, -3.76603799e-01, -8.34481187e-01,\n",
       "       -5.33650593e-01,  2.81940485e+00,  8.91649804e-01, -1.73689194e-01,\n",
       "        3.50363689e-01,  1.14308815e+00,  8.13993179e-01,  9.04366358e-01,\n",
       "        6.03641220e-01,  7.30098195e-01,  1.93150059e+00,  2.84314740e-01,\n",
       "        5.81214739e-01,  1.39073848e+00,  1.28962272e+00, -1.33783533e+00,\n",
       "        6.10020621e-01, -4.33293602e-01, -4.94700446e-01,  3.72327533e-02,\n",
       "       -3.57007816e-01, -7.21679847e-01,  3.96430627e-01,  2.88323862e-01,\n",
       "        8.25579908e-01, -6.84241063e-01, -6.00132621e-02,  9.93269922e-01,\n",
       "       -9.94193109e-01, -1.38212881e+00,  1.93461474e+00,  6.89346622e-01,\n",
       "        1.02548825e-01, -3.95946081e-01,  4.22399667e-01,  1.24377398e-01,\n",
       "        1.31012985e+00, -4.81309157e-01,  1.93884417e-01, -8.48024208e-01,\n",
       "       -3.88405390e-01, -3.54062898e-01,  3.43863075e-01, -2.86119702e-01,\n",
       "       -1.59505536e+00, -8.59806086e-01,  1.95227010e-01, -1.19397560e+00,\n",
       "       -4.94136835e-01,  1.23472107e+00,  5.52616821e-01,  4.85179002e-01,\n",
       "        1.69837050e+00,  2.31618070e+00,  9.22699604e-01,  5.26245068e-01,\n",
       "        1.10677921e-01,  7.81511260e-01,  1.42253956e+00, -1.12003287e+00,\n",
       "       -2.80868075e+00,  6.52872934e-01,  1.98329032e+00,  1.75301793e-01,\n",
       "        8.22878121e-01,  6.20564377e-01,  1.50752211e+00, -1.68890832e+00,\n",
       "       -1.00299565e+00, -4.35942394e-02,  5.00188140e-01, -4.23670109e-01,\n",
       "       -1.36348033e+00, -2.93339272e+00, -4.55033934e-01,  6.93463452e-01,\n",
       "       -5.41673607e-01, -6.67312967e-01, -1.24151019e+00, -1.00433828e+00,\n",
       "       -7.36944894e-01,  1.61605547e-01, -2.61008844e-01,  3.04605842e-01,\n",
       "        5.36485524e-02,  1.48654504e-01, -6.85389300e-01, -1.18059350e+00,\n",
       "        5.26882755e-01, -8.66924270e-01,  1.89896793e+00,  1.96987991e+00,\n",
       "        2.07107573e+00, -5.15295706e-01, -1.13276439e+00, -8.68727951e-03,\n",
       "       -1.23175748e+00,  2.11209866e+00,  1.20492799e+00, -1.40617730e+00,\n",
       "        1.38811077e+00,  5.28014005e-01, -1.52557905e+00, -1.07412059e+00,\n",
       "       -6.66091583e-01, -5.77703730e-01, -4.12627505e-01,  6.96268013e-01,\n",
       "        4.63845023e-01, -2.41335297e+00, -1.96064095e-01, -7.24547804e-01,\n",
       "       -1.17004681e+00,  1.63910993e+00,  1.16573597e-01, -1.14929719e+00,\n",
       "       -8.08694128e-02,  1.25552787e+00, -1.09501492e+00,  1.46659645e-01,\n",
       "        5.16566790e-01,  6.95656237e-01,  7.15269382e-01, -6.61336829e-01,\n",
       "        1.29888198e-01, -5.47048984e-01, -1.31408663e+00,  9.66432268e-01,\n",
       "        1.47996488e-01,  3.47910616e-02, -1.44499479e+00, -1.68484727e-01,\n",
       "        2.24025358e+00, -1.51928292e+00,  1.52268958e+00,  8.82378644e-02,\n",
       "        3.56741196e-01,  3.05548932e-01, -1.76256786e+00,  9.00321324e-02,\n",
       "        5.17876529e-01,  1.04070347e+00, -1.29452578e+00,  3.02197328e-01,\n",
       "        2.30875175e-01, -4.77739602e-02,  1.94641477e+00,  2.93649463e-01,\n",
       "        1.27589048e+00,  1.46697107e+00, -1.47902003e+00,  2.06461465e-01,\n",
       "        1.08030610e+00, -9.68999259e-02, -1.27355093e-01,  3.35162414e-01,\n",
       "       -6.68398222e-01,  7.27135113e-01, -4.34376637e-01, -3.67834202e-01,\n",
       "        1.88903164e-02, -8.93895335e-01,  1.79011659e-01,  2.05821923e+00,\n",
       "        8.20343567e-01, -4.29875515e-01,  1.70421189e+00,  9.03524826e-01,\n",
       "        7.35557022e-01,  3.19688890e-01,  4.72664131e-02, -9.05795956e-01,\n",
       "       -2.25279954e+00, -8.96029576e-01, -1.10499631e+00, -4.33592901e-01,\n",
       "        9.26455954e-01, -5.36260310e-01, -1.07175185e+00,  2.45847049e+00,\n",
       "        6.67367123e-01, -9.14033904e-02, -2.32639307e-01, -6.86386783e-01,\n",
       "       -1.10794534e+00, -3.01980056e-01, -7.11637334e-01,  3.26273701e-01,\n",
       "        3.52542529e-01, -6.01711650e-01, -6.55975467e-01,  1.27833866e+00,\n",
       "       -7.52271083e-01,  6.41298788e-01,  5.84009158e-01, -4.96350281e-01,\n",
       "        3.90084649e-01, -5.20516264e-01,  6.24231246e-01,  1.44909018e+00,\n",
       "        1.28217107e+00, -9.13841035e-01, -2.26568778e+00, -9.33871865e-01,\n",
       "        1.41673756e+00, -8.52779511e-01, -2.75620281e-01, -3.56323402e-01,\n",
       "       -2.68723876e-01, -1.19685149e+00,  2.06370502e-01,  9.73149864e-01,\n",
       "        1.31561472e+00,  1.89078336e+00,  7.49871531e-04, -1.31243092e+00,\n",
       "       -4.74221420e-01,  2.27993478e-02, -6.92276258e-01,  1.13401393e+00,\n",
       "       -5.54519160e-01,  3.51095417e-01,  1.24083646e-01, -2.23309438e-01,\n",
       "       -5.58285791e-02, -1.08782619e+00, -2.03835882e+00,  3.17654202e-01,\n",
       "       -7.12829311e-01,  2.97278789e-01,  1.39248952e+00,  1.70374318e+00])"
      ]
     },
     "execution_count": 22,
     "metadata": {},
     "output_type": "execute_result"
    }
   ],
   "source": [
    "arr"
   ]
  },
  {
   "cell_type": "code",
   "execution_count": 23,
   "metadata": {},
   "outputs": [
    {
     "data": {
      "image/png": "[encoded data removed]",
      "text/plain": [
       "<Figure size 432x288 with 1 Axes>"
      ]
     },
     "metadata": {
      "needs_background": "light"
     },
     "output_type": "display_data"
    }
   ],
   "source": [
    "plt.hist(arr, bins = 100)\n",
    "plt.show()"
   ]
  },
  {
   "cell_type": "code",
   "execution_count": 24,
   "metadata": {},
   "outputs": [
    {
     "data": {
      "image/png": "[encoded data removed]",
      "text/plain": [
       "<Figure size 432x288 with 1 Axes>"
      ]
     },
     "metadata": {
      "needs_background": "light"
     },
     "output_type": "display_data"
    }
   ],
   "source": [
    "plt.hist(title_length, bins = 40)\n",
    "plt.show()"
   ]
  },
  {
   "cell_type": "code",
   "execution_count": 25,
   "metadata": {},
   "outputs": [],
   "source": [
    "marks = np.random.randn(100)*10 + 60"
   ]
  },
  {
   "cell_type": "code",
   "execution_count": 26,
   "metadata": {},
   "outputs": [
    {
     "data": {
      "text/plain": [
       "10.169286379157164"
      ]
     },
     "execution_count": 26,
     "metadata": {},
     "output_type": "execute_result"
    }
   ],
   "source": [
    "np.std(marks)"
   ]
  },
  {
   "cell_type": "code",
   "execution_count": 27,
   "metadata": {},
   "outputs": [
    {
     "data": {
      "text/plain": [
       "59.422606153047"
      ]
     },
     "execution_count": 27,
     "metadata": {},
     "output_type": "execute_result"
    }
   ],
   "source": [
    "np.mean(marks)"
   ]
  },
  {
   "cell_type": "code",
   "execution_count": 28,
   "metadata": {},
   "outputs": [],
   "source": [
    "base_marks = [(each - 60)/10 for each in marks]"
   ]
  },
  {
   "cell_type": "code",
   "execution_count": 29,
   "metadata": {},
   "outputs": [
    {
     "data": {
      "image/png": "[encoded data removed]",
      "text/plain": [
       "<Figure size 432x288 with 1 Axes>"
      ]
     },
     "metadata": {
      "needs_background": "light"
     },
     "output_type": "display_data"
    }
   ],
   "source": [
    "plt.hist(base_marks, bins = 5, label = \"standard normal distribution\")\n",
    "plt.hist(marks, bins = 5, label = \"normal distribution\")\n",
    "plt.legend()\n",
    "plt.show()"
   ]
  },
  {
   "cell_type": "code",
   "execution_count": 30,
   "metadata": {},
   "outputs": [],
   "source": [
    "plt.hist?"
   ]
  },
  {
   "cell_type": "markdown",
   "metadata": {},
   "source": [
    "# multivriate normal distribution\n",
    "## 1 - orange\n",
    "## 0 - apple"
   ]
  },
  {
   "cell_type": "code",
   "execution_count": 138,
   "metadata": {},
   "outputs": [],
   "source": [
    "apple_data = np.random.multivariate_normal(mean = [6, 5], cov = [[1, 0.2], [0.2, 1]], size = 1000)\n",
    "orange_data = np.random.multivariate_normal(mean = [6, 9], cov = [[1, -0.2], [-0.2, 1]], size = 1000)"
   ]
  },
  {
   "cell_type": "code",
   "execution_count": 139,
   "metadata": {},
   "outputs": [
    {
     "data": {
      "image/png": "[encoded data removed]",
      "text/plain": [
       "<Figure size 432x288 with 1 Axes>"
      ]
     },
     "metadata": {
      "needs_background": "light"
     },
     "output_type": "display_data"
    }
   ],
   "source": [
    "plt.scatter(apple_data[:, 0], apple_data[:, 1], c = \"red\")\n",
    "plt.scatter(orange_data[:, 0], orange_data[:, 1], c = \"orange\")\n",
    "\n",
    "plt.xlabel(\"sweetness\")\n",
    "plt.ylabel(\"nutritions\")\n",
    "plt.show()"
   ]
  },
  {
   "cell_type": "markdown",
   "metadata": {},
   "source": [
    "## KNN\n",
    "#### data prep"
   ]
  },
  {
   "cell_type": "code",
   "execution_count": 140,
   "metadata": {},
   "outputs": [],
   "source": [
    "total_fruits = apple_data.shape[0] + orange_data.shape[0]"
   ]
  },
  {
   "cell_type": "code",
   "execution_count": 141,
   "metadata": {},
   "outputs": [
    {
     "name": "stdout",
     "output_type": "stream",
     "text": [
      "2000\n"
     ]
    }
   ],
   "source": [
    "print(total_fruits)"
   ]
  },
  {
   "cell_type": "code",
   "execution_count": 142,
   "metadata": {},
   "outputs": [],
   "source": [
    "x = np.zeros((total_fruits, 3))"
   ]
  },
  {
   "cell_type": "code",
   "execution_count": 143,
   "metadata": {},
   "outputs": [],
   "source": [
    "x[:1000, :-1] = apple_data\n",
    "x[1000:, :-1] = orange_data"
   ]
  },
  {
   "cell_type": "code",
   "execution_count": 144,
   "metadata": {},
   "outputs": [],
   "source": [
    "x[1000:, -1] = 1"
   ]
  },
  {
   "cell_type": "code",
   "execution_count": 145,
   "metadata": {},
   "outputs": [],
   "source": [
    "X = x[:, :-1]\n",
    "Y = x[:, -1]"
   ]
  },
  {
   "cell_type": "code",
   "execution_count": 146,
   "metadata": {},
   "outputs": [],
   "source": [
    "def distance(p1, p2):\n",
    "    return np.sum((p2 - p1)**2)**.5"
   ]
  },
  {
   "cell_type": "code",
   "execution_count": 149,
   "metadata": {},
   "outputs": [],
   "source": [
    "def knn(X, Y, test, k = 5):\n",
    "    m = X.shape[0]\n",
    "    l = []\n",
    "    for i in range(m):\n",
    "        l.append((distance(test, X[i]), Y[i]))\n",
    "        \n",
    "    # sort the distance and take the second col(labels)\n",
    "    l = np.array(sorted(l))[:, 1]\n",
    "    \n",
    "    # take the K nearest points here top five will be k-nearest becuase l is sorted\n",
    "    l = l[:k]\n",
    "    \n",
    "    \n",
    "    # see the freq. of each unique values here t will be  2D numpy array having unique values and their respective freq. \n",
    "    t = np.unique(l, return_counts = True)\n",
    "    \n",
    "  \n",
    "    # check the max freq in freq array\n",
    "    idx = np.argmax(t[1])\n",
    "    \n",
    "    # make prediction in t which has label and their freq.\n",
    "    pred = int(t[0][idx])\n",
    "    \n",
    "    if pred == 0:\n",
    "        print(\"apple\")\n",
    "    else:\n",
    "        print(\"orange\")\n",
    "        \n",
    "    return t\n",
    "    \n",
    "    \n",
    "    \n",
    "    "
   ]
  },
  {
   "cell_type": "code",
   "execution_count": 150,
   "metadata": {},
   "outputs": [
    {
     "name": "stdout",
     "output_type": "stream",
     "text": [
      "apple\n"
     ]
    },
    {
     "data": {
      "text/plain": [
       "(array([0., 1.]), array([4, 1]))"
      ]
     },
     "execution_count": 150,
     "metadata": {},
     "output_type": "execute_result"
    }
   ],
   "source": [
    "\n",
    "knn(X, Y, np.array([8, 6.5]))"
   ]
  },
  {
   "cell_type": "code",
   "execution_count": null,
   "metadata": {},
   "outputs": [],
   "source": []
  },
  {
   "cell_type": "code",
   "execution_count": null,
   "metadata": {},
   "outputs": [],
   "source": []
  }
 ],
 "metadata": {
  "kernelspec": {
   "display_name": "Python 3",
   "language": "python",
   "name": "python3"
  },
  "language_info": {
   "codemirror_mode": {
    "name": "ipython",
    "version": 3
   },
   "file_extension": ".py",
   "mimetype": "text/x-python",
   "name": "python",
   "nbconvert_exporter": "python",
   "pygments_lexer": "ipython3",
   "version": "3.6.7"
  }
 },
 "nbformat": 4,
 "nbformat_minor": 2
}
