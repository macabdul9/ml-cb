{
 "cells": [
  {
   "cell_type": "code",
   "execution_count": 2,
   "metadata": {},
   "outputs": [],
   "source": [
    "import numpy as np\n",
    "import matplotlib.pyplot as plt"
   ]
  },
  {
   "cell_type": "code",
   "execution_count": 22,
   "metadata": {},
   "outputs": [],
   "source": [
    "x_train = np.random.randn(1000)\n",
    "e = np.random.randn(1000) # noise\n",
    "y_train = x + .6*e"
   ]
  },
  {
   "cell_type": "code",
   "execution_count": 23,
   "metadata": {},
   "outputs": [
    {
     "data": {
      "image/png": "[encoded data removed]",
      "text/plain": [
       "<Figure size 432x288 with 1 Axes>"
      ]
     },
     "metadata": {
      "needs_background": "light"
     },
     "output_type": "display_data"
    }
   ],
   "source": [
    "plt.scatter(x, y, c = 'orange');"
   ]
  },
  {
   "cell_type": "code",
   "execution_count": 63,
   "metadata": {},
   "outputs": [],
   "source": [
    "x = x.reshape(-1, 1)\n",
    "y = y.reshape(-1, 1)"
   ]
  },
  {
   "cell_type": "code",
   "execution_count": 64,
   "metadata": {},
   "outputs": [
    {
     "name": "stdout",
     "output_type": "stream",
     "text": [
      "(1000, 1) (1000, 1)\n"
     ]
    }
   ],
   "source": [
    "print(x.shape, y.shape)"
   ]
  },
  {
   "cell_type": "code",
   "execution_count": null,
   "metadata": {},
   "outputs": [],
   "source": []
  },
  {
   "cell_type": "code",
   "execution_count": 151,
   "metadata": {},
   "outputs": [],
   "source": [
    "class AdamOptimization:\n",
    "    \n",
    "    def parameter_initialization(self, shape_x):\n",
    "        \n",
    "        # Adam Optimization\n",
    "        self.v_dw = 0\n",
    "        self.v_db = 0\n",
    "        self.s_dw = 0\n",
    "        self.s_db = 0\n",
    "        \n",
    "        self.w = np.random.randn(shape_x, 1)*0.1\n",
    "        self.b  = 0.0\n",
    "        return self.w, self.b\n",
    "    \n",
    "    def hypothesis(self, x, w, b):\n",
    "        return np.dot(x, w) + b    \n",
    "    \n",
    "    def compute_loss(self, x, y, w, b):\n",
    "        m = x.shape[0]\n",
    "        y_ = self.hypothesis(x, w, b)\n",
    "        loss = ((y_train - y_)**2)/2\n",
    "        return loss/m\n",
    "    \n",
    "    \n",
    "    def base_grads(self, x, y, w, b):\n",
    "        h = self.hypothesis(x, w, b)\n",
    "        dw = np.mean((h - y)*x)\n",
    "        db = np.mean((h - y))\n",
    "        return dw, db\n",
    "    \n",
    "    def adam_grads(self, dw, db, epoch_number = 1, beta_1 = 0.9, beta_2 = 0.999,  epsilon = 1e-8):\n",
    "        \n",
    "        v_dw = self.v_dw\n",
    "        v_db = self.v_db\n",
    "        \n",
    "        s_dw = self.s_dw\n",
    "        s_db = self.s_db\n",
    "        \n",
    "        \n",
    "        #print('momentum')\n",
    "        # momentum\n",
    "        v_dw = beta_1*v_dw + (1 - beta_1)*dw\n",
    "        v_db = beta_1*v_db + (1 - beta_1)*db\n",
    "        \n",
    "        #print('rms prop')\n",
    "        # rms prop\n",
    "        s_dw = beta_2*s_dw + (1 - beta_2)*(dw**2)\n",
    "        s_db = beta_2*s_db + (1 - beta_2)*(db**2)\n",
    "        \n",
    "        \n",
    "        #print(v_dw, s_dw)\n",
    "        \n",
    "        \n",
    "        #print('correction')\n",
    "        # corrected momentum and rms prop\n",
    "        v_dw_corrected = v_dw/(1 - beta_1**epoch_number)\n",
    "        v_db_corrected = v_db/(1 - beta_1**epoch_number)\n",
    "        s_dw_corrected = s_dw/(1 - beta_2**epoch_number)\n",
    "        s_db_corrected = s_db/(1 - beta_2**epoch_number)\n",
    "        \n",
    "        \n",
    "        print(v_dw_corrected, s_db_corrected)\n",
    "        \n",
    "        print('final gradients')\n",
    "        # calculate the gradients\n",
    "        grad_w = v_dw_corrected/(np.sqrt(s_dw_corrected + epsilon))\n",
    "        grad_b = v_dw_corrected/(np.sqrt(s_db_corrected + epsilon))\n",
    "        print(grad_w, grad_b)\n",
    "        print('hello')\n",
    "        \n",
    "#         self.v_dw = v_dw\n",
    "#         self.v_db = v_db \n",
    "\n",
    "#         self.s_dw = s_dw \n",
    "#         self.s_db = s_db \n",
    "    \n",
    "    \n",
    "    def train(self, x, y, learning_rate = 0.001, epochs = 200, batch_size = 1):\n",
    "        self.parameter_initialization(x.shape[1])\n",
    "        \n",
    "        loss = []\n",
    "        w, b = self.w, self.b\n",
    "        \n",
    "        for epoch in range(epochs):\n",
    "            print(epoch)\n",
    "            dw, db = self.base_grads(x, y, w, b)\n",
    "            print(dw, db)\n",
    "            print('hello')\n",
    "            grads_w, grads_b = self.adam_grads(dw, db, epoch + 1)\n",
    "            w = w - learning_rate*grads_w\n",
    "            b = b - learning_rate*grads_b\n",
    "            loss.append(self.compute_loss(x, y, w, b))\n",
    "            \n",
    "        \n",
    "        self.w, self.b = w, b\n",
    "        \n",
    "        return loss\n",
    "        \n",
    "        \n",
    "    \n",
    "    def predict(self, x_test):\n",
    "        y_ = self.hypothesis(x_test, self.w, self.b)\n",
    "        return y_\n",
    "\n",
    "        "
   ]
  },
  {
   "cell_type": "code",
   "execution_count": 152,
   "metadata": {},
   "outputs": [],
   "source": [
    "model = AdamOptimization()"
   ]
  },
  {
   "cell_type": "code",
   "execution_count": 153,
   "metadata": {},
   "outputs": [
    {
     "name": "stdout",
     "output_type": "stream",
     "text": [
      "0\n",
      "-0.8942677570588401 0.03193519600156493\n",
      "hello\n",
      "-0.8942677570588401 0.0010198567436583686\n",
      "final gradients\n",
      "-0.9999999937477713 -28.00243883788981\n",
      "hello\n"
     ]
    },
    {
     "ename": "TypeError",
     "evalue": "'NoneType' object is not iterable",
     "output_type": "error",
     "traceback": [
      "\u001b[0;31m---------------------------------------------------------------------------\u001b[0m",
      "\u001b[0;31mTypeError\u001b[0m                                 Traceback (most recent call last)",
      "\u001b[0;32m<ipython-input-153-fcb7bd0cd182>\u001b[0m in \u001b[0;36m<module>\u001b[0;34m\u001b[0m\n\u001b[0;32m----> 1\u001b[0;31m \u001b[0mloss\u001b[0m \u001b[0;34m=\u001b[0m \u001b[0mmodel\u001b[0m\u001b[0;34m.\u001b[0m\u001b[0mtrain\u001b[0m\u001b[0;34m(\u001b[0m\u001b[0mx\u001b[0m\u001b[0;34m,\u001b[0m \u001b[0my\u001b[0m\u001b[0;34m)\u001b[0m\u001b[0;34m\u001b[0m\u001b[0;34m\u001b[0m\u001b[0m\n\u001b[0m",
      "\u001b[0;32m<ipython-input-151-344b25c66cf5>\u001b[0m in \u001b[0;36mtrain\u001b[0;34m(self, x, y, learning_rate, epochs, batch_size)\u001b[0m\n\u001b[1;32m     87\u001b[0m             \u001b[0mprint\u001b[0m\u001b[0;34m(\u001b[0m\u001b[0mdw\u001b[0m\u001b[0;34m,\u001b[0m \u001b[0mdb\u001b[0m\u001b[0;34m)\u001b[0m\u001b[0;34m\u001b[0m\u001b[0;34m\u001b[0m\u001b[0m\n\u001b[1;32m     88\u001b[0m             \u001b[0mprint\u001b[0m\u001b[0;34m(\u001b[0m\u001b[0;34m'hello'\u001b[0m\u001b[0;34m)\u001b[0m\u001b[0;34m\u001b[0m\u001b[0;34m\u001b[0m\u001b[0m\n\u001b[0;32m---> 89\u001b[0;31m             \u001b[0mgrads_w\u001b[0m\u001b[0;34m,\u001b[0m \u001b[0mgrads_b\u001b[0m \u001b[0;34m=\u001b[0m \u001b[0mself\u001b[0m\u001b[0;34m.\u001b[0m\u001b[0madam_grads\u001b[0m\u001b[0;34m(\u001b[0m\u001b[0mdw\u001b[0m\u001b[0;34m,\u001b[0m \u001b[0mdb\u001b[0m\u001b[0;34m,\u001b[0m \u001b[0mepoch\u001b[0m \u001b[0;34m+\u001b[0m \u001b[0;36m1\u001b[0m\u001b[0;34m)\u001b[0m\u001b[0;34m\u001b[0m\u001b[0;34m\u001b[0m\u001b[0m\n\u001b[0m\u001b[1;32m     90\u001b[0m             \u001b[0mw\u001b[0m \u001b[0;34m=\u001b[0m \u001b[0mw\u001b[0m \u001b[0;34m-\u001b[0m \u001b[0mlearning_rate\u001b[0m\u001b[0;34m*\u001b[0m\u001b[0mgrads_w\u001b[0m\u001b[0;34m\u001b[0m\u001b[0;34m\u001b[0m\u001b[0m\n\u001b[1;32m     91\u001b[0m             \u001b[0mb\u001b[0m \u001b[0;34m=\u001b[0m \u001b[0mb\u001b[0m \u001b[0;34m-\u001b[0m \u001b[0mlearning_rate\u001b[0m\u001b[0;34m*\u001b[0m\u001b[0mgrads_b\u001b[0m\u001b[0;34m\u001b[0m\u001b[0;34m\u001b[0m\u001b[0m\n",
      "\u001b[0;31mTypeError\u001b[0m: 'NoneType' object is not iterable"
     ]
    }
   ],
   "source": [
    "loss = model.train(x, y)"
   ]
  },
  {
   "cell_type": "code",
   "execution_count": 86,
   "metadata": {},
   "outputs": [
    {
     "data": {
      "text/plain": [
       "(array([[0.0734178]]), 0.0)"
      ]
     },
     "execution_count": 86,
     "metadata": {},
     "output_type": "execute_result"
    }
   ],
   "source": [
    "model.parameter_initialization(x.shape[1])"
   ]
  },
  {
   "cell_type": "code",
   "execution_count": 87,
   "metadata": {},
   "outputs": [
    {
     "data": {
      "text/plain": [
       "(-0.9946440935140165, 0.03547234204321761)"
      ]
     },
     "execution_count": 87,
     "metadata": {},
     "output_type": "execute_result"
    }
   ],
   "source": [
    "model.base_grads(x, y, model.w, model.b)"
   ]
  },
  {
   "cell_type": "code",
   "execution_count": null,
   "metadata": {},
   "outputs": [],
   "source": []
  }
 ],
 "metadata": {
  "kernelspec": {
   "display_name": "Python 3",
   "language": "python",
   "name": "python3"
  },
  "language_info": {
   "codemirror_mode": {
    "name": "ipython",
    "version": 3
   },
   "file_extension": ".py",
   "mimetype": "text/x-python",
   "name": "python",
   "nbconvert_exporter": "python",
   "pygments_lexer": "ipython3",
   "version": "3.6.8"
  }
 },
 "nbformat": 4,
 "nbformat_minor": 2
}
