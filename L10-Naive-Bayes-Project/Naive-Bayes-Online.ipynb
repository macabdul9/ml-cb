{
 "cells": [
  {
   "cell_type": "code",
   "execution_count": 1,
   "metadata": {},
   "outputs": [],
   "source": [
    "import numpy as np\n",
    "import pandas as pd\n",
    "import matplotlib.pyplot as plt"
   ]
  },
  {
   "cell_type": "markdown",
   "metadata": {},
   "source": [
    "### Naive Bayes --- Mushroom Classifier"
   ]
  },
  {
   "cell_type": "markdown",
   "metadata": {},
   "source": [
    "#### Load the Dataset"
   ]
  },
  {
   "cell_type": "code",
   "execution_count": 2,
   "metadata": {},
   "outputs": [],
   "source": [
    "data = pd.read_csv('../dataset/mushrooms.csv')"
   ]
  },
  {
   "cell_type": "code",
   "execution_count": 3,
   "metadata": {},
   "outputs": [
    {
     "name": "stdout",
     "output_type": "stream",
     "text": [
      "(8124, 23)\n"
     ]
    }
   ],
   "source": [
    "print(data.shape)"
   ]
  },
  {
   "cell_type": "code",
   "execution_count": 4,
   "metadata": {},
   "outputs": [
    {
     "name": "stdout",
     "output_type": "stream",
     "text": [
      "0\n"
     ]
    }
   ],
   "source": [
    "print(data.isnull().values.sum())"
   ]
  },
  {
   "cell_type": "code",
   "execution_count": 5,
   "metadata": {},
   "outputs": [
    {
     "data": {
      "text/html": [
       "<div>\n",
       "<style scoped>\n",
       "    .dataframe tbody tr th:only-of-type {\n",
       "        vertical-align: middle;\n",
       "    }\n",
       "\n",
       "    .dataframe tbody tr th {\n",
       "        vertical-align: top;\n",
       "    }\n",
       "\n",
       "    .dataframe thead th {\n",
       "        text-align: right;\n",
       "    }\n",
       "</style>\n",
       "<table border=\"1\" class=\"dataframe\">\n",
       "  <thead>\n",
       "    <tr style=\"text-align: right;\">\n",
       "      <th></th>\n",
       "      <th>type</th>\n",
       "      <th>cap_shape</th>\n",
       "      <th>cap_surface</th>\n",
       "      <th>cap_color</th>\n",
       "      <th>bruises</th>\n",
       "      <th>odor</th>\n",
       "      <th>gill_attachment</th>\n",
       "      <th>gill_spacing</th>\n",
       "      <th>gill_size</th>\n",
       "      <th>gill_color</th>\n",
       "      <th>...</th>\n",
       "      <th>stalk_surface_below_ring</th>\n",
       "      <th>stalk_color_above_ring</th>\n",
       "      <th>stalk_color_below_ring</th>\n",
       "      <th>veil_type</th>\n",
       "      <th>veil_color</th>\n",
       "      <th>ring_number</th>\n",
       "      <th>ring_type</th>\n",
       "      <th>spore_print_color</th>\n",
       "      <th>population</th>\n",
       "      <th>habitat</th>\n",
       "    </tr>\n",
       "  </thead>\n",
       "  <tbody>\n",
       "    <tr>\n",
       "      <th>0</th>\n",
       "      <td>p</td>\n",
       "      <td>x</td>\n",
       "      <td>s</td>\n",
       "      <td>n</td>\n",
       "      <td>t</td>\n",
       "      <td>p</td>\n",
       "      <td>f</td>\n",
       "      <td>c</td>\n",
       "      <td>n</td>\n",
       "      <td>k</td>\n",
       "      <td>...</td>\n",
       "      <td>s</td>\n",
       "      <td>w</td>\n",
       "      <td>w</td>\n",
       "      <td>p</td>\n",
       "      <td>w</td>\n",
       "      <td>o</td>\n",
       "      <td>p</td>\n",
       "      <td>k</td>\n",
       "      <td>s</td>\n",
       "      <td>u</td>\n",
       "    </tr>\n",
       "    <tr>\n",
       "      <th>1</th>\n",
       "      <td>e</td>\n",
       "      <td>x</td>\n",
       "      <td>s</td>\n",
       "      <td>y</td>\n",
       "      <td>t</td>\n",
       "      <td>a</td>\n",
       "      <td>f</td>\n",
       "      <td>c</td>\n",
       "      <td>b</td>\n",
       "      <td>k</td>\n",
       "      <td>...</td>\n",
       "      <td>s</td>\n",
       "      <td>w</td>\n",
       "      <td>w</td>\n",
       "      <td>p</td>\n",
       "      <td>w</td>\n",
       "      <td>o</td>\n",
       "      <td>p</td>\n",
       "      <td>n</td>\n",
       "      <td>n</td>\n",
       "      <td>g</td>\n",
       "    </tr>\n",
       "    <tr>\n",
       "      <th>2</th>\n",
       "      <td>e</td>\n",
       "      <td>b</td>\n",
       "      <td>s</td>\n",
       "      <td>w</td>\n",
       "      <td>t</td>\n",
       "      <td>l</td>\n",
       "      <td>f</td>\n",
       "      <td>c</td>\n",
       "      <td>b</td>\n",
       "      <td>n</td>\n",
       "      <td>...</td>\n",
       "      <td>s</td>\n",
       "      <td>w</td>\n",
       "      <td>w</td>\n",
       "      <td>p</td>\n",
       "      <td>w</td>\n",
       "      <td>o</td>\n",
       "      <td>p</td>\n",
       "      <td>n</td>\n",
       "      <td>n</td>\n",
       "      <td>m</td>\n",
       "    </tr>\n",
       "  </tbody>\n",
       "</table>\n",
       "<p>3 rows × 23 columns</p>\n",
       "</div>"
      ],
      "text/plain": [
       "  type cap_shape cap_surface cap_color bruises odor gill_attachment  \\\n",
       "0    p         x           s         n       t    p               f   \n",
       "1    e         x           s         y       t    a               f   \n",
       "2    e         b           s         w       t    l               f   \n",
       "\n",
       "  gill_spacing gill_size gill_color  ... stalk_surface_below_ring  \\\n",
       "0            c         n          k  ...                        s   \n",
       "1            c         b          k  ...                        s   \n",
       "2            c         b          n  ...                        s   \n",
       "\n",
       "  stalk_color_above_ring stalk_color_below_ring veil_type veil_color  \\\n",
       "0                      w                      w         p          w   \n",
       "1                      w                      w         p          w   \n",
       "2                      w                      w         p          w   \n",
       "\n",
       "  ring_number ring_type spore_print_color population habitat  \n",
       "0           o         p                 k          s       u  \n",
       "1           o         p                 n          n       g  \n",
       "2           o         p                 n          n       m  \n",
       "\n",
       "[3 rows x 23 columns]"
      ]
     },
     "execution_count": 5,
     "metadata": {},
     "output_type": "execute_result"
    }
   ],
   "source": [
    "data.head(3)"
   ]
  },
  {
   "cell_type": "markdown",
   "metadata": {},
   "source": [
    "#### converting the categorical data into numerical value"
   ]
  },
  {
   "cell_type": "code",
   "execution_count": 6,
   "metadata": {},
   "outputs": [],
   "source": [
    "from sklearn.preprocessing import LabelEncoder"
   ]
  },
  {
   "cell_type": "code",
   "execution_count": 7,
   "metadata": {},
   "outputs": [],
   "source": [
    "le = LabelEncoder()"
   ]
  },
  {
   "cell_type": "code",
   "execution_count": 8,
   "metadata": {},
   "outputs": [],
   "source": [
    "numerical = data.apply(le.fit_transform)"
   ]
  },
  {
   "cell_type": "code",
   "execution_count": 9,
   "metadata": {},
   "outputs": [
    {
     "name": "stdout",
     "output_type": "stream",
     "text": [
      "(8124, 23)\n"
     ]
    }
   ],
   "source": [
    "print(numerical.shape)"
   ]
  },
  {
   "cell_type": "code",
   "execution_count": 10,
   "metadata": {},
   "outputs": [
    {
     "data": {
      "text/html": [
       "<div>\n",
       "<style scoped>\n",
       "    .dataframe tbody tr th:only-of-type {\n",
       "        vertical-align: middle;\n",
       "    }\n",
       "\n",
       "    .dataframe tbody tr th {\n",
       "        vertical-align: top;\n",
       "    }\n",
       "\n",
       "    .dataframe thead th {\n",
       "        text-align: right;\n",
       "    }\n",
       "</style>\n",
       "<table border=\"1\" class=\"dataframe\">\n",
       "  <thead>\n",
       "    <tr style=\"text-align: right;\">\n",
       "      <th></th>\n",
       "      <th>type</th>\n",
       "      <th>cap_shape</th>\n",
       "      <th>cap_surface</th>\n",
       "      <th>cap_color</th>\n",
       "      <th>bruises</th>\n",
       "      <th>odor</th>\n",
       "      <th>gill_attachment</th>\n",
       "      <th>gill_spacing</th>\n",
       "      <th>gill_size</th>\n",
       "      <th>gill_color</th>\n",
       "      <th>...</th>\n",
       "      <th>stalk_surface_below_ring</th>\n",
       "      <th>stalk_color_above_ring</th>\n",
       "      <th>stalk_color_below_ring</th>\n",
       "      <th>veil_type</th>\n",
       "      <th>veil_color</th>\n",
       "      <th>ring_number</th>\n",
       "      <th>ring_type</th>\n",
       "      <th>spore_print_color</th>\n",
       "      <th>population</th>\n",
       "      <th>habitat</th>\n",
       "    </tr>\n",
       "  </thead>\n",
       "  <tbody>\n",
       "    <tr>\n",
       "      <th>0</th>\n",
       "      <td>1</td>\n",
       "      <td>5</td>\n",
       "      <td>2</td>\n",
       "      <td>4</td>\n",
       "      <td>1</td>\n",
       "      <td>6</td>\n",
       "      <td>1</td>\n",
       "      <td>0</td>\n",
       "      <td>1</td>\n",
       "      <td>4</td>\n",
       "      <td>...</td>\n",
       "      <td>2</td>\n",
       "      <td>7</td>\n",
       "      <td>7</td>\n",
       "      <td>0</td>\n",
       "      <td>2</td>\n",
       "      <td>1</td>\n",
       "      <td>4</td>\n",
       "      <td>2</td>\n",
       "      <td>3</td>\n",
       "      <td>5</td>\n",
       "    </tr>\n",
       "    <tr>\n",
       "      <th>1</th>\n",
       "      <td>0</td>\n",
       "      <td>5</td>\n",
       "      <td>2</td>\n",
       "      <td>9</td>\n",
       "      <td>1</td>\n",
       "      <td>0</td>\n",
       "      <td>1</td>\n",
       "      <td>0</td>\n",
       "      <td>0</td>\n",
       "      <td>4</td>\n",
       "      <td>...</td>\n",
       "      <td>2</td>\n",
       "      <td>7</td>\n",
       "      <td>7</td>\n",
       "      <td>0</td>\n",
       "      <td>2</td>\n",
       "      <td>1</td>\n",
       "      <td>4</td>\n",
       "      <td>3</td>\n",
       "      <td>2</td>\n",
       "      <td>1</td>\n",
       "    </tr>\n",
       "    <tr>\n",
       "      <th>2</th>\n",
       "      <td>0</td>\n",
       "      <td>0</td>\n",
       "      <td>2</td>\n",
       "      <td>8</td>\n",
       "      <td>1</td>\n",
       "      <td>3</td>\n",
       "      <td>1</td>\n",
       "      <td>0</td>\n",
       "      <td>0</td>\n",
       "      <td>5</td>\n",
       "      <td>...</td>\n",
       "      <td>2</td>\n",
       "      <td>7</td>\n",
       "      <td>7</td>\n",
       "      <td>0</td>\n",
       "      <td>2</td>\n",
       "      <td>1</td>\n",
       "      <td>4</td>\n",
       "      <td>3</td>\n",
       "      <td>2</td>\n",
       "      <td>3</td>\n",
       "    </tr>\n",
       "    <tr>\n",
       "      <th>3</th>\n",
       "      <td>1</td>\n",
       "      <td>5</td>\n",
       "      <td>3</td>\n",
       "      <td>8</td>\n",
       "      <td>1</td>\n",
       "      <td>6</td>\n",
       "      <td>1</td>\n",
       "      <td>0</td>\n",
       "      <td>1</td>\n",
       "      <td>5</td>\n",
       "      <td>...</td>\n",
       "      <td>2</td>\n",
       "      <td>7</td>\n",
       "      <td>7</td>\n",
       "      <td>0</td>\n",
       "      <td>2</td>\n",
       "      <td>1</td>\n",
       "      <td>4</td>\n",
       "      <td>2</td>\n",
       "      <td>3</td>\n",
       "      <td>5</td>\n",
       "    </tr>\n",
       "    <tr>\n",
       "      <th>4</th>\n",
       "      <td>0</td>\n",
       "      <td>5</td>\n",
       "      <td>2</td>\n",
       "      <td>3</td>\n",
       "      <td>0</td>\n",
       "      <td>5</td>\n",
       "      <td>1</td>\n",
       "      <td>1</td>\n",
       "      <td>0</td>\n",
       "      <td>4</td>\n",
       "      <td>...</td>\n",
       "      <td>2</td>\n",
       "      <td>7</td>\n",
       "      <td>7</td>\n",
       "      <td>0</td>\n",
       "      <td>2</td>\n",
       "      <td>1</td>\n",
       "      <td>0</td>\n",
       "      <td>3</td>\n",
       "      <td>0</td>\n",
       "      <td>1</td>\n",
       "    </tr>\n",
       "  </tbody>\n",
       "</table>\n",
       "<p>5 rows × 23 columns</p>\n",
       "</div>"
      ],
      "text/plain": [
       "   type  cap_shape  cap_surface  cap_color  bruises  odor  gill_attachment  \\\n",
       "0     1          5            2          4        1     6                1   \n",
       "1     0          5            2          9        1     0                1   \n",
       "2     0          0            2          8        1     3                1   \n",
       "3     1          5            3          8        1     6                1   \n",
       "4     0          5            2          3        0     5                1   \n",
       "\n",
       "   gill_spacing  gill_size  gill_color  ...  stalk_surface_below_ring  \\\n",
       "0             0          1           4  ...                         2   \n",
       "1             0          0           4  ...                         2   \n",
       "2             0          0           5  ...                         2   \n",
       "3             0          1           5  ...                         2   \n",
       "4             1          0           4  ...                         2   \n",
       "\n",
       "   stalk_color_above_ring  stalk_color_below_ring  veil_type  veil_color  \\\n",
       "0                       7                       7          0           2   \n",
       "1                       7                       7          0           2   \n",
       "2                       7                       7          0           2   \n",
       "3                       7                       7          0           2   \n",
       "4                       7                       7          0           2   \n",
       "\n",
       "   ring_number  ring_type  spore_print_color  population  habitat  \n",
       "0            1          4                  2           3        5  \n",
       "1            1          4                  3           2        1  \n",
       "2            1          4                  3           2        3  \n",
       "3            1          4                  2           3        5  \n",
       "4            1          0                  3           0        1  \n",
       "\n",
       "[5 rows x 23 columns]"
      ]
     },
     "execution_count": 10,
     "metadata": {},
     "output_type": "execute_result"
    }
   ],
   "source": [
    "numerical.head()"
   ]
  },
  {
   "cell_type": "code",
   "execution_count": 11,
   "metadata": {},
   "outputs": [],
   "source": [
    "x = numerical.values[:, 1:]\n",
    "y = numerical.values[:, 0]"
   ]
  },
  {
   "cell_type": "code",
   "execution_count": 12,
   "metadata": {},
   "outputs": [
    {
     "name": "stdout",
     "output_type": "stream",
     "text": [
      "(8124, 22)\n",
      "(8124,)\n"
     ]
    }
   ],
   "source": [
    "print(x.shape)\n",
    "print(y.shape)"
   ]
  },
  {
   "cell_type": "markdown",
   "metadata": {},
   "source": [
    "####  train test split"
   ]
  },
  {
   "cell_type": "code",
   "execution_count": 13,
   "metadata": {},
   "outputs": [],
   "source": [
    "from sklearn.model_selection import train_test_split\n",
    "\n",
    "x_train, x_test, y_train, y_test = train_test_split(x, y, test_size = 0.40)"
   ]
  },
  {
   "cell_type": "code",
   "execution_count": 14,
   "metadata": {},
   "outputs": [
    {
     "name": "stdout",
     "output_type": "stream",
     "text": [
      "(4874, 22) (4874,)\n",
      "(3250, 22) (3250,)\n"
     ]
    }
   ],
   "source": [
    "print(x_train.shape, y_train.shape)\n",
    "print(x_test.shape, y_test.shape)"
   ]
  },
  {
   "cell_type": "code",
   "execution_count": 15,
   "metadata": {},
   "outputs": [
    {
     "name": "stdout",
     "output_type": "stream",
     "text": [
      "[[5 2 4 1 6 1 0 1 4 0 3 2 2 7 7 0 2 1 4 2 3 5]\n",
      " [5 2 9 1 0 1 0 0 4 0 2 2 2 7 7 0 2 1 4 3 2 1]\n",
      " [0 2 8 1 3 1 0 0 5 0 2 2 2 7 7 0 2 1 4 3 2 3]\n",
      " [5 3 8 1 6 1 0 1 5 0 3 2 2 7 7 0 2 1 4 2 3 5]\n",
      " [5 2 3 0 5 1 1 0 4 1 3 2 2 7 7 0 2 1 0 3 0 1]]\n"
     ]
    }
   ],
   "source": [
    "print(x[:5, :])"
   ]
  },
  {
   "cell_type": "markdown",
   "metadata": {},
   "source": [
    "#### Building our classifier"
   ]
  },
  {
   "cell_type": "code",
   "execution_count": 16,
   "metadata": {},
   "outputs": [],
   "source": [
    "def prior_prob(y, label):\n",
    "    total_classes = y.shape[0]\n",
    "    total_labels = np.sum(y == label)\n",
    "    return (total_labels)/float(total_classes)\n",
    "\n",
    "def conditional_prob(x, y, fcol, fval,  label): #fcol - feautre_col  #fval-feautre_value\n",
    "#     m = x.shape[0]\n",
    "#     total_labels = np.sum(y == label)\n",
    "#     print(total_labels)\n",
    "#     total = 0.0\n",
    "#     for i in range(m):\n",
    "#         if x[i][fcol] == fval and y[i] == label:\n",
    "#             total += 1\n",
    "    \n",
    "#     return total/total_labels\n",
    "    # short cut to this is\n",
    "    x_filtered = x[y == label]\n",
    "    numerator = np.sum(x_filtered[:, fcol] == fval )\n",
    "    denominator = np.sum(y == label)\n",
    "    return numerator/denominator\n",
    "\n",
    "def predict(x, y, test):\n",
    "    labels = np.unique(y)\n",
    "    post_prob = []\n",
    "    m = test.shape[0]\n",
    "    \n",
    "    for label in labels:\n",
    "        \n",
    "        likelihood = 1.0\n",
    "        \n",
    "        for fcol in range(m):\n",
    "            likelihood *= conditional_prob(x, y, fcol, test[fcol], label)\n",
    "            \n",
    "        post_prob.append(likelihood*prior_prob(y, label))    \n",
    "        \n",
    "    pred = np.argmax(post_prob)\n",
    "    return pred\n",
    "        \n"
   ]
  },
  {
   "cell_type": "code",
   "execution_count": 17,
   "metadata": {},
   "outputs": [
    {
     "data": {
      "text/plain": [
       "0.6666666666666666"
      ]
     },
     "execution_count": 17,
     "metadata": {},
     "output_type": "execute_result"
    }
   ],
   "source": [
    "prior_prob(np.array([0, 0, 1]), 0)"
   ]
  },
  {
   "cell_type": "code",
   "execution_count": 18,
   "metadata": {},
   "outputs": [
    {
     "data": {
      "text/plain": [
       "0.5"
      ]
     },
     "execution_count": 18,
     "metadata": {},
     "output_type": "execute_result"
    }
   ],
   "source": [
    "conditional_prob(np.array([[0, 0, 1], [0, 1, 1], [1, 0, 1], [1, 1, 1], [1, 1, 1]]), np.array([0, 1, 1, 1, 0]), 0, 0, 0)"
   ]
  },
  {
   "cell_type": "code",
   "execution_count": 19,
   "metadata": {},
   "outputs": [
    {
     "data": {
      "text/plain": [
       "1"
      ]
     },
     "execution_count": 19,
     "metadata": {},
     "output_type": "execute_result"
    }
   ],
   "source": [
    "predict(x_train, y_train, x_test[52])"
   ]
  },
  {
   "cell_type": "code",
   "execution_count": 20,
   "metadata": {},
   "outputs": [
    {
     "data": {
      "text/plain": [
       "array([5, 3, 9, 0, 2, 1, 0, 0, 3, 0, 1, 1, 1, 4, 0, 0, 2, 1, 2, 1, 4, 0])"
      ]
     },
     "execution_count": 20,
     "metadata": {},
     "output_type": "execute_result"
    }
   ],
   "source": [
    "x_test[52]"
   ]
  },
  {
   "cell_type": "code",
   "execution_count": 21,
   "metadata": {},
   "outputs": [
    {
     "data": {
      "text/plain": [
       "1"
      ]
     },
     "execution_count": 21,
     "metadata": {},
     "output_type": "execute_result"
    }
   ],
   "source": [
    "y_test[52]"
   ]
  },
  {
   "cell_type": "code",
   "execution_count": 22,
   "metadata": {},
   "outputs": [],
   "source": [
    "predictions = []\n",
    "for each in x_test:\n",
    "    predictions.append(predict(x_train, y_train, each))"
   ]
  },
  {
   "cell_type": "code",
   "execution_count": 23,
   "metadata": {},
   "outputs": [],
   "source": [
    "import sklearn.metrics as metrics"
   ]
  },
  {
   "cell_type": "code",
   "execution_count": 24,
   "metadata": {},
   "outputs": [
    {
     "data": {
      "text/plain": [
       "0.9975384615384615"
      ]
     },
     "execution_count": 24,
     "metadata": {},
     "output_type": "execute_result"
    }
   ],
   "source": [
    "metrics.accuracy_score(predictions, y_test)"
   ]
  },
  {
   "cell_type": "markdown",
   "metadata": {},
   "source": [
    "### Gaussian Naive Bayes -- Handling Continuous Data"
   ]
  },
  {
   "cell_type": "code",
   "execution_count": 109,
   "metadata": {},
   "outputs": [],
   "source": [
    "from sklearn.datasets import load_breast_cancer"
   ]
  },
  {
   "cell_type": "code",
   "execution_count": 110,
   "metadata": {},
   "outputs": [],
   "source": [
    "cancer = load_breast_cancer()"
   ]
  },
  {
   "cell_type": "code",
   "execution_count": 112,
   "metadata": {},
   "outputs": [
    {
     "data": {
      "text/plain": [
       "array(['malignant', 'benign'], dtype='<U9')"
      ]
     },
     "execution_count": 112,
     "metadata": {},
     "output_type": "execute_result"
    }
   ],
   "source": [
    "cancer.target_names"
   ]
  },
  {
   "cell_type": "code",
   "execution_count": 113,
   "metadata": {},
   "outputs": [],
   "source": [
    "x = cancer.data\n",
    "y = cancer.target\n",
    "y = np.reshape(y, (-1, 1))"
   ]
  },
  {
   "cell_type": "code",
   "execution_count": 114,
   "metadata": {},
   "outputs": [
    {
     "name": "stdout",
     "output_type": "stream",
     "text": [
      "(569, 30)\n",
      "(569, 1)\n"
     ]
    }
   ],
   "source": [
    "print(x.shape)\n",
    "print(y.shape)"
   ]
  },
  {
   "cell_type": "code",
   "execution_count": 115,
   "metadata": {},
   "outputs": [],
   "source": [
    "combined = np.hstack((x, y))"
   ]
  },
  {
   "cell_type": "code",
   "execution_count": 116,
   "metadata": {},
   "outputs": [],
   "source": [
    "np.random.shuffle(combined)"
   ]
  },
  {
   "cell_type": "markdown",
   "metadata": {},
   "source": [
    "### split the data"
   ]
  },
  {
   "cell_type": "code",
   "execution_count": 117,
   "metadata": {},
   "outputs": [],
   "source": [
    "from sklearn.model_selection import train_test_split"
   ]
  },
  {
   "cell_type": "code",
   "execution_count": 118,
   "metadata": {},
   "outputs": [],
   "source": [
    "x_train, x_test, y_train, y_test = train_test_split(combined[:, :-1], combined[:, -1], test_size = 0.2)"
   ]
  },
  {
   "cell_type": "code",
   "execution_count": 224,
   "metadata": {},
   "outputs": [],
   "source": [
    "def likelihood(x, y, label, test):\n",
    "    lh = 1.0\n",
    "    mean = np.mean(x[y==label], axis = 0)\n",
    "    var = np.var(x[y==label], axis = 0)\n",
    "    m = test.shape[0]\n",
    "    for i in range(m):\n",
    "        ft = 1/(2*np.pi*var[i])\n",
    "        st = np.e**(-(test[i] - mean[i])**2)/(2*var[i])\n",
    "        lh *= (ft*st)\n",
    "                \n",
    "    return lh  \n",
    "\n",
    "def predictGNBC(x_train, y_train, test):\n",
    "    labels = np.unique(y_train)\n",
    "    post_prob = []\n",
    "    m = test.shape[0]\n",
    "    \n",
    "    for label in labels:\n",
    "        lh = likelihood(x_train, y_train, label, test)\n",
    "        pp = prior_prob(y_train, label)\n",
    "        prob = lh*pp\n",
    "        post_prob.append(prob)\n",
    "        print(lh)\n",
    "    print(post_prob)\n",
    "    return np.argmax(post_prob)\n",
    "    "
   ]
  },
  {
   "cell_type": "code",
   "execution_count": 225,
   "metadata": {},
   "outputs": [
    {
     "data": {
      "text/plain": [
       "0.0"
      ]
     },
     "execution_count": 225,
     "metadata": {},
     "output_type": "execute_result"
    }
   ],
   "source": [
    "likelihood(x_train, y_train, y_train[0], x_test[12])"
   ]
  },
  {
   "cell_type": "code",
   "execution_count": 226,
   "metadata": {},
   "outputs": [
    {
     "data": {
      "text/plain": [
       "27363.933201072257"
      ]
     },
     "execution_count": 226,
     "metadata": {},
     "output_type": "execute_result"
    }
   ],
   "source": [
    "np.var(x_train[:, 23][y_train==1])"
   ]
  },
  {
   "cell_type": "code",
   "execution_count": 227,
   "metadata": {},
   "outputs": [
    {
     "data": {
      "text/plain": [
       "array([1.22111203e+01, 1.78002062e+01, 7.85109278e+01, 4.67574570e+02,\n",
       "       9.22724742e-02, 8.03916838e-02, 4.61341158e-02, 2.60678454e-02,\n",
       "       1.73440893e-01, 6.27085567e-02, 2.82579038e-01, 1.20736873e+00,\n",
       "       1.99487491e+00, 2.11492543e+01, 7.15265636e-03, 2.14781821e-02,\n",
       "       2.57401945e-02, 9.89169072e-03, 2.04818866e-02, 3.56755430e-03,\n",
       "       1.34496426e+01, 2.32622680e+01, 8.74275258e+01, 5.64773883e+02,\n",
       "       1.24483058e-01, 1.82057904e-01, 1.65833052e-01, 7.47501684e-02,\n",
       "       2.69187285e-01, 7.90149141e-02])"
      ]
     },
     "execution_count": 227,
     "metadata": {},
     "output_type": "execute_result"
    }
   ],
   "source": [
    "np.mean(x_train[y_train == y_train[0]], axis = 0)"
   ]
  },
  {
   "cell_type": "code",
   "execution_count": 228,
   "metadata": {},
   "outputs": [
    {
     "data": {
      "text/plain": [
       "array([0.2878 , 0.4061 , 0.2394 , 0.2436 , 0.2068 , 0.225  , 0.3903 ,\n",
       "       0.8681 , 0.2364 , 0.1792 , 0.07158, 0.2548 , 0.7394 , 0.0739 ,\n",
       "       0.1979 , 0.4099 , 0.2187 , 0.2658 , 0.1361 , 0.295  , 0.1017 ,\n",
       "       0.1108 , 0.05332, 0.09515, 0.05213, 0.4233 , 0.1115 , 0.1202 ,\n",
       "       0.284  , 0.205  , 0.261  , 0.1949 , 0.1472 , 0.1364 , 0.2942 ,\n",
       "       0.06885, 0.1766 , 0.6164 , 0.09473, 0.5634 , 0.2405 , 0.1352 ,\n",
       "       0.2053 , 0.4116 , 0.09605, 0.1936 , 0.09148, 0.5717 , 0.3885 ,\n",
       "       0.1507 , 0.4365 , 0.1633 , 0.146  , 0.2167 , 0.09794, 0.1087 ,\n",
       "       0.1637 , 0.255  , 0.3593 , 0.1397 , 0.165  , 0.2031 , 0.1626 ,\n",
       "       0.1352 , 0.09708, 0.4126 , 0.2809 , 0.1892 , 0.3898 , 0.1049 ,\n",
       "       0.2236 , 0.4503 , 0.3856 , 0.1398 , 0.2531 , 0.3539 , 0.04953,\n",
       "       0.09358, 0.3454 , 0.255  , 0.3861 , 0.1044 , 0.3568 , 0.1788 ,\n",
       "       0.06744, 0.4186 , 0.1239 , 0.1147 , 0.1266 , 0.04619, 0.3663 ,\n",
       "       0.1958 , 0.2979 , 0.1064 , 0.3835 , 0.1477 , 0.6076 , 0.1678 ,\n",
       "       0.1402 , 0.7444 , 0.4225 , 0.3172 , 0.1975 , 0.09546, 0.131  ,\n",
       "       0.3542 , 0.1824 , 0.4203 , 0.1357 , 0.2002 , 0.06444, 0.1478 ,\n",
       "       0.3122 , 0.4244 , 0.1008 , 0.1607 , 0.1517 , 0.2521 , 0.2426 ,\n",
       "       0.08615, 0.3635 , 0.4665 , 0.1726 , 0.2049 , 0.2256 , 0.1758 ,\n",
       "       0.383  , 0.4478 , 0.4925 , 0.08298, 0.2474 , 0.2698 , 0.3064 ,\n",
       "       0.3171 , 0.7917 , 0.4193 , 0.448  , 0.1486 , 0.1141 , 0.6656 ,\n",
       "       0.2043 , 0.2117 , 0.1109 , 0.2315 , 0.2678 , 0.1636 , 0.2311 ,\n",
       "       0.2793 , 0.6577 , 0.2817 , 0.3583 , 0.161  , 0.12   , 0.2685 ,\n",
       "       0.1866 , 0.3725 , 0.1737 , 0.02729, 0.1937 , 0.1856 , 0.2968 ,\n",
       "       0.4791 , 0.3748 , 0.06191, 0.2472 , 0.144  , 0.1676 , 0.08614,\n",
       "       0.1839 , 0.1854 , 0.4648 , 0.3441 , 0.217  , 0.2116 , 0.2506 ,\n",
       "       0.3904 , 0.2302 , 0.9327 , 0.171  , 0.3206 , 0.3046 , 0.1879 ,\n",
       "       0.5343 , 0.04327, 0.26   , 0.2317 , 0.4034 , 0.2113 , 0.08971,\n",
       "       0.4238 , 0.2644 , 0.3913 , 0.1379 , 0.3331 , 0.4056 , 0.5401 ,\n",
       "       0.1442 , 0.221  , 0.3253 , 0.171  , 0.2031 , 0.135  , 0.2666 ,\n",
       "       0.08294, 0.3724 , 0.05445, 0.09866, 0.2042 , 0.1212 , 0.4245 ,\n",
       "       0.3235 , 0.1564 , 0.3094 , 0.6997 , 0.3842 , 0.2338 , 1.058  ,\n",
       "       0.07204, 0.2118 , 0.2158 , 0.2517 , 0.1646 , 0.1525 , 0.1843 ,\n",
       "       0.1517 , 0.116  , 0.2534 , 0.2431 , 0.1965 , 0.1049 , 0.1202 ,\n",
       "       0.3458 , 0.5849 , 0.5209 , 0.3251 , 0.1822 , 0.239  , 0.3619 ,\n",
       "       0.1822 , 0.06476, 0.4002 , 0.5046 , 0.5937 , 0.2566 , 0.2318 ,\n",
       "       0.1997 , 0.448  , 0.266  , 0.1807 , 0.2576 , 0.1808 , 0.04712,\n",
       "       0.1248 , 0.4097 , 0.1508 , 0.4059 , 0.2585 , 0.1881 , 0.2378 ,\n",
       "       0.1019 , 0.1346 , 0.2016 , 0.2275 , 0.5249 , 0.05836, 0.3299 ,\n",
       "       0.3511 , 0.05131, 0.4785 , 0.201  , 0.2074 , 0.2156 , 0.1711 ,\n",
       "       0.3949 , 0.1806 , 0.07057, 0.1574 , 0.1628 , 0.1773 , 0.2961 ,\n",
       "       0.1421 , 0.1843 , 0.06219, 0.2536 , 0.3026 , 0.4188 , 0.2176 ,\n",
       "       0.217  , 0.3625 , 0.09669, 0.1928 , 0.1871 , 0.085  , 0.303  ,\n",
       "       0.3735 , 0.1582 , 0.3371 , 0.1    , 0.165  , 0.1255 , 0.4462 ,\n",
       "       0.3583 , 0.1537 , 0.2649 , 0.2101 , 0.0937 , 0.1664 , 0.1516 ,\n",
       "       0.342  , 0.5917 , 0.2776 , 0.1851 , 0.2264 , 0.3578 , 0.1247 ,\n",
       "       0.2429 , 0.2414 , 0.1667 , 0.3124 , 0.1223 , 0.3161 , 0.1795 ,\n",
       "       0.1256 , 0.09052, 0.2096 , 0.1311 , 0.4827 , 0.06791, 0.104  ,\n",
       "       0.2884 , 0.2246 , 0.07087, 0.2006 , 0.3167 , 0.2996 , 0.07094,\n",
       "       0.5172 , 0.1233 , 0.4492 , 0.09976, 0.2196 , 0.1698 , 0.1291 ,\n",
       "       0.1232 , 0.4667 , 0.2297 , 0.3682 , 0.1105 , 0.4061 , 0.1231 ,\n",
       "       0.1546 , 0.1724 , 0.4257 , 0.3498 , 0.1751 , 0.1257 , 0.5804 ,\n",
       "       0.1381 , 0.07348, 0.1026 , 0.2327 , 0.3262 , 0.1765 , 0.2186 ,\n",
       "       0.6643 , 0.3416 , 0.1028 , 0.3429 , 0.173  , 0.09726, 0.9379 ,\n",
       "       0.1963 , 0.2791 , 0.2057 , 0.1845 , 0.1063 , 0.1773 , 0.3597 ,\n",
       "       0.1879 , 0.5954 , 0.07506, 0.2208 , 0.112  , 0.3055 , 0.3934 ,\n",
       "       0.7725 , 0.1924 , 0.1551 , 0.1432 , 0.1722 , 0.06542, 0.1542 ,\n",
       "       0.188  , 0.2399 , 0.4706 , 0.07776, 0.2037 , 0.2445 , 0.07348,\n",
       "       0.2009 , 0.2089 , 0.1963 , 0.3735 , 0.1812 , 0.1922 , 0.4402 ,\n",
       "       0.437  , 0.3416 , 0.4967 , 0.3345 , 0.1582 , 0.5775 , 0.5329 ,\n",
       "       0.2264 , 0.1415 , 0.3416 , 0.1506 , 0.0872 , 0.3214 , 0.2517 ,\n",
       "       0.07061, 0.1804 , 0.1982 , 0.0824 , 0.2735 , 0.155  , 0.1679 ,\n",
       "       0.292  , 0.1388 , 0.1648 , 0.1976 , 0.3846 , 0.207  , 0.1887 ,\n",
       "       0.2813 , 0.03432, 0.1346 , 0.2629 , 0.3309 , 0.5646 , 0.3101 ,\n",
       "       0.1072 , 0.2045 , 0.05494, 0.1885 , 0.659  , 0.1523 , 0.3559 ,\n",
       "       0.1376 , 0.1575 , 0.8663 , 0.1238 , 0.3841 , 0.4256 , 0.1788 ])"
      ]
     },
     "execution_count": 228,
     "metadata": {},
     "output_type": "execute_result"
    }
   ],
   "source": [
    "x_train[:, 25]"
   ]
  },
  {
   "cell_type": "code",
   "execution_count": 229,
   "metadata": {},
   "outputs": [
    {
     "data": {
      "text/plain": [
       "2.718281828459045"
      ]
     },
     "execution_count": 229,
     "metadata": {},
     "output_type": "execute_result"
    }
   ],
   "source": [
    "np.e"
   ]
  },
  {
   "cell_type": "code",
   "execution_count": 230,
   "metadata": {},
   "outputs": [],
   "source": [
    "a = x_train[:, 22\n",
    "           ][y_train==1]"
   ]
  },
  {
   "cell_type": "code",
   "execution_count": 231,
   "metadata": {},
   "outputs": [
    {
     "data": {
      "text/plain": [
       "array([ 88.14,  62.56,  88.81,  89.  ,  64.48,  82.66,  66.5 ,  97.17,\n",
       "        82.74,  93.63,  85.09,  94.22, 109.8 ,  73.07,  96.53,  79.26,\n",
       "        81.6 ,  65.74,  85.08,  84.16,  50.41,  93.22, 114.3 ,  88.54,\n",
       "        94.52,  78.44, 102.9 ,  68.81,  86.54,  88.87,  91.63,  78.  ,\n",
       "        78.27,  65.5 ,  83.9 , 100.4 , 105.8 ,  82.08,  80.92, 104.6 ,\n",
       "        76.51,  95.23,  75.4 ,  73.23,  86.04,  81.23,  71.79,  79.29,\n",
       "        79.73,  88.91,  80.78,  83.12,  77.98,  91.99,  84.48,  82.14,\n",
       "        90.67, 113.1 ,  70.76, 102.8 ,  84.11,  59.9 ,  87.4 ,  86.97,\n",
       "        84.46,  69.47,  89.69, 112.5 ,  88.1 ,  86.57,  65.59,  71.98,\n",
       "        87.38,  69.1 ,  64.01,  97.19,  57.26,  89.02,  59.16, 103.1 ,\n",
       "        96.74,  88.12,  97.58, 107.1 , 102.5 ,  82.98, 114.1 ,  86.  ,\n",
       "        72.62,  97.67,  84.35,  62.86,  99.71, 101.1 ,  54.49, 105.9 ,\n",
       "       107.  , 100.9 ,  98.4 ,  85.13,  70.89,  81.25,  79.12,  67.88,\n",
       "        96.59, 104.5 ,  62.25,  86.43,  85.07,  96.66,  68.62,  90.24,\n",
       "       101.7 ,  71.94,  93.76,  70.1 ,  87.82,  88.52,  69.05,  81.93,\n",
       "        92.82,  72.22, 120.3 ,  86.2 ,  80.79,  86.82,  92.12,  76.25,\n",
       "        91.36,  98.  ,  79.76,  99.21,  69.57,  76.08, 100.3 ,  78.07,\n",
       "        86.7 ,  92.15,  88.7 , 101.6 ,  95.29,  87.36,  66.53,  78.78,\n",
       "        88.13,  86.26,  95.29, 110.4 ,  89.71,  91.62,  87.65,  95.1 ,\n",
       "        75.79, 105.  ,  86.12,  84.48,  83.74,  76.51,  76.53,  83.61,\n",
       "        99.43,  96.31,  85.51,  89.27,  81.76,  65.27,  88.28,  91.38,\n",
       "       105.9 ,  96.05,  75.39,  95.78,  95.48,  82.04,  87.22,  89.88,\n",
       "        99.  ,  58.36,  79.15,  99.7 ,  99.31,  96.69,  78.27,  74.35,\n",
       "       109.7 ,  93.85,  76.91, 108.5 ,  84.7 , 109.1 ,  80.88, 111.4 ,\n",
       "        79.57,  86.65,  71.11, 108.1 ,  68.09,  67.03,  96.09,  82.96,\n",
       "        67.08,  84.93,  92.94, 101.9 ,  77.79,  89.  ,  79.62,  84.53,\n",
       "        99.16,  98.84,  73.2 ,  84.42,  71.08, 103.7 , 101.2 , 101.4 ,\n",
       "        81.41,  69.92,  99.66, 127.1 ,  83.99,  62.06,  94.11,  84.08,\n",
       "        90.82,  97.82,  96.42,  98.37,  86.67,  73.66,  92.48,  74.08,\n",
       "        73.68,  71.68, 113.7 ,  86.16, 112.1 ,  97.66,  87.24,  85.56,\n",
       "       112.  ,  91.29,  88.33,  63.34,  72.42,  92.04,  79.67,  79.82,\n",
       "       115.9 ,  69.35,  70.88,  85.22,  87.54,  83.85,  99.17,  77.37,\n",
       "       114.2 ,  90.72,  99.48,  71.25, 110.2 ,  96.08, 100.2 , 104.4 ,\n",
       "        90.81,  81.81,  87.36,  82.28,  85.67,  92.74,  79.73,  72.01,\n",
       "       108.6 , 102.3 , 117.2 , 103.9 ,  79.93, 106.  ,  66.61,  92.2 ,\n",
       "        88.18,  92.  ,  89.61, 115.  ,  94.17,  75.19,  83.09, 107.4 ,\n",
       "        87.64, 104.5 ,  86.6 ])"
      ]
     },
     "execution_count": 231,
     "metadata": {},
     "output_type": "execute_result"
    }
   ],
   "source": [
    "a"
   ]
  },
  {
   "cell_type": "code",
   "execution_count": 232,
   "metadata": {},
   "outputs": [
    {
     "data": {
      "text/plain": [
       "87.42752577319588"
      ]
     },
     "execution_count": 232,
     "metadata": {},
     "output_type": "execute_result"
    }
   ],
   "source": [
    "np.sum(a)/a.shape[0]"
   ]
  },
  {
   "cell_type": "code",
   "execution_count": null,
   "metadata": {},
   "outputs": [],
   "source": [
    "\n",
    "\n"
   ]
  }
 ],
 "metadata": {
  "kernelspec": {
   "display_name": "Python 3",
   "language": "python",
   "name": "python3"
  },
  "language_info": {
   "codemirror_mode": {
    "name": "ipython",
    "version": 3
   },
   "file_extension": ".py",
   "mimetype": "text/x-python",
   "name": "python",
   "nbconvert_exporter": "python",
   "pygments_lexer": "ipython3",
   "version": "3.6.8"
  }
 },
 "nbformat": 4,
 "nbformat_minor": 2
}
