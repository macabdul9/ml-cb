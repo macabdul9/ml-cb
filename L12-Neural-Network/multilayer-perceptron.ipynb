{
 "cells": [
  {
   "cell_type": "code",
   "execution_count": 2,
   "metadata": {},
   "outputs": [],
   "source": [
    "import numpy as np"
   ]
  },
  {
   "cell_type": "markdown",
   "metadata": {},
   "source": [
    "### model parameter"
   ]
  },
  {
   "cell_type": "code",
   "execution_count": 5,
   "metadata": {},
   "outputs": [],
   "source": [
    "input_size = 2 #number of features\n",
    "layers = [4, 3] #number layers and neuron(perceptron) in each layer\n",
    "output_size = 2"
   ]
  },
  {
   "cell_type": "code",
   "execution_count": 15,
   "metadata": {},
   "outputs": [],
   "source": [
    "def softmax(a):\n",
    "    e_pa = np.exp(a)\n",
    "    ans = e_pa/np.sum(e_pa, axis=1, keepdims=True)\n",
    "    return ans"
   ]
  },
  {
   "cell_type": "code",
   "execution_count": 19,
   "metadata": {},
   "outputs": [
    {
     "data": {
      "text/plain": [
       "array([[4.53958078e-05, 4.53958078e-05, 9.99909208e-01],\n",
       "       [4.99988650e-01, 4.99988650e-01, 2.26994496e-05]])"
      ]
     },
     "execution_count": 19,
     "metadata": {},
     "output_type": "execute_result"
    }
   ],
   "source": [
    "softmax(np.array([[10, 10, 20], [20, 20, 10]]))"
   ]
  },
  {
   "cell_type": "code",
   "execution_count": 14,
   "metadata": {},
   "outputs": [],
   "source": [
    "class NeuralNetwork:\n",
    "    \n",
    "    def __init__(self, input_size, layers, output_size):\n",
    "        np.random.seed(0) #everytime we initalize our weight we can reproduce the result\n",
    "        \n",
    "        model = {}\n",
    "        #first layer\n",
    "        model['W1'] = np.random.rand(input_size, layers[0])\n",
    "        model['b1'] = np.zeros(1, layers[0])\n",
    "        #second layer\n",
    "        model['W2'] = np.random.rand(layers[0], layers[1])\n",
    "        model['b2'] = np.zeros(1, layers[1])\n",
    "        #third layer / outpur layer\n",
    "        model['W3'] = np.random.rand(layers[1], output_size)\n",
    "        model['b3'] = np.zeros(1, output_size)\n",
    "        \n",
    "        self.model = model\n",
    "        \n",
    "    \n",
    "    def forward(self, x):\n",
    "        W1, W2, W3 = self.model['W1'], self.model['W2'], self.model['W3']\n",
    "        b1, b2, b3 = self.model['b1'], self.model['b2'], self.model['b3']\n",
    "        \n",
    "        z1 = np.dot(x, W1) + b1\n",
    "        a1 = np.tanh(z1)\n",
    "        \n",
    "        z2 = np.dot(x, W2) + b2\n",
    "        a2 = np.tanh(z2)\n",
    "        \n",
    "        z3 = np.dot(x, W3) + b3\n",
    "        a3 = np.tanh(z3)\n",
    "        \n",
    "        y_ = softmax(z3)\n",
    "        \n",
    "        "
   ]
  },
  {
   "cell_type": "code",
   "execution_count": 12,
   "metadata": {},
   "outputs": [],
   "source": [
    "W1 = np.random.rand(input_size, layers[0])"
   ]
  },
  {
   "cell_type": "code",
   "execution_count": 13,
   "metadata": {},
   "outputs": [
    {
     "data": {
      "text/plain": [
       "array([[0.47406946, 0.21470457, 0.79878621, 0.34016597],\n",
       "       [0.92253856, 0.77462476, 0.89941911, 0.31275517]])"
      ]
     },
     "execution_count": 13,
     "metadata": {},
     "output_type": "execute_result"
    }
   ],
   "source": [
    "W1"
   ]
  },
  {
   "cell_type": "code",
   "execution_count": null,
   "metadata": {},
   "outputs": [],
   "source": []
  }
 ],
 "metadata": {
  "kernelspec": {
   "display_name": "Python 3",
   "language": "python",
   "name": "python3"
  },
  "language_info": {
   "codemirror_mode": {
    "name": "ipython",
    "version": 3
   },
   "file_extension": ".py",
   "mimetype": "text/x-python",
   "name": "python",
   "nbconvert_exporter": "python",
   "pygments_lexer": "ipython3",
   "version": "3.6.8"
  }
 },
 "nbformat": 4,
 "nbformat_minor": 2
}
