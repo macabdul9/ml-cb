{
  "nbformat": 4,
  "nbformat_minor": 0,
  "metadata": {
    "colab": {
      "name": "inception-network.ipynb",
      "version": "0.3.2",
      "provenance": [],
      "collapsed_sections": [],
      "machine_shape": "hm"
    },
    "kernelspec": {
      "name": "python3",
      "display_name": "Python 3"
    },
    "accelerator": "GPU"
  },
  "cells": [
    {
      "cell_type": "code",
      "metadata": {
        "id": "93UNf0ab9acG",
        "colab_type": "code",
        "colab": {}
      },
      "source": [
        "import warnings\n",
        "warnings.filterwarnings('ignore')"
      ],
      "execution_count": 0,
      "outputs": []
    },
    {
      "cell_type": "code",
      "metadata": {
        "id": "C7HayA8KX-3-",
        "colab_type": "code",
        "colab": {}
      },
      "source": [
        "import os\n",
        "import shutil"
      ],
      "execution_count": 0,
      "outputs": []
    },
    {
      "cell_type": "code",
      "metadata": {
        "id": "TBDwUksR-U0Z",
        "colab_type": "code",
        "colab": {}
      },
      "source": [
        "import numpy as np\n",
        "import pandas as pd\n",
        "import matplotlib.pyplot as plt\n",
        "import cv2 as cv"
      ],
      "execution_count": 0,
      "outputs": []
    },
    {
      "cell_type": "code",
      "metadata": {
        "id": "0KdHMTRu9mwC",
        "colab_type": "code",
        "outputId": "bcbed57e-d543-4200-e5a1-7f2d76c691d6",
        "colab": {
          "base_uri": "https://localhost:8080/",
          "height": 34
        }
      },
      "source": [
        "import tensorflow as tf\n",
        "import keras\n",
        "from keras.layers import *\n",
        "from keras.models import *\n",
        "from keras.optimizers import *\n",
        "from keras.callbacks import *"
      ],
      "execution_count": 0,
      "outputs": [
        {
          "output_type": "stream",
          "text": [
            "Using TensorFlow backend.\n"
          ],
          "name": "stderr"
        }
      ]
    },
    {
      "cell_type": "markdown",
      "metadata": {
        "id": "mEuaxRIOXiKL",
        "colab_type": "text"
      },
      "source": [
        "## Dataset Pipeline"
      ]
    },
    {
      "cell_type": "code",
      "metadata": {
        "id": "-I_y4Cm49-p7",
        "colab_type": "code",
        "colab": {}
      },
      "source": [
        "# !wget https://he-public-data.s3-ap-southeast-1.amazonaws.com/HE_Challenge_data.zip"
      ],
      "execution_count": 0,
      "outputs": []
    },
    {
      "cell_type": "code",
      "metadata": {
        "id": "uN4t6J2H-jE9",
        "colab_type": "code",
        "colab": {}
      },
      "source": [
        "# !unzip HE_Challenge_data"
      ],
      "execution_count": 0,
      "outputs": []
    },
    {
      "cell_type": "code",
      "metadata": {
        "id": "qjkLZ6_aWHaq",
        "colab_type": "code",
        "colab": {}
      },
      "source": [
        "train = pd.read_csv('data/train.csv')\n",
        "test = pd.read_csv('data/test.csv')\n",
        "sample = pd.read_csv('data/sample_submission.csv')"
      ],
      "execution_count": 0,
      "outputs": []
    },
    {
      "cell_type": "code",
      "metadata": {
        "id": "gGqN7qvnBJnF",
        "colab_type": "code",
        "colab": {}
      },
      "source": [
        "train = train.values"
      ],
      "execution_count": 0,
      "outputs": []
    },
    {
      "cell_type": "code",
      "metadata": {
        "id": "noxEQgzYWUo9",
        "colab_type": "code",
        "colab": {}
      },
      "source": [
        "folders, num_samples = np.unique(train[:, 1], return_counts=True)"
      ],
      "execution_count": 0,
      "outputs": []
    },
    {
      "cell_type": "code",
      "metadata": {
        "id": "rlDuxCzjYKS4",
        "colab_type": "code",
        "colab": {}
      },
      "source": [
        "# make subdirectory of each class\n",
        "for folder in folders:\n",
        "  p = os.path.join('data/train', str(folder))\n",
        "  if not os.path.isdir(p):\n",
        "    os.mkdir(p)\n"
      ],
      "execution_count": 0,
      "outputs": []
    },
    {
      "cell_type": "code",
      "metadata": {
        "id": "gHbhhCBaYS4M",
        "colab_type": "code",
        "colab": {}
      },
      "source": [
        "for i in range(train.shape[0]):\n",
        "  dest = os.path.join('data/train/', str(train[i][1]))\n",
        "  src = os.path.join('data/train', str(train[i][0]) + '.jpg')\n",
        "  shutil.move(src, dest)"
      ],
      "execution_count": 0,
      "outputs": []
    },
    {
      "cell_type": "markdown",
      "metadata": {
        "id": "ph8HkEYzYhUO",
        "colab_type": "text"
      },
      "source": [
        "#### training-validation split"
      ]
    },
    {
      "cell_type": "code",
      "metadata": {
        "id": "ctKKn6VvYfCk",
        "colab_type": "code",
        "colab": {}
      },
      "source": [
        "SPLIT = 0.95 # 95% for training 5% for validation"
      ],
      "execution_count": 0,
      "outputs": []
    },
    {
      "cell_type": "code",
      "metadata": {
        "id": "KUHkif7WYoPh",
        "colab_type": "code",
        "colab": {}
      },
      "source": [
        "\n",
        "\n",
        "# create the validation directory\n",
        "if not os.path.isdir('data/val'):\n",
        "  os.mkdir('data/val')\n",
        "\n"
      ],
      "execution_count": 0,
      "outputs": []
    },
    {
      "cell_type": "code",
      "metadata": {
        "id": "tU_FfilnYqjL",
        "colab_type": "code",
        "colab": {}
      },
      "source": [
        "# creating subdirectories (of each category) in validation directory\n",
        "for folder in folders:\n",
        "  p = os.path.join('data/val', str(folder))\n",
        "  if not os.path.isdir(p):\n",
        "    os.mkdir(p)\n"
      ],
      "execution_count": 0,
      "outputs": []
    },
    {
      "cell_type": "code",
      "metadata": {
        "id": "iF5j5fQ8Ytlw",
        "colab_type": "code",
        "colab": {}
      },
      "source": [
        "# move the 3% data from training directory to validation directory\n",
        "for f in folders:\n",
        "  path = 'data/train/'+str(f)\n",
        "  imgs = os.listdir(path)\n",
        "  split_size = int(SPLIT*len(imgs))\n",
        "  file_to_move = imgs[split_size:]\n",
        "  \n",
        "  for img_f in file_to_move:\n",
        "    src = os.path.join(path, img_f)\n",
        "    dest = os.path.join('data/val/'+str(f), img_f)\n",
        "    shutil.move(src, dest)"
      ],
      "execution_count": 0,
      "outputs": []
    },
    {
      "cell_type": "markdown",
      "metadata": {
        "id": "7hxwiGUGYzxR",
        "colab_type": "text"
      },
      "source": [
        "### Data Augmentation\n"
      ]
    },
    {
      "cell_type": "code",
      "metadata": {
        "id": "8GIq5w-EY2Eg",
        "colab_type": "code",
        "colab": {}
      },
      "source": [
        "from keras.preprocessing.image import ImageDataGenerator"
      ],
      "execution_count": 0,
      "outputs": []
    },
    {
      "cell_type": "code",
      "metadata": {
        "id": "G8pCDZk7Y4aB",
        "colab_type": "code",
        "colab": {}
      },
      "source": [
        "train_img_gen = ImageDataGenerator(\n",
        "    rescale = 1/255.0,\n",
        "    rotation_range = 60,\n",
        "    width_shift_range = 0.2,\n",
        "    height_shift_range = 0.2,\n",
        "    shear_range = 0.3,\n",
        "    zoom_range = 0.3,\n",
        "    horizontal_flip = True,\n",
        ")\n",
        "val_img_gen = ImageDataGenerator(\n",
        "    rescale = 1/255.0,\n",
        ")\n"
      ],
      "execution_count": 0,
      "outputs": []
    },
    {
      "cell_type": "code",
      "metadata": {
        "id": "8UXU6oJ0Y8vT",
        "colab_type": "code",
        "outputId": "7a21f4e4-aa5c-454f-e1dd-35896c46563f",
        "colab": {
          "base_uri": "https://localhost:8080/",
          "height": 52
        }
      },
      "source": [
        "train_gen = train_img_gen.flow_from_directory(\n",
        "    'data/train',\n",
        "    #target_size = (224, 224),\n",
        "    batch_size = 8,\n",
        "    \n",
        "\n",
        ")\n",
        "val_gen = val_img_gen.flow_from_directory(\n",
        "    'data/val/',\n",
        "    #target_size = (224, 224),\n",
        "    batch_size = 8\n",
        ")"
      ],
      "execution_count": 0,
      "outputs": [
        {
          "output_type": "stream",
          "text": [
            "Found 17562 images belonging to 102 classes.\n",
            "Found 978 images belonging to 102 classes.\n"
          ],
          "name": "stdout"
        }
      ]
    },
    {
      "cell_type": "code",
      "metadata": {
        "id": "L6u9PUPLYxlT",
        "colab_type": "code",
        "outputId": "4daaefbe-de42-4409-ed7b-e97d1900bdd3",
        "colab": {
          "base_uri": "https://localhost:8080/",
          "height": 34
        }
      },
      "source": [
        "for (x, y) in train_gen:\n",
        "  print(x.shape, y.shape)\n",
        "  break"
      ],
      "execution_count": 0,
      "outputs": [
        {
          "output_type": "stream",
          "text": [
            "(8, 256, 256, 3) (8, 102)\n"
          ],
          "name": "stdout"
        }
      ]
    },
    {
      "cell_type": "markdown",
      "metadata": {
        "id": "BTTRW5bOCvhs",
        "colab_type": "text"
      },
      "source": [
        "### Inception Network architecture"
      ]
    },
    {
      "cell_type": "code",
      "metadata": {
        "id": "D-yDHR8NCDso",
        "colab_type": "code",
        "colab": {}
      },
      "source": [
        "def inception_module(x, filters_1x1, filters_3x3_reduce, filters_3x3, filters_5x5_reduce, filters_5x5, filters_pool_proj, name=None):\n",
        "  \n",
        "  # 1x1 convolution\n",
        "  conv_1x1 = Conv2D(filters_1x1, (1, 1), padding = 'same', activation='relu', kernel_initializer=kernel_init, bias_initializer=bias_init)(x)\n",
        "  \n",
        "  # 3x3 convolution 1x1 convolution to reduce the computation\n",
        "  conv_3x3 = Conv2D(filters_3x3_reduce, (1, 1), padding='same', activation='relu', kernel_initializer=kernel_init, bias_initializer=bias_init)(x)\n",
        "  conv_3x3 = Conv2D(filters_3x3, (3, 3), padding='same', activation='relu', kernel_initializer=kernel_init, bias_initializer=bias_init)(conv_3x3)\n",
        "  \n",
        "  # 5x5 convolution 1x1 convolution to reduce the computation\n",
        "  conv_5x5 = Conv2D(filters_5x5_reduce, (1, 1), padding='same', activation='relu', kernel_initializer=kernel_init, bias_initializer=bias_init)(x)\n",
        "  conv_5x5 = Conv2D(filters_5x5, (5, 5), padding='same', activation='relu', kernel_initializer=kernel_init, bias_initializer=bias_init)(conv_5x5)\n",
        "  \n",
        "  # max pooling 1x1 convolution to reduce the computation\n",
        "  pool_proj = MaxPool2D((3, 3), strides=(1, 1), padding='same')(x)\n",
        "  pool_proj = Conv2D(filters_pool_proj, (1, 1), padding='same', activation='relu', kernel_initializer=kernel_init, bias_initializer=bias_init)(pool_proj)\n",
        "  \n",
        "  # concatenate em' all\n",
        "  output = concatenate([conv_1x1, conv_3x3, conv_5x5, pool_proj], axis=3, name=name)\n",
        "  \n",
        "  return output\n",
        "   \n",
        "  \n",
        "  \n",
        "  "
      ],
      "execution_count": 0,
      "outputs": []
    },
    {
      "cell_type": "code",
      "metadata": {
        "id": "sM6QekZF5kYZ",
        "colab_type": "code",
        "colab": {}
      },
      "source": [
        "kernel_init = keras.initializers.glorot_uniform()\n",
        "bias_init = keras.initializers.Constant(value=0.2)"
      ],
      "execution_count": 0,
      "outputs": []
    },
    {
      "cell_type": "code",
      "metadata": {
        "id": "zNtLXg0IDhgb",
        "colab_type": "code",
        "colab": {}
      },
      "source": [
        "input_layer = Input(shape=(256, 256, 3))"
      ],
      "execution_count": 0,
      "outputs": []
    },
    {
      "cell_type": "code",
      "metadata": {
        "id": "MCjOiJXiX4p0",
        "colab_type": "code",
        "colab": {}
      },
      "source": [
        "model = Conv2D(64, (7, 7), strides=(2, 2), padding='same', activation='relu', name='conv_7x7/2', kernel_initializer=kernel_init, bias_initializer=bias_init)(input_layer)"
      ],
      "execution_count": 0,
      "outputs": []
    },
    {
      "cell_type": "code",
      "metadata": {
        "id": "Qeu_VcCUYnhG",
        "colab_type": "code",
        "colab": {}
      },
      "source": [
        "model = MaxPool2D(pool_size=(3, 3), strides=(2, 2), padding='same', name='maxpool_3x3/2')(model)"
      ],
      "execution_count": 0,
      "outputs": []
    },
    {
      "cell_type": "code",
      "metadata": {
        "id": "hsa7S_gBaJpD",
        "colab_type": "code",
        "colab": {}
      },
      "source": [
        "model = BatchNormalization(axis=-1, momentum=0.99, epsilon=0.001, center=True, scale=True, beta_initializer='zeros', gamma_initializer='ones', moving_mean_initializer='zeros', moving_variance_initializer='ones', beta_regularizer=None, gamma_regularizer=None, beta_constraint=None, gamma_constraint=None)(model)"
      ],
      "execution_count": 0,
      "outputs": []
    },
    {
      "cell_type": "code",
      "metadata": {
        "id": "1r1P2GEya2K6",
        "colab_type": "code",
        "colab": {}
      },
      "source": [
        "model = Conv2D(64, (1, 1), strides=(1, 1), padding='same', activation='relu', name='conv_1x1/3', kernel_initializer=kernel_init, bias_initializer=bias_init)(model)"
      ],
      "execution_count": 0,
      "outputs": []
    },
    {
      "cell_type": "code",
      "metadata": {
        "id": "MIDI9WsHbh-f",
        "colab_type": "code",
        "colab": {}
      },
      "source": [
        "model = Conv2D(192, (3, 3), padding='same', strides=(1, 1), activation='relu', name='conv3x3/1')(model)"
      ],
      "execution_count": 0,
      "outputs": []
    },
    {
      "cell_type": "code",
      "metadata": {
        "id": "KUJhI41ZbrJl",
        "colab_type": "code",
        "colab": {}
      },
      "source": [
        "model = MaxPool2D((3, 3), padding='same', strides=(2, 2), name='max_pool_2_3x3/2')(model)"
      ],
      "execution_count": 0,
      "outputs": []
    },
    {
      "cell_type": "code",
      "metadata": {
        "id": "_RuIfIOKbvAg",
        "colab_type": "code",
        "colab": {}
      },
      "source": [
        "model = inception_module(model,\n",
        "                     filters_1x1=64,\n",
        "                     filters_3x3_reduce=96,\n",
        "                     filters_3x3=128,\n",
        "                     filters_5x5_reduce=16,\n",
        "                     filters_5x5=32,\n",
        "                     filters_pool_proj=32,\n",
        "                     name='inception_3a')\n",
        "\n",
        "model = inception_module(model,\n",
        "                     filters_1x1=128,\n",
        "                     filters_3x3_reduce=128,\n",
        "                     filters_3x3=192,\n",
        "                     filters_5x5_reduce=32,\n",
        "                     filters_5x5=96,\n",
        "                     filters_pool_proj=64,\n",
        "                     name='inception_3b')\n",
        "\n",
        "model = MaxPool2D((3, 3), padding='same', strides=(2, 2), name='max_pool_3_3x3/2')(model)\n",
        "\n",
        "model = inception_module(model,\n",
        "                     filters_1x1=192,\n",
        "                     filters_3x3_reduce=96,\n",
        "                     filters_3x3=208,\n",
        "                     filters_5x5_reduce=16,\n",
        "                     filters_5x5=48,\n",
        "                     filters_pool_proj=64,\n",
        "                     name='inception_4a')\n",
        "\n",
        "\n",
        "m1 = AveragePooling2D((5, 5), strides=3)(model)\n",
        "m1 = Conv2D(128, (1, 1), padding='same', activation='relu')(m1)\n",
        "m1 = Flatten()(m1)\n",
        "m1 = Dense(1024, activation='relu')(m1)\n",
        "m1 = Dropout(0.25)(m1)\n",
        "m1 = Dense(102, activation='softmax', name='auxilliary_output_1')(m1)\n",
        "\n",
        "model = inception_module(model,\n",
        "                     filters_1x1=160,\n",
        "                     filters_3x3_reduce=112,\n",
        "                     filters_3x3=224,\n",
        "                     filters_5x5_reduce=24,\n",
        "                     filters_5x5=64,\n",
        "                     filters_pool_proj=64,\n",
        "                     name='inception_4b')\n",
        "\n",
        "model = inception_module(model,\n",
        "                     filters_1x1=128,\n",
        "                     filters_3x3_reduce=128,\n",
        "                     filters_3x3=256,\n",
        "                     filters_5x5_reduce=24,\n",
        "                     filters_5x5=64,\n",
        "                     filters_pool_proj=64,\n",
        "                     name='inception_4c')\n",
        "\n",
        "model = inception_module(model,\n",
        "                     filters_1x1=112,\n",
        "                     filters_3x3_reduce=144,\n",
        "                     filters_3x3=288,\n",
        "                     filters_5x5_reduce=32,\n",
        "                     filters_5x5=64,\n",
        "                     filters_pool_proj=64,\n",
        "                     name='inception_4d')\n",
        "\n",
        "\n",
        "m2 = AveragePooling2D((5, 5), strides=3)(model)\n",
        "m2 = Conv2D(128, (1, 1), padding='same', activation='relu')(m2)\n",
        "m2 = Flatten()(m2)\n",
        "m2 = Dense(1024, activation='relu')(m2)\n",
        "m2 = Dropout(0.25)(m2)\n",
        "m2 = Dense(102, activation='softmax', name='auxilliary_output_2')(m2)\n",
        "\n",
        "model = inception_module(model,\n",
        "                     filters_1x1=256,\n",
        "                     filters_3x3_reduce=160,\n",
        "                     filters_3x3=320,\n",
        "                     filters_5x5_reduce=32,\n",
        "                     filters_5x5=128,\n",
        "                     filters_pool_proj=128,\n",
        "                     name='inception_4e')\n",
        "\n",
        "model = MaxPool2D((3, 3), padding='same', strides=(2, 2), name='max_pool_4_3x3/2')(model)\n",
        "\n",
        "model = inception_module(model,\n",
        "                     filters_1x1=256,\n",
        "                     filters_3x3_reduce=160,\n",
        "                     filters_3x3=320,\n",
        "                     filters_5x5_reduce=32,\n",
        "                     filters_5x5=128,\n",
        "                     filters_pool_proj=128,\n",
        "                     name='inception_5a')\n",
        "\n",
        "model = inception_module(model,\n",
        "                     filters_1x1=384,\n",
        "                     filters_3x3_reduce=192,\n",
        "                     filters_3x3=384,\n",
        "                     filters_5x5_reduce=48,\n",
        "                     filters_5x5=128,\n",
        "                     filters_pool_proj=128,\n",
        "                     name='inception_5b')\n",
        "\n",
        "model = GlobalAveragePooling2D(name='avg_pool_5_3x3/1')(model)\n",
        "\n",
        "model = Dropout(0.25)(model)\n",
        "\n",
        "model = Dense(102, activation='softmax', name='output')(model)"
      ],
      "execution_count": 0,
      "outputs": []
    },
    {
      "cell_type": "code",
      "metadata": {
        "id": "ymHTKFwuc1C1",
        "colab_type": "code",
        "colab": {}
      },
      "source": [
        "model = Model(input_layer, outputs = model, name='inception_v1')"
      ],
      "execution_count": 0,
      "outputs": []
    },
    {
      "cell_type": "code",
      "metadata": {
        "id": "U8ibcshmc779",
        "colab_type": "code",
        "outputId": "22cec053-baa4-4b99-e500-f55eb0a12df0",
        "colab": {
          "base_uri": "https://localhost:8080/",
          "height": 1000
        }
      },
      "source": [
        "model.summary()"
      ],
      "execution_count": 0,
      "outputs": [
        {
          "output_type": "stream",
          "text": [
            "__________________________________________________________________________________________________\n",
            "Layer (type)                    Output Shape         Param #     Connected to                     \n",
            "==================================================================================================\n",
            "input_7 (InputLayer)            (None, 256, 256, 3)  0                                            \n",
            "__________________________________________________________________________________________________\n",
            "conv_7x7/2 (Conv2D)             (None, 128, 128, 64) 9472        input_7[0][0]                    \n",
            "__________________________________________________________________________________________________\n",
            "maxpool_3x3/2 (MaxPooling2D)    (None, 64, 64, 64)   0           conv_7x7/2[0][0]                 \n",
            "__________________________________________________________________________________________________\n",
            "batch_normalization_6 (BatchNor (None, 64, 64, 64)   256         maxpool_3x3/2[0][0]              \n",
            "__________________________________________________________________________________________________\n",
            "conv_1x1/3 (Conv2D)             (None, 64, 64, 64)   4160        batch_normalization_6[0][0]      \n",
            "__________________________________________________________________________________________________\n",
            "conv3x3/1 (Conv2D)              (None, 64, 64, 192)  110784      conv_1x1/3[0][0]                 \n",
            "__________________________________________________________________________________________________\n",
            "max_pool_2_3x3/2 (MaxPooling2D) (None, 32, 32, 192)  0           conv3x3/1[0][0]                  \n",
            "__________________________________________________________________________________________________\n",
            "conv2d_226 (Conv2D)             (None, 32, 32, 96)   18528       max_pool_2_3x3/2[0][0]           \n",
            "__________________________________________________________________________________________________\n",
            "conv2d_228 (Conv2D)             (None, 32, 32, 16)   3088        max_pool_2_3x3/2[0][0]           \n",
            "__________________________________________________________________________________________________\n",
            "max_pooling2d_37 (MaxPooling2D) (None, 32, 32, 192)  0           max_pool_2_3x3/2[0][0]           \n",
            "__________________________________________________________________________________________________\n",
            "conv2d_225 (Conv2D)             (None, 32, 32, 64)   12352       max_pool_2_3x3/2[0][0]           \n",
            "__________________________________________________________________________________________________\n",
            "conv2d_227 (Conv2D)             (None, 32, 32, 128)  110720      conv2d_226[0][0]                 \n",
            "__________________________________________________________________________________________________\n",
            "conv2d_229 (Conv2D)             (None, 32, 32, 32)   12832       conv2d_228[0][0]                 \n",
            "__________________________________________________________________________________________________\n",
            "conv2d_230 (Conv2D)             (None, 32, 32, 32)   6176        max_pooling2d_37[0][0]           \n",
            "__________________________________________________________________________________________________\n",
            "inception_3a (Concatenate)      (None, 32, 32, 256)  0           conv2d_225[0][0]                 \n",
            "                                                                 conv2d_227[0][0]                 \n",
            "                                                                 conv2d_229[0][0]                 \n",
            "                                                                 conv2d_230[0][0]                 \n",
            "__________________________________________________________________________________________________\n",
            "conv2d_232 (Conv2D)             (None, 32, 32, 128)  32896       inception_3a[0][0]               \n",
            "__________________________________________________________________________________________________\n",
            "conv2d_234 (Conv2D)             (None, 32, 32, 32)   8224        inception_3a[0][0]               \n",
            "__________________________________________________________________________________________________\n",
            "max_pooling2d_38 (MaxPooling2D) (None, 32, 32, 256)  0           inception_3a[0][0]               \n",
            "__________________________________________________________________________________________________\n",
            "conv2d_231 (Conv2D)             (None, 32, 32, 128)  32896       inception_3a[0][0]               \n",
            "__________________________________________________________________________________________________\n",
            "conv2d_233 (Conv2D)             (None, 32, 32, 192)  221376      conv2d_232[0][0]                 \n",
            "__________________________________________________________________________________________________\n",
            "conv2d_235 (Conv2D)             (None, 32, 32, 96)   76896       conv2d_234[0][0]                 \n",
            "__________________________________________________________________________________________________\n",
            "conv2d_236 (Conv2D)             (None, 32, 32, 64)   16448       max_pooling2d_38[0][0]           \n",
            "__________________________________________________________________________________________________\n",
            "inception_3b (Concatenate)      (None, 32, 32, 480)  0           conv2d_231[0][0]                 \n",
            "                                                                 conv2d_233[0][0]                 \n",
            "                                                                 conv2d_235[0][0]                 \n",
            "                                                                 conv2d_236[0][0]                 \n",
            "__________________________________________________________________________________________________\n",
            "max_pool_3_3x3/2 (MaxPooling2D) (None, 16, 16, 480)  0           inception_3b[0][0]               \n",
            "__________________________________________________________________________________________________\n",
            "conv2d_238 (Conv2D)             (None, 16, 16, 96)   46176       max_pool_3_3x3/2[0][0]           \n",
            "__________________________________________________________________________________________________\n",
            "conv2d_240 (Conv2D)             (None, 16, 16, 16)   7696        max_pool_3_3x3/2[0][0]           \n",
            "__________________________________________________________________________________________________\n",
            "max_pooling2d_39 (MaxPooling2D) (None, 16, 16, 480)  0           max_pool_3_3x3/2[0][0]           \n",
            "__________________________________________________________________________________________________\n",
            "conv2d_237 (Conv2D)             (None, 16, 16, 192)  92352       max_pool_3_3x3/2[0][0]           \n",
            "__________________________________________________________________________________________________\n",
            "conv2d_239 (Conv2D)             (None, 16, 16, 208)  179920      conv2d_238[0][0]                 \n",
            "__________________________________________________________________________________________________\n",
            "conv2d_241 (Conv2D)             (None, 16, 16, 48)   19248       conv2d_240[0][0]                 \n",
            "__________________________________________________________________________________________________\n",
            "conv2d_242 (Conv2D)             (None, 16, 16, 64)   30784       max_pooling2d_39[0][0]           \n",
            "__________________________________________________________________________________________________\n",
            "inception_4a (Concatenate)      (None, 16, 16, 512)  0           conv2d_237[0][0]                 \n",
            "                                                                 conv2d_239[0][0]                 \n",
            "                                                                 conv2d_241[0][0]                 \n",
            "                                                                 conv2d_242[0][0]                 \n",
            "__________________________________________________________________________________________________\n",
            "conv2d_245 (Conv2D)             (None, 16, 16, 112)  57456       inception_4a[0][0]               \n",
            "__________________________________________________________________________________________________\n",
            "conv2d_247 (Conv2D)             (None, 16, 16, 24)   12312       inception_4a[0][0]               \n",
            "__________________________________________________________________________________________________\n",
            "max_pooling2d_40 (MaxPooling2D) (None, 16, 16, 512)  0           inception_4a[0][0]               \n",
            "__________________________________________________________________________________________________\n",
            "conv2d_244 (Conv2D)             (None, 16, 16, 160)  82080       inception_4a[0][0]               \n",
            "__________________________________________________________________________________________________\n",
            "conv2d_246 (Conv2D)             (None, 16, 16, 224)  226016      conv2d_245[0][0]                 \n",
            "__________________________________________________________________________________________________\n",
            "conv2d_248 (Conv2D)             (None, 16, 16, 64)   38464       conv2d_247[0][0]                 \n",
            "__________________________________________________________________________________________________\n",
            "conv2d_249 (Conv2D)             (None, 16, 16, 64)   32832       max_pooling2d_40[0][0]           \n",
            "__________________________________________________________________________________________________\n",
            "inception_4b (Concatenate)      (None, 16, 16, 512)  0           conv2d_244[0][0]                 \n",
            "                                                                 conv2d_246[0][0]                 \n",
            "                                                                 conv2d_248[0][0]                 \n",
            "                                                                 conv2d_249[0][0]                 \n",
            "__________________________________________________________________________________________________\n",
            "conv2d_251 (Conv2D)             (None, 16, 16, 128)  65664       inception_4b[0][0]               \n",
            "__________________________________________________________________________________________________\n",
            "conv2d_253 (Conv2D)             (None, 16, 16, 24)   12312       inception_4b[0][0]               \n",
            "__________________________________________________________________________________________________\n",
            "max_pooling2d_41 (MaxPooling2D) (None, 16, 16, 512)  0           inception_4b[0][0]               \n",
            "__________________________________________________________________________________________________\n",
            "conv2d_250 (Conv2D)             (None, 16, 16, 128)  65664       inception_4b[0][0]               \n",
            "__________________________________________________________________________________________________\n",
            "conv2d_252 (Conv2D)             (None, 16, 16, 256)  295168      conv2d_251[0][0]                 \n",
            "__________________________________________________________________________________________________\n",
            "conv2d_254 (Conv2D)             (None, 16, 16, 64)   38464       conv2d_253[0][0]                 \n",
            "__________________________________________________________________________________________________\n",
            "conv2d_255 (Conv2D)             (None, 16, 16, 64)   32832       max_pooling2d_41[0][0]           \n",
            "__________________________________________________________________________________________________\n",
            "inception_4c (Concatenate)      (None, 16, 16, 512)  0           conv2d_250[0][0]                 \n",
            "                                                                 conv2d_252[0][0]                 \n",
            "                                                                 conv2d_254[0][0]                 \n",
            "                                                                 conv2d_255[0][0]                 \n",
            "__________________________________________________________________________________________________\n",
            "conv2d_257 (Conv2D)             (None, 16, 16, 144)  73872       inception_4c[0][0]               \n",
            "__________________________________________________________________________________________________\n",
            "conv2d_259 (Conv2D)             (None, 16, 16, 32)   16416       inception_4c[0][0]               \n",
            "__________________________________________________________________________________________________\n",
            "max_pooling2d_42 (MaxPooling2D) (None, 16, 16, 512)  0           inception_4c[0][0]               \n",
            "__________________________________________________________________________________________________\n",
            "conv2d_256 (Conv2D)             (None, 16, 16, 112)  57456       inception_4c[0][0]               \n",
            "__________________________________________________________________________________________________\n",
            "conv2d_258 (Conv2D)             (None, 16, 16, 288)  373536      conv2d_257[0][0]                 \n",
            "__________________________________________________________________________________________________\n",
            "conv2d_260 (Conv2D)             (None, 16, 16, 64)   51264       conv2d_259[0][0]                 \n",
            "__________________________________________________________________________________________________\n",
            "conv2d_261 (Conv2D)             (None, 16, 16, 64)   32832       max_pooling2d_42[0][0]           \n",
            "__________________________________________________________________________________________________\n",
            "inception_4d (Concatenate)      (None, 16, 16, 528)  0           conv2d_256[0][0]                 \n",
            "                                                                 conv2d_258[0][0]                 \n",
            "                                                                 conv2d_260[0][0]                 \n",
            "                                                                 conv2d_261[0][0]                 \n",
            "__________________________________________________________________________________________________\n",
            "conv2d_264 (Conv2D)             (None, 16, 16, 160)  84640       inception_4d[0][0]               \n",
            "__________________________________________________________________________________________________\n",
            "conv2d_266 (Conv2D)             (None, 16, 16, 32)   16928       inception_4d[0][0]               \n",
            "__________________________________________________________________________________________________\n",
            "max_pooling2d_43 (MaxPooling2D) (None, 16, 16, 528)  0           inception_4d[0][0]               \n",
            "__________________________________________________________________________________________________\n",
            "conv2d_263 (Conv2D)             (None, 16, 16, 256)  135424      inception_4d[0][0]               \n",
            "__________________________________________________________________________________________________\n",
            "conv2d_265 (Conv2D)             (None, 16, 16, 320)  461120      conv2d_264[0][0]                 \n",
            "__________________________________________________________________________________________________\n",
            "conv2d_267 (Conv2D)             (None, 16, 16, 128)  102528      conv2d_266[0][0]                 \n",
            "__________________________________________________________________________________________________\n",
            "conv2d_268 (Conv2D)             (None, 16, 16, 128)  67712       max_pooling2d_43[0][0]           \n",
            "__________________________________________________________________________________________________\n",
            "inception_4e (Concatenate)      (None, 16, 16, 832)  0           conv2d_263[0][0]                 \n",
            "                                                                 conv2d_265[0][0]                 \n",
            "                                                                 conv2d_267[0][0]                 \n",
            "                                                                 conv2d_268[0][0]                 \n",
            "__________________________________________________________________________________________________\n",
            "max_pool_4_3x3/2 (MaxPooling2D) (None, 8, 8, 832)    0           inception_4e[0][0]               \n",
            "__________________________________________________________________________________________________\n",
            "conv2d_270 (Conv2D)             (None, 8, 8, 160)    133280      max_pool_4_3x3/2[0][0]           \n",
            "__________________________________________________________________________________________________\n",
            "conv2d_272 (Conv2D)             (None, 8, 8, 32)     26656       max_pool_4_3x3/2[0][0]           \n",
            "__________________________________________________________________________________________________\n",
            "max_pooling2d_44 (MaxPooling2D) (None, 8, 8, 832)    0           max_pool_4_3x3/2[0][0]           \n",
            "__________________________________________________________________________________________________\n",
            "conv2d_269 (Conv2D)             (None, 8, 8, 256)    213248      max_pool_4_3x3/2[0][0]           \n",
            "__________________________________________________________________________________________________\n",
            "conv2d_271 (Conv2D)             (None, 8, 8, 320)    461120      conv2d_270[0][0]                 \n",
            "__________________________________________________________________________________________________\n",
            "conv2d_273 (Conv2D)             (None, 8, 8, 128)    102528      conv2d_272[0][0]                 \n",
            "__________________________________________________________________________________________________\n",
            "conv2d_274 (Conv2D)             (None, 8, 8, 128)    106624      max_pooling2d_44[0][0]           \n",
            "__________________________________________________________________________________________________\n",
            "inception_5a (Concatenate)      (None, 8, 8, 832)    0           conv2d_269[0][0]                 \n",
            "                                                                 conv2d_271[0][0]                 \n",
            "                                                                 conv2d_273[0][0]                 \n",
            "                                                                 conv2d_274[0][0]                 \n",
            "__________________________________________________________________________________________________\n",
            "conv2d_276 (Conv2D)             (None, 8, 8, 192)    159936      inception_5a[0][0]               \n",
            "__________________________________________________________________________________________________\n",
            "conv2d_278 (Conv2D)             (None, 8, 8, 48)     39984       inception_5a[0][0]               \n",
            "__________________________________________________________________________________________________\n",
            "max_pooling2d_45 (MaxPooling2D) (None, 8, 8, 832)    0           inception_5a[0][0]               \n",
            "__________________________________________________________________________________________________\n",
            "conv2d_275 (Conv2D)             (None, 8, 8, 384)    319872      inception_5a[0][0]               \n",
            "__________________________________________________________________________________________________\n",
            "conv2d_277 (Conv2D)             (None, 8, 8, 384)    663936      conv2d_276[0][0]                 \n",
            "__________________________________________________________________________________________________\n",
            "conv2d_279 (Conv2D)             (None, 8, 8, 128)    153728      conv2d_278[0][0]                 \n",
            "__________________________________________________________________________________________________\n",
            "conv2d_280 (Conv2D)             (None, 8, 8, 128)    106624      max_pooling2d_45[0][0]           \n",
            "__________________________________________________________________________________________________\n",
            "inception_5b (Concatenate)      (None, 8, 8, 1024)   0           conv2d_275[0][0]                 \n",
            "                                                                 conv2d_277[0][0]                 \n",
            "                                                                 conv2d_279[0][0]                 \n",
            "                                                                 conv2d_280[0][0]                 \n",
            "__________________________________________________________________________________________________\n",
            "avg_pool_5_3x3/1 (GlobalAverage (None, 1024)         0           inception_5b[0][0]               \n",
            "__________________________________________________________________________________________________\n",
            "dropout_15 (Dropout)            (None, 1024)         0           avg_pool_5_3x3/1[0][0]           \n",
            "__________________________________________________________________________________________________\n",
            "output (Dense)                  (None, 102)          104550      dropout_15[0][0]                 \n",
            "==================================================================================================\n",
            "Total params: 6,078,358\n",
            "Trainable params: 6,078,230\n",
            "Non-trainable params: 128\n",
            "__________________________________________________________________________________________________\n"
          ],
          "name": "stdout"
        }
      ]
    },
    {
      "cell_type": "markdown",
      "metadata": {
        "id": "rtBz1RtxdMYy",
        "colab_type": "text"
      },
      "source": [
        "## Training Inception Net"
      ]
    },
    {
      "cell_type": "code",
      "metadata": {
        "id": "HUCdzpm8eby-",
        "colab_type": "code",
        "colab": {}
      },
      "source": [
        "# we will train two other models \n",
        "model_1 = model\n",
        "model_2 = model"
      ],
      "execution_count": 0,
      "outputs": []
    },
    {
      "cell_type": "code",
      "metadata": {
        "id": "5RUvooM1ejG5",
        "colab_type": "code",
        "colab": {}
      },
      "source": [
        "es = keras.callbacks.EarlyStopping(monitor ='val_acc', min_delta=0.5, patience=5)"
      ],
      "execution_count": 0,
      "outputs": []
    },
    {
      "cell_type": "code",
      "metadata": {
        "id": "IClgtOZcc9UK",
        "colab_type": "code",
        "colab": {}
      },
      "source": [
        "epochs = 25\n",
        "initial_lrate = 0.01\n",
        "\n",
        "def decay(epoch, steps=100):\n",
        "    initial_lrate = 0.01\n",
        "    drop = 0.96\n",
        "    epochs_drop = 8\n",
        "    lrate = initial_lrate * math.pow(drop, math.floor((1+epoch)/epochs_drop))\n",
        "    return lrate"
      ],
      "execution_count": 0,
      "outputs": []
    },
    {
      "cell_type": "code",
      "metadata": {
        "id": "d-cXSZbudXAN",
        "colab_type": "code",
        "colab": {}
      },
      "source": [
        "sgd = SGD(lr=initial_lrate, momentum=0.9, nesterov=False)"
      ],
      "execution_count": 0,
      "outputs": []
    },
    {
      "cell_type": "code",
      "metadata": {
        "id": "KVeCcf_vddED",
        "colab_type": "code",
        "colab": {}
      },
      "source": [
        "lr_sc = LearningRateScheduler(decay, verbose=1)"
      ],
      "execution_count": 0,
      "outputs": []
    },
    {
      "cell_type": "code",
      "metadata": {
        "id": "GswDQK3Wdfoz",
        "colab_type": "code",
        "colab": {}
      },
      "source": [
        "model.compile(loss='categorical_crossentropy', optimizer=sgd, metrics=['accuracy'])"
      ],
      "execution_count": 0,
      "outputs": []
    },
    {
      "cell_type": "code",
      "metadata": {
        "id": "YGUHwuGmeh-5",
        "colab_type": "code",
        "colab": {}
      },
      "source": [
        "model_cp_0 = keras.callbacks.ModelCheckpoint('inception_v1.h5', monitor='val_acc', save_best_only=True, save_weights_only=True)"
      ],
      "execution_count": 0,
      "outputs": []
    },
    {
      "cell_type": "code",
      "metadata": {
        "id": "ZSlSy6zBdnSd",
        "colab_type": "code",
        "outputId": "2772ea33-c1b9-4879-ff3d-a1bd582fa28d",
        "colab": {
          "base_uri": "https://localhost:8080/",
          "height": 903
        }
      },
      "source": [
        "model.fit_generator(train_gen, steps_per_epoch=17562//8, validation_data=val_gen, validation_steps=978//2, epochs=epochs, callbacks=[ model_cp_0])"
      ],
      "execution_count": 0,
      "outputs": [
        {
          "output_type": "stream",
          "text": [
            "Epoch 1/25\n",
            "2195/2195 [==============================] - 363s 165ms/step - loss: 1.9979 - acc: 0.4490 - val_loss: 1.7780 - val_acc: 0.5008\n",
            "Epoch 2/25\n",
            "2195/2195 [==============================] - 363s 165ms/step - loss: 1.9219 - acc: 0.4678 - val_loss: 1.8167 - val_acc: 0.5013\n",
            "Epoch 3/25\n",
            "2195/2195 [==============================] - 364s 166ms/step - loss: 1.7961 - acc: 0.4989 - val_loss: 1.6213 - val_acc: 0.5556\n",
            "Epoch 4/25\n",
            "2195/2195 [==============================] - 363s 166ms/step - loss: 1.7514 - acc: 0.5128 - val_loss: 1.6076 - val_acc: 0.5633\n",
            "Epoch 5/25\n",
            "2195/2195 [==============================] - 363s 165ms/step - loss: 1.6498 - acc: 0.5367 - val_loss: 1.6675 - val_acc: 0.5409\n",
            "Epoch 6/25\n",
            "2195/2195 [==============================] - 364s 166ms/step - loss: 1.6120 - acc: 0.5494 - val_loss: 1.4415 - val_acc: 0.5970\n",
            "Epoch 7/25\n",
            "2195/2195 [==============================] - 363s 165ms/step - loss: 1.5054 - acc: 0.5687 - val_loss: 1.3247 - val_acc: 0.6296\n",
            "Epoch 8/25\n",
            "2195/2195 [==============================] - 365s 166ms/step - loss: 1.4988 - acc: 0.5763 - val_loss: 1.5137 - val_acc: 0.5764\n",
            "Epoch 9/25\n",
            "2195/2195 [==============================] - 363s 165ms/step - loss: 1.4322 - acc: 0.5923 - val_loss: 1.2098 - val_acc: 0.6363\n",
            "Epoch 10/25\n",
            "2195/2195 [==============================] - 364s 166ms/step - loss: 1.3634 - acc: 0.6128 - val_loss: 1.1852 - val_acc: 0.6497\n",
            "Epoch 11/25\n",
            "2195/2195 [==============================] - 361s 164ms/step - loss: 1.3411 - acc: 0.6180 - val_loss: 1.2260 - val_acc: 0.6433\n",
            "Epoch 12/25\n",
            "2195/2195 [==============================] - 362s 165ms/step - loss: 1.3058 - acc: 0.6310 - val_loss: 1.2144 - val_acc: 0.6458\n",
            "Epoch 13/25\n",
            "2195/2195 [==============================] - 362s 165ms/step - loss: 1.2946 - acc: 0.6281 - val_loss: 1.1345 - val_acc: 0.6788\n",
            "Epoch 14/25\n",
            "2195/2195 [==============================] - 362s 165ms/step - loss: 1.2388 - acc: 0.6445 - val_loss: 0.9556 - val_acc: 0.7204\n",
            "Epoch 15/25\n",
            "2195/2195 [==============================] - 363s 165ms/step - loss: 1.2000 - acc: 0.6542 - val_loss: 0.9398 - val_acc: 0.7073\n",
            "Epoch 16/25\n",
            "2195/2195 [==============================] - 363s 166ms/step - loss: 1.1914 - acc: 0.6554 - val_loss: 1.0406 - val_acc: 0.6978\n",
            "Epoch 17/25\n",
            "2195/2195 [==============================] - 361s 165ms/step - loss: 1.1941 - acc: 0.6574 - val_loss: 0.8537 - val_acc: 0.7405\n",
            "Epoch 18/25\n",
            "2195/2195 [==============================] - 363s 166ms/step - loss: 1.1769 - acc: 0.6644 - val_loss: 0.9544 - val_acc: 0.7207\n",
            "Epoch 19/25\n",
            "2195/2195 [==============================] - 359s 164ms/step - loss: 1.1435 - acc: 0.6679 - val_loss: 0.8835 - val_acc: 0.7505\n",
            "Epoch 20/25\n",
            "2195/2195 [==============================] - 359s 164ms/step - loss: 1.1223 - acc: 0.6785 - val_loss: 0.8408 - val_acc: 0.7425\n",
            "Epoch 21/25\n",
            "2195/2195 [==============================] - 358s 163ms/step - loss: 1.1244 - acc: 0.6757 - val_loss: 0.9555 - val_acc: 0.7220\n",
            "Epoch 22/25\n",
            "2195/2195 [==============================] - 355s 162ms/step - loss: 1.1265 - acc: 0.6744 - val_loss: 1.0295 - val_acc: 0.7101\n",
            "Epoch 23/25\n",
            "2195/2195 [==============================] - 355s 162ms/step - loss: 1.1412 - acc: 0.6703 - val_loss: 1.0661 - val_acc: 0.6968\n",
            "Epoch 24/25\n",
            "2195/2195 [==============================] - 357s 163ms/step - loss: 1.1613 - acc: 0.6644 - val_loss: 1.0903 - val_acc: 0.6929\n",
            "Epoch 25/25\n",
            "2195/2195 [==============================] - 355s 162ms/step - loss: 1.1956 - acc: 0.6575 - val_loss: 1.8803 - val_acc: 0.5504\n"
          ],
          "name": "stdout"
        },
        {
          "output_type": "execute_result",
          "data": {
            "text/plain": [
              "<keras.callbacks.History at 0x7fcda6af1518>"
            ]
          },
          "metadata": {
            "tags": []
          },
          "execution_count": 134
        }
      ]
    },
    {
      "cell_type": "code",
      "metadata": {
        "id": "Nx53ZUhldwdN",
        "colab_type": "code",
        "outputId": "cfbd2038-33db-43d6-8e70-abb1d1d59b1c",
        "colab": {
          "base_uri": "https://localhost:8080/",
          "height": 332
        }
      },
      "source": [
        "!pip install keras-radam"
      ],
      "execution_count": 0,
      "outputs": [
        {
          "output_type": "stream",
          "text": [
            "Collecting keras-radam\n",
            "  Downloading https://files.pythonhosted.org/packages/ef/bc/28a66ce0325df27ce38e8713b044b7d594f8f64b19c517d932e597cd7e06/keras-radam-0.11.0.tar.gz\n",
            "Requirement already satisfied: numpy in /usr/local/lib/python3.6/dist-packages (from keras-radam) (1.16.4)\n",
            "Requirement already satisfied: Keras in /usr/local/lib/python3.6/dist-packages (from keras-radam) (2.2.4)\n",
            "Requirement already satisfied: h5py in /usr/local/lib/python3.6/dist-packages (from Keras->keras-radam) (2.8.0)\n",
            "Requirement already satisfied: six>=1.9.0 in /usr/local/lib/python3.6/dist-packages (from Keras->keras-radam) (1.12.0)\n",
            "Requirement already satisfied: pyyaml in /usr/local/lib/python3.6/dist-packages (from Keras->keras-radam) (3.13)\n",
            "Requirement already satisfied: keras-applications>=1.0.6 in /usr/local/lib/python3.6/dist-packages (from Keras->keras-radam) (1.0.8)\n",
            "Requirement already satisfied: keras-preprocessing>=1.0.5 in /usr/local/lib/python3.6/dist-packages (from Keras->keras-radam) (1.1.0)\n",
            "Requirement already satisfied: scipy>=0.14 in /usr/local/lib/python3.6/dist-packages (from Keras->keras-radam) (1.3.1)\n",
            "Building wheels for collected packages: keras-radam\n",
            "  Building wheel for keras-radam (setup.py) ... \u001b[?25l\u001b[?25hdone\n",
            "  Created wheel for keras-radam: filename=keras_radam-0.11.0-cp36-none-any.whl size=14469 sha256=03bd8dd1491ef6cb5749d123faf2bcc220939ce2fc0643ade5531da22f2c444a\n",
            "  Stored in directory: /root/.cache/pip/wheels/31/ee/eb/6c72886931d3e2dfba3c701721297daf8afabc740b742b2555\n",
            "Successfully built keras-radam\n",
            "Installing collected packages: keras-radam\n",
            "Successfully installed keras-radam-0.11.0\n"
          ],
          "name": "stdout"
        }
      ]
    },
    {
      "cell_type": "code",
      "metadata": {
        "id": "4c-YMmmEiI7s",
        "colab_type": "code",
        "colab": {}
      },
      "source": [
        ""
      ],
      "execution_count": 0,
      "outputs": []
    }
  ]
}