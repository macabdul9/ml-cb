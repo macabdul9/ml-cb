{
  "nbformat": 4,
  "nbformat_minor": 0,
  "metadata": {
    "colab": {
      "name": "res-net.ipynb",
      "version": "0.3.2",
      "provenance": [],
      "machine_shape": "hm"
    },
    "kernelspec": {
      "name": "python3",
      "display_name": "Python 3"
    },
    "accelerator": "GPU"
  },
  "cells": [
    {
      "cell_type": "code",
      "metadata": {
        "id": "9FMnsoIiDgvm",
        "colab_type": "code",
        "outputId": "c663fe2c-90ef-456a-8947-0113e6a72b5d",
        "colab": {
          "base_uri": "https://localhost:8080/",
          "height": 124
        }
      },
      "source": [
        "from google.colab import drive\n",
        "drive.mount('/content/drive')"
      ],
      "execution_count": 0,
      "outputs": [
        {
          "output_type": "stream",
          "text": [
            "Go to this URL in a browser: https://accounts.google.com/o/oauth2/auth?client_id=947318989803-6bn6qk8qdgf4n4g3pfee6491hc0brc4i.apps.googleusercontent.com&redirect_uri=urn%3Aietf%3Awg%3Aoauth%3A2.0%3Aoob&scope=email%20https%3A%2F%2Fwww.googleapis.com%2Fauth%2Fdocs.test%20https%3A%2F%2Fwww.googleapis.com%2Fauth%2Fdrive%20https%3A%2F%2Fwww.googleapis.com%2Fauth%2Fdrive.photos.readonly%20https%3A%2F%2Fwww.googleapis.com%2Fauth%2Fpeopleapi.readonly&response_type=code\n",
            "\n",
            "Enter your authorization code:\n",
            "··········\n",
            "Mounted at /content/drive\n"
          ],
          "name": "stdout"
        }
      ]
    },
    {
      "cell_type": "code",
      "metadata": {
        "id": "WS9-t0vIDhTm",
        "colab_type": "code",
        "colab": {}
      },
      "source": [
        "# !unzip drive/My\\ Drive/tiny-imagenet-200"
      ],
      "execution_count": 0,
      "outputs": []
    },
    {
      "cell_type": "code",
      "metadata": {
        "id": "lBUtZUkRD0i7",
        "colab_type": "code",
        "outputId": "78b4b65a-5002-47fd-d15f-ee90279be496",
        "colab": {
          "base_uri": "https://localhost:8080/",
          "height": 34
        }
      },
      "source": [
        "import os\n",
        "\n",
        "import warnings\n",
        "warnings.filterwarnings('ignore')\n",
        "import numpy as np\n",
        "import pandas as pd\n",
        "import cv2\n",
        "\n",
        "import matplotlib.pyplot as plt\n",
        "%matplotlib inline\n",
        "\n",
        "import keras\n",
        "from keras.models import Sequential\n",
        "from keras.layers import Dense, Activation, Dropout, Flatten, Conv2D, MaxPooling2D\n",
        "from keras.layers.normalization import BatchNormalization\n",
        "from keras.regularizers import l2\n",
        "from keras_preprocessing import image\n",
        "\n",
        "from keras.utils import np_utils\n",
        "from keras.callbacks import ReduceLROnPlateau, CSVLogger, EarlyStopping"
      ],
      "execution_count": 1,
      "outputs": [
        {
          "output_type": "stream",
          "text": [
            "Using TensorFlow backend.\n"
          ],
          "name": "stderr"
        }
      ]
    },
    {
      "cell_type": "code",
      "metadata": {
        "id": "bSt4hQj3F8VA",
        "colab_type": "code",
        "colab": {}
      },
      "source": [
        "train_img_gen = image.ImageDataGenerator(\n",
        "    rescale = 1/255.0,\n",
        "    rotation_range = 180,\n",
        "    width_shift_range = 0.2,\n",
        "    height_shift_range = 0.2,\n",
        "    shear_range = 0.4,\n",
        "    zoom_range = 0.3,\n",
        "    horizontal_flip = True\n",
        ")\n",
        "\n",
        "# we don't need to do augmentation for test data\n",
        "test_img_gen = image.ImageDataGenerator(\n",
        "    rescale = 1/255.0\n",
        ")"
      ],
      "execution_count": 0,
      "outputs": []
    },
    {
      "cell_type": "code",
      "metadata": {
        "id": "LEv5hi5kF_S8",
        "colab_type": "code",
        "outputId": "0d3158c5-99a3-45a2-ac3d-c1b3279353d8",
        "colab": {
          "base_uri": "https://localhost:8080/",
          "height": 52
        }
      },
      "source": [
        "train_gen = train_img_gen.flow_from_directory(\n",
        "    'tiny-imagenet-200/train/',\n",
        "    target_size = ((224, 224)),\n",
        "    batch_size = 1024,\n",
        "    class_mode = 'categorical'\n",
        "\n",
        ")\n",
        "test_gen = test_img_gen.flow_from_directory(\n",
        "    'tiny-imagenet-200/test/',\n",
        "    target_size = ((224, 224)),\n",
        "    batch_size = 512,\n",
        "    class_mode = 'categorical'\n",
        "\n",
        ")"
      ],
      "execution_count": 0,
      "outputs": [
        {
          "output_type": "stream",
          "text": [
            "Found 100000 images belonging to 200 classes.\n",
            "Found 10000 images belonging to 1 classes.\n"
          ],
          "name": "stdout"
        }
      ]
    },
    {
      "cell_type": "code",
      "metadata": {
        "id": "AnEofjRpGCjg",
        "colab_type": "code",
        "outputId": "e22a6ce8-b157-46c3-b032-8efd201307b7",
        "colab": {
          "base_uri": "https://localhost:8080/",
          "height": 34
        }
      },
      "source": [
        "for (x, y) in train_gen:\n",
        "  print(x.shape, y.shape)\n",
        "  break"
      ],
      "execution_count": 0,
      "outputs": [
        {
          "output_type": "stream",
          "text": [
            "(1024, 224, 224, 3) (1024, 200)\n"
          ],
          "name": "stdout"
        }
      ]
    },
    {
      "cell_type": "code",
      "metadata": {
        "id": "6BV7hvQ6GFT1",
        "colab_type": "code",
        "colab": {}
      },
      "source": [
        "# validation data processing, since it is different form\n",
        "\n",
        "class_ids = train_gen.class_indices\n",
        "\n",
        "def load_validation_data(target_size, number_of_classes):\n",
        "  with open('tiny-imagenet-200/val/val_annotations.txt') as f:\n",
        "    lines = f.readlines()\n",
        "    m = len(lines)\n",
        "    X = np.empty((m, *target_size, 3))\n",
        "    Y = np.empty(m)\n",
        "    \n",
        "    for i, line in enumerate(lines):\n",
        "      token = line.split()\n",
        "      img_name = token[0]\n",
        "      img_label = token[1]\n",
        "      \n",
        "      img_url = os.path.join('tiny-imagenet-200/val/images', img_name)\n",
        "      \n",
        "      img = image.load_img(img_url)\n",
        "      img = img.resize(target_size)\n",
        "      X[i, ] = np.array(img, dtype=np.float32)/255.0\n",
        "      img.close()\n",
        "      Y[i] = class_ids[img_label]\n",
        "      \n",
        "    return X, keras.utils.np_utils.to_categorical(Y)\n",
        "      \n",
        "    "
      ],
      "execution_count": 0,
      "outputs": []
    },
    {
      "cell_type": "code",
      "metadata": {
        "id": "QUiiRjzGGI46",
        "colab_type": "code",
        "colab": {}
      },
      "source": [
        "x_val, y_val =  load_validation_data((224, 224), 200)"
      ],
      "execution_count": 0,
      "outputs": []
    },
    {
      "cell_type": "code",
      "metadata": {
        "id": "4sxvLNO2GMAV",
        "colab_type": "code",
        "colab": {}
      },
      "source": [
        "# print(x_val.shape, y_val.shape)"
      ],
      "execution_count": 0,
      "outputs": []
    },
    {
      "cell_type": "code",
      "metadata": {
        "id": "ZZN20WgXaQm2",
        "colab_type": "code",
        "colab": {}
      },
      "source": [
        "lr_reducer = ReduceLROnPlateau(factor=np.sqrt(0.1), cooldown=0, patience=5, min_lr=0.5e-6)\n",
        "early_stopper = EarlyStopping(min_delta=0.001, patience=10)\n",
        "csv_logger = CSVLogger('resnet18_cifar10.csv')"
      ],
      "execution_count": 0,
      "outputs": []
    },
    {
      "cell_type": "code",
      "metadata": {
        "id": "0uEb51O-aZrr",
        "colab_type": "code",
        "colab": {}
      },
      "source": [
        "batch_size = 256\n",
        "nb_classes = 100\n",
        "nb_epoch = 100\n",
        "data_augmentation = True\n",
        "\n",
        "# input image dimensions\n",
        "img_rows, img_cols = 32, 32\n",
        "# The CIFAR10 images are RGB.\n",
        "img_channels = 3"
      ],
      "execution_count": 0,
      "outputs": []
    },
    {
      "cell_type": "code",
      "metadata": {
        "id": "i6bHp-YfLsDo",
        "colab_type": "code",
        "outputId": "5e18a464-1894-4b0d-b4b7-ad83525a5e57",
        "colab": {
          "base_uri": "https://localhost:8080/",
          "height": 52
        }
      },
      "source": [
        "## cifar100 data prep\n",
        "from keras.datasets import cifar100\n",
        "\n",
        "(x_train, y_train), (x_test, y_test) = cifar100.load_data()"
      ],
      "execution_count": 6,
      "outputs": [
        {
          "output_type": "stream",
          "text": [
            "Downloading data from https://www.cs.toronto.edu/~kriz/cifar-100-python.tar.gz\n",
            "169009152/169001437 [==============================] - 6s 0us/step\n"
          ],
          "name": "stdout"
        }
      ]
    },
    {
      "cell_type": "code",
      "metadata": {
        "id": "rYxi3JkHL8OX",
        "colab_type": "code",
        "outputId": "cd1338e5-e93c-4c8d-baf8-d4e3172828a8",
        "colab": {
          "base_uri": "https://localhost:8080/",
          "height": 52
        }
      },
      "source": [
        "print(x_train.shape, y_train.shape)\n",
        "print(x_test.shape, y_test.shape)"
      ],
      "execution_count": 7,
      "outputs": [
        {
          "output_type": "stream",
          "text": [
            "(50000, 32, 32, 3) (50000, 1)\n",
            "(10000, 32, 32, 3) (10000, 1)\n"
          ],
          "name": "stdout"
        }
      ]
    },
    {
      "cell_type": "code",
      "metadata": {
        "id": "TNxLxwjZMQUB",
        "colab_type": "code",
        "colab": {}
      },
      "source": [
        "y_train = keras.utils.np_utils.to_categorical(y_train, nb_classes)\n",
        "y_test = keras.utils.np_utils.to_categorical(y_test, nb_classes)"
      ],
      "execution_count": 0,
      "outputs": []
    },
    {
      "cell_type": "code",
      "metadata": {
        "id": "oI2hkU-2MQP0",
        "colab_type": "code",
        "outputId": "39a4e3a2-4e7d-4ad2-853c-d6bd2dae4bdd",
        "colab": {
          "base_uri": "https://localhost:8080/",
          "height": 52
        }
      },
      "source": [
        "print(x_train.shape, y_train.shape)\n",
        "print(x_test.shape, y_test.shape)"
      ],
      "execution_count": 9,
      "outputs": [
        {
          "output_type": "stream",
          "text": [
            "(50000, 32, 32, 3) (50000, 100)\n",
            "(10000, 32, 32, 3) (10000, 100)\n"
          ],
          "name": "stdout"
        }
      ]
    },
    {
      "cell_type": "code",
      "metadata": {
        "id": "JFtP3awoM_bG",
        "colab_type": "code",
        "colab": {}
      },
      "source": [
        "train_img_gen = image.ImageDataGenerator(\n",
        "    rescale = 1/255.0,\n",
        "    rotation_range = 180,\n",
        "    width_shift_range = 0.2,\n",
        "    height_shift_range = 0.2,\n",
        "    shear_range = 0.4,\n",
        "    zoom_range = 0.3,\n",
        "    horizontal_flip = True\n",
        ")\n",
        "test_img_gen = image.ImageDataGenerator(\n",
        "    rescale = 1/255.0,\n",
        ")"
      ],
      "execution_count": 0,
      "outputs": []
    },
    {
      "cell_type": "code",
      "metadata": {
        "id": "tF51gA_-MQDy",
        "colab_type": "code",
        "colab": {}
      },
      "source": [
        "#### data augmentation\n",
        "train_gen = train_img_gen.flow(\n",
        "    x_train,\n",
        "    y_train,\n",
        "    batch_size = 512,\n",
        "\n",
        ")\n",
        "test_gen = test_img_gen.flow(\n",
        "    x_test,\n",
        "    y_test,\n",
        "    batch_size = 512,\n",
        "\n",
        ")"
      ],
      "execution_count": 0,
      "outputs": []
    },
    {
      "cell_type": "code",
      "metadata": {
        "id": "6UjAXNxdMQA5",
        "colab_type": "code",
        "outputId": "f6377677-836a-4eed-a52c-c62b972a325a",
        "colab": {
          "base_uri": "https://localhost:8080/",
          "height": 34
        }
      },
      "source": [
        "for (x, y) in train_gen:\n",
        "  print(x.shape, y.shape)\n",
        "  break"
      ],
      "execution_count": 0,
      "outputs": [
        {
          "output_type": "stream",
          "text": [
            "(512, 32, 32, 3) (512, 100)\n"
          ],
          "name": "stdout"
        }
      ]
    },
    {
      "cell_type": "code",
      "metadata": {
        "id": "8x-F4NjCMP4M",
        "colab_type": "code",
        "colab": {}
      },
      "source": [
        "datagen = image.ImageDataGenerator(\n",
        "        featurewise_center=False,  # set input mean to 0 over the dataset\n",
        "        samplewise_center=False,  # set each sample mean to 0\n",
        "        featurewise_std_normalization=False,  # divide inputs by std of the dataset\n",
        "        samplewise_std_normalization=False,  # divide each input by its std\n",
        "        zca_whitening=False,  # apply ZCA whitening\n",
        "        rotation_range=0,  # randomly rotate images in the range (degrees, 0 to 180)\n",
        "        width_shift_range=0.1,  # randomly shift images horizontally (fraction of total width)\n",
        "        height_shift_range=0.1,  # randomly shift images vertically (fraction of total height)\n",
        "        horizontal_flip=True,  # randomly flip images\n",
        "        vertical_flip=False  # randomly flip images\n",
        ")"
      ],
      "execution_count": 0,
      "outputs": []
    },
    {
      "cell_type": "code",
      "metadata": {
        "id": "-KW5q6WybUh2",
        "colab_type": "code",
        "colab": {}
      },
      "source": [
        "datagen.fit(x_train)"
      ],
      "execution_count": 0,
      "outputs": []
    },
    {
      "cell_type": "code",
      "metadata": {
        "id": "xuMV8Py_MP0v",
        "colab_type": "code",
        "colab": {}
      },
      "source": [
        "# from google.colab import files\n",
        "# files.upload()"
      ],
      "execution_count": 0,
      "outputs": []
    },
    {
      "cell_type": "markdown",
      "metadata": {
        "id": "7_7pMZ81bchA",
        "colab_type": "text"
      },
      "source": [
        "Resnet Architecture"
      ]
    },
    {
      "cell_type": "code",
      "metadata": {
        "id": "WwOkD7VPGaRr",
        "colab_type": "code",
        "colab": {}
      },
      "source": [
        "#model architecture\n",
        "## download resenet from here https://github.com/raghakot/keras-resnet\n",
        "import resnet\n"
      ],
      "execution_count": 0,
      "outputs": []
    },
    {
      "cell_type": "code",
      "metadata": {
        "id": "5Pwkw4OsNszh",
        "colab_type": "code",
        "colab": {}
      },
      "source": [
        "model = resnet.ResnetBuilder.build_resnet_18((img_channels, img_rows, img_cols), nb_classes)"
      ],
      "execution_count": 0,
      "outputs": []
    },
    {
      "cell_type": "code",
      "metadata": {
        "id": "8onLhmq-cbRP",
        "colab_type": "code",
        "colab": {}
      },
      "source": [
        "model.summary()"
      ],
      "execution_count": 0,
      "outputs": []
    },
    {
      "cell_type": "code",
      "metadata": {
        "id": "-gkZ2YKyN69D",
        "colab_type": "code",
        "colab": {}
      },
      "source": [
        "model.compile(loss='categorical_crossentropy', optimizer='adam', metrics=['accuracy'])"
      ],
      "execution_count": 0,
      "outputs": []
    },
    {
      "cell_type": "code",
      "metadata": {
        "id": "GNRNv6LxYPA3",
        "colab_type": "code",
        "colab": {}
      },
      "source": [
        ""
      ],
      "execution_count": 0,
      "outputs": []
    },
    {
      "cell_type": "code",
      "metadata": {
        "id": "AgHcGhsCOKUK",
        "colab_type": "code",
        "outputId": "2bd5491b-9472-4de3-d2ab-b3c8ca13794f",
        "colab": {
          "base_uri": "https://localhost:8080/",
          "height": 1000
        }
      },
      "source": [
        "# Fit the model on the batches generated by datagen.flow().\n",
        "hist = model.fit_generator(datagen.flow(x_train, y_train, batch_size=batch_size),\n",
        "                        steps_per_epoch=x_train.shape[0] // batch_size,\n",
        "                        validation_data=(x_test, y_test),\n",
        "                        epochs=nb_epoch, verbose=1, max_q_size=100,\n",
        "                        callbacks=[lr_reducer, early_stopper, csv_logger])"
      ],
      "execution_count": 25,
      "outputs": [
        {
          "output_type": "stream",
          "text": [
            "Epoch 1/100\n",
            "195/195 [==============================] - 42s 217ms/step - loss: 4.0575 - acc: 0.1850 - val_loss: 3.8055 - val_acc: 0.2184\n",
            "Epoch 2/100\n",
            "195/195 [==============================] - 31s 157ms/step - loss: 3.3141 - acc: 0.2995 - val_loss: 3.3547 - val_acc: 0.2893\n",
            "Epoch 3/100\n",
            "195/195 [==============================] - 30s 154ms/step - loss: 2.9995 - acc: 0.3568 - val_loss: 3.0791 - val_acc: 0.3372\n",
            "Epoch 4/100\n",
            "195/195 [==============================] - 30s 154ms/step - loss: 2.7973 - acc: 0.3954 - val_loss: 3.0095 - val_acc: 0.3598\n",
            "Epoch 5/100\n",
            "195/195 [==============================] - 30s 154ms/step - loss: 2.6597 - acc: 0.4224 - val_loss: 3.0214 - val_acc: 0.3567\n",
            "Epoch 6/100\n",
            "195/195 [==============================] - 30s 154ms/step - loss: 2.5256 - acc: 0.4476 - val_loss: 2.8670 - val_acc: 0.3867\n",
            "Epoch 7/100\n",
            "195/195 [==============================] - 30s 154ms/step - loss: 2.4236 - acc: 0.4722 - val_loss: 2.9844 - val_acc: 0.3648\n",
            "Epoch 8/100\n",
            "195/195 [==============================] - 30s 154ms/step - loss: 2.3375 - acc: 0.4910 - val_loss: 2.9349 - val_acc: 0.3787\n",
            "Epoch 9/100\n",
            "195/195 [==============================] - 30s 154ms/step - loss: 2.2594 - acc: 0.5110 - val_loss: 2.7855 - val_acc: 0.4121\n",
            "Epoch 10/100\n",
            "195/195 [==============================] - 30s 154ms/step - loss: 2.1953 - acc: 0.5244 - val_loss: 2.7927 - val_acc: 0.4115\n",
            "Epoch 11/100\n",
            "195/195 [==============================] - 30s 154ms/step - loss: 2.1281 - acc: 0.5430 - val_loss: 2.8322 - val_acc: 0.4092\n",
            "Epoch 12/100\n",
            "195/195 [==============================] - 30s 154ms/step - loss: 2.0754 - acc: 0.5560 - val_loss: 2.6246 - val_acc: 0.4542\n",
            "Epoch 13/100\n",
            "195/195 [==============================] - 30s 154ms/step - loss: 2.0268 - acc: 0.5658 - val_loss: 2.8884 - val_acc: 0.4136\n",
            "Epoch 14/100\n",
            "195/195 [==============================] - 30s 154ms/step - loss: 1.9841 - acc: 0.5790 - val_loss: 2.5140 - val_acc: 0.4776\n",
            "Epoch 15/100\n",
            "195/195 [==============================] - 30s 153ms/step - loss: 1.9339 - acc: 0.5918 - val_loss: 2.6196 - val_acc: 0.4591\n",
            "Epoch 16/100\n",
            "195/195 [==============================] - 30s 153ms/step - loss: 1.9076 - acc: 0.6028 - val_loss: 2.6583 - val_acc: 0.4539\n",
            "Epoch 17/100\n",
            "195/195 [==============================] - 30s 154ms/step - loss: 1.8560 - acc: 0.6157 - val_loss: 2.8828 - val_acc: 0.4257\n",
            "Epoch 18/100\n",
            "195/195 [==============================] - 30s 154ms/step - loss: 1.8234 - acc: 0.6240 - val_loss: 2.5506 - val_acc: 0.4814\n",
            "Epoch 19/100\n",
            "195/195 [==============================] - 30s 154ms/step - loss: 1.7879 - acc: 0.6364 - val_loss: 2.7148 - val_acc: 0.4530\n",
            "Epoch 20/100\n",
            "195/195 [==============================] - 30s 154ms/step - loss: 1.4882 - acc: 0.7215 - val_loss: 2.2572 - val_acc: 0.5439\n",
            "Epoch 21/100\n",
            "195/195 [==============================] - 30s 154ms/step - loss: 1.3620 - acc: 0.7538 - val_loss: 2.3102 - val_acc: 0.5357\n",
            "Epoch 22/100\n",
            "195/195 [==============================] - 30s 154ms/step - loss: 1.2790 - acc: 0.7764 - val_loss: 2.2599 - val_acc: 0.5483\n",
            "Epoch 23/100\n",
            "195/195 [==============================] - 30s 154ms/step - loss: 1.2278 - acc: 0.7872 - val_loss: 2.3307 - val_acc: 0.5371\n",
            "Epoch 24/100\n",
            "195/195 [==============================] - 30s 154ms/step - loss: 1.1788 - acc: 0.8013 - val_loss: 2.3157 - val_acc: 0.5443\n",
            "Epoch 25/100\n",
            "195/195 [==============================] - 30s 154ms/step - loss: 1.1344 - acc: 0.8131 - val_loss: 2.3413 - val_acc: 0.5401\n",
            "Epoch 26/100\n",
            "195/195 [==============================] - 30s 154ms/step - loss: 1.0156 - acc: 0.8518 - val_loss: 2.2516 - val_acc: 0.5640\n",
            "Epoch 27/100\n",
            "195/195 [==============================] - 30s 154ms/step - loss: 0.9543 - acc: 0.8689 - val_loss: 2.2812 - val_acc: 0.5575\n",
            "Epoch 28/100\n",
            "195/195 [==============================] - 30s 154ms/step - loss: 0.9233 - acc: 0.8786 - val_loss: 2.2774 - val_acc: 0.5648\n",
            "Epoch 29/100\n",
            "195/195 [==============================] - 30s 154ms/step - loss: 0.8870 - acc: 0.8882 - val_loss: 2.2953 - val_acc: 0.5626\n",
            "Epoch 30/100\n",
            "195/195 [==============================] - 30s 154ms/step - loss: 0.8716 - acc: 0.8906 - val_loss: 2.3455 - val_acc: 0.5563\n",
            "Epoch 31/100\n",
            "195/195 [==============================] - 30s 154ms/step - loss: 0.8401 - acc: 0.8986 - val_loss: 2.3569 - val_acc: 0.5574\n",
            "Epoch 32/100\n",
            "195/195 [==============================] - 30s 154ms/step - loss: 0.8077 - acc: 0.9110 - val_loss: 2.3157 - val_acc: 0.5682\n",
            "Epoch 33/100\n",
            "195/195 [==============================] - 30s 154ms/step - loss: 0.7905 - acc: 0.9161 - val_loss: 2.3416 - val_acc: 0.5635\n",
            "Epoch 34/100\n",
            "195/195 [==============================] - 30s 154ms/step - loss: 0.7744 - acc: 0.9200 - val_loss: 2.3407 - val_acc: 0.5647\n",
            "Epoch 35/100\n",
            "195/195 [==============================] - 30s 154ms/step - loss: 0.7663 - acc: 0.9221 - val_loss: 2.3536 - val_acc: 0.5630\n",
            "Epoch 36/100\n",
            "195/195 [==============================] - 30s 154ms/step - loss: 0.7648 - acc: 0.9218 - val_loss: 2.3662 - val_acc: 0.5603\n"
          ],
          "name": "stdout"
        }
      ]
    },
    {
      "cell_type": "code",
      "metadata": {
        "id": "7W4_hAgGObNb",
        "colab_type": "code",
        "colab": {}
      },
      "source": [
        "def plot_loss_accuracy():\n",
        "  # plot loss\n",
        "  print(\"training_loss =\", hist.history['loss'][-1],  \"   val_loss =\", hist.history['val_loss'][-1])\n",
        "  print(\"training_acc =\", hist.history['acc'][-1]*100, \"   val_acc =\", hist.history['val_acc'][-1]*100)\n",
        "  plt.plot(hist.history['val_loss'], label='val_loss')\n",
        "  plt.plot(hist.history['loss'], label='training_loss')\n",
        "\n",
        "  # plot accuracy\n",
        "  plt.plot(hist.history['val_acc'], label='val_acc')\n",
        "  plt.plot(hist.history['acc'], label='training_acc')\n",
        "  plt.legend()\n",
        "  plt.show()\n"
      ],
      "execution_count": 0,
      "outputs": []
    },
    {
      "cell_type": "code",
      "metadata": {
        "id": "cBbsEvtwVmyf",
        "colab_type": "code",
        "colab": {
          "base_uri": "https://localhost:8080/",
          "height": 304
        },
        "outputId": "e57e55c1-ddfe-4ef5-fc59-858e17edccb9"
      },
      "source": [
        "plot_loss_accuracy()"
      ],
      "execution_count": 27,
      "outputs": [
        {
          "output_type": "stream",
          "text": [
            "training_loss = 0.7642893303088645    val_loss = 2.3662081531524657\n",
            "training_acc = 92.2201672582697    val_acc = 56.03\n"
          ],
          "name": "stdout"
        },
        {
          "output_type": "display_data",
          "data": {
            "image/png": "[encoded data removed]",
            "text/plain": [
              "<Figure size 432x288 with 1 Axes>"
            ]
          },
          "metadata": {
            "tags": []
          }
        }
      ]
    },
    {
      "cell_type": "code",
      "metadata": {
        "id": "SN6_lXRdi-v6",
        "colab_type": "code",
        "colab": {}
      },
      "source": [
        ""
      ],
      "execution_count": 0,
      "outputs": []
    }
  ]
}