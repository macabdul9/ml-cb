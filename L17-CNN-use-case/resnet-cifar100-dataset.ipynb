{
  "nbformat": 4,
  "nbformat_minor": 0,
  "metadata": {
    "colab": {
      "name": "res-net.ipynb",
      "version": "0.3.2",
      "provenance": [],
      "machine_shape": "hm"
    },
    "kernelspec": {
      "name": "python3",
      "display_name": "Python 3"
    },
    "accelerator": "GPU"
  },
  "cells": [
    {
      "cell_type": "code",
      "metadata": {
        "id": "9FMnsoIiDgvm",
        "colab_type": "code",
        "colab": {
          "base_uri": "https://localhost:8080/",
          "height": 124
        },
        "outputId": "c663fe2c-90ef-456a-8947-0113e6a72b5d"
      },
      "source": [
        "from google.colab import drive\n",
        "drive.mount('/content/drive')"
      ],
      "execution_count": 1,
      "outputs": [
        {
          "output_type": "stream",
          "text": [
            "Go to this URL in a browser: https://accounts.google.com/o/oauth2/auth?client_id=947318989803-6bn6qk8qdgf4n4g3pfee6491hc0brc4i.apps.googleusercontent.com&redirect_uri=urn%3Aietf%3Awg%3Aoauth%3A2.0%3Aoob&scope=email%20https%3A%2F%2Fwww.googleapis.com%2Fauth%2Fdocs.test%20https%3A%2F%2Fwww.googleapis.com%2Fauth%2Fdrive%20https%3A%2F%2Fwww.googleapis.com%2Fauth%2Fdrive.photos.readonly%20https%3A%2F%2Fwww.googleapis.com%2Fauth%2Fpeopleapi.readonly&response_type=code\n",
            "\n",
            "Enter your authorization code:\n",
            "··········\n",
            "Mounted at /content/drive\n"
          ],
          "name": "stdout"
        }
      ]
    },
    {
      "cell_type": "code",
      "metadata": {
        "id": "WS9-t0vIDhTm",
        "colab_type": "code",
        "colab": {}
      },
      "source": [
        "# !unzip drive/My\\ Drive/tiny-imagenet-200"
      ],
      "execution_count": 0,
      "outputs": []
    },
    {
      "cell_type": "code",
      "metadata": {
        "id": "lBUtZUkRD0i7",
        "colab_type": "code",
        "colab": {
          "base_uri": "https://localhost:8080/",
          "height": 34
        },
        "outputId": "da4b3fde-219e-4683-987d-7d92e429095d"
      },
      "source": [
        "import os\n",
        "\n",
        "import warnings\n",
        "warnings.filterwarnings('ignore')\n",
        "import numpy as np\n",
        "import pandas as pd\n",
        "import cv2\n",
        "\n",
        "import matplotlib.pyplot as plt\n",
        "%matplotlib inline\n",
        "\n",
        "import keras\n",
        "from keras.models import Sequential\n",
        "from keras.layers import Dense, Activation, Dropout, Flatten, Conv2D, MaxPooling2D\n",
        "from keras.layers.normalization import BatchNormalization\n",
        "from keras.regularizers import l2\n",
        "from keras_preprocessing import image"
      ],
      "execution_count": 1,
      "outputs": [
        {
          "output_type": "stream",
          "text": [
            "Using TensorFlow backend.\n"
          ],
          "name": "stderr"
        }
      ]
    },
    {
      "cell_type": "code",
      "metadata": {
        "id": "bSt4hQj3F8VA",
        "colab_type": "code",
        "colab": {}
      },
      "source": [
        "train_img_gen = image.ImageDataGenerator(\n",
        "    rescale = 1/255.0,\n",
        "    rotation_range = 180,\n",
        "    width_shift_range = 0.2,\n",
        "    height_shift_range = 0.2,\n",
        "    shear_range = 0.4,\n",
        "    zoom_range = 0.3,\n",
        "    horizontal_flip = True\n",
        ")\n",
        "\n",
        "# we don't need to do augmentation for test data\n",
        "test_img_gen = image.ImageDataGenerator(\n",
        "    rescale = 1/255.0\n",
        ")"
      ],
      "execution_count": 0,
      "outputs": []
    },
    {
      "cell_type": "code",
      "metadata": {
        "id": "LEv5hi5kF_S8",
        "colab_type": "code",
        "colab": {
          "base_uri": "https://localhost:8080/",
          "height": 52
        },
        "outputId": "0d3158c5-99a3-45a2-ac3d-c1b3279353d8"
      },
      "source": [
        "train_gen = train_img_gen.flow_from_directory(\n",
        "    'tiny-imagenet-200/train/',\n",
        "    target_size = ((224, 224)),\n",
        "    batch_size = 1024,\n",
        "    class_mode = 'categorical'\n",
        "\n",
        ")\n",
        "test_gen = test_img_gen.flow_from_directory(\n",
        "    'tiny-imagenet-200/test/',\n",
        "    target_size = ((224, 224)),\n",
        "    batch_size = 512,\n",
        "    class_mode = 'categorical'\n",
        "\n",
        ")"
      ],
      "execution_count": 5,
      "outputs": [
        {
          "output_type": "stream",
          "text": [
            "Found 100000 images belonging to 200 classes.\n",
            "Found 10000 images belonging to 1 classes.\n"
          ],
          "name": "stdout"
        }
      ]
    },
    {
      "cell_type": "code",
      "metadata": {
        "id": "AnEofjRpGCjg",
        "colab_type": "code",
        "colab": {
          "base_uri": "https://localhost:8080/",
          "height": 34
        },
        "outputId": "e22a6ce8-b157-46c3-b032-8efd201307b7"
      },
      "source": [
        "for (x, y) in train_gen:\n",
        "  print(x.shape, y.shape)\n",
        "  break"
      ],
      "execution_count": 6,
      "outputs": [
        {
          "output_type": "stream",
          "text": [
            "(1024, 224, 224, 3) (1024, 200)\n"
          ],
          "name": "stdout"
        }
      ]
    },
    {
      "cell_type": "code",
      "metadata": {
        "id": "6BV7hvQ6GFT1",
        "colab_type": "code",
        "colab": {}
      },
      "source": [
        "# validation data processing, since it is different form\n",
        "\n",
        "class_ids = train_gen.class_indices\n",
        "\n",
        "def load_validation_data(target_size, number_of_classes):\n",
        "  with open('tiny-imagenet-200/val/val_annotations.txt') as f:\n",
        "    lines = f.readlines()\n",
        "    m = len(lines)\n",
        "    X = np.empty((m, *target_size, 3))\n",
        "    Y = np.empty(m)\n",
        "    \n",
        "    for i, line in enumerate(lines):\n",
        "      token = line.split()\n",
        "      img_name = token[0]\n",
        "      img_label = token[1]\n",
        "      \n",
        "      img_url = os.path.join('tiny-imagenet-200/val/images', img_name)\n",
        "      \n",
        "      img = image.load_img(img_url)\n",
        "      img = img.resize(target_size)\n",
        "      X[i, ] = np.array(img, dtype=np.float32)/255.0\n",
        "      img.close()\n",
        "      Y[i] = class_ids[img_label]\n",
        "      \n",
        "    return X, keras.utils.np_utils.to_categorical(Y)\n",
        "      \n",
        "    "
      ],
      "execution_count": 0,
      "outputs": []
    },
    {
      "cell_type": "code",
      "metadata": {
        "id": "QUiiRjzGGI46",
        "colab_type": "code",
        "colab": {}
      },
      "source": [
        "x_val, y_val =  load_validation_data((224, 224), 200)"
      ],
      "execution_count": 0,
      "outputs": []
    },
    {
      "cell_type": "code",
      "metadata": {
        "id": "4sxvLNO2GMAV",
        "colab_type": "code",
        "colab": {}
      },
      "source": [
        "# print(x_val.shape, y_val.shape)"
      ],
      "execution_count": 0,
      "outputs": []
    },
    {
      "cell_type": "code",
      "metadata": {
        "id": "i6bHp-YfLsDo",
        "colab_type": "code",
        "colab": {
          "base_uri": "https://localhost:8080/",
          "height": 52
        },
        "outputId": "6c0728da-e095-4ea4-f847-6f6231770c33"
      },
      "source": [
        "## cifar100 data prep\n",
        "from keras.datasets import cifar100\n",
        "\n",
        "(x_train, y_train), (x_test, y_test) = cifar100.load_data()"
      ],
      "execution_count": 2,
      "outputs": [
        {
          "output_type": "stream",
          "text": [
            "Downloading data from https://www.cs.toronto.edu/~kriz/cifar-100-python.tar.gz\n",
            "169009152/169001437 [==============================] - 2s 0us/step\n"
          ],
          "name": "stdout"
        }
      ]
    },
    {
      "cell_type": "code",
      "metadata": {
        "id": "rYxi3JkHL8OX",
        "colab_type": "code",
        "colab": {
          "base_uri": "https://localhost:8080/",
          "height": 52
        },
        "outputId": "cdb8157d-673c-4705-adee-dd31c4e7f7ee"
      },
      "source": [
        "print(x_train.shape, y_train.shape)\n",
        "print(x_test.shape, y_test.shape)"
      ],
      "execution_count": 3,
      "outputs": [
        {
          "output_type": "stream",
          "text": [
            "(50000, 32, 32, 3) (50000, 1)\n",
            "(10000, 32, 32, 3) (10000, 1)\n"
          ],
          "name": "stdout"
        }
      ]
    },
    {
      "cell_type": "code",
      "metadata": {
        "id": "TNxLxwjZMQUB",
        "colab_type": "code",
        "colab": {}
      },
      "source": [
        "y_train = keras.utils.np_utils.to_categorical(y_train)\n",
        "y_test = keras.utils.np_utils.to_categorical(y_test)"
      ],
      "execution_count": 0,
      "outputs": []
    },
    {
      "cell_type": "code",
      "metadata": {
        "id": "oI2hkU-2MQP0",
        "colab_type": "code",
        "colab": {
          "base_uri": "https://localhost:8080/",
          "height": 52
        },
        "outputId": "11e36a4d-0fc8-4421-b8c7-23e0498a7dfe"
      },
      "source": [
        "print(x_train.shape, y_train.shape)\n",
        "print(x_test.shape, y_test.shape)"
      ],
      "execution_count": 5,
      "outputs": [
        {
          "output_type": "stream",
          "text": [
            "(50000, 32, 32, 3) (50000, 100)\n",
            "(10000, 32, 32, 3) (10000, 100)\n"
          ],
          "name": "stdout"
        }
      ]
    },
    {
      "cell_type": "code",
      "metadata": {
        "id": "JFtP3awoM_bG",
        "colab_type": "code",
        "colab": {}
      },
      "source": [
        "train_img_gen = image.ImageDataGenerator(\n",
        "    rescale = 1/255.0,\n",
        "    rotation_range = 180,\n",
        "    width_shift_range = 0.2,\n",
        "    height_shift_range = 0.2,\n",
        "    shear_range = 0.4,\n",
        "    zoom_range = 0.3,\n",
        "    horizontal_flip = True\n",
        ")\n",
        "test_img_gen = image.ImageDataGenerator(\n",
        "    rescale = 1/255.0,\n",
        ")"
      ],
      "execution_count": 0,
      "outputs": []
    },
    {
      "cell_type": "code",
      "metadata": {
        "id": "tF51gA_-MQDy",
        "colab_type": "code",
        "colab": {}
      },
      "source": [
        "#### data augmentation\n",
        "train_gen = train_img_gen.flow(\n",
        "    x_train,\n",
        "    y_train,\n",
        "    batch_size = 512,\n",
        "\n",
        ")\n",
        "test_gen = test_img_gen.flow(\n",
        "    x_test,\n",
        "    y_test,\n",
        "    batch_size = 512,\n",
        "\n",
        ")"
      ],
      "execution_count": 0,
      "outputs": []
    },
    {
      "cell_type": "code",
      "metadata": {
        "id": "6UjAXNxdMQA5",
        "colab_type": "code",
        "colab": {
          "base_uri": "https://localhost:8080/",
          "height": 34
        },
        "outputId": "f6377677-836a-4eed-a52c-c62b972a325a"
      },
      "source": [
        "for (x, y) in train_gen:\n",
        "  print(x.shape, y.shape)\n",
        "  break"
      ],
      "execution_count": 22,
      "outputs": [
        {
          "output_type": "stream",
          "text": [
            "(512, 32, 32, 3) (512, 100)\n"
          ],
          "name": "stdout"
        }
      ]
    },
    {
      "cell_type": "code",
      "metadata": {
        "id": "8x-F4NjCMP4M",
        "colab_type": "code",
        "colab": {}
      },
      "source": [
        ""
      ],
      "execution_count": 0,
      "outputs": []
    },
    {
      "cell_type": "code",
      "metadata": {
        "id": "xuMV8Py_MP0v",
        "colab_type": "code",
        "colab": {}
      },
      "source": [
        "# from google.colab import files\n",
        "# files.upload()"
      ],
      "execution_count": 0,
      "outputs": []
    },
    {
      "cell_type": "code",
      "metadata": {
        "id": "WwOkD7VPGaRr",
        "colab_type": "code",
        "colab": {}
      },
      "source": [
        "#model architecture\n",
        "## download resenet from here https://github.com/raghakot/keras-resnet\n",
        "import resnet\n",
        "from keras.callbacks import EarlyStopping\n",
        "es = EarlyStopping(monitor='val_loss', min_delta=0.5, patience=5)\n"
      ],
      "execution_count": 0,
      "outputs": []
    },
    {
      "cell_type": "code",
      "metadata": {
        "id": "N0EpBOoaGdJm",
        "colab_type": "code",
        "colab": {}
      },
      "source": [
        "batch_size = 32\n",
        "nb_classes = 100\n",
        "nb_epoch = 100\n",
        "# data_augmentation = True\n",
        "\n",
        "# input image dimensions\n",
        "img_rows, img_cols = 32, 32\n",
        "# The CIFAR10 images are RGB.\n",
        "img_channels = 3"
      ],
      "execution_count": 0,
      "outputs": []
    },
    {
      "cell_type": "code",
      "metadata": {
        "id": "5Pwkw4OsNszh",
        "colab_type": "code",
        "colab": {}
      },
      "source": [
        "model = resnet.ResnetBuilder.build_resnet_18((img_channels, img_rows, img_cols), nb_classes)"
      ],
      "execution_count": 0,
      "outputs": []
    },
    {
      "cell_type": "code",
      "metadata": {
        "id": "-gkZ2YKyN69D",
        "colab_type": "code",
        "colab": {}
      },
      "source": [
        "model.compile(loss='categorical_crossentropy', optimizer='adam', metrics=['accuracy'])"
      ],
      "execution_count": 0,
      "outputs": []
    },
    {
      "cell_type": "code",
      "metadata": {
        "id": "GNRNv6LxYPA3",
        "colab_type": "code",
        "colab": {
          "base_uri": "https://localhost:8080/",
          "height": 1000
        },
        "outputId": "aa642293-82e2-456f-c902-441f6303533e"
      },
      "source": [
        "model.summary()"
      ],
      "execution_count": 28,
      "outputs": [
        {
          "output_type": "stream",
          "text": [
            "__________________________________________________________________________________________________\n",
            "Layer (type)                    Output Shape         Param #     Connected to                     \n",
            "==================================================================================================\n",
            "input_2 (InputLayer)            (None, 32, 32, 3)    0                                            \n",
            "__________________________________________________________________________________________________\n",
            "conv2d_21 (Conv2D)              (None, 16, 16, 64)   9472        input_2[0][0]                    \n",
            "__________________________________________________________________________________________________\n",
            "batch_normalization_18 (BatchNo (None, 16, 16, 64)   256         conv2d_21[0][0]                  \n",
            "__________________________________________________________________________________________________\n",
            "activation_18 (Activation)      (None, 16, 16, 64)   0           batch_normalization_18[0][0]     \n",
            "__________________________________________________________________________________________________\n",
            "max_pooling2d_2 (MaxPooling2D)  (None, 8, 8, 64)     0           activation_18[0][0]              \n",
            "__________________________________________________________________________________________________\n",
            "conv2d_22 (Conv2D)              (None, 8, 8, 64)     36928       max_pooling2d_2[0][0]            \n",
            "__________________________________________________________________________________________________\n",
            "batch_normalization_19 (BatchNo (None, 8, 8, 64)     256         conv2d_22[0][0]                  \n",
            "__________________________________________________________________________________________________\n",
            "activation_19 (Activation)      (None, 8, 8, 64)     0           batch_normalization_19[0][0]     \n",
            "__________________________________________________________________________________________________\n",
            "conv2d_23 (Conv2D)              (None, 8, 8, 64)     36928       activation_19[0][0]              \n",
            "__________________________________________________________________________________________________\n",
            "add_9 (Add)                     (None, 8, 8, 64)     0           max_pooling2d_2[0][0]            \n",
            "                                                                 conv2d_23[0][0]                  \n",
            "__________________________________________________________________________________________________\n",
            "batch_normalization_20 (BatchNo (None, 8, 8, 64)     256         add_9[0][0]                      \n",
            "__________________________________________________________________________________________________\n",
            "activation_20 (Activation)      (None, 8, 8, 64)     0           batch_normalization_20[0][0]     \n",
            "__________________________________________________________________________________________________\n",
            "conv2d_24 (Conv2D)              (None, 8, 8, 64)     36928       activation_20[0][0]              \n",
            "__________________________________________________________________________________________________\n",
            "batch_normalization_21 (BatchNo (None, 8, 8, 64)     256         conv2d_24[0][0]                  \n",
            "__________________________________________________________________________________________________\n",
            "activation_21 (Activation)      (None, 8, 8, 64)     0           batch_normalization_21[0][0]     \n",
            "__________________________________________________________________________________________________\n",
            "conv2d_25 (Conv2D)              (None, 8, 8, 64)     36928       activation_21[0][0]              \n",
            "__________________________________________________________________________________________________\n",
            "add_10 (Add)                    (None, 8, 8, 64)     0           add_9[0][0]                      \n",
            "                                                                 conv2d_25[0][0]                  \n",
            "__________________________________________________________________________________________________\n",
            "batch_normalization_22 (BatchNo (None, 8, 8, 64)     256         add_10[0][0]                     \n",
            "__________________________________________________________________________________________________\n",
            "activation_22 (Activation)      (None, 8, 8, 64)     0           batch_normalization_22[0][0]     \n",
            "__________________________________________________________________________________________________\n",
            "conv2d_26 (Conv2D)              (None, 4, 4, 128)    73856       activation_22[0][0]              \n",
            "__________________________________________________________________________________________________\n",
            "batch_normalization_23 (BatchNo (None, 4, 4, 128)    512         conv2d_26[0][0]                  \n",
            "__________________________________________________________________________________________________\n",
            "activation_23 (Activation)      (None, 4, 4, 128)    0           batch_normalization_23[0][0]     \n",
            "__________________________________________________________________________________________________\n",
            "conv2d_28 (Conv2D)              (None, 4, 4, 128)    8320        add_10[0][0]                     \n",
            "__________________________________________________________________________________________________\n",
            "conv2d_27 (Conv2D)              (None, 4, 4, 128)    147584      activation_23[0][0]              \n",
            "__________________________________________________________________________________________________\n",
            "add_11 (Add)                    (None, 4, 4, 128)    0           conv2d_28[0][0]                  \n",
            "                                                                 conv2d_27[0][0]                  \n",
            "__________________________________________________________________________________________________\n",
            "batch_normalization_24 (BatchNo (None, 4, 4, 128)    512         add_11[0][0]                     \n",
            "__________________________________________________________________________________________________\n",
            "activation_24 (Activation)      (None, 4, 4, 128)    0           batch_normalization_24[0][0]     \n",
            "__________________________________________________________________________________________________\n",
            "conv2d_29 (Conv2D)              (None, 4, 4, 128)    147584      activation_24[0][0]              \n",
            "__________________________________________________________________________________________________\n",
            "batch_normalization_25 (BatchNo (None, 4, 4, 128)    512         conv2d_29[0][0]                  \n",
            "__________________________________________________________________________________________________\n",
            "activation_25 (Activation)      (None, 4, 4, 128)    0           batch_normalization_25[0][0]     \n",
            "__________________________________________________________________________________________________\n",
            "conv2d_30 (Conv2D)              (None, 4, 4, 128)    147584      activation_25[0][0]              \n",
            "__________________________________________________________________________________________________\n",
            "add_12 (Add)                    (None, 4, 4, 128)    0           add_11[0][0]                     \n",
            "                                                                 conv2d_30[0][0]                  \n",
            "__________________________________________________________________________________________________\n",
            "batch_normalization_26 (BatchNo (None, 4, 4, 128)    512         add_12[0][0]                     \n",
            "__________________________________________________________________________________________________\n",
            "activation_26 (Activation)      (None, 4, 4, 128)    0           batch_normalization_26[0][0]     \n",
            "__________________________________________________________________________________________________\n",
            "conv2d_31 (Conv2D)              (None, 2, 2, 256)    295168      activation_26[0][0]              \n",
            "__________________________________________________________________________________________________\n",
            "batch_normalization_27 (BatchNo (None, 2, 2, 256)    1024        conv2d_31[0][0]                  \n",
            "__________________________________________________________________________________________________\n",
            "activation_27 (Activation)      (None, 2, 2, 256)    0           batch_normalization_27[0][0]     \n",
            "__________________________________________________________________________________________________\n",
            "conv2d_33 (Conv2D)              (None, 2, 2, 256)    33024       add_12[0][0]                     \n",
            "__________________________________________________________________________________________________\n",
            "conv2d_32 (Conv2D)              (None, 2, 2, 256)    590080      activation_27[0][0]              \n",
            "__________________________________________________________________________________________________\n",
            "add_13 (Add)                    (None, 2, 2, 256)    0           conv2d_33[0][0]                  \n",
            "                                                                 conv2d_32[0][0]                  \n",
            "__________________________________________________________________________________________________\n",
            "batch_normalization_28 (BatchNo (None, 2, 2, 256)    1024        add_13[0][0]                     \n",
            "__________________________________________________________________________________________________\n",
            "activation_28 (Activation)      (None, 2, 2, 256)    0           batch_normalization_28[0][0]     \n",
            "__________________________________________________________________________________________________\n",
            "conv2d_34 (Conv2D)              (None, 2, 2, 256)    590080      activation_28[0][0]              \n",
            "__________________________________________________________________________________________________\n",
            "batch_normalization_29 (BatchNo (None, 2, 2, 256)    1024        conv2d_34[0][0]                  \n",
            "__________________________________________________________________________________________________\n",
            "activation_29 (Activation)      (None, 2, 2, 256)    0           batch_normalization_29[0][0]     \n",
            "__________________________________________________________________________________________________\n",
            "conv2d_35 (Conv2D)              (None, 2, 2, 256)    590080      activation_29[0][0]              \n",
            "__________________________________________________________________________________________________\n",
            "add_14 (Add)                    (None, 2, 2, 256)    0           add_13[0][0]                     \n",
            "                                                                 conv2d_35[0][0]                  \n",
            "__________________________________________________________________________________________________\n",
            "batch_normalization_30 (BatchNo (None, 2, 2, 256)    1024        add_14[0][0]                     \n",
            "__________________________________________________________________________________________________\n",
            "activation_30 (Activation)      (None, 2, 2, 256)    0           batch_normalization_30[0][0]     \n",
            "__________________________________________________________________________________________________\n",
            "conv2d_36 (Conv2D)              (None, 1, 1, 512)    1180160     activation_30[0][0]              \n",
            "__________________________________________________________________________________________________\n",
            "batch_normalization_31 (BatchNo (None, 1, 1, 512)    2048        conv2d_36[0][0]                  \n",
            "__________________________________________________________________________________________________\n",
            "activation_31 (Activation)      (None, 1, 1, 512)    0           batch_normalization_31[0][0]     \n",
            "__________________________________________________________________________________________________\n",
            "conv2d_38 (Conv2D)              (None, 1, 1, 512)    131584      add_14[0][0]                     \n",
            "__________________________________________________________________________________________________\n",
            "conv2d_37 (Conv2D)              (None, 1, 1, 512)    2359808     activation_31[0][0]              \n",
            "__________________________________________________________________________________________________\n",
            "add_15 (Add)                    (None, 1, 1, 512)    0           conv2d_38[0][0]                  \n",
            "                                                                 conv2d_37[0][0]                  \n",
            "__________________________________________________________________________________________________\n",
            "batch_normalization_32 (BatchNo (None, 1, 1, 512)    2048        add_15[0][0]                     \n",
            "__________________________________________________________________________________________________\n",
            "activation_32 (Activation)      (None, 1, 1, 512)    0           batch_normalization_32[0][0]     \n",
            "__________________________________________________________________________________________________\n",
            "conv2d_39 (Conv2D)              (None, 1, 1, 512)    2359808     activation_32[0][0]              \n",
            "__________________________________________________________________________________________________\n",
            "batch_normalization_33 (BatchNo (None, 1, 1, 512)    2048        conv2d_39[0][0]                  \n",
            "__________________________________________________________________________________________________\n",
            "activation_33 (Activation)      (None, 1, 1, 512)    0           batch_normalization_33[0][0]     \n",
            "__________________________________________________________________________________________________\n",
            "conv2d_40 (Conv2D)              (None, 1, 1, 512)    2359808     activation_33[0][0]              \n",
            "__________________________________________________________________________________________________\n",
            "add_16 (Add)                    (None, 1, 1, 512)    0           add_15[0][0]                     \n",
            "                                                                 conv2d_40[0][0]                  \n",
            "__________________________________________________________________________________________________\n",
            "batch_normalization_34 (BatchNo (None, 1, 1, 512)    2048        add_16[0][0]                     \n",
            "__________________________________________________________________________________________________\n",
            "activation_34 (Activation)      (None, 1, 1, 512)    0           batch_normalization_34[0][0]     \n",
            "__________________________________________________________________________________________________\n",
            "average_pooling2d_2 (AveragePoo (None, 1, 1, 512)    0           activation_34[0][0]              \n",
            "__________________________________________________________________________________________________\n",
            "flatten_2 (Flatten)             (None, 512)          0           average_pooling2d_2[0][0]        \n",
            "__________________________________________________________________________________________________\n",
            "dense_2 (Dense)                 (None, 100)          51300       flatten_2[0][0]                  \n",
            "==================================================================================================\n",
            "Total params: 11,238,628\n",
            "Trainable params: 11,230,820\n",
            "Non-trainable params: 7,808\n",
            "__________________________________________________________________________________________________\n"
          ],
          "name": "stdout"
        }
      ]
    },
    {
      "cell_type": "code",
      "metadata": {
        "id": "AgHcGhsCOKUK",
        "colab_type": "code",
        "colab": {
          "base_uri": "https://localhost:8080/",
          "height": 1000
        },
        "outputId": "a7d4baf0-01ec-424c-fc9a-11ae56b438cd"
      },
      "source": [
        "hist = model.fit_generator(train_gen, steps_per_epoch=50000//512, validation_data=test_gen, validation_steps=10000//512,  epochs=100)"
      ],
      "execution_count": 29,
      "outputs": [
        {
          "output_type": "stream",
          "text": [
            "Epoch 1/100\n",
            "97/97 [==============================] - 34s 352ms/step - loss: 4.5979 - acc: 0.0983 - val_loss: 4.4059 - val_acc: 0.1122\n",
            "Epoch 2/100\n",
            "97/97 [==============================] - 29s 301ms/step - loss: 4.0700 - acc: 0.1545 - val_loss: 4.4603 - val_acc: 0.1149\n",
            "Epoch 3/100\n",
            "97/97 [==============================] - 30s 310ms/step - loss: 3.8699 - acc: 0.1799 - val_loss: 3.9858 - val_acc: 0.1636\n",
            "Epoch 4/100\n",
            "97/97 [==============================] - 30s 311ms/step - loss: 3.7289 - acc: 0.2005 - val_loss: 3.7748 - val_acc: 0.1938\n",
            "Epoch 5/100\n",
            "97/97 [==============================] - 30s 312ms/step - loss: 3.6144 - acc: 0.2146 - val_loss: 3.6089 - val_acc: 0.2124\n",
            "Epoch 6/100\n",
            "97/97 [==============================] - 30s 313ms/step - loss: 3.5085 - acc: 0.2304 - val_loss: 3.7172 - val_acc: 0.1959\n",
            "Epoch 7/100\n",
            "97/97 [==============================] - 30s 305ms/step - loss: 3.4420 - acc: 0.2422 - val_loss: 3.5109 - val_acc: 0.2306\n",
            "Epoch 8/100\n",
            "97/97 [==============================] - 30s 305ms/step - loss: 3.3677 - acc: 0.2546 - val_loss: 3.3235 - val_acc: 0.2696\n",
            "Epoch 9/100\n",
            "97/97 [==============================] - 29s 304ms/step - loss: 3.3097 - acc: 0.2608 - val_loss: 3.4916 - val_acc: 0.2387\n",
            "Epoch 10/100\n",
            "97/97 [==============================] - 29s 302ms/step - loss: 3.2576 - acc: 0.2705 - val_loss: 3.3485 - val_acc: 0.2586\n",
            "Epoch 11/100\n",
            "97/97 [==============================] - 29s 303ms/step - loss: 3.2012 - acc: 0.2801 - val_loss: 3.4541 - val_acc: 0.2445\n",
            "Epoch 12/100\n",
            "97/97 [==============================] - 29s 302ms/step - loss: 3.1543 - acc: 0.2894 - val_loss: 3.2273 - val_acc: 0.2829\n",
            "Epoch 13/100\n",
            "97/97 [==============================] - 29s 301ms/step - loss: 3.1124 - acc: 0.2941 - val_loss: 3.4610 - val_acc: 0.2472\n",
            "Epoch 14/100\n",
            "97/97 [==============================] - 29s 301ms/step - loss: 3.0743 - acc: 0.3007 - val_loss: 3.3286 - val_acc: 0.2697\n",
            "Epoch 15/100\n",
            "97/97 [==============================] - 29s 303ms/step - loss: 3.0338 - acc: 0.3111 - val_loss: 3.2113 - val_acc: 0.2867\n",
            "Epoch 16/100\n",
            "97/97 [==============================] - 29s 301ms/step - loss: 3.0023 - acc: 0.3146 - val_loss: 3.2874 - val_acc: 0.2665\n",
            "Epoch 17/100\n",
            "97/97 [==============================] - 29s 302ms/step - loss: 2.9713 - acc: 0.3209 - val_loss: 3.1602 - val_acc: 0.2932\n",
            "Epoch 18/100\n",
            "97/97 [==============================] - 30s 305ms/step - loss: 2.9315 - acc: 0.3301 - val_loss: 3.1806 - val_acc: 0.2921\n",
            "Epoch 19/100\n",
            "97/97 [==============================] - 29s 299ms/step - loss: 2.9121 - acc: 0.3326 - val_loss: 3.5245 - val_acc: 0.2447\n",
            "Epoch 20/100\n",
            "97/97 [==============================] - 29s 304ms/step - loss: 2.8772 - acc: 0.3384 - val_loss: 3.3536 - val_acc: 0.2633\n",
            "Epoch 21/100\n",
            "97/97 [==============================] - 29s 301ms/step - loss: 2.8474 - acc: 0.3482 - val_loss: 3.1930 - val_acc: 0.2954\n",
            "Epoch 22/100\n",
            "97/97 [==============================] - 29s 300ms/step - loss: 2.8237 - acc: 0.3496 - val_loss: 3.2626 - val_acc: 0.2823\n",
            "Epoch 23/100\n",
            "97/97 [==============================] - 29s 298ms/step - loss: 2.7980 - acc: 0.3559 - val_loss: 3.0461 - val_acc: 0.3204\n",
            "Epoch 24/100\n",
            "97/97 [==============================] - 29s 298ms/step - loss: 2.7803 - acc: 0.3596 - val_loss: 3.0888 - val_acc: 0.3091\n",
            "Epoch 25/100\n",
            "97/97 [==============================] - 29s 300ms/step - loss: 2.7660 - acc: 0.3617 - val_loss: 3.0210 - val_acc: 0.3172\n",
            "Epoch 26/100\n",
            "97/97 [==============================] - 29s 301ms/step - loss: 2.7386 - acc: 0.3696 - val_loss: 3.0953 - val_acc: 0.3048\n",
            "Epoch 27/100\n",
            "97/97 [==============================] - 29s 298ms/step - loss: 2.7198 - acc: 0.3738 - val_loss: 3.3142 - val_acc: 0.2848\n",
            "Epoch 28/100\n",
            "97/97 [==============================] - 29s 297ms/step - loss: 2.6872 - acc: 0.3813 - val_loss: 3.1048 - val_acc: 0.3134\n",
            "Epoch 29/100\n",
            "97/97 [==============================] - 29s 300ms/step - loss: 2.6842 - acc: 0.3794 - val_loss: 3.0249 - val_acc: 0.3230\n",
            "Epoch 30/100\n",
            "97/97 [==============================] - 29s 301ms/step - loss: 2.6577 - acc: 0.3861 - val_loss: 2.8455 - val_acc: 0.3481\n",
            "Epoch 31/100\n",
            "97/97 [==============================] - 29s 299ms/step - loss: 2.6456 - acc: 0.3899 - val_loss: 3.0853 - val_acc: 0.3168\n",
            "Epoch 32/100\n",
            "97/97 [==============================] - 29s 300ms/step - loss: 2.6207 - acc: 0.3937 - val_loss: 2.9935 - val_acc: 0.3319\n",
            "Epoch 33/100\n",
            "97/97 [==============================] - 29s 302ms/step - loss: 2.6167 - acc: 0.3959 - val_loss: 2.9117 - val_acc: 0.3522\n",
            "Epoch 34/100\n",
            "97/97 [==============================] - 29s 299ms/step - loss: 2.6061 - acc: 0.3963 - val_loss: 2.8463 - val_acc: 0.3567\n",
            "Epoch 35/100\n",
            "97/97 [==============================] - 29s 301ms/step - loss: 2.5674 - acc: 0.4067 - val_loss: 3.0356 - val_acc: 0.3381\n",
            "Epoch 36/100\n",
            "97/97 [==============================] - 30s 305ms/step - loss: 2.5519 - acc: 0.4102 - val_loss: 3.2395 - val_acc: 0.3080\n",
            "Epoch 37/100\n",
            "97/97 [==============================] - 30s 310ms/step - loss: 2.5471 - acc: 0.4115 - val_loss: 2.9847 - val_acc: 0.3482\n",
            "Epoch 38/100\n",
            "97/97 [==============================] - 30s 304ms/step - loss: 2.5434 - acc: 0.4109 - val_loss: 3.3615 - val_acc: 0.2880\n",
            "Epoch 39/100\n",
            "97/97 [==============================] - 30s 306ms/step - loss: 2.5247 - acc: 0.4163 - val_loss: 2.9842 - val_acc: 0.3440\n",
            "Epoch 40/100\n",
            "97/97 [==============================] - 30s 308ms/step - loss: 2.5024 - acc: 0.4221 - val_loss: 2.9153 - val_acc: 0.3549\n",
            "Epoch 41/100\n",
            "97/97 [==============================] - 30s 305ms/step - loss: 2.4912 - acc: 0.4264 - val_loss: 2.9192 - val_acc: 0.3534\n",
            "Epoch 42/100\n",
            "97/97 [==============================] - 30s 305ms/step - loss: 2.4708 - acc: 0.4294 - val_loss: 2.8463 - val_acc: 0.3719\n",
            "Epoch 43/100\n",
            "97/97 [==============================] - 30s 305ms/step - loss: 2.4532 - acc: 0.4311 - val_loss: 3.3953 - val_acc: 0.2958\n",
            "Epoch 44/100\n",
            "97/97 [==============================] - 30s 309ms/step - loss: 2.4496 - acc: 0.4369 - val_loss: 2.9769 - val_acc: 0.3553\n",
            "Epoch 45/100\n",
            "97/97 [==============================] - 29s 304ms/step - loss: 2.4299 - acc: 0.4385 - val_loss: 3.5489 - val_acc: 0.2731\n",
            "Epoch 46/100\n",
            "97/97 [==============================] - 30s 305ms/step - loss: 2.4276 - acc: 0.4409 - val_loss: 2.9969 - val_acc: 0.3511\n",
            "Epoch 47/100\n",
            "97/97 [==============================] - 30s 307ms/step - loss: 2.4013 - acc: 0.4476 - val_loss: 2.9048 - val_acc: 0.3608\n",
            "Epoch 48/100\n",
            "97/97 [==============================] - 29s 303ms/step - loss: 2.3982 - acc: 0.4496 - val_loss: 2.8569 - val_acc: 0.3719\n",
            "Epoch 49/100\n",
            "97/97 [==============================] - 30s 305ms/step - loss: 2.3726 - acc: 0.4539 - val_loss: 3.3012 - val_acc: 0.3144\n",
            "Epoch 50/100\n",
            "97/97 [==============================] - 30s 307ms/step - loss: 2.3618 - acc: 0.4624 - val_loss: 2.9194 - val_acc: 0.3757\n",
            "Epoch 51/100\n",
            "97/97 [==============================] - 30s 307ms/step - loss: 2.3536 - acc: 0.4632 - val_loss: 3.1254 - val_acc: 0.3429\n",
            "Epoch 52/100\n",
            "97/97 [==============================] - 30s 304ms/step - loss: 2.3548 - acc: 0.4629 - val_loss: 2.9360 - val_acc: 0.3632\n",
            "Epoch 53/100\n",
            "97/97 [==============================] - 30s 307ms/step - loss: 2.3279 - acc: 0.4663 - val_loss: 2.9012 - val_acc: 0.3714\n",
            "Epoch 54/100\n",
            "97/97 [==============================] - 30s 309ms/step - loss: 2.3054 - acc: 0.4749 - val_loss: 2.7958 - val_acc: 0.3870\n",
            "Epoch 55/100\n",
            "97/97 [==============================] - 30s 307ms/step - loss: 2.3012 - acc: 0.4760 - val_loss: 2.8764 - val_acc: 0.3831\n",
            "Epoch 56/100\n",
            "97/97 [==============================] - 30s 307ms/step - loss: 2.2868 - acc: 0.4791 - val_loss: 3.2909 - val_acc: 0.3223\n",
            "Epoch 57/100\n",
            "97/97 [==============================] - 30s 306ms/step - loss: 2.2752 - acc: 0.4817 - val_loss: 2.9561 - val_acc: 0.3744\n",
            "Epoch 58/100\n",
            "97/97 [==============================] - 30s 309ms/step - loss: 2.2572 - acc: 0.4892 - val_loss: 2.9147 - val_acc: 0.3783\n",
            "Epoch 59/100\n",
            "97/97 [==============================] - 30s 306ms/step - loss: 2.2583 - acc: 0.4884 - val_loss: 3.1148 - val_acc: 0.3504\n",
            "Epoch 60/100\n",
            "97/97 [==============================] - 30s 308ms/step - loss: 2.2349 - acc: 0.4946 - val_loss: 2.9363 - val_acc: 0.3774\n",
            "Epoch 61/100\n",
            "97/97 [==============================] - 30s 308ms/step - loss: 2.2356 - acc: 0.4941 - val_loss: 2.9495 - val_acc: 0.3744\n",
            "Epoch 62/100\n",
            "97/97 [==============================] - 30s 307ms/step - loss: 2.2004 - acc: 0.5039 - val_loss: 3.0276 - val_acc: 0.3658\n",
            "Epoch 63/100\n",
            "97/97 [==============================] - 30s 305ms/step - loss: 2.1952 - acc: 0.5049 - val_loss: 3.2852 - val_acc: 0.3314\n",
            "Epoch 64/100\n",
            "97/97 [==============================] - 30s 306ms/step - loss: 2.1868 - acc: 0.5082 - val_loss: 3.1506 - val_acc: 0.3553\n",
            "Epoch 65/100\n",
            "97/97 [==============================] - 30s 305ms/step - loss: 2.1652 - acc: 0.5140 - val_loss: 3.4487 - val_acc: 0.3166\n",
            "Epoch 66/100\n",
            "97/97 [==============================] - 30s 306ms/step - loss: 2.1403 - acc: 0.5211 - val_loss: 3.0524 - val_acc: 0.3698\n",
            "Epoch 67/100\n",
            "97/97 [==============================] - 29s 302ms/step - loss: 2.1389 - acc: 0.5218 - val_loss: 3.2016 - val_acc: 0.3572\n",
            "Epoch 68/100\n",
            "97/97 [==============================] - 30s 304ms/step - loss: 2.1315 - acc: 0.5243 - val_loss: 2.9624 - val_acc: 0.3883\n",
            "Epoch 69/100\n",
            "97/97 [==============================] - 29s 303ms/step - loss: 2.1109 - acc: 0.5325 - val_loss: 2.9802 - val_acc: 0.3868\n",
            "Epoch 70/100\n",
            "97/97 [==============================] - 29s 301ms/step - loss: 2.1013 - acc: 0.5336 - val_loss: 3.0129 - val_acc: 0.3872\n",
            "Epoch 71/100\n",
            "97/97 [==============================] - 30s 306ms/step - loss: 2.0783 - acc: 0.5434 - val_loss: 3.2064 - val_acc: 0.3603\n",
            "Epoch 72/100\n",
            "97/97 [==============================] - 29s 301ms/step - loss: 2.0816 - acc: 0.5394 - val_loss: 3.1799 - val_acc: 0.3606\n",
            "Epoch 73/100\n",
            "97/97 [==============================] - 29s 303ms/step - loss: 2.0602 - acc: 0.5464 - val_loss: 3.4410 - val_acc: 0.3326\n",
            "Epoch 74/100\n",
            "97/97 [==============================] - 30s 305ms/step - loss: 2.0467 - acc: 0.5503 - val_loss: 3.3493 - val_acc: 0.3498\n",
            "Epoch 75/100\n",
            "97/97 [==============================] - 29s 304ms/step - loss: 2.0181 - acc: 0.5575 - val_loss: 3.1309 - val_acc: 0.3817\n",
            "Epoch 76/100\n",
            "97/97 [==============================] - 30s 305ms/step - loss: 2.0098 - acc: 0.5615 - val_loss: 3.1633 - val_acc: 0.3670\n",
            "Epoch 77/100\n",
            "97/97 [==============================] - 30s 307ms/step - loss: 1.9989 - acc: 0.5661 - val_loss: 3.1790 - val_acc: 0.3699\n",
            "Epoch 78/100\n",
            "97/97 [==============================] - 30s 308ms/step - loss: 1.9852 - acc: 0.5691 - val_loss: 3.1123 - val_acc: 0.3849\n",
            "Epoch 79/100\n",
            "97/97 [==============================] - 30s 309ms/step - loss: 1.9733 - acc: 0.5710 - val_loss: 3.2194 - val_acc: 0.3695\n",
            "Epoch 80/100\n",
            "97/97 [==============================] - 30s 305ms/step - loss: 1.9419 - acc: 0.5848 - val_loss: 3.3019 - val_acc: 0.3582\n",
            "Epoch 81/100\n",
            "97/97 [==============================] - 30s 308ms/step - loss: 1.9352 - acc: 0.5833 - val_loss: 3.4471 - val_acc: 0.3439\n",
            "Epoch 82/100\n",
            "97/97 [==============================] - 30s 306ms/step - loss: 1.9179 - acc: 0.5911 - val_loss: 3.3258 - val_acc: 0.3628\n",
            "Epoch 83/100\n",
            "97/97 [==============================] - 30s 306ms/step - loss: 1.9152 - acc: 0.5919 - val_loss: 3.1376 - val_acc: 0.3941\n",
            "Epoch 84/100\n",
            "97/97 [==============================] - 30s 306ms/step - loss: 1.8936 - acc: 0.5988 - val_loss: 3.2323 - val_acc: 0.3850\n",
            "Epoch 85/100\n",
            "97/97 [==============================] - 30s 305ms/step - loss: 1.8844 - acc: 0.6016 - val_loss: 3.2596 - val_acc: 0.3825\n",
            "Epoch 86/100\n",
            "97/97 [==============================] - 30s 305ms/step - loss: 1.8726 - acc: 0.6043 - val_loss: 3.1585 - val_acc: 0.3919\n",
            "Epoch 87/100\n",
            "97/97 [==============================] - 30s 305ms/step - loss: 1.8659 - acc: 0.6061 - val_loss: 3.4260 - val_acc: 0.3745\n",
            "Epoch 88/100\n",
            "97/97 [==============================] - 29s 304ms/step - loss: 1.8365 - acc: 0.6194 - val_loss: 3.5286 - val_acc: 0.3524\n",
            "Epoch 89/100\n",
            "97/97 [==============================] - 30s 305ms/step - loss: 1.8227 - acc: 0.6203 - val_loss: 3.5088 - val_acc: 0.3531\n",
            "Epoch 90/100\n",
            "97/97 [==============================] - 30s 309ms/step - loss: 1.8052 - acc: 0.6274 - val_loss: 3.4015 - val_acc: 0.3620\n",
            "Epoch 91/100\n",
            "97/97 [==============================] - 30s 305ms/step - loss: 1.7973 - acc: 0.6304 - val_loss: 3.6574 - val_acc: 0.3529\n",
            "Epoch 92/100\n",
            "97/97 [==============================] - 29s 303ms/step - loss: 1.7767 - acc: 0.6365 - val_loss: 3.1850 - val_acc: 0.3934\n",
            "Epoch 93/100\n",
            "97/97 [==============================] - 30s 306ms/step - loss: 1.7745 - acc: 0.6348 - val_loss: 3.4812 - val_acc: 0.3726\n",
            "Epoch 94/100\n",
            "97/97 [==============================] - 30s 306ms/step - loss: 1.7658 - acc: 0.6395 - val_loss: 3.7359 - val_acc: 0.3482\n",
            "Epoch 95/100\n",
            "97/97 [==============================] - 30s 308ms/step - loss: 1.7397 - acc: 0.6491 - val_loss: 3.6390 - val_acc: 0.3512\n",
            "Epoch 96/100\n",
            "97/97 [==============================] - 30s 307ms/step - loss: 1.7281 - acc: 0.6493 - val_loss: 3.4054 - val_acc: 0.3907\n",
            "Epoch 97/100\n",
            "97/97 [==============================] - 30s 304ms/step - loss: 1.7128 - acc: 0.6588 - val_loss: 3.6354 - val_acc: 0.3594\n",
            "Epoch 98/100\n",
            "97/97 [==============================] - 30s 306ms/step - loss: 1.7208 - acc: 0.6553 - val_loss: 3.5950 - val_acc: 0.3664\n",
            "Epoch 99/100\n",
            "97/97 [==============================] - 30s 304ms/step - loss: 1.7007 - acc: 0.6609 - val_loss: 3.4856 - val_acc: 0.3787\n",
            "Epoch 100/100\n",
            "97/97 [==============================] - 30s 307ms/step - loss: 1.7086 - acc: 0.6595 - val_loss: 3.8591 - val_acc: 0.3407\n"
          ],
          "name": "stdout"
        }
      ]
    },
    {
      "cell_type": "code",
      "metadata": {
        "id": "7W4_hAgGObNb",
        "colab_type": "code",
        "colab": {}
      },
      "source": [
        ""
      ],
      "execution_count": 0,
      "outputs": []
    },
    {
      "cell_type": "code",
      "metadata": {
        "id": "cBbsEvtwVmyf",
        "colab_type": "code",
        "colab": {}
      },
      "source": [
        ""
      ],
      "execution_count": 0,
      "outputs": []
    }
  ]
}