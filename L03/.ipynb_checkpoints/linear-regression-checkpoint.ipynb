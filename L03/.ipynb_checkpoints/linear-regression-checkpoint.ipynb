{
 "cells": [
  {
   "cell_type": "code",
   "execution_count": 3,
   "metadata": {},
   "outputs": [],
   "source": [
    "import numpy as np\n",
    "import matplotlib.pyplot as plt\n",
    "%matplotlib inline"
   ]
  },
  {
   "cell_type": "markdown",
   "metadata": {},
   "source": [
    "### standard deviation - :\n",
    "a quantity expressing by how much the members of a group differ from the mean value for the group."
   ]
  },
  {
   "cell_type": "code",
   "execution_count": 4,
   "metadata": {},
   "outputs": [],
   "source": [
    "arr = np.random.randn(10) +  10"
   ]
  },
  {
   "cell_type": "code",
   "execution_count": 5,
   "metadata": {},
   "outputs": [
    {
     "data": {
      "text/plain": [
       "array([11.62418896, 11.96847376,  7.93922709,  9.28487703,  9.31763274,\n",
       "        9.15076743,  9.85363395,  8.53821731,  9.8562611 , 10.41764574])"
      ]
     },
     "execution_count": 5,
     "metadata": {},
     "output_type": "execute_result"
    }
   ],
   "source": [
    "arr"
   ]
  },
  {
   "cell_type": "code",
   "execution_count": 6,
   "metadata": {},
   "outputs": [],
   "source": [
    "std = np.std(arr)"
   ]
  },
  {
   "cell_type": "code",
   "execution_count": 7,
   "metadata": {},
   "outputs": [
    {
     "data": {
      "text/plain": [
       "1.199638916879517"
      ]
     },
     "execution_count": 7,
     "metadata": {},
     "output_type": "execute_result"
    }
   ],
   "source": [
    "std"
   ]
  },
  {
   "cell_type": "code",
   "execution_count": 8,
   "metadata": {},
   "outputs": [
    {
     "name": "stdout",
     "output_type": "stream",
     "text": [
      "[ 1.70086652  0.16691431  1.41414196  0.89665096  0.8212411   0.20882045\n",
      "  1.15020078 -0.68523903  0.22021903 -0.15714574 -0.28863136  2.67352676\n",
      "  0.81416829 -1.59978301 -0.03490691  0.43050325  2.35171658 -0.50391867\n",
      " -0.32757833 -0.62200816  1.16345585 -0.46626703 -0.24955385  0.5968458\n",
      " -0.16475604  0.07301447 -1.86225162 -0.05174113 -1.70392109 -1.80794516\n",
      "  1.39867914 -0.64877475 -1.31173235 -0.90597821  0.72328812  0.28681916\n",
      " -0.16380703  0.58103004  1.25715784  0.70877748 -0.44581429 -1.10433643\n",
      " -0.07596257 -0.51714196 -0.77886364  0.83498744 -0.57589709 -0.33007526\n",
      " -0.16984059  1.30529238]\n",
      "[ 8.7170983   5.34298742  7.76766555  7.04842084  6.46543117  5.460599\n",
      "  7.00985996  3.32297829  5.82374168  5.47065809  3.62827669 11.04124861\n",
      "  6.58271728  1.80612849  5.12492785  5.19380104  9.53949067  4.93601105\n",
      "  3.90340299  3.71301011  7.94107915  3.73201048  4.1800284   6.27530318\n",
      "  4.3568498   5.16576799  1.33003916  5.21542661  2.00033171  1.76292625\n",
      "  7.86221164  3.56711979  1.8515055   3.00126471  6.58147032  4.92826021\n",
      "  3.58532731  6.09785719  7.72619758  6.28435362  4.04708246  2.10352751\n",
      "  4.26441339  3.92223919  4.19300982  6.28287898  4.7718852   4.28182009\n",
      "  4.53287629  7.71318783]\n"
     ]
    }
   ],
   "source": [
    "x = np.random.randn(50)\n",
    "e = np.random.randn(50) # gaussian noise\n",
    "y = 2*x + 5 + 0.4*e \n",
    "\n",
    "print(x)\n",
    "print(y)"
   ]
  },
  {
   "cell_type": "code",
   "execution_count": 9,
   "metadata": {},
   "outputs": [
    {
     "name": "stdout",
     "output_type": "stream",
     "text": [
      "0.08448892823149258 5.14913412887863\n"
     ]
    }
   ],
   "source": [
    "x_mean = np.mean(x)\n",
    "y_mean = np.mean(y)\n",
    "print(x_mean, y_mean)"
   ]
  },
  {
   "cell_type": "code",
   "execution_count": 10,
   "metadata": {},
   "outputs": [
    {
     "data": {
      "image/png": "[encoded data removed]",
      "text/plain": [
       "<Figure size 432x288 with 1 Axes>"
      ]
     },
     "metadata": {
      "needs_background": "light"
     },
     "output_type": "display_data"
    }
   ],
   "source": [
    "plt.scatter(x_mean, y_mean, color = \"red\")\n",
    "plt.scatter(x, y, color = 'green')\n",
    "plt.xlabel('x')\n",
    "plt.ylabel('y')\n",
    "plt.show()"
   ]
  },
  {
   "cell_type": "code",
   "execution_count": 11,
   "metadata": {},
   "outputs": [],
   "source": [
    "sx = np.std(x)\n",
    "sy = np.std(y)"
   ]
  },
  {
   "cell_type": "code",
   "execution_count": 12,
   "metadata": {},
   "outputs": [],
   "source": [
    "r = np.corrcoef(x, y)\n",
    "r = r[0][1]"
   ]
  },
  {
   "cell_type": "code",
   "execution_count": 13,
   "metadata": {},
   "outputs": [],
   "source": [
    "slope = (sy/sx)*r"
   ]
  },
  {
   "cell_type": "code",
   "execution_count": 14,
   "metadata": {},
   "outputs": [],
   "source": [
    "x_reg = np.arange(start = x_mean , step = 1, stop = max(y))"
   ]
  },
  {
   "cell_type": "code",
   "execution_count": 15,
   "metadata": {},
   "outputs": [
    {
     "data": {
      "text/plain": [
       "array([ 0.08448893,  1.08448893,  2.08448893,  3.08448893,  4.08448893,\n",
       "        5.08448893,  6.08448893,  7.08448893,  8.08448893,  9.08448893,\n",
       "       10.08448893])"
      ]
     },
     "execution_count": 15,
     "metadata": {},
     "output_type": "execute_result"
    }
   ],
   "source": [
    "x_reg"
   ]
  },
  {
   "cell_type": "code",
   "execution_count": 16,
   "metadata": {},
   "outputs": [],
   "source": [
    "y_reg = x_reg + slope"
   ]
  },
  {
   "cell_type": "code",
   "execution_count": 17,
   "metadata": {},
   "outputs": [
    {
     "data": {
      "text/plain": [
       "[<matplotlib.lines.Line2D at 0x7fbcf6e75588>]"
      ]
     },
     "execution_count": 17,
     "metadata": {},
     "output_type": "execute_result"
    },
    {
     "data": {
      "image/png": "[encoded data removed]",
      "text/plain": [
       "<Figure size 432x288 with 1 Axes>"
      ]
     },
     "metadata": {
      "needs_background": "light"
     },
     "output_type": "display_data"
    }
   ],
   "source": [
    "plt.scatter(x, y, color = 'green')\n",
    "plt.plot(x_reg, y_reg, color = \"red\")"
   ]
  },
  {
   "cell_type": "markdown",
   "metadata": {},
   "source": [
    "# Linear  Regeression\n",
    "### gradient descent algorithm\n",
    "gradient descent algorithm is based upon minimizing the total error."
   ]
  },
  {
   "cell_type": "code",
   "execution_count": 18,
   "metadata": {},
   "outputs": [],
   "source": [
    "import pandas as pd\n",
    "import numpy as np\n",
    "import matplotlib.pyplot as plt"
   ]
  },
  {
   "cell_type": "markdown",
   "metadata": {},
   "source": [
    "### Preparing Data"
   ]
  },
  {
   "cell_type": "code",
   "execution_count": 19,
   "metadata": {},
   "outputs": [],
   "source": [
    "x = np.random.randn(100) # standared normal distribution\n",
    "g_err = np.random.randn(100) # gaussian error\n",
    "y = 2*x + 0.6*g_err"
   ]
  },
  {
   "cell_type": "markdown",
   "metadata": {},
   "source": [
    "### visualization and normalizing data"
   ]
  },
  {
   "cell_type": "code",
   "execution_count": 20,
   "metadata": {},
   "outputs": [
    {
     "data": {
      "image/png": "[encoded data removed]",
      "text/plain": [
       "<Figure size 432x288 with 1 Axes>"
      ]
     },
     "metadata": {
      "needs_background": "light"
     },
     "output_type": "display_data"
    }
   ],
   "source": [
    "plt.scatter(x, y, color = \"red\")\n",
    "X = ((x - np.mean(x))/np.std(x))   # normal standard distribution\n",
    "Y = y\n",
    "plt.scatter(X, Y, color = \"orange\")\n",
    "plt.show()"
   ]
  },
  {
   "cell_type": "code",
   "execution_count": 21,
   "metadata": {},
   "outputs": [
    {
     "data": {
      "text/plain": [
       "'0.000000'"
      ]
     },
     "execution_count": 21,
     "metadata": {},
     "output_type": "execute_result"
    }
   ],
   "source": [
    "\"{:f}\".format(float(np.mean(X))) "
   ]
  },
  {
   "cell_type": "code",
   "execution_count": 22,
   "metadata": {},
   "outputs": [
    {
     "data": {
      "image/png": "[encoded data removed]",
      "text/plain": [
       "<Figure size 432x288 with 1 Axes>"
      ]
     },
     "metadata": {
      "needs_background": "light"
     },
     "output_type": "display_data"
    }
   ],
   "source": [
    "plt.scatter(X, Y);"
   ]
  },
  {
   "cell_type": "markdown",
   "metadata": {},
   "source": [
    "### now we have to fit a line in the above training data (X, Y) \n",
    "###### we will do that by minimizing the error and this algorithm is called gradient descent"
   ]
  },
  {
   "cell_type": "markdown",
   "metadata": {},
   "source": [
    "## Gradient Descent Algorithm\n",
    "- Start with random theta\n",
    "- Update the theta as per update <br>\n",
    "   - Repeat step 2 until convergance"
   ]
  },
  {
   "cell_type": "code",
   "execution_count": null,
   "metadata": {},
   "outputs": [],
   "source": [
    "\n",
    "\n",
    "\n"
   ]
  },
  {
   "cell_type": "code",
   "execution_count": 23,
   "metadata": {},
   "outputs": [],
   "source": [
    "# hyptothesis function or regression line\n",
    "def line_hypothesis(x, theta):\n",
    "    return theta[0] + theta[1]*x\n",
    "\n",
    "# calculating total error\n",
    "def err(X, Y, theta):\n",
    "    m = X.shape[0]\n",
    "    e = 0 # initial error value\n",
    "    for i in range(m):\n",
    "        hx = line_hypothesis(X[i], theta)\n",
    "        e += (hx - Y[i])**2    \n",
    "    return  e\n",
    "\n",
    "def gradient(X, Y, theta):\n",
    "    grad = np.zeros((2,))\n",
    "    m = X.shape[0]\n",
    "    for i in range(m):\n",
    "        hx = line_hypothesis(X[i], theta)\n",
    "        grad[0] += hx - Y[i]\n",
    "        grad[1] += (hx - Y[i])*X[i]\n",
    "    return grad\n",
    "\n",
    "# gradient descent function\n",
    "def gradient_descent(X, Y, learning_rate = 0.001):\n",
    "    theta = np.zeros((2,))\n",
    "    error_list = []\n",
    "    for i in range(100):\n",
    "        grad = gradient(X, Y, theta)\n",
    "        e = err(X, Y, theta)\n",
    "        error_list.append(e)\n",
    "        theta[0]  = theta[0] - learning_rate*grad[0]\n",
    "        theta[1]  = theta[1]  - learning_rate*grad[1]\n",
    "\n",
    "    return error_list, theta\n",
    "    \n",
    "    \n",
    "    \n",
    "    "
   ]
  },
  {
   "cell_type": "code",
   "execution_count": 24,
   "metadata": {},
   "outputs": [],
   "source": [
    "error_list, final_theta = gradient_descent(X, Y)"
   ]
  },
  {
   "cell_type": "code",
   "execution_count": 25,
   "metadata": {},
   "outputs": [
    {
     "data": {
      "image/png": "[encoded data removed]",
      "text/plain": [
       "<Figure size 432x288 with 1 Axes>"
      ]
     },
     "metadata": {
      "needs_background": "light"
     },
     "output_type": "display_data"
    }
   ],
   "source": [
    "plt.plot(error_list);"
   ]
  },
  {
   "cell_type": "code",
   "execution_count": 26,
   "metadata": {},
   "outputs": [],
   "source": [
    "test = np.linspace(-4, 4, 12)"
   ]
  },
  {
   "cell_type": "code",
   "execution_count": 27,
   "metadata": {},
   "outputs": [
    {
     "data": {
      "image/png": "[encoded data removed]",
      "text/plain": [
       "<Figure size 432x288 with 1 Axes>"
      ]
     },
     "metadata": {
      "needs_background": "light"
     },
     "output_type": "display_data"
    }
   ],
   "source": [
    "plt.plot(test, line_hypothesis(test, final_theta), color = \"red\")\n",
    "plt.scatter(X, Y, color = \"orange\");"
   ]
  },
  {
   "cell_type": "markdown",
   "metadata": {},
   "source": [
    "### Different Method"
   ]
  },
  {
   "cell_type": "code",
   "execution_count": 28,
   "metadata": {},
   "outputs": [],
   "source": [
    "x_mean = np.mean(X)\n",
    "y_mean = np.mean(Y)\n",
    "sx = np.std(X)\n",
    "sy = np.std(Y)"
   ]
  },
  {
   "cell_type": "code",
   "execution_count": 29,
   "metadata": {},
   "outputs": [],
   "source": [
    "m = X.shape[0]\n",
    "sigma = 0\n",
    "for i in range(m):\n",
    "    sigma += ((X[i]  - x_mean)*(Y[i] - y_mean))/sx*sy \n",
    "    "
   ]
  },
  {
   "cell_type": "code",
   "execution_count": null,
   "metadata": {},
   "outputs": [],
   "source": []
  },
  {
   "cell_type": "code",
   "execution_count": null,
   "metadata": {},
   "outputs": [],
   "source": []
  },
  {
   "cell_type": "code",
   "execution_count": null,
   "metadata": {},
   "outputs": [],
   "source": []
  },
  {
   "cell_type": "code",
   "execution_count": null,
   "metadata": {},
   "outputs": [],
   "source": []
  },
  {
   "cell_type": "code",
   "execution_count": 94,
   "metadata": {},
   "outputs": [],
   "source": [
    "r = sigma/ (m - 1)"
   ]
  },
  {
   "cell_type": "code",
   "execution_count": 95,
   "metadata": {},
   "outputs": [],
   "source": [
    "slope =  r*sy/sx"
   ]
  },
  {
   "cell_type": "code",
   "execution_count": 96,
   "metadata": {},
   "outputs": [],
   "source": [
    "y_intercept = y_mean - slope*x_mean"
   ]
  },
  {
   "cell_type": "code",
   "execution_count": 97,
   "metadata": {},
   "outputs": [
    {
     "data": {
      "text/plain": [
       "0.09986933985888839"
      ]
     },
     "execution_count": 97,
     "metadata": {},
     "output_type": "execute_result"
    }
   ],
   "source": [
    "final_theta[0]"
   ]
  },
  {
   "cell_type": "code",
   "execution_count": 98,
   "metadata": {},
   "outputs": [
    {
     "data": {
      "text/plain": [
       "0.09987199259872154"
      ]
     },
     "execution_count": 98,
     "metadata": {},
     "output_type": "execute_result"
    }
   ],
   "source": [
    "y_intercept"
   ]
  },
  {
   "cell_type": "code",
   "execution_count": 72,
   "metadata": {},
   "outputs": [
    {
     "data": {
      "text/plain": [
       "-5.02241047373947e+60"
      ]
     },
     "execution_count": 72,
     "metadata": {},
     "output_type": "execute_result"
    }
   ],
   "source": [
    "final_theta[0]"
   ]
  },
  {
   "cell_type": "code",
   "execution_count": 73,
   "metadata": {},
   "outputs": [
    {
     "data": {
      "text/plain": [
       "1420.9152554379098"
      ]
     },
     "execution_count": 73,
     "metadata": {},
     "output_type": "execute_result"
    }
   ],
   "source": [
    "sum(y)"
   ]
  },
  {
   "cell_type": "code",
   "execution_count": null,
   "metadata": {},
   "outputs": [],
   "source": []
  },
  {
   "cell_type": "code",
   "execution_count": 74,
   "metadata": {},
   "outputs": [],
   "source": [
    "y_intercept\n",
    "\n",
    "theta  = np.zeros((2, ))\n",
    "theta[0] = y_intercept\n",
    "theta[1] = slope"
   ]
  },
  {
   "cell_type": "code",
   "execution_count": 75,
   "metadata": {},
   "outputs": [
    {
     "data": {
      "image/png": "[encoded data removed]",
      "text/plain": [
       "<Figure size 432x288 with 1 Axes>"
      ]
     },
     "metadata": {
      "needs_background": "light"
     },
     "output_type": "display_data"
    }
   ],
   "source": [
    "plt.plot(test, line_hypothesis(test, theta), color = \"red\")\n",
    "plt.scatter(X, Y, color = \"orange\");"
   ]
  },
  {
   "cell_type": "code",
   "execution_count": 76,
   "metadata": {},
   "outputs": [
    {
     "data": {
      "text/plain": [
       "7.08785529882366"
      ]
     },
     "execution_count": 76,
     "metadata": {},
     "output_type": "execute_result"
    }
   ],
   "source": [
    "np.mean(x)"
   ]
  },
  {
   "cell_type": "code",
   "execution_count": 77,
   "metadata": {},
   "outputs": [],
   "source": [
    "new_x = X*np.std(x) + np.mean(x) # normal standard distribution\n"
   ]
  },
  {
   "cell_type": "code",
   "execution_count": 78,
   "metadata": {},
   "outputs": [
    {
     "data": {
      "text/plain": [
       "0.809411768064268"
      ]
     },
     "execution_count": 78,
     "metadata": {},
     "output_type": "execute_result"
    }
   ],
   "source": [
    "np.std(x)"
   ]
  },
  {
   "cell_type": "code",
   "execution_count": 79,
   "metadata": {},
   "outputs": [
    {
     "data": {
      "text/plain": [
       "array([13.80688836, 13.64786332, 13.22764815, 13.23449878, 12.79293123,\n",
       "       11.47521008, 12.8517086 , 12.74702695, 13.19091751, 12.61905346,\n",
       "       12.47425603, 12.37111432, 13.85727151, 13.03372553, 14.95418552,\n",
       "       13.25777124, 12.01503275, 11.95840001, 11.96512761, 13.35348948,\n",
       "       12.86335405, 12.16294458, 12.56289059, 11.37960077, 13.01729428,\n",
       "       11.86574701, 12.2261564 , 12.38915146, 10.61209484, 11.92764648,\n",
       "       12.22250805, 11.99488352, 13.1283013 , 13.69606299, 12.64716789,\n",
       "       12.87756182, 13.49135768, 14.51706584, 12.60948465, 12.54383528,\n",
       "       13.80528433, 11.58915143, 13.82938798, 13.12856672, 12.60829021,\n",
       "       12.45828106, 12.62061749, 13.50438736, 12.75588159, 11.98367577,\n",
       "       14.89622254, 12.83416659, 13.13702019, 11.0880979 , 12.72680117,\n",
       "       12.05602712, 11.79816747, 13.13032103, 13.4859121 , 13.43521369,\n",
       "       12.20364802, 12.4513801 , 13.09302222, 12.41884617, 13.72549654,\n",
       "       12.21702697, 11.78705038, 13.02810653, 13.65081456, 14.7449472 ,\n",
       "       14.21486316, 12.18457632, 11.69192667, 12.10044248, 12.91975784,\n",
       "       13.37768792, 12.27077493, 12.3785435 , 13.12793066, 12.9815237 ,\n",
       "       13.09056255, 13.1360963 , 12.5455538 , 12.31195276, 12.71505244,\n",
       "       12.09602828, 12.95735267, 12.59107314, 12.00661314, 13.36950362,\n",
       "       12.70859823, 12.16903432, 12.19673476, 13.11775493, 12.38900358,\n",
       "       14.06056965, 11.71394681, 12.64535228, 13.72268262, 10.82123211])"
      ]
     },
     "execution_count": 79,
     "metadata": {},
     "output_type": "execute_result"
    }
   ],
   "source": [
    "new_x"
   ]
  },
  {
   "cell_type": "code",
   "execution_count": 333,
   "metadata": {},
   "outputs": [
    {
     "data": {
      "text/plain": [
       "array([-2.12278434e-01,  2.88547201e-02,  2.06127699e-01, -1.83203836e+00,\n",
       "       -1.44933856e+00, -1.04278504e+00, -7.48246708e-02,  6.65479619e-01,\n",
       "       -2.41384461e-01,  2.69674607e-01, -9.11848513e-01, -2.84933090e-01,\n",
       "        9.17492289e-01,  6.70994342e-01,  2.14653209e-01, -3.00604996e-01,\n",
       "       -5.51467750e-01, -1.11991881e+00, -3.23526893e-01,  7.09851711e-01,\n",
       "       -8.48437747e-01, -7.41440448e-01, -1.69916970e-01, -7.54299198e-01,\n",
       "        9.29655391e-01,  5.27365999e-01,  5.22414160e-01, -2.28256402e-01,\n",
       "        2.58050456e-01,  2.94492147e-01,  1.23922328e+00, -7.23809420e-01,\n",
       "       -1.07449835e+00, -9.03277539e-03, -1.02408008e+00, -8.09802082e-01,\n",
       "       -1.25222387e-01, -7.42582675e-01, -1.08146776e-03,  6.36246691e-01,\n",
       "       -7.75981112e-01, -5.84623149e-01,  3.89989222e-01,  6.98039849e-01,\n",
       "       -6.39648959e-01, -1.87533183e-01, -2.98195514e-01,  1.70439392e+00,\n",
       "        2.23010897e-01,  6.03008964e-01,  5.41637362e-01,  1.13843659e+00,\n",
       "        6.70425647e-01,  9.79891956e-01,  2.21732623e-01,  1.75789684e+00,\n",
       "       -9.50151164e-01, -2.23550867e-01, -3.90388626e-01,  1.55883748e-01,\n",
       "       -1.06352272e-01, -3.23869334e-01,  1.08457270e+00,  1.52597245e+00,\n",
       "       -6.93784885e-01,  1.11082591e+00, -4.20097755e-01,  4.16813060e-01,\n",
       "        8.24463652e-01,  1.00339144e+00, -5.81739737e-01,  2.15598222e+00,\n",
       "        2.60906456e-01,  1.69364467e+00,  2.15198716e+00,  1.75962368e+00,\n",
       "        1.24175982e+00, -4.99130584e-01, -5.99847419e-02, -1.95001446e+00,\n",
       "       -3.85558806e-01,  8.64907160e-01,  1.54029861e-01, -1.50577827e-01,\n",
       "       -7.93057372e-01,  2.66539318e-01,  1.99725470e-01, -1.45472363e+00,\n",
       "        1.68614283e+00, -1.10460118e+00,  1.13991050e+00,  5.27505697e-01,\n",
       "        6.72329722e-01,  1.38556529e+00,  9.74057824e-01,  1.70524228e+00,\n",
       "       -1.09937482e+00,  1.61213773e-01,  1.89153857e-01, -6.09935820e-02])"
      ]
     },
     "execution_count": 333,
     "metadata": {},
     "output_type": "execute_result"
    }
   ],
   "source": [
    "x"
   ]
  },
  {
   "cell_type": "code",
   "execution_count": null,
   "metadata": {},
   "outputs": [],
   "source": []
  }
 ],
 "metadata": {
  "kernelspec": {
   "display_name": "Python 3",
   "language": "python",
   "name": "python3"
  },
  "language_info": {
   "codemirror_mode": {
    "name": "ipython",
    "version": 3
   },
   "file_extension": ".py",
   "mimetype": "text/x-python",
   "name": "python",
   "nbconvert_exporter": "python",
   "pygments_lexer": "ipython3",
   "version": "3.6.7"
  }
 },
 "nbformat": 4,
 "nbformat_minor": 2
}
