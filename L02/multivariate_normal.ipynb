{
 "cells": [
  {
   "cell_type": "markdown",
   "metadata": {},
   "source": [
    "# multivariate_normal\n",
    "#### if there are many  features in training data"
   ]
  },
  {
   "cell_type": "code",
   "execution_count": 63,
   "metadata": {},
   "outputs": [],
   "source": [
    "import numpy as np"
   ]
  },
  {
   "cell_type": "code",
   "execution_count": 64,
   "metadata": {},
   "outputs": [],
   "source": [
    "apple_data = np.random.multivariate_normal(mean = np.zeros(3), cov = np.eye(3), size = 5)"
   ]
  },
  {
   "cell_type": "code",
   "execution_count": 65,
   "metadata": {},
   "outputs": [
    {
     "data": {
      "text/plain": [
       "array([[-1.06085547, -0.64654094,  1.50207275],\n",
       "       [ 0.17697144,  0.44515703, -1.67757582],\n",
       "       [ 0.54289806,  0.10403057, -1.06784378],\n",
       "       [ 1.43518066,  0.8374897 ,  0.4618136 ],\n",
       "       [ 0.84934756, -0.23167102, -0.89163777]])"
      ]
     },
     "execution_count": 65,
     "metadata": {},
     "output_type": "execute_result"
    }
   ],
   "source": [
    "apple_data"
   ]
  },
  {
   "cell_type": "markdown",
   "metadata": {},
   "source": [
    "# very important\n",
    "### modifying the values of particular cols"
   ]
  },
  {
   "cell_type": "code",
   "execution_count": 66,
   "metadata": {},
   "outputs": [],
   "source": [
    "apple_data[:, 0:1] = apple_data[:, 0:1] + 6.1\n",
    "apple_data[:, 1:2] = apple_data[:, 1:2] + 4.3\n",
    "apple_data[:, 2:] = apple_data[:, 2:] + 3.7"
   ]
  },
  {
   "cell_type": "code",
   "execution_count": 67,
   "metadata": {},
   "outputs": [
    {
     "data": {
      "text/plain": [
       "array([[5.03914453, 3.65345906, 5.20207275],\n",
       "       [6.27697144, 4.74515703, 2.02242418],\n",
       "       [6.64289806, 4.40403057, 2.63215622],\n",
       "       [7.53518066, 5.1374897 , 4.1618136 ],\n",
       "       [6.94934756, 4.06832898, 2.80836223]])"
      ]
     },
     "execution_count": 67,
     "metadata": {},
     "output_type": "execute_result"
    }
   ],
   "source": [
    "apple_data"
   ]
  },
  {
   "cell_type": "code",
   "execution_count": null,
   "metadata": {},
   "outputs": [],
   "source": []
  },
  {
   "cell_type": "code",
   "execution_count": null,
   "metadata": {},
   "outputs": [],
   "source": []
  }
 ],
 "metadata": {
  "kernelspec": {
   "display_name": "Python 3",
   "language": "python",
   "name": "python3"
  },
  "language_info": {
   "codemirror_mode": {
    "name": "ipython",
    "version": 3
   },
   "file_extension": ".py",
   "mimetype": "text/x-python",
   "name": "python",
   "nbconvert_exporter": "python",
   "pygments_lexer": "ipython3",
   "version": "3.6.7"
  }
 },
 "nbformat": 4,
 "nbformat_minor": 2
}
