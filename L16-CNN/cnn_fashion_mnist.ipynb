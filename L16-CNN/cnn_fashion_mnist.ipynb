{
  "nbformat": 4,
  "nbformat_minor": 0,
  "metadata": {
    "kernelspec": {
      "name": "python3",
      "display_name": "Python 3"
    },
    "language_info": {
      "codemirror_mode": {
        "name": "ipython",
        "version": 3
      },
      "file_extension": ".py",
      "mimetype": "text/x-python",
      "name": "python",
      "nbconvert_exporter": "python",
      "pygments_lexer": "ipython3",
      "version": "3.6.8"
    },
    "colab": {
      "name": "cnn-keras-fashion_mnist.ipynb",
      "version": "0.3.2",
      "provenance": [],
      "collapsed_sections": []
    },
    "accelerator": "GPU"
  },
  "cells": [
    {
      "cell_type": "code",
      "metadata": {
        "id": "urIz9kZhl4Us",
        "colab_type": "code",
        "colab": {}
      },
      "source": [
        "import warnings\n",
        "warnings.filterwarnings('ignore')"
      ],
      "execution_count": 0,
      "outputs": []
    },
    {
      "cell_type": "code",
      "metadata": {
        "id": "UBCbrZtTl4Ve",
        "colab_type": "code",
        "colab": {}
      },
      "source": [
        "import numpy as np\n",
        "import pandas as pd\n",
        "import cv2\n",
        "import matplotlib.pyplot as plt\n",
        "%matplotlib inline"
      ],
      "execution_count": 0,
      "outputs": []
    },
    {
      "cell_type": "code",
      "metadata": {
        "id": "QfMSQBPBl4Vz",
        "colab_type": "code",
        "colab": {
          "base_uri": "https://localhost:8080/",
          "height": 34
        },
        "outputId": "0fe408cf-4dbe-4b36-a756-d7a869c19962"
      },
      "source": [
        "import keras\n",
        "from keras.models import Sequential\n",
        "from keras.layers import Input, Convolution2D, Convolution3D, MaxPool2D, Dense, Dropout, Flatten"
      ],
      "execution_count": 3,
      "outputs": [
        {
          "output_type": "stream",
          "text": [
            "Using TensorFlow backend.\n"
          ],
          "name": "stderr"
        }
      ]
    },
    {
      "cell_type": "markdown",
      "metadata": {
        "id": "Hrxu0C9Il4Wc",
        "colab_type": "text"
      },
      "source": [
        "#### data preparation"
      ]
    },
    {
      "cell_type": "code",
      "metadata": {
        "id": "1bxWX4hGl4Wk",
        "colab_type": "code",
        "colab": {}
      },
      "source": [
        "from keras.datasets import fashion_mnist"
      ],
      "execution_count": 0,
      "outputs": []
    },
    {
      "cell_type": "code",
      "metadata": {
        "id": "NmHbKnHKl4W-",
        "colab_type": "code",
        "outputId": "916279ed-b930-499e-8806-0ba4c910320e",
        "colab": {
          "base_uri": "https://localhost:8080/",
          "height": 156
        }
      },
      "source": [
        "(x_train, y_train), (x_test, y_test) = fashion_mnist.load_data()"
      ],
      "execution_count": 5,
      "outputs": [
        {
          "output_type": "stream",
          "text": [
            "Downloading data from http://fashion-mnist.s3-website.eu-central-1.amazonaws.com/train-labels-idx1-ubyte.gz\n",
            "32768/29515 [=================================] - 0s 3us/step\n",
            "Downloading data from http://fashion-mnist.s3-website.eu-central-1.amazonaws.com/train-images-idx3-ubyte.gz\n",
            "26427392/26421880 [==============================] - 2s 0us/step\n",
            "Downloading data from http://fashion-mnist.s3-website.eu-central-1.amazonaws.com/t10k-labels-idx1-ubyte.gz\n",
            "8192/5148 [===============================================] - 0s 0us/step\n",
            "Downloading data from http://fashion-mnist.s3-website.eu-central-1.amazonaws.com/t10k-images-idx3-ubyte.gz\n",
            "4423680/4422102 [==============================] - 1s 0us/step\n"
          ],
          "name": "stdout"
        }
      ]
    },
    {
      "cell_type": "code",
      "metadata": {
        "id": "cz0mq4kul4XR",
        "colab_type": "code",
        "outputId": "cabd4add-900e-426d-c20d-4a4f0a9a38e0",
        "colab": {
          "base_uri": "https://localhost:8080/",
          "height": 52
        }
      },
      "source": [
        "print(x_train.shape, y_train.shape)\n",
        "print(x_test.shape, y_test.shape)"
      ],
      "execution_count": 6,
      "outputs": [
        {
          "output_type": "stream",
          "text": [
            "(60000, 28, 28) (60000,)\n",
            "(10000, 28, 28) (10000,)\n"
          ],
          "name": "stdout"
        }
      ]
    },
    {
      "cell_type": "code",
      "metadata": {
        "id": "HsgEFMei7lYU",
        "colab_type": "code",
        "colab": {}
      },
      "source": [
        "x_train = x_train.reshape((-1, 28, 28, 1))\n",
        "x_test = x_test.reshape((-1, 28, 28, 1))"
      ],
      "execution_count": 0,
      "outputs": []
    },
    {
      "cell_type": "code",
      "metadata": {
        "id": "9afKj7ti7imK",
        "colab_type": "code",
        "outputId": "debfb19c-ed1e-4875-af75-50f59d0c353e",
        "colab": {
          "base_uri": "https://localhost:8080/",
          "height": 52
        }
      },
      "source": [
        "print(x_train.shape, y_train.shape)\n",
        "print(x_test.shape, y_test.shape)"
      ],
      "execution_count": 8,
      "outputs": [
        {
          "output_type": "stream",
          "text": [
            "(60000, 28, 28, 1) (60000,)\n",
            "(10000, 28, 28, 1) (10000,)\n"
          ],
          "name": "stdout"
        }
      ]
    },
    {
      "cell_type": "code",
      "metadata": {
        "id": "_iBp7uv44qmK",
        "colab_type": "code",
        "colab": {}
      },
      "source": [
        "# convert the label into one hot encoded\n",
        "y_train = keras.utils.np_utils.to_categorical(y_train)\n",
        "y_test = keras.utils.np_utils.to_categorical(y_test)"
      ],
      "execution_count": 0,
      "outputs": []
    },
    {
      "cell_type": "code",
      "metadata": {
        "id": "yT2lXP93P_pY",
        "colab_type": "code",
        "colab": {}
      },
      "source": [
        "x_train = x_train/255.0\n",
        "x_test = x_test/255.0"
      ],
      "execution_count": 0,
      "outputs": []
    },
    {
      "cell_type": "markdown",
      "metadata": {
        "id": "KimecONMl4ZY",
        "colab_type": "text"
      },
      "source": [
        "### CNN Model"
      ]
    },
    {
      "cell_type": "code",
      "metadata": {
        "id": "FqwAuTPel4Zo",
        "colab_type": "code",
        "colab": {}
      },
      "source": [
        "model = Sequential()\n",
        "model.add(Convolution2D(32, kernel_size=(3, 3), activation='relu',input_shape = (28, 28, 1)))\n",
        "model.add(Convolution2D(64, kernel_size=(3, 3), activation='relu'))\n",
        "model.add(Dropout(0.25))\n",
        "model.add(MaxPool2D(2, 2))\n",
        "model.add(Convolution2D(32, (5, 5), activation='relu'))\n",
        "model.add(Convolution2D(16, (5, 5), activation='relu'))\n",
        "model.add(Flatten())\n",
        "model.add(Dense(10, activation='softmax'))"
      ],
      "execution_count": 0,
      "outputs": []
    },
    {
      "cell_type": "code",
      "metadata": {
        "id": "Cy0ONRuEl4dJ",
        "colab_type": "code",
        "colab": {}
      },
      "source": [
        "## compile the model\n",
        "model.compile(loss=\"categorical_crossentropy\", optimizer=\"adam\", metrics=[\"accuracy\"])"
      ],
      "execution_count": 0,
      "outputs": []
    },
    {
      "cell_type": "code",
      "metadata": {
        "id": "xRP3YPZ9l4dU",
        "colab_type": "code",
        "outputId": "b237054f-0f2b-4454-b7e0-f62660a080f1",
        "colab": {
          "base_uri": "https://localhost:8080/",
          "height": 416
        }
      },
      "source": [
        "model.summary()"
      ],
      "execution_count": 28,
      "outputs": [
        {
          "output_type": "stream",
          "text": [
            "_________________________________________________________________\n",
            "Layer (type)                 Output Shape              Param #   \n",
            "=================================================================\n",
            "conv2d_9 (Conv2D)            (None, 26, 26, 32)        320       \n",
            "_________________________________________________________________\n",
            "conv2d_10 (Conv2D)           (None, 24, 24, 64)        18496     \n",
            "_________________________________________________________________\n",
            "dropout_3 (Dropout)          (None, 24, 24, 64)        0         \n",
            "_________________________________________________________________\n",
            "max_pooling2d_3 (MaxPooling2 (None, 12, 12, 64)        0         \n",
            "_________________________________________________________________\n",
            "conv2d_11 (Conv2D)           (None, 8, 8, 32)          51232     \n",
            "_________________________________________________________________\n",
            "conv2d_12 (Conv2D)           (None, 4, 4, 16)          12816     \n",
            "_________________________________________________________________\n",
            "flatten_3 (Flatten)          (None, 256)               0         \n",
            "_________________________________________________________________\n",
            "dense_3 (Dense)              (None, 10)                2570      \n",
            "=================================================================\n",
            "Total params: 85,434\n",
            "Trainable params: 85,434\n",
            "Non-trainable params: 0\n",
            "_________________________________________________________________\n"
          ],
          "name": "stdout"
        }
      ]
    },
    {
      "cell_type": "code",
      "metadata": {
        "id": "x-zME3OEl4du",
        "colab_type": "code",
        "outputId": "4e488f7e-89dc-4c5d-ed63-8156131953d2",
        "colab": {
          "base_uri": "https://localhost:8080/",
          "height": 1000
        }
      },
      "source": [
        "hist = model.fit(x_train,y_train,epochs=30,shuffle=True, batch_size=512, validation_split=0.135)"
      ],
      "execution_count": 29,
      "outputs": [
        {
          "output_type": "stream",
          "text": [
            "Train on 51900 samples, validate on 8100 samples\n",
            "Epoch 1/30\n",
            "51900/51900 [==============================] - 4s 84us/step - loss: 0.9051 - acc: 0.6731 - val_loss: 0.6003 - val_acc: 0.7875\n",
            "Epoch 2/30\n",
            "51900/51900 [==============================] - 3s 65us/step - loss: 0.5022 - acc: 0.8191 - val_loss: 0.4652 - val_acc: 0.8341\n",
            "Epoch 3/30\n",
            "51900/51900 [==============================] - 3s 65us/step - loss: 0.4182 - acc: 0.8536 - val_loss: 0.4334 - val_acc: 0.8533\n",
            "Epoch 4/30\n",
            "51900/51900 [==============================] - 3s 66us/step - loss: 0.3764 - acc: 0.8675 - val_loss: 0.3857 - val_acc: 0.8633\n",
            "Epoch 5/30\n",
            "51900/51900 [==============================] - 3s 66us/step - loss: 0.3451 - acc: 0.8775 - val_loss: 0.3596 - val_acc: 0.8743\n",
            "Epoch 6/30\n",
            "51900/51900 [==============================] - 3s 67us/step - loss: 0.3204 - acc: 0.8860 - val_loss: 0.3510 - val_acc: 0.8790\n",
            "Epoch 7/30\n",
            "51900/51900 [==============================] - 3s 66us/step - loss: 0.3068 - acc: 0.8909 - val_loss: 0.3287 - val_acc: 0.8849\n",
            "Epoch 8/30\n",
            "51900/51900 [==============================] - 3s 67us/step - loss: 0.2875 - acc: 0.8986 - val_loss: 0.3188 - val_acc: 0.8898\n",
            "Epoch 9/30\n",
            "51900/51900 [==============================] - 3s 67us/step - loss: 0.2717 - acc: 0.9029 - val_loss: 0.3042 - val_acc: 0.8964\n",
            "Epoch 10/30\n",
            "51900/51900 [==============================] - 3s 67us/step - loss: 0.2613 - acc: 0.9055 - val_loss: 0.2911 - val_acc: 0.9005\n",
            "Epoch 11/30\n",
            "51900/51900 [==============================] - 3s 66us/step - loss: 0.2561 - acc: 0.9079 - val_loss: 0.2918 - val_acc: 0.9007\n",
            "Epoch 12/30\n",
            "51900/51900 [==============================] - 3s 66us/step - loss: 0.2443 - acc: 0.9123 - val_loss: 0.2924 - val_acc: 0.8958\n",
            "Epoch 13/30\n",
            "51900/51900 [==============================] - 3s 66us/step - loss: 0.2361 - acc: 0.9153 - val_loss: 0.2676 - val_acc: 0.9069\n",
            "Epoch 14/30\n",
            "51900/51900 [==============================] - 3s 66us/step - loss: 0.2283 - acc: 0.9180 - val_loss: 0.2641 - val_acc: 0.9062\n",
            "Epoch 15/30\n",
            "51900/51900 [==============================] - 3s 66us/step - loss: 0.2207 - acc: 0.9202 - val_loss: 0.2756 - val_acc: 0.9022\n",
            "Epoch 16/30\n",
            "51900/51900 [==============================] - 3s 65us/step - loss: 0.2156 - acc: 0.9220 - val_loss: 0.2661 - val_acc: 0.9104\n",
            "Epoch 17/30\n",
            "51900/51900 [==============================] - 3s 65us/step - loss: 0.2108 - acc: 0.9231 - val_loss: 0.2442 - val_acc: 0.9133\n",
            "Epoch 18/30\n",
            "51900/51900 [==============================] - 3s 65us/step - loss: 0.2025 - acc: 0.9250 - val_loss: 0.2498 - val_acc: 0.9117\n",
            "Epoch 19/30\n",
            "51900/51900 [==============================] - 3s 65us/step - loss: 0.1964 - acc: 0.9293 - val_loss: 0.2437 - val_acc: 0.9168\n",
            "Epoch 20/30\n",
            "51900/51900 [==============================] - 3s 65us/step - loss: 0.1953 - acc: 0.9283 - val_loss: 0.2494 - val_acc: 0.9116\n",
            "Epoch 21/30\n",
            "51900/51900 [==============================] - 3s 65us/step - loss: 0.1866 - acc: 0.9324 - val_loss: 0.2688 - val_acc: 0.9023\n",
            "Epoch 22/30\n",
            "51900/51900 [==============================] - 3s 65us/step - loss: 0.1867 - acc: 0.9327 - val_loss: 0.2539 - val_acc: 0.9128\n",
            "Epoch 23/30\n",
            "51900/51900 [==============================] - 3s 65us/step - loss: 0.1780 - acc: 0.9347 - val_loss: 0.2463 - val_acc: 0.9158\n",
            "Epoch 24/30\n",
            "51900/51900 [==============================] - 3s 65us/step - loss: 0.1743 - acc: 0.9371 - val_loss: 0.2391 - val_acc: 0.9185\n",
            "Epoch 25/30\n",
            "51900/51900 [==============================] - 3s 65us/step - loss: 0.1719 - acc: 0.9373 - val_loss: 0.2459 - val_acc: 0.9114\n",
            "Epoch 26/30\n",
            "51900/51900 [==============================] - 3s 65us/step - loss: 0.1665 - acc: 0.9388 - val_loss: 0.2429 - val_acc: 0.9160\n",
            "Epoch 27/30\n",
            "51900/51900 [==============================] - 3s 65us/step - loss: 0.1590 - acc: 0.9420 - val_loss: 0.2381 - val_acc: 0.9184\n",
            "Epoch 28/30\n",
            "51900/51900 [==============================] - 3s 66us/step - loss: 0.1580 - acc: 0.9424 - val_loss: 0.2303 - val_acc: 0.9201\n",
            "Epoch 29/30\n",
            "51900/51900 [==============================] - 3s 66us/step - loss: 0.1547 - acc: 0.9424 - val_loss: 0.2362 - val_acc: 0.9186\n",
            "Epoch 30/30\n",
            "51900/51900 [==============================] - 3s 66us/step - loss: 0.1447 - acc: 0.9472 - val_loss: 0.2300 - val_acc: 0.9190\n"
          ],
          "name": "stdout"
        }
      ]
    },
    {
      "cell_type": "code",
      "metadata": {
        "id": "BBnIR7vGl4eN",
        "colab_type": "code",
        "outputId": "78b7b875-4580-4b5c-ff2b-7eb0face2203",
        "colab": {
          "base_uri": "https://localhost:8080/",
          "height": 304
        }
      },
      "source": [
        "# plot loss\n",
        "print(\"training_loss =\", hist.history['loss'][-1],  \"   val_loss =\", hist.history['val_loss'][-1])\n",
        "print(\"training_acc =\", hist.history['acc'][-1]*100, \"   val_acc =\", hist.history['val_acc'][-1]*100)\n",
        "plt.plot(hist.history['val_loss'], label='val_loss')\n",
        "plt.plot(hist.history['loss'], label='training_loss')\n",
        "\n",
        "# plot loss\n",
        "plt.plot(hist.history['val_acc'], label='val_acc')\n",
        "plt.plot(hist.history['acc'], label='training_acc')\n",
        "plt.legend()\n",
        "plt.show()"
      ],
      "execution_count": 30,
      "outputs": [
        {
          "output_type": "stream",
          "text": [
            "training_loss = 0.14469041676879618    val_loss = 0.22999097168445587\n",
            "training_acc = 94.72061657170569    val_acc = 91.90123466503472\n"
          ],
          "name": "stdout"
        },
        {
          "output_type": "display_data",
          "data": {
            "image/png": "[encoded data removed]",
            "text/plain": [
              "<Figure size 432x288 with 1 Axes>"
            ]
          },
          "metadata": {
            "tags": []
          }
        }
      ]
    },
    {
      "cell_type": "code",
      "metadata": {
        "id": "vYpMbT-m6iM6",
        "colab_type": "code",
        "colab": {}
      },
      "source": [
        "p = model.predict(x_test)"
      ],
      "execution_count": 0,
      "outputs": []
    },
    {
      "cell_type": "code",
      "metadata": {
        "id": "-YCfXwz07IOZ",
        "colab_type": "code",
        "colab": {}
      },
      "source": [
        "y_ = np.argmax(p, axis = 1)"
      ],
      "execution_count": 0,
      "outputs": []
    },
    {
      "cell_type": "code",
      "metadata": {
        "id": "xBdgJxE57Jyz",
        "colab_type": "code",
        "colab": {}
      },
      "source": [
        "import sklearn.metrics as metrics"
      ],
      "execution_count": 0,
      "outputs": []
    },
    {
      "cell_type": "code",
      "metadata": {
        "id": "2gbXqHlI7pD5",
        "colab_type": "code",
        "outputId": "90011f34-0383-4665-cf7d-dd9811978b6f",
        "colab": {
          "base_uri": "https://localhost:8080/",
          "height": 34
        }
      },
      "source": [
        "metrics.accuracy_score(y_, np.argmax(y_test, axis = 1))"
      ],
      "execution_count": 34,
      "outputs": [
        {
          "output_type": "execute_result",
          "data": {
            "text/plain": [
              "0.918"
            ]
          },
          "metadata": {
            "tags": []
          },
          "execution_count": 34
        }
      ]
    },
    {
      "cell_type": "code",
      "metadata": {
        "id": "Jy2wYtH07s3f",
        "colab_type": "code",
        "colab": {}
      },
      "source": [
        ""
      ],
      "execution_count": 0,
      "outputs": []
    }
  ]
}