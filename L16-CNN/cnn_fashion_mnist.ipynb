{
  "nbformat": 4,
  "nbformat_minor": 0,
  "metadata": {
    "kernelspec": {
      "name": "python3",
      "display_name": "Python 3"
    },
    "language_info": {
      "codemirror_mode": {
        "name": "ipython",
        "version": 3
      },
      "file_extension": ".py",
      "mimetype": "text/x-python",
      "name": "python",
      "nbconvert_exporter": "python",
      "pygments_lexer": "ipython3",
      "version": "3.6.8"
    },
    "colab": {
      "name": "cnn-keras-fashion_mnist.ipynb",
      "version": "0.3.2",
      "provenance": [],
      "collapsed_sections": []
    },
    "accelerator": "GPU"
  },
  "cells": [
    {
      "cell_type": "code",
      "metadata": {
        "id": "urIz9kZhl4Us",
        "colab_type": "code",
        "colab": {}
      },
      "source": [
        "import warnings\n",
        "warnings.filterwarnings('ignore')"
      ],
      "execution_count": 0,
      "outputs": []
    },
    {
      "cell_type": "code",
      "metadata": {
        "id": "UBCbrZtTl4Ve",
        "colab_type": "code",
        "colab": {}
      },
      "source": [
        "import numpy as np\n",
        "import pandas as pd\n",
        "import cv2\n",
        "import matplotlib.pyplot as plt\n",
        "%matplotlib inline"
      ],
      "execution_count": 0,
      "outputs": []
    },
    {
      "cell_type": "code",
      "metadata": {
        "id": "QfMSQBPBl4Vz",
        "colab_type": "code",
        "colab": {}
      },
      "source": [
        "import keras\n",
        "from keras.models import Sequential\n",
        "from keras.layers import Input, Convolution2D, Convolution3D, MaxPool2D, Dense, Dropout, Flatten"
      ],
      "execution_count": 0,
      "outputs": []
    },
    {
      "cell_type": "markdown",
      "metadata": {
        "id": "Hrxu0C9Il4Wc",
        "colab_type": "text"
      },
      "source": [
        "#### data preparation"
      ]
    },
    {
      "cell_type": "code",
      "metadata": {
        "id": "1bxWX4hGl4Wk",
        "colab_type": "code",
        "colab": {}
      },
      "source": [
        "from keras.datasets import fashion_mnist"
      ],
      "execution_count": 0,
      "outputs": []
    },
    {
      "cell_type": "code",
      "metadata": {
        "id": "NmHbKnHKl4W-",
        "colab_type": "code",
        "colab": {
          "base_uri": "https://localhost:8080/",
          "height": 156
        },
        "outputId": "24e45754-73d2-455a-c7b4-731ea2dd0b05"
      },
      "source": [
        "(x_train, y_train), (x_test, y_test) = fashion_mnist.load_data()"
      ],
      "execution_count": 120,
      "outputs": [
        {
          "output_type": "stream",
          "text": [
            "Downloading data from http://fashion-mnist.s3-website.eu-central-1.amazonaws.com/train-labels-idx1-ubyte.gz\n",
            "32768/29515 [=================================] - 0s 3us/step\n",
            "Downloading data from http://fashion-mnist.s3-website.eu-central-1.amazonaws.com/train-images-idx3-ubyte.gz\n",
            "26427392/26421880 [==============================] - 2s 0us/step\n",
            "Downloading data from http://fashion-mnist.s3-website.eu-central-1.amazonaws.com/t10k-labels-idx1-ubyte.gz\n",
            "8192/5148 [===============================================] - 0s 0us/step\n",
            "Downloading data from http://fashion-mnist.s3-website.eu-central-1.amazonaws.com/t10k-images-idx3-ubyte.gz\n",
            "4423680/4422102 [==============================] - 1s 0us/step\n"
          ],
          "name": "stdout"
        }
      ]
    },
    {
      "cell_type": "code",
      "metadata": {
        "id": "cz0mq4kul4XR",
        "colab_type": "code",
        "outputId": "607d79b4-7cc4-4257-8c58-f45f67442974",
        "colab": {
          "base_uri": "https://localhost:8080/",
          "height": 52
        }
      },
      "source": [
        "print(x_train.shape, y_train.shape)\n",
        "print(x_test.shape, y_test.shape)"
      ],
      "execution_count": 121,
      "outputs": [
        {
          "output_type": "stream",
          "text": [
            "(60000, 28, 28) (60000,)\n",
            "(10000, 28, 28) (10000,)\n"
          ],
          "name": "stdout"
        }
      ]
    },
    {
      "cell_type": "code",
      "metadata": {
        "id": "HsgEFMei7lYU",
        "colab_type": "code",
        "colab": {}
      },
      "source": [
        "x_train = x_train.reshape((-1, 28, 28, 1))\n",
        "x_test = x_test.reshape((-1, 28, 28, 1))"
      ],
      "execution_count": 0,
      "outputs": []
    },
    {
      "cell_type": "code",
      "metadata": {
        "id": "9afKj7ti7imK",
        "colab_type": "code",
        "colab": {
          "base_uri": "https://localhost:8080/",
          "height": 52
        },
        "outputId": "24d4988c-0cca-491f-9fa1-33c54742741c"
      },
      "source": [
        "print(x_train.shape, y_train.shape)\n",
        "print(x_test.shape, y_test.shape)"
      ],
      "execution_count": 124,
      "outputs": [
        {
          "output_type": "stream",
          "text": [
            "(60000, 28, 28, 1) (60000,)\n",
            "(10000, 28, 28, 1) (10000,)\n"
          ],
          "name": "stdout"
        }
      ]
    },
    {
      "cell_type": "code",
      "metadata": {
        "id": "_iBp7uv44qmK",
        "colab_type": "code",
        "colab": {}
      },
      "source": [
        "# convert the label into one hot encoded\n",
        "y_train = keras.utils.np_utils.to_categorical(y_train)\n",
        "y_test = keras.utils.np_utils.to_categorical(y_test)"
      ],
      "execution_count": 0,
      "outputs": []
    },
    {
      "cell_type": "markdown",
      "metadata": {
        "id": "KimecONMl4ZY",
        "colab_type": "text"
      },
      "source": [
        "### CNN Model"
      ]
    },
    {
      "cell_type": "code",
      "metadata": {
        "id": "FqwAuTPel4Zo",
        "colab_type": "code",
        "colab": {}
      },
      "source": [
        "model = Sequential()\n",
        "model.add(Convolution2D(32, kernel_size=(3, 3), activation='relu',input_shape = (28, 28, 1)))\n",
        "model.add(Convolution2D(64, kernel_size=(3, 3), activation='relu'))\n",
        "model.add(Dropout(0.25))\n",
        "model.add(MaxPool2D(2, 2))\n",
        "model.add(Convolution2D(32, (5, 5), activation='relu'))\n",
        "model.add(Convolution2D(16, (5, 5), activation='relu'))\n",
        "model.add(Flatten())\n",
        "model.add(Dense(10, activation='softmax'))"
      ],
      "execution_count": 0,
      "outputs": []
    },
    {
      "cell_type": "code",
      "metadata": {
        "id": "Cy0ONRuEl4dJ",
        "colab_type": "code",
        "colab": {}
      },
      "source": [
        "## compile the model\n",
        "model.compile(loss=\"categorical_crossentropy\", optimizer=\"adam\", metrics=[\"accuracy\"])"
      ],
      "execution_count": 0,
      "outputs": []
    },
    {
      "cell_type": "code",
      "metadata": {
        "id": "xRP3YPZ9l4dU",
        "colab_type": "code",
        "outputId": "0865ad42-aeb1-4223-99aa-0d00ad57f5f4",
        "colab": {
          "base_uri": "https://localhost:8080/",
          "height": 416
        }
      },
      "source": [
        "model.summary()"
      ],
      "execution_count": 147,
      "outputs": [
        {
          "output_type": "stream",
          "text": [
            "_________________________________________________________________\n",
            "Layer (type)                 Output Shape              Param #   \n",
            "=================================================================\n",
            "conv2d_27 (Conv2D)           (None, 26, 26, 32)        320       \n",
            "_________________________________________________________________\n",
            "conv2d_28 (Conv2D)           (None, 24, 24, 64)        18496     \n",
            "_________________________________________________________________\n",
            "dropout_7 (Dropout)          (None, 24, 24, 64)        0         \n",
            "_________________________________________________________________\n",
            "max_pooling2d_7 (MaxPooling2 (None, 12, 12, 64)        0         \n",
            "_________________________________________________________________\n",
            "conv2d_29 (Conv2D)           (None, 8, 8, 32)          51232     \n",
            "_________________________________________________________________\n",
            "conv2d_30 (Conv2D)           (None, 4, 4, 16)          12816     \n",
            "_________________________________________________________________\n",
            "flatten_7 (Flatten)          (None, 256)               0         \n",
            "_________________________________________________________________\n",
            "dense_7 (Dense)              (None, 10)                2570      \n",
            "=================================================================\n",
            "Total params: 85,434\n",
            "Trainable params: 85,434\n",
            "Non-trainable params: 0\n",
            "_________________________________________________________________\n"
          ],
          "name": "stdout"
        }
      ]
    },
    {
      "cell_type": "code",
      "metadata": {
        "id": "x-zME3OEl4du",
        "colab_type": "code",
        "outputId": "ae8b8d8e-5d45-4cd5-90c3-7bf5ab15fc52",
        "colab": {
          "base_uri": "https://localhost:8080/",
          "height": 382
        }
      },
      "source": [
        "hist = model.fit(x_train,y_train,epochs=10,shuffle=True, batch_size=256, validation_split=0.135)"
      ],
      "execution_count": 150,
      "outputs": [
        {
          "output_type": "stream",
          "text": [
            "Train on 51900 samples, validate on 8100 samples\n",
            "Epoch 1/10\n",
            "51900/51900 [==============================] - 4s 73us/step - loss: 0.2241 - acc: 0.9177 - val_loss: 0.2910 - val_acc: 0.8983\n",
            "Epoch 2/10\n",
            "51900/51900 [==============================] - 4s 71us/step - loss: 0.2144 - acc: 0.9210 - val_loss: 0.2916 - val_acc: 0.8972\n",
            "Epoch 3/10\n",
            "51900/51900 [==============================] - 4s 71us/step - loss: 0.2025 - acc: 0.9252 - val_loss: 0.2827 - val_acc: 0.8979\n",
            "Epoch 4/10\n",
            "51900/51900 [==============================] - 4s 72us/step - loss: 0.1954 - acc: 0.9288 - val_loss: 0.2999 - val_acc: 0.8912\n",
            "Epoch 5/10\n",
            "51900/51900 [==============================] - 4s 72us/step - loss: 0.1880 - acc: 0.9305 - val_loss: 0.3121 - val_acc: 0.8928\n",
            "Epoch 6/10\n",
            "51900/51900 [==============================] - 4s 72us/step - loss: 0.1857 - acc: 0.9303 - val_loss: 0.2961 - val_acc: 0.9009\n",
            "Epoch 7/10\n",
            "51900/51900 [==============================] - 4s 73us/step - loss: 0.1784 - acc: 0.9342 - val_loss: 0.3032 - val_acc: 0.8975\n",
            "Epoch 8/10\n",
            "51900/51900 [==============================] - 4s 73us/step - loss: 0.1704 - acc: 0.9363 - val_loss: 0.2907 - val_acc: 0.9016\n",
            "Epoch 9/10\n",
            "51900/51900 [==============================] - 4s 73us/step - loss: 0.1593 - acc: 0.9414 - val_loss: 0.3073 - val_acc: 0.8947\n",
            "Epoch 10/10\n",
            "51900/51900 [==============================] - 4s 73us/step - loss: 0.1575 - acc: 0.9415 - val_loss: 0.3025 - val_acc: 0.8980\n"
          ],
          "name": "stdout"
        }
      ]
    },
    {
      "cell_type": "code",
      "metadata": {
        "id": "BBnIR7vGl4eN",
        "colab_type": "code",
        "outputId": "21f0338f-5ef5-4c5f-a42b-0ce1ff92684a",
        "colab": {
          "base_uri": "https://localhost:8080/",
          "height": 304
        }
      },
      "source": [
        "# plot loss\n",
        "print(\"training_loss =\", hist.history['loss'][-1],  \"   val_loss =\", hist.history['val_loss'][-1])\n",
        "print(\"training_acc =\", hist.history['acc'][-1]*100, \"   val_acc =\", hist.history['val_acc'][-1]*100)\n",
        "plt.plot(hist.history['val_loss'], label='val_loss')\n",
        "plt.plot(hist.history['loss'], label='training_loss')\n",
        "\n",
        "# plot loss\n",
        "plt.plot(hist.history['val_acc'], label='val_acc')\n",
        "plt.plot(hist.history['acc'], label='training_acc')\n",
        "plt.legend()\n",
        "plt.show()"
      ],
      "execution_count": 151,
      "outputs": [
        {
          "output_type": "stream",
          "text": [
            "training_loss = 0.15747322748851225    val_loss = 0.30250743635642674\n",
            "training_acc = 94.15414257499754    val_acc = 89.80246919172782\n"
          ],
          "name": "stdout"
        },
        {
          "output_type": "display_data",
          "data": {
            "image/png": "[encoded data removed]",
            "text/plain": [
              "<Figure size 432x288 with 1 Axes>"
            ]
          },
          "metadata": {
            "tags": []
          }
        }
      ]
    },
    {
      "cell_type": "code",
      "metadata": {
        "id": "vYpMbT-m6iM6",
        "colab_type": "code",
        "colab": {}
      },
      "source": [
        "p = model.predict(x_test)"
      ],
      "execution_count": 0,
      "outputs": []
    },
    {
      "cell_type": "code",
      "metadata": {
        "id": "-YCfXwz07IOZ",
        "colab_type": "code",
        "colab": {}
      },
      "source": [
        "y_ = np.argmax(p, axis = 1)"
      ],
      "execution_count": 0,
      "outputs": []
    },
    {
      "cell_type": "code",
      "metadata": {
        "id": "xBdgJxE57Jyz",
        "colab_type": "code",
        "colab": {}
      },
      "source": [
        "import sklearn.metrics as metrics"
      ],
      "execution_count": 0,
      "outputs": []
    },
    {
      "cell_type": "code",
      "metadata": {
        "id": "2gbXqHlI7pD5",
        "colab_type": "code",
        "outputId": "43e7bc57-84f0-48db-cdde-81ae4a3c422f",
        "colab": {
          "base_uri": "https://localhost:8080/",
          "height": 34
        }
      },
      "source": [
        "metrics.accuracy_score(y_, np.argmax(y_test, axis = 1))"
      ],
      "execution_count": 155,
      "outputs": [
        {
          "output_type": "execute_result",
          "data": {
            "text/plain": [
              "0.9004"
            ]
          },
          "metadata": {
            "tags": []
          },
          "execution_count": 155
        }
      ]
    },
    {
      "cell_type": "code",
      "metadata": {
        "id": "Jy2wYtH07s3f",
        "colab_type": "code",
        "colab": {}
      },
      "source": [
        ""
      ],
      "execution_count": 0,
      "outputs": []
    }
  ]
}