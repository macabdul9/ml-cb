{
  "nbformat": 4,
  "nbformat_minor": 0,
  "metadata": {
    "colab": {
      "name": "dog-breed-identification.ipynb",
      "version": "0.3.2",
      "provenance": [],
      "toc_visible": true,
      "machine_shape": "hm"
    },
    "kernelspec": {
      "name": "python3",
      "display_name": "Python 3"
    },
    "accelerator": "GPU"
  },
  "cells": [
    {
      "cell_type": "code",
      "metadata": {
        "id": "z2KQNwqkbwyQ",
        "colab_type": "code",
        "colab": {}
      },
      "source": [
        "!unzip drive/My\\ Drive/train"
      ],
      "execution_count": 0,
      "outputs": []
    },
    {
      "cell_type": "code",
      "metadata": {
        "id": "r0iL_gi_SAPx",
        "colab_type": "code",
        "colab": {}
      },
      "source": [
        "import os \n",
        "import numpy as np\n",
        "import pandas as pd\n",
        "import pandas as pd\n",
        "import cv2\n",
        "import matplotlib.pyplot as plt\n",
        "%matplotlib inline\n"
      ],
      "execution_count": 0,
      "outputs": []
    },
    {
      "cell_type": "code",
      "metadata": {
        "id": "aZUxuUGOrKdJ",
        "colab_type": "code",
        "colab": {}
      },
      "source": [
        "import warnings\n",
        "warnings.filterwarnings('ignore')"
      ],
      "execution_count": 0,
      "outputs": []
    },
    {
      "cell_type": "code",
      "metadata": {
        "id": "S0N9CAyutTV-",
        "colab_type": "code",
        "colab": {}
      },
      "source": [
        "import keras"
      ],
      "execution_count": 0,
      "outputs": []
    },
    {
      "cell_type": "markdown",
      "metadata": {
        "id": "zsdHfjJZTaCA",
        "colab_type": "text"
      },
      "source": [
        "### data preparation"
      ]
    },
    {
      "cell_type": "code",
      "metadata": {
        "id": "N3BXJG6fTbrh",
        "colab_type": "code",
        "colab": {}
      },
      "source": [
        "labels = pd.read_csv('./drive/My Drive/labels.csv')"
      ],
      "execution_count": 0,
      "outputs": []
    },
    {
      "cell_type": "code",
      "metadata": {
        "id": "ajcEQR2OTkr8",
        "colab_type": "code",
        "colab": {}
      },
      "source": [
        "breed = labels.breed.values\n",
        "bid = labels.id.values "
      ],
      "execution_count": 0,
      "outputs": []
    },
    {
      "cell_type": "code",
      "metadata": {
        "id": "ShpqlbepbV8L",
        "colab_type": "code",
        "colab": {}
      },
      "source": [
        ""
      ],
      "execution_count": 0,
      "outputs": []
    },
    {
      "cell_type": "code",
      "metadata": {
        "id": "fiX-1ct3XFUX",
        "colab_type": "code",
        "colab": {}
      },
      "source": [
        "test = os.listdir('./test/')\n",
        "train = os.listdir('./train/')"
      ],
      "execution_count": 0,
      "outputs": []
    },
    {
      "cell_type": "code",
      "metadata": {
        "id": "Pz6vMCmETnwk",
        "colab_type": "code",
        "colab": {}
      },
      "source": [
        "train_img = []\n",
        "\n",
        "m = bid.shape[0]\n",
        "\n",
        "for i in range(m):\n",
        "  img = cv2.imread('./train/'+bid[i]+'.jpg')\n",
        "  img = cv2.cvtColor(img, cv2.COLOR_BGR2RGB)\n",
        "  img = cv2.resize(img, (100, 100))\n",
        "  train_img.append(img)\n",
        "    \n"
      ],
      "execution_count": 0,
      "outputs": []
    },
    {
      "cell_type": "code",
      "metadata": {
        "id": "cWYbHX3NT1k0",
        "colab_type": "code",
        "colab": {}
      },
      "source": [
        "test_img = []\n",
        "test_id = []\n",
        "m_test = len(test)\n",
        "for i in range(m_test):\n",
        "  tid = test[i]\n",
        "  img = cv2.imread('./test/'+str(tid))\n",
        "  img = cv2.cvtColor(img, cv2.COLOR_BGR2RGB)\n",
        "  img = cv2.resize(img, (100, 100))\n",
        "  test_img.append(img)\n",
        "  test_id.append(tid)"
      ],
      "execution_count": 0,
      "outputs": []
    },
    {
      "cell_type": "code",
      "metadata": {
        "id": "yUCl1_gsU1qx",
        "colab_type": "code",
        "colab": {
          "base_uri": "https://localhost:8080/",
          "height": 34
        },
        "outputId": "ba29c9aa-39ed-4fbf-fe2f-f6e9d38b32ad"
      },
      "source": [
        "print(len(test), len(train))"
      ],
      "execution_count": 43,
      "outputs": [
        {
          "output_type": "stream",
          "text": [
            "10357 10222\n"
          ],
          "name": "stdout"
        }
      ]
    },
    {
      "cell_type": "code",
      "metadata": {
        "id": "9qyB_qx_VtgH",
        "colab_type": "code",
        "colab": {
          "base_uri": "https://localhost:8080/",
          "height": 34
        },
        "outputId": "b75a230d-ce02-4c93-d8fa-204f9c3ab8f6"
      },
      "source": [
        "print(len(test_img), len(train_img))"
      ],
      "execution_count": 44,
      "outputs": [
        {
          "output_type": "stream",
          "text": [
            "10357 10222\n"
          ],
          "name": "stdout"
        }
      ]
    },
    {
      "cell_type": "code",
      "metadata": {
        "id": "k1RvKaQlVwVm",
        "colab_type": "code",
        "colab": {}
      },
      "source": [
        "x_train = np.asarray(train_img)\n",
        "x_test = np.asarray(test_img)"
      ],
      "execution_count": 0,
      "outputs": []
    },
    {
      "cell_type": "code",
      "metadata": {
        "id": "G4PLyaQMV3r-",
        "colab_type": "code",
        "colab": {
          "base_uri": "https://localhost:8080/",
          "height": 34
        },
        "outputId": "dc6fc12d-403e-4528-9407-8f3b91cd9c0d"
      },
      "source": [
        "print(x_train.shape, x_test.shape)"
      ],
      "execution_count": 69,
      "outputs": [
        {
          "output_type": "stream",
          "text": [
            "(10222, 100, 100, 3) (10357, 100, 100, 3)\n"
          ],
          "name": "stdout"
        }
      ]
    },
    {
      "cell_type": "code",
      "metadata": {
        "id": "XF6Fqm50pAr4",
        "colab_type": "code",
        "colab": {}
      },
      "source": [
        "# convert the label into one hot encoded\n",
        "y_train = pd.get_dummies(breed).values"
      ],
      "execution_count": 0,
      "outputs": []
    },
    {
      "cell_type": "code",
      "metadata": {
        "id": "GWumMBRWtgGe",
        "colab_type": "code",
        "colab": {
          "base_uri": "https://localhost:8080/",
          "height": 34
        },
        "outputId": "e905ebae-1c30-4335-86da-15ce1a8a9c91"
      },
      "source": [
        "y_train.shape"
      ],
      "execution_count": 68,
      "outputs": [
        {
          "output_type": "execute_result",
          "data": {
            "text/plain": [
              "(10222, 120)"
            ]
          },
          "metadata": {
            "tags": []
          },
          "execution_count": 68
        }
      ]
    },
    {
      "cell_type": "markdown",
      "metadata": {
        "id": "AKx71vkZqbFz",
        "colab_type": "text"
      },
      "source": [
        "# model "
      ]
    },
    {
      "cell_type": "code",
      "metadata": {
        "id": "jHWCXtygqcoA",
        "colab_type": "code",
        "colab": {}
      },
      "source": [
        "from keras.models import Sequential\n",
        "from keras.layers import *"
      ],
      "execution_count": 0,
      "outputs": []
    },
    {
      "cell_type": "code",
      "metadata": {
        "id": "qzSeaGOHqqYQ",
        "colab_type": "code",
        "colab": {
          "base_uri": "https://localhost:8080/",
          "height": 416
        },
        "outputId": "00b19e18-5aaa-4a47-db95-65ef17a46c3c"
      },
      "source": [
        "model = Sequential()\n",
        "model.add(Conv2D(100, kernel_size=(5, 5),  activation='relu', input_shape = (100, 100, 3)))\n",
        "# model.add(Conv2D(128, kernel_size=(3, 3),  activation='relu'))\n",
        "model.add(Conv2D(64, kernel_size=(3, 3),  activation='relu'))\n",
        "model.add(Dropout(0.25))\n",
        "model.add(MaxPool2D(2, 2))\n",
        "model.add(Conv2D(64, kernel_size=(3, 3),  activation='relu', strides = 4))\n",
        "model.add(Conv2D(32, kernel_size=(3, 3),  activation='relu', strides = 2))\n",
        "model.add(Flatten())\n",
        "# model.add(Dense(240, activation='relu'))\n",
        "model.add(Dense(120, activation='softmax'))\n",
        "model.summary()"
      ],
      "execution_count": 144,
      "outputs": [
        {
          "output_type": "stream",
          "text": [
            "_________________________________________________________________\n",
            "Layer (type)                 Output Shape              Param #   \n",
            "=================================================================\n",
            "conv2d_222 (Conv2D)          (None, 96, 96, 100)       7600      \n",
            "_________________________________________________________________\n",
            "conv2d_223 (Conv2D)          (None, 94, 94, 64)        57664     \n",
            "_________________________________________________________________\n",
            "dropout_43 (Dropout)         (None, 94, 94, 64)        0         \n",
            "_________________________________________________________________\n",
            "max_pooling2d_45 (MaxPooling (None, 47, 47, 64)        0         \n",
            "_________________________________________________________________\n",
            "conv2d_224 (Conv2D)          (None, 12, 12, 64)        36928     \n",
            "_________________________________________________________________\n",
            "conv2d_225 (Conv2D)          (None, 5, 5, 32)          18464     \n",
            "_________________________________________________________________\n",
            "flatten_26 (Flatten)         (None, 800)               0         \n",
            "_________________________________________________________________\n",
            "dense_27 (Dense)             (None, 120)               96120     \n",
            "=================================================================\n",
            "Total params: 216,776\n",
            "Trainable params: 216,776\n",
            "Non-trainable params: 0\n",
            "_________________________________________________________________\n"
          ],
          "name": "stdout"
        }
      ]
    },
    {
      "cell_type": "code",
      "metadata": {
        "id": "aJyWDDTgq1kh",
        "colab_type": "code",
        "colab": {}
      },
      "source": [
        "# compile the model\n",
        "model.compile(loss=\"categorical_crossentropy\", optimizer=\"adam\", metrics=[\"accuracy\"])"
      ],
      "execution_count": 0,
      "outputs": []
    },
    {
      "cell_type": "code",
      "metadata": {
        "id": "lzpLPGZ8sahp",
        "colab_type": "code",
        "colab": {
          "base_uri": "https://localhost:8080/",
          "height": 1000
        },
        "outputId": "9f76e210-285d-480b-e5a6-d16502737e15"
      },
      "source": [
        "hist = model.fit(x_train,y_train,epochs=100,shuffle=True, batch_size=512, validation_split=0.2)"
      ],
      "execution_count": 146,
      "outputs": [
        {
          "output_type": "stream",
          "text": [
            "Train on 8177 samples, validate on 2045 samples\n",
            "Epoch 1/100\n",
            "8177/8177 [==============================] - 23s 3ms/step - loss: 15.7798 - acc: 0.0095 - val_loss: 14.4969 - val_acc: 0.0122\n",
            "Epoch 2/100\n",
            "8177/8177 [==============================] - 14s 2ms/step - loss: 6.2685 - acc: 0.0084 - val_loss: 4.7882 - val_acc: 0.0073\n",
            "Epoch 3/100\n",
            "8177/8177 [==============================] - 13s 2ms/step - loss: 4.7832 - acc: 0.0105 - val_loss: 4.7905 - val_acc: 0.0064\n",
            "Epoch 4/100\n",
            "8177/8177 [==============================] - 13s 2ms/step - loss: 4.7636 - acc: 0.0137 - val_loss: 4.7707 - val_acc: 0.0127\n",
            "Epoch 5/100\n",
            "8177/8177 [==============================] - 13s 2ms/step - loss: 4.7058 - acc: 0.0215 - val_loss: 4.7129 - val_acc: 0.0225\n",
            "Epoch 6/100\n",
            "8177/8177 [==============================] - 13s 2ms/step - loss: 4.5445 - acc: 0.0356 - val_loss: 4.6265 - val_acc: 0.0249\n",
            "Epoch 7/100\n",
            "8177/8177 [==============================] - 13s 2ms/step - loss: 4.3341 - acc: 0.0586 - val_loss: 4.5924 - val_acc: 0.0259\n",
            "Epoch 8/100\n",
            "8177/8177 [==============================] - 13s 2ms/step - loss: 4.1163 - acc: 0.0904 - val_loss: 4.6321 - val_acc: 0.0377\n",
            "Epoch 9/100\n",
            "8177/8177 [==============================] - 13s 2ms/step - loss: 3.8861 - acc: 0.1186 - val_loss: 4.6552 - val_acc: 0.0313\n",
            "Epoch 10/100\n",
            "8177/8177 [==============================] - 13s 2ms/step - loss: 3.6399 - acc: 0.1680 - val_loss: 4.7953 - val_acc: 0.0337\n",
            "Epoch 11/100\n",
            "8177/8177 [==============================] - 13s 2ms/step - loss: 3.3945 - acc: 0.2073 - val_loss: 4.9402 - val_acc: 0.0386\n",
            "Epoch 12/100\n",
            "8177/8177 [==============================] - 13s 2ms/step - loss: 3.1626 - acc: 0.2512 - val_loss: 5.0079 - val_acc: 0.0367\n",
            "Epoch 13/100\n",
            "8177/8177 [==============================] - 13s 2ms/step - loss: 2.8949 - acc: 0.3061 - val_loss: 5.2527 - val_acc: 0.0377\n",
            "Epoch 14/100\n",
            "8177/8177 [==============================] - 13s 2ms/step - loss: 2.6564 - acc: 0.3545 - val_loss: 5.5335 - val_acc: 0.0391\n",
            "Epoch 15/100\n",
            "8177/8177 [==============================] - 14s 2ms/step - loss: 2.3891 - acc: 0.4179 - val_loss: 5.8406 - val_acc: 0.0377\n",
            "Epoch 16/100\n",
            "8177/8177 [==============================] - 14s 2ms/step - loss: 2.1660 - acc: 0.4642 - val_loss: 5.8609 - val_acc: 0.0396\n",
            "Epoch 17/100\n",
            "8177/8177 [==============================] - 14s 2ms/step - loss: 1.9464 - acc: 0.5118 - val_loss: 6.4829 - val_acc: 0.0401\n",
            "Epoch 18/100\n",
            "8177/8177 [==============================] - 14s 2ms/step - loss: 1.7266 - acc: 0.5626 - val_loss: 7.0395 - val_acc: 0.0445\n",
            "Epoch 19/100\n",
            "8177/8177 [==============================] - 14s 2ms/step - loss: 1.5087 - acc: 0.6219 - val_loss: 7.3767 - val_acc: 0.0372\n",
            "Epoch 20/100\n",
            "8177/8177 [==============================] - 14s 2ms/step - loss: 1.3120 - acc: 0.6630 - val_loss: 7.8260 - val_acc: 0.0396\n",
            "Epoch 21/100\n",
            "8177/8177 [==============================] - 14s 2ms/step - loss: 1.1364 - acc: 0.7085 - val_loss: 8.3093 - val_acc: 0.0367\n",
            "Epoch 22/100\n",
            "8177/8177 [==============================] - 14s 2ms/step - loss: 0.9922 - acc: 0.7484 - val_loss: 8.8958 - val_acc: 0.0372\n",
            "Epoch 23/100\n",
            "8177/8177 [==============================] - 14s 2ms/step - loss: 0.8556 - acc: 0.7733 - val_loss: 9.1591 - val_acc: 0.0328\n",
            "Epoch 24/100\n",
            "8177/8177 [==============================] - 14s 2ms/step - loss: 0.7730 - acc: 0.7977 - val_loss: 9.6204 - val_acc: 0.0328\n",
            "Epoch 25/100\n",
            "8177/8177 [==============================] - 14s 2ms/step - loss: 0.6575 - acc: 0.8279 - val_loss: 10.3855 - val_acc: 0.0318\n",
            "Epoch 26/100\n",
            "8177/8177 [==============================] - 14s 2ms/step - loss: 0.5653 - acc: 0.8474 - val_loss: 10.6766 - val_acc: 0.0367\n",
            "Epoch 27/100\n",
            "8177/8177 [==============================] - 14s 2ms/step - loss: 0.5004 - acc: 0.8624 - val_loss: 10.8064 - val_acc: 0.0362\n",
            "Epoch 28/100\n",
            "8177/8177 [==============================] - 14s 2ms/step - loss: 0.4943 - acc: 0.8635 - val_loss: 11.0289 - val_acc: 0.0328\n",
            "Epoch 29/100\n",
            "8177/8177 [==============================] - 14s 2ms/step - loss: 0.4293 - acc: 0.8797 - val_loss: 11.0273 - val_acc: 0.0328\n",
            "Epoch 30/100\n",
            "8177/8177 [==============================] - 14s 2ms/step - loss: 0.3750 - acc: 0.8937 - val_loss: 11.4908 - val_acc: 0.0337\n",
            "Epoch 31/100\n",
            "8177/8177 [==============================] - 14s 2ms/step - loss: 0.3298 - acc: 0.9047 - val_loss: 11.6421 - val_acc: 0.0357\n",
            "Epoch 32/100\n",
            "8177/8177 [==============================] - 14s 2ms/step - loss: 0.2842 - acc: 0.9230 - val_loss: 11.8007 - val_acc: 0.0342\n",
            "Epoch 33/100\n",
            "8177/8177 [==============================] - 14s 2ms/step - loss: 0.2649 - acc: 0.9242 - val_loss: 12.0272 - val_acc: 0.0328\n",
            "Epoch 34/100\n",
            "8177/8177 [==============================] - 14s 2ms/step - loss: 0.2493 - acc: 0.9304 - val_loss: 12.0586 - val_acc: 0.0367\n",
            "Epoch 35/100\n",
            "8177/8177 [==============================] - 14s 2ms/step - loss: 0.2111 - acc: 0.9403 - val_loss: 12.5102 - val_acc: 0.0337\n",
            "Epoch 36/100\n",
            "8177/8177 [==============================] - 14s 2ms/step - loss: 0.2083 - acc: 0.9400 - val_loss: 12.5152 - val_acc: 0.0386\n",
            "Epoch 37/100\n",
            "8177/8177 [==============================] - 14s 2ms/step - loss: 0.2169 - acc: 0.9357 - val_loss: 12.4268 - val_acc: 0.0328\n",
            "Epoch 38/100\n",
            "8177/8177 [==============================] - 14s 2ms/step - loss: 0.1737 - acc: 0.9501 - val_loss: 12.5525 - val_acc: 0.0342\n",
            "Epoch 39/100\n",
            "8177/8177 [==============================] - 14s 2ms/step - loss: 0.1618 - acc: 0.9538 - val_loss: 12.6391 - val_acc: 0.0347\n",
            "Epoch 40/100\n",
            "8177/8177 [==============================] - 14s 2ms/step - loss: 0.1649 - acc: 0.9521 - val_loss: 12.8345 - val_acc: 0.0352\n",
            "Epoch 41/100\n",
            "8177/8177 [==============================] - 14s 2ms/step - loss: 0.1412 - acc: 0.9566 - val_loss: 12.8075 - val_acc: 0.0308\n",
            "Epoch 42/100\n",
            "8177/8177 [==============================] - 14s 2ms/step - loss: 0.1500 - acc: 0.9576 - val_loss: 12.8301 - val_acc: 0.0328\n",
            "Epoch 43/100\n",
            "8177/8177 [==============================] - 13s 2ms/step - loss: 0.1262 - acc: 0.9642 - val_loss: 12.9968 - val_acc: 0.0347\n",
            "Epoch 44/100\n",
            "8177/8177 [==============================] - 13s 2ms/step - loss: 0.1065 - acc: 0.9709 - val_loss: 13.0784 - val_acc: 0.0342\n",
            "Epoch 45/100\n",
            "8177/8177 [==============================] - 13s 2ms/step - loss: 0.1015 - acc: 0.9724 - val_loss: 13.2683 - val_acc: 0.0342\n",
            "Epoch 46/100\n",
            "8177/8177 [==============================] - 14s 2ms/step - loss: 0.1025 - acc: 0.9691 - val_loss: 13.1297 - val_acc: 0.0333\n",
            "Epoch 47/100\n",
            "8177/8177 [==============================] - 14s 2ms/step - loss: 0.1257 - acc: 0.9637 - val_loss: 13.1011 - val_acc: 0.0308\n",
            "Epoch 48/100\n",
            "8177/8177 [==============================] - 14s 2ms/step - loss: 0.1250 - acc: 0.9623 - val_loss: 13.3482 - val_acc: 0.0362\n",
            "Epoch 49/100\n",
            "8177/8177 [==============================] - 14s 2ms/step - loss: 0.1403 - acc: 0.9593 - val_loss: 13.3225 - val_acc: 0.0377\n",
            "Epoch 50/100\n",
            "8177/8177 [==============================] - 14s 2ms/step - loss: 0.1150 - acc: 0.9665 - val_loss: 13.2457 - val_acc: 0.0352\n",
            "Epoch 51/100\n",
            "8177/8177 [==============================] - 13s 2ms/step - loss: 0.1089 - acc: 0.9683 - val_loss: 13.3181 - val_acc: 0.0357\n",
            "Epoch 52/100\n",
            "8177/8177 [==============================] - 14s 2ms/step - loss: 0.0905 - acc: 0.9721 - val_loss: 13.3384 - val_acc: 0.0391\n",
            "Epoch 53/100\n",
            "8177/8177 [==============================] - 14s 2ms/step - loss: 0.0911 - acc: 0.9749 - val_loss: 13.3772 - val_acc: 0.0342\n",
            "Epoch 54/100\n",
            "8177/8177 [==============================] - 14s 2ms/step - loss: 0.0892 - acc: 0.9747 - val_loss: 13.5744 - val_acc: 0.0337\n",
            "Epoch 55/100\n",
            "8177/8177 [==============================] - 14s 2ms/step - loss: 0.0820 - acc: 0.9785 - val_loss: 13.4140 - val_acc: 0.0352\n",
            "Epoch 56/100\n",
            "8177/8177 [==============================] - 13s 2ms/step - loss: 0.0751 - acc: 0.9795 - val_loss: 13.5105 - val_acc: 0.0372\n",
            "Epoch 57/100\n",
            "8177/8177 [==============================] - 13s 2ms/step - loss: 0.0676 - acc: 0.9820 - val_loss: 13.5681 - val_acc: 0.0352\n",
            "Epoch 58/100\n",
            "8177/8177 [==============================] - 13s 2ms/step - loss: 0.0752 - acc: 0.9795 - val_loss: 13.6582 - val_acc: 0.0362\n",
            "Epoch 59/100\n",
            "8177/8177 [==============================] - 13s 2ms/step - loss: 0.0806 - acc: 0.9771 - val_loss: 13.6792 - val_acc: 0.0381\n",
            "Epoch 60/100\n",
            "8177/8177 [==============================] - 13s 2ms/step - loss: 0.0941 - acc: 0.9737 - val_loss: 13.6659 - val_acc: 0.0381\n",
            "Epoch 61/100\n",
            "8177/8177 [==============================] - 13s 2ms/step - loss: 0.1001 - acc: 0.9721 - val_loss: 13.6390 - val_acc: 0.0372\n",
            "Epoch 62/100\n",
            "8177/8177 [==============================] - 13s 2ms/step - loss: 0.1023 - acc: 0.9711 - val_loss: 13.5094 - val_acc: 0.0318\n",
            "Epoch 63/100\n",
            "8177/8177 [==============================] - 13s 2ms/step - loss: 0.0998 - acc: 0.9720 - val_loss: 13.6098 - val_acc: 0.0347\n",
            "Epoch 64/100\n",
            "8177/8177 [==============================] - 13s 2ms/step - loss: 0.1207 - acc: 0.9645 - val_loss: 13.6006 - val_acc: 0.0342\n",
            "Epoch 65/100\n",
            "8177/8177 [==============================] - 13s 2ms/step - loss: 0.1088 - acc: 0.9695 - val_loss: 13.6601 - val_acc: 0.0352\n",
            "Epoch 66/100\n",
            "8177/8177 [==============================] - 13s 2ms/step - loss: 0.1013 - acc: 0.9706 - val_loss: 13.5421 - val_acc: 0.0342\n",
            "Epoch 67/100\n",
            "8177/8177 [==============================] - 13s 2ms/step - loss: 0.1080 - acc: 0.9684 - val_loss: 13.6055 - val_acc: 0.0337\n",
            "Epoch 68/100\n",
            "8177/8177 [==============================] - 13s 2ms/step - loss: 0.0959 - acc: 0.9703 - val_loss: 13.6707 - val_acc: 0.0362\n",
            "Epoch 69/100\n",
            "8177/8177 [==============================] - 13s 2ms/step - loss: 0.0831 - acc: 0.9740 - val_loss: 13.7333 - val_acc: 0.0337\n",
            "Epoch 70/100\n",
            "8177/8177 [==============================] - 13s 2ms/step - loss: 0.0709 - acc: 0.9808 - val_loss: 13.7559 - val_acc: 0.0381\n",
            "Epoch 71/100\n",
            "8177/8177 [==============================] - 13s 2ms/step - loss: 0.0714 - acc: 0.9798 - val_loss: 13.7183 - val_acc: 0.0396\n",
            "Epoch 72/100\n",
            "8177/8177 [==============================] - 13s 2ms/step - loss: 0.0633 - acc: 0.9815 - val_loss: 13.7559 - val_acc: 0.0367\n",
            "Epoch 73/100\n",
            "8177/8177 [==============================] - 13s 2ms/step - loss: 0.0631 - acc: 0.9825 - val_loss: 13.7606 - val_acc: 0.0362\n",
            "Epoch 74/100\n",
            "8177/8177 [==============================] - 13s 2ms/step - loss: 0.0425 - acc: 0.9884 - val_loss: 13.8341 - val_acc: 0.0357\n",
            "Epoch 75/100\n",
            "8177/8177 [==============================] - 13s 2ms/step - loss: 0.0333 - acc: 0.9914 - val_loss: 13.8676 - val_acc: 0.0357\n",
            "Epoch 76/100\n",
            "8177/8177 [==============================] - 13s 2ms/step - loss: 0.0342 - acc: 0.9925 - val_loss: 13.8346 - val_acc: 0.0386\n",
            "Epoch 77/100\n",
            "8177/8177 [==============================] - 13s 2ms/step - loss: 0.0416 - acc: 0.9881 - val_loss: 13.8994 - val_acc: 0.0323\n",
            "Epoch 78/100\n",
            "8177/8177 [==============================] - 13s 2ms/step - loss: 0.0437 - acc: 0.9890 - val_loss: 13.8647 - val_acc: 0.0347\n",
            "Epoch 79/100\n",
            "8177/8177 [==============================] - 13s 2ms/step - loss: 0.0434 - acc: 0.9881 - val_loss: 13.9552 - val_acc: 0.0381\n",
            "Epoch 80/100\n",
            "8177/8177 [==============================] - 13s 2ms/step - loss: 0.0448 - acc: 0.9887 - val_loss: 13.9050 - val_acc: 0.0323\n",
            "Epoch 81/100\n",
            "8177/8177 [==============================] - 13s 2ms/step - loss: 0.0492 - acc: 0.9874 - val_loss: 13.8742 - val_acc: 0.0328\n",
            "Epoch 82/100\n",
            "8177/8177 [==============================] - 13s 2ms/step - loss: 0.0408 - acc: 0.9892 - val_loss: 13.9361 - val_acc: 0.0352\n",
            "Epoch 83/100\n",
            "8177/8177 [==============================] - 13s 2ms/step - loss: 0.0484 - acc: 0.9862 - val_loss: 13.9992 - val_acc: 0.0318\n",
            "Epoch 84/100\n",
            "8177/8177 [==============================] - 13s 2ms/step - loss: 0.0533 - acc: 0.9856 - val_loss: 14.0068 - val_acc: 0.0381\n",
            "Epoch 85/100\n",
            "8177/8177 [==============================] - 13s 2ms/step - loss: 0.0558 - acc: 0.9842 - val_loss: 13.9569 - val_acc: 0.0357\n",
            "Epoch 86/100\n",
            "8177/8177 [==============================] - 13s 2ms/step - loss: 0.0561 - acc: 0.9848 - val_loss: 13.9466 - val_acc: 0.0318\n",
            "Epoch 87/100\n",
            "8177/8177 [==============================] - 13s 2ms/step - loss: 0.0604 - acc: 0.9835 - val_loss: 13.8804 - val_acc: 0.0347\n",
            "Epoch 88/100\n",
            "8177/8177 [==============================] - 14s 2ms/step - loss: 0.0793 - acc: 0.9788 - val_loss: 14.0923 - val_acc: 0.0308\n",
            "Epoch 89/100\n",
            "8177/8177 [==============================] - 13s 2ms/step - loss: 0.0817 - acc: 0.9798 - val_loss: 13.9302 - val_acc: 0.0318\n",
            "Epoch 90/100\n",
            "8177/8177 [==============================] - 13s 2ms/step - loss: 0.0749 - acc: 0.9766 - val_loss: 14.0063 - val_acc: 0.0333\n",
            "Epoch 91/100\n",
            "8177/8177 [==============================] - 13s 2ms/step - loss: 0.0652 - acc: 0.9818 - val_loss: 13.9317 - val_acc: 0.0313\n",
            "Epoch 92/100\n",
            "8177/8177 [==============================] - 13s 2ms/step - loss: 0.0651 - acc: 0.9835 - val_loss: 13.9570 - val_acc: 0.0362\n",
            "Epoch 93/100\n",
            "8177/8177 [==============================] - 13s 2ms/step - loss: 0.0522 - acc: 0.9867 - val_loss: 13.9955 - val_acc: 0.0396\n",
            "Epoch 94/100\n",
            "8177/8177 [==============================] - 13s 2ms/step - loss: 0.0390 - acc: 0.9903 - val_loss: 14.0830 - val_acc: 0.0391\n",
            "Epoch 95/100\n",
            "8177/8177 [==============================] - 13s 2ms/step - loss: 0.0543 - acc: 0.9856 - val_loss: 14.0052 - val_acc: 0.0342\n",
            "Epoch 96/100\n",
            "8177/8177 [==============================] - 13s 2ms/step - loss: 0.0690 - acc: 0.9824 - val_loss: 14.0071 - val_acc: 0.0313\n",
            "Epoch 97/100\n",
            "8177/8177 [==============================] - 13s 2ms/step - loss: 0.0735 - acc: 0.9791 - val_loss: 14.0367 - val_acc: 0.0377\n",
            "Epoch 98/100\n",
            "8177/8177 [==============================] - 13s 2ms/step - loss: 0.0821 - acc: 0.9786 - val_loss: 13.9699 - val_acc: 0.0323\n",
            "Epoch 99/100\n",
            "8177/8177 [==============================] - 13s 2ms/step - loss: 0.0753 - acc: 0.9780 - val_loss: 14.0382 - val_acc: 0.0333\n",
            "Epoch 100/100\n",
            "8177/8177 [==============================] - 13s 2ms/step - loss: 0.0946 - acc: 0.9754 - val_loss: 14.0251 - val_acc: 0.0293\n"
          ],
          "name": "stdout"
        }
      ]
    },
    {
      "cell_type": "code",
      "metadata": {
        "id": "ntjYAqtk12sQ",
        "colab_type": "code",
        "colab": {}
      },
      "source": [
        "def plot_loss_accuracy():\n",
        "  # plot loss\n",
        "  print(\"training_loss =\", hist.history['loss'][-1],  \"   val_loss =\", hist.history['val_loss'][-1])\n",
        "  print(\"training_acc =\", hist.history['acc'][-1]*100, \"   val_acc =\", hist.history['val_acc'][-1]*100)\n",
        "  plt.plot(hist.history['val_loss'], label='val_loss')\n",
        "  plt.plot(hist.history['loss'], label='training_loss')\n",
        "\n",
        "  # plot accuracy\n",
        "  plt.plot(hist.history['val_acc'], label='val_acc')\n",
        "  plt.plot(hist.history['acc'], label='training_acc')\n",
        "  plt.legend()\n",
        "  plt.show()"
      ],
      "execution_count": 0,
      "outputs": []
    },
    {
      "cell_type": "code",
      "metadata": {
        "id": "F3GYmT7O13Ss",
        "colab_type": "code",
        "colab": {
          "base_uri": "https://localhost:8080/",
          "height": 304
        },
        "outputId": "b48adcd6-04ae-4991-8c6b-1583608968b4"
      },
      "source": [
        "plot_loss_accuracy()"
      ],
      "execution_count": 148,
      "outputs": [
        {
          "output_type": "stream",
          "text": [
            "training_loss = 0.09461912659476493    val_loss = 14.02513499971124\n",
            "training_acc = 97.54188594993641    val_acc = 2.9339853482899283\n"
          ],
          "name": "stdout"
        },
        {
          "output_type": "display_data",
          "data": {
            "image/png": "[encoded data removed]",
            "text/plain": [
              "<Figure size 432x288 with 1 Axes>"
            ]
          },
          "metadata": {
            "tags": []
          }
        }
      ]
    },
    {
      "cell_type": "code",
      "metadata": {
        "id": "C6yBn4mR-I5m",
        "colab_type": "code",
        "colab": {}
      },
      "source": [
        ""
      ],
      "execution_count": 0,
      "outputs": []
    }
  ]
}