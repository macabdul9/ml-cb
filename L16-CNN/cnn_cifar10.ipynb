{
  "nbformat": 4,
  "nbformat_minor": 0,
  "metadata": {
    "kernelspec": {
      "name": "python3",
      "display_name": "Python 3"
    },
    "language_info": {
      "codemirror_mode": {
        "name": "ipython",
        "version": 3
      },
      "file_extension": ".py",
      "mimetype": "text/x-python",
      "name": "python",
      "nbconvert_exporter": "python",
      "pygments_lexer": "ipython3",
      "version": "3.6.8"
    },
    "colab": {
      "name": "cnn-cifar10.ipynb",
      "version": "0.3.2",
      "provenance": [],
      "collapsed_sections": []
    },
    "accelerator": "GPU"
  },
  "cells": [
    {
      "cell_type": "code",
      "metadata": {
        "id": "urIz9kZhl4Us",
        "colab_type": "code",
        "colab": {}
      },
      "source": [
        "import warnings\n",
        "warnings.filterwarnings('ignore')"
      ],
      "execution_count": 0,
      "outputs": []
    },
    {
      "cell_type": "code",
      "metadata": {
        "id": "UBCbrZtTl4Ve",
        "colab_type": "code",
        "colab": {}
      },
      "source": [
        "import numpy as np\n",
        "import pandas as pd\n",
        "import cv2\n",
        "import matplotlib.pyplot as plt\n",
        "%matplotlib inline"
      ],
      "execution_count": 0,
      "outputs": []
    },
    {
      "cell_type": "code",
      "metadata": {
        "id": "QfMSQBPBl4Vz",
        "colab_type": "code",
        "colab": {}
      },
      "source": [
        "import keras\n",
        "from keras.models import Sequential\n",
        "from keras.layers import Input, Conv2D, Convolution3D, MaxPooling2D, Dense, Dropout, Flatten, Activation"
      ],
      "execution_count": 0,
      "outputs": []
    },
    {
      "cell_type": "markdown",
      "metadata": {
        "id": "Hrxu0C9Il4Wc",
        "colab_type": "text"
      },
      "source": [
        "#### data preparation"
      ]
    },
    {
      "cell_type": "code",
      "metadata": {
        "id": "1bxWX4hGl4Wk",
        "colab_type": "code",
        "colab": {}
      },
      "source": [
        "from keras.datasets import cifar10"
      ],
      "execution_count": 0,
      "outputs": []
    },
    {
      "cell_type": "code",
      "metadata": {
        "id": "NmHbKnHKl4W-",
        "colab_type": "code",
        "outputId": "199f7fca-ccd4-41f6-aaf6-be3a9a64b4ee",
        "colab": {
          "base_uri": "https://localhost:8080/",
          "height": 52
        }
      },
      "source": [
        "(x_train, y_train), (x_test, y_test) = cifar10.load_data()"
      ],
      "execution_count": 52,
      "outputs": [
        {
          "output_type": "stream",
          "text": [
            "Downloading data from https://www.cs.toronto.edu/~kriz/cifar-10-python.tar.gz\n",
            "170500096/170498071 [==============================] - 2s 0us/step\n"
          ],
          "name": "stdout"
        }
      ]
    },
    {
      "cell_type": "code",
      "metadata": {
        "id": "cz0mq4kul4XR",
        "colab_type": "code",
        "outputId": "0a2e9860-5185-4f60-cbc1-c8906db0764f",
        "colab": {
          "base_uri": "https://localhost:8080/",
          "height": 52
        }
      },
      "source": [
        "print(x_train.shape, y_train.shape)\n",
        "print(x_test.shape, y_test.shape)"
      ],
      "execution_count": 53,
      "outputs": [
        {
          "output_type": "stream",
          "text": [
            "(50000, 32, 32, 3) (50000, 1)\n",
            "(10000, 32, 32, 3) (10000, 1)\n"
          ],
          "name": "stdout"
        }
      ]
    },
    {
      "cell_type": "code",
      "metadata": {
        "id": "9afKj7ti7imK",
        "colab_type": "code",
        "outputId": "99258e3b-d78b-4f81-b071-f8d0d8d1ef8f",
        "colab": {
          "base_uri": "https://localhost:8080/",
          "height": 52
        }
      },
      "source": [
        "print(x_train.shape, y_train.shape)\n",
        "print(x_test.shape, y_test.shape)"
      ],
      "execution_count": 54,
      "outputs": [
        {
          "output_type": "stream",
          "text": [
            "(50000, 32, 32, 3) (50000, 1)\n",
            "(10000, 32, 32, 3) (10000, 1)\n"
          ],
          "name": "stdout"
        }
      ]
    },
    {
      "cell_type": "code",
      "metadata": {
        "id": "_iBp7uv44qmK",
        "colab_type": "code",
        "colab": {}
      },
      "source": [
        "# convert the label into one hot encoded\n",
        "y_train = keras.utils.np_utils.to_categorical(y_train)\n",
        "y_test = keras.utils.np_utils.to_categorical(y_test)"
      ],
      "execution_count": 0,
      "outputs": []
    },
    {
      "cell_type": "code",
      "metadata": {
        "id": "yT2lXP93P_pY",
        "colab_type": "code",
        "colab": {}
      },
      "source": [
        "x_train = x_train/255.0\n",
        "x_test = x_test/255.0"
      ],
      "execution_count": 0,
      "outputs": []
    },
    {
      "cell_type": "markdown",
      "metadata": {
        "id": "KimecONMl4ZY",
        "colab_type": "text"
      },
      "source": [
        "### CNN Model"
      ]
    },
    {
      "cell_type": "code",
      "metadata": {
        "id": "FqwAuTPel4Zo",
        "colab_type": "code",
        "colab": {
          "base_uri": "https://localhost:8080/",
          "height": 486
        },
        "outputId": "f4e9cc79-6575-4871-f1fc-4bcc89ee1de0"
      },
      "source": [
        "model = Sequential()\n",
        "model.add(Convolution2D(32, kernel_size=(3, 3), activation='relu',input_shape = (32, 32, 3)))\n",
        "model.add(Convolution2D(64, kernel_size=(3, 3), activation='relu'))\n",
        "model.add(Dropout(0.25))\n",
        "model.add(MaxPool2D(2, 2))\n",
        "model.add(Convolution2D(64, kernel_size=(5, 5), activation='relu'))\n",
        "model.add(Convolution2D(32, kernel_size=(5, 5), activation='relu'))\n",
        "model.add(Convolution2D(16, kernel_size=(3, 3), activation='relu'))\n",
        "model.add(Convolution2D(8, kernel_size=(3, 3), activation='relu'))\n",
        "\n",
        "model.add(Flatten())\n",
        "model.add(Dense(10, activation='softmax'))\n",
        "\n",
        "\n",
        "## compile the model\n",
        "model.compile(loss=\"categorical_crossentropy\", optimizer=\"adam\", metrics=[\"accuracy\"])\n",
        "\n",
        "\n",
        "model.summary()"
      ],
      "execution_count": 104,
      "outputs": [
        {
          "output_type": "stream",
          "text": [
            "_________________________________________________________________\n",
            "Layer (type)                 Output Shape              Param #   \n",
            "=================================================================\n",
            "conv2d_97 (Conv2D)           (None, 30, 30, 32)        896       \n",
            "_________________________________________________________________\n",
            "conv2d_98 (Conv2D)           (None, 28, 28, 64)        18496     \n",
            "_________________________________________________________________\n",
            "dropout_26 (Dropout)         (None, 28, 28, 64)        0         \n",
            "_________________________________________________________________\n",
            "max_pooling2d_22 (MaxPooling (None, 14, 14, 64)        0         \n",
            "_________________________________________________________________\n",
            "conv2d_99 (Conv2D)           (None, 10, 10, 64)        102464    \n",
            "_________________________________________________________________\n",
            "conv2d_100 (Conv2D)          (None, 6, 6, 32)          51232     \n",
            "_________________________________________________________________\n",
            "conv2d_101 (Conv2D)          (None, 4, 4, 16)          4624      \n",
            "_________________________________________________________________\n",
            "conv2d_102 (Conv2D)          (None, 2, 2, 8)           1160      \n",
            "_________________________________________________________________\n",
            "flatten_16 (Flatten)         (None, 32)                0         \n",
            "_________________________________________________________________\n",
            "dense_17 (Dense)             (None, 10)                330       \n",
            "=================================================================\n",
            "Total params: 179,202\n",
            "Trainable params: 179,202\n",
            "Non-trainable params: 0\n",
            "_________________________________________________________________\n"
          ],
          "name": "stdout"
        }
      ]
    },
    {
      "cell_type": "code",
      "metadata": {
        "id": "x-zME3OEl4du",
        "colab_type": "code",
        "outputId": "425de96a-253f-43eb-e1a9-13c8b1909d01",
        "colab": {
          "base_uri": "https://localhost:8080/",
          "height": 1000
        }
      },
      "source": [
        "hist = model.fit(x_train,y_train,epochs=50,shuffle=True, batch_size=512, validation_split=0.135)"
      ],
      "execution_count": 105,
      "outputs": [
        {
          "output_type": "stream",
          "text": [
            "Train on 43250 samples, validate on 6750 samples\n",
            "Epoch 1/50\n",
            "43250/43250 [==============================] - 7s 158us/step - loss: 2.0883 - acc: 0.1927 - val_loss: 1.9154 - val_acc: 0.2370\n",
            "Epoch 2/50\n",
            "43250/43250 [==============================] - 5s 119us/step - loss: 1.8541 - acc: 0.2626 - val_loss: 1.7851 - val_acc: 0.2929\n",
            "Epoch 3/50\n",
            "43250/43250 [==============================] - 5s 119us/step - loss: 1.7282 - acc: 0.3178 - val_loss: 1.7417 - val_acc: 0.3301\n",
            "Epoch 4/50\n",
            "43250/43250 [==============================] - 5s 117us/step - loss: 1.6461 - acc: 0.3647 - val_loss: 1.5895 - val_acc: 0.3905\n",
            "Epoch 5/50\n",
            "43250/43250 [==============================] - 5s 118us/step - loss: 1.5753 - acc: 0.4007 - val_loss: 1.5616 - val_acc: 0.4133\n",
            "Epoch 6/50\n",
            "43250/43250 [==============================] - 5s 118us/step - loss: 1.5147 - acc: 0.4285 - val_loss: 1.5314 - val_acc: 0.4080\n",
            "Epoch 7/50\n",
            "43250/43250 [==============================] - 5s 119us/step - loss: 1.4639 - acc: 0.4498 - val_loss: 1.4606 - val_acc: 0.4510\n",
            "Epoch 8/50\n",
            "43250/43250 [==============================] - 5s 118us/step - loss: 1.4163 - acc: 0.4695 - val_loss: 1.4309 - val_acc: 0.4732\n",
            "Epoch 9/50\n",
            "43250/43250 [==============================] - 5s 118us/step - loss: 1.3713 - acc: 0.4912 - val_loss: 1.4615 - val_acc: 0.4779\n",
            "Epoch 10/50\n",
            "43250/43250 [==============================] - 5s 118us/step - loss: 1.3330 - acc: 0.5113 - val_loss: 1.3196 - val_acc: 0.5259\n",
            "Epoch 11/50\n",
            "43250/43250 [==============================] - 5s 119us/step - loss: 1.2595 - acc: 0.5440 - val_loss: 1.2817 - val_acc: 0.5418\n",
            "Epoch 12/50\n",
            "43250/43250 [==============================] - 5s 118us/step - loss: 1.1971 - acc: 0.5689 - val_loss: 1.2285 - val_acc: 0.5561\n",
            "Epoch 13/50\n",
            "43250/43250 [==============================] - 5s 119us/step - loss: 1.1487 - acc: 0.5831 - val_loss: 1.1673 - val_acc: 0.5858\n",
            "Epoch 14/50\n",
            "43250/43250 [==============================] - 5s 119us/step - loss: 1.0982 - acc: 0.6060 - val_loss: 1.1393 - val_acc: 0.6003\n",
            "Epoch 15/50\n",
            "43250/43250 [==============================] - 5s 119us/step - loss: 1.0601 - acc: 0.6204 - val_loss: 1.1207 - val_acc: 0.6065\n",
            "Epoch 16/50\n",
            "43250/43250 [==============================] - 5s 119us/step - loss: 1.0318 - acc: 0.6303 - val_loss: 1.0887 - val_acc: 0.6222\n",
            "Epoch 17/50\n",
            "43250/43250 [==============================] - 5s 119us/step - loss: 0.9950 - acc: 0.6433 - val_loss: 1.0533 - val_acc: 0.6259\n",
            "Epoch 18/50\n",
            "43250/43250 [==============================] - 5s 120us/step - loss: 0.9843 - acc: 0.6516 - val_loss: 1.0600 - val_acc: 0.6216\n",
            "Epoch 19/50\n",
            "43250/43250 [==============================] - 5s 119us/step - loss: 0.9447 - acc: 0.6645 - val_loss: 1.0083 - val_acc: 0.6471\n",
            "Epoch 20/50\n",
            "43250/43250 [==============================] - 5s 118us/step - loss: 0.9272 - acc: 0.6688 - val_loss: 1.0249 - val_acc: 0.6364\n",
            "Epoch 21/50\n",
            "43250/43250 [==============================] - 5s 120us/step - loss: 0.9112 - acc: 0.6765 - val_loss: 0.9974 - val_acc: 0.6473\n",
            "Epoch 22/50\n",
            "43250/43250 [==============================] - 5s 119us/step - loss: 0.8891 - acc: 0.6818 - val_loss: 1.0359 - val_acc: 0.6345\n",
            "Epoch 23/50\n",
            "43250/43250 [==============================] - 5s 120us/step - loss: 0.8714 - acc: 0.6917 - val_loss: 1.0440 - val_acc: 0.6287\n",
            "Epoch 24/50\n",
            "43250/43250 [==============================] - 5s 119us/step - loss: 0.8547 - acc: 0.6940 - val_loss: 0.9725 - val_acc: 0.6585\n",
            "Epoch 25/50\n",
            "43250/43250 [==============================] - 5s 119us/step - loss: 0.8344 - acc: 0.7042 - val_loss: 1.0037 - val_acc: 0.6403\n",
            "Epoch 26/50\n",
            "43250/43250 [==============================] - 5s 119us/step - loss: 0.8125 - acc: 0.7121 - val_loss: 0.9541 - val_acc: 0.6705\n",
            "Epoch 27/50\n",
            "43250/43250 [==============================] - 5s 120us/step - loss: 0.7988 - acc: 0.7170 - val_loss: 0.9623 - val_acc: 0.6631\n",
            "Epoch 28/50\n",
            "43250/43250 [==============================] - 5s 120us/step - loss: 0.7810 - acc: 0.7229 - val_loss: 0.9533 - val_acc: 0.6676\n",
            "Epoch 29/50\n",
            "43250/43250 [==============================] - 5s 120us/step - loss: 0.7704 - acc: 0.7254 - val_loss: 0.9528 - val_acc: 0.6701\n",
            "Epoch 30/50\n",
            "43250/43250 [==============================] - 5s 120us/step - loss: 0.7523 - acc: 0.7311 - val_loss: 0.9196 - val_acc: 0.6772\n",
            "Epoch 31/50\n",
            "43250/43250 [==============================] - 5s 120us/step - loss: 0.7380 - acc: 0.7360 - val_loss: 0.9294 - val_acc: 0.6810\n",
            "Epoch 32/50\n",
            "43250/43250 [==============================] - 5s 120us/step - loss: 0.7257 - acc: 0.7434 - val_loss: 0.9319 - val_acc: 0.6760\n",
            "Epoch 33/50\n",
            "43250/43250 [==============================] - 5s 120us/step - loss: 0.7183 - acc: 0.7451 - val_loss: 0.8959 - val_acc: 0.6847\n",
            "Epoch 34/50\n",
            "43250/43250 [==============================] - 5s 119us/step - loss: 0.6920 - acc: 0.7533 - val_loss: 0.9085 - val_acc: 0.6828\n",
            "Epoch 35/50\n",
            "43250/43250 [==============================] - 5s 119us/step - loss: 0.6793 - acc: 0.7569 - val_loss: 0.8848 - val_acc: 0.6914\n",
            "Epoch 36/50\n",
            "43250/43250 [==============================] - 5s 119us/step - loss: 0.6679 - acc: 0.7617 - val_loss: 0.9475 - val_acc: 0.6799\n",
            "Epoch 37/50\n",
            "43250/43250 [==============================] - 5s 119us/step - loss: 0.6710 - acc: 0.7603 - val_loss: 0.9207 - val_acc: 0.6886\n",
            "Epoch 38/50\n",
            "43250/43250 [==============================] - 5s 119us/step - loss: 0.6486 - acc: 0.7684 - val_loss: 0.8869 - val_acc: 0.6994\n",
            "Epoch 39/50\n",
            "43250/43250 [==============================] - 5s 119us/step - loss: 0.6218 - acc: 0.7763 - val_loss: 0.9046 - val_acc: 0.6890\n",
            "Epoch 40/50\n",
            "43250/43250 [==============================] - 5s 119us/step - loss: 0.6214 - acc: 0.7763 - val_loss: 0.8842 - val_acc: 0.6990\n",
            "Epoch 41/50\n",
            "43250/43250 [==============================] - 5s 119us/step - loss: 0.6098 - acc: 0.7829 - val_loss: 0.8899 - val_acc: 0.7028\n",
            "Epoch 42/50\n",
            "43250/43250 [==============================] - 5s 119us/step - loss: 0.6034 - acc: 0.7847 - val_loss: 0.8729 - val_acc: 0.6966\n",
            "Epoch 43/50\n",
            "43250/43250 [==============================] - 5s 119us/step - loss: 0.5847 - acc: 0.7909 - val_loss: 0.9132 - val_acc: 0.6902\n",
            "Epoch 44/50\n",
            "43250/43250 [==============================] - 5s 120us/step - loss: 0.5755 - acc: 0.7935 - val_loss: 0.9112 - val_acc: 0.6907\n",
            "Epoch 45/50\n",
            "43250/43250 [==============================] - 5s 119us/step - loss: 0.5787 - acc: 0.7906 - val_loss: 0.9246 - val_acc: 0.6818\n",
            "Epoch 46/50\n",
            "43250/43250 [==============================] - 5s 120us/step - loss: 0.5596 - acc: 0.7997 - val_loss: 0.9079 - val_acc: 0.6938\n",
            "Epoch 47/50\n",
            "43250/43250 [==============================] - 5s 120us/step - loss: 0.5437 - acc: 0.8055 - val_loss: 0.8958 - val_acc: 0.6988\n",
            "Epoch 48/50\n",
            "43250/43250 [==============================] - 5s 119us/step - loss: 0.5403 - acc: 0.8055 - val_loss: 0.8628 - val_acc: 0.7124\n",
            "Epoch 49/50\n",
            "43250/43250 [==============================] - 5s 119us/step - loss: 0.5251 - acc: 0.8113 - val_loss: 0.8771 - val_acc: 0.7043\n",
            "Epoch 50/50\n",
            "43250/43250 [==============================] - 5s 119us/step - loss: 0.5150 - acc: 0.8149 - val_loss: 0.9005 - val_acc: 0.7009\n"
          ],
          "name": "stdout"
        }
      ]
    },
    {
      "cell_type": "code",
      "metadata": {
        "id": "BBnIR7vGl4eN",
        "colab_type": "code",
        "outputId": "9fe59592-a15e-480b-d691-8b6979e6dc4f",
        "colab": {
          "base_uri": "https://localhost:8080/",
          "height": 304
        }
      },
      "source": [
        "# plot loss\n",
        "print(\"training_loss =\", hist.history['loss'][-1],  \"   val_loss =\", hist.history['val_loss'][-1])\n",
        "print(\"training_acc =\", hist.history['acc'][-1]*100, \"   val_acc =\", hist.history['val_acc'][-1]*100)\n",
        "plt.plot(hist.history['val_loss'], label='val_loss')\n",
        "plt.plot(hist.history['loss'], label='training_loss')\n",
        "\n",
        "# plot accuracy\n",
        "plt.plot(hist.history['val_acc'], label='val_acc')\n",
        "plt.plot(hist.history['acc'], label='training_acc')\n",
        "plt.legend()\n",
        "plt.show()"
      ],
      "execution_count": 106,
      "outputs": [
        {
          "output_type": "stream",
          "text": [
            "training_loss = 0.5150463764929358    val_loss = 0.9004896052325213\n",
            "training_acc = 81.4890173509631    val_acc = 70.08888886239794\n"
          ],
          "name": "stdout"
        },
        {
          "output_type": "display_data",
          "data": {
            "image/png": "[encoded data removed]",
            "text/plain": [
              "<Figure size 432x288 with 1 Axes>"
            ]
          },
          "metadata": {
            "tags": []
          }
        }
      ]
    },
    {
      "cell_type": "code",
      "metadata": {
        "id": "xBdgJxE57Jyz",
        "colab_type": "code",
        "outputId": "3c2ecd9f-8d76-4d77-9ffb-87cb08f022cf",
        "colab": {
          "base_uri": "https://localhost:8080/",
          "height": 52
        }
      },
      "source": [
        "model.evaluate(x_test, y_test)"
      ],
      "execution_count": 107,
      "outputs": [
        {
          "output_type": "stream",
          "text": [
            "10000/10000 [==============================] - 1s 130us/step\n"
          ],
          "name": "stdout"
        },
        {
          "output_type": "execute_result",
          "data": {
            "text/plain": [
              "[0.9412018810272217, 0.6944]"
            ]
          },
          "metadata": {
            "tags": []
          },
          "execution_count": 107
        }
      ]
    },
    {
      "cell_type": "code",
      "metadata": {
        "id": "7jCj5eYSW-fK",
        "colab_type": "code",
        "colab": {}
      },
      "source": [
        ""
      ],
      "execution_count": 0,
      "outputs": []
    }
  ]
}