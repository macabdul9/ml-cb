{
 "cells": [
  {
   "cell_type": "code",
   "execution_count": 0,
   "metadata": {
    "colab": {},
    "colab_type": "code",
    "id": "urIz9kZhl4Us"
   },
   "outputs": [],
   "source": [
    "import warnings\n",
    "warnings.filterwarnings('ignore')"
   ]
  },
  {
   "cell_type": "code",
   "execution_count": 0,
   "metadata": {
    "colab": {},
    "colab_type": "code",
    "id": "UBCbrZtTl4Ve"
   },
   "outputs": [],
   "source": [
    "import numpy as np\n",
    "import pandas as pd\n",
    "import cv2\n",
    "import matplotlib.pyplot as plt\n",
    "%matplotlib inline"
   ]
  },
  {
   "cell_type": "code",
   "execution_count": 4,
   "metadata": {
    "colab": {
     "base_uri": "https://localhost:8080/",
     "height": 34
    },
    "colab_type": "code",
    "id": "QfMSQBPBl4Vz",
    "outputId": "278ca509-54e2-4ef8-cbf9-59f7d738908c"
   },
   "outputs": [
    {
     "name": "stderr",
     "output_type": "stream",
     "text": [
      "Using TensorFlow backend.\n"
     ]
    }
   ],
   "source": [
    "import keras\n",
    "from keras.models import Sequential\n",
    "from keras.layers import Input, Conv2D, Convolution3D, MaxPool2D, Dense, Dropout, Flatten, Activation"
   ]
  },
  {
   "cell_type": "markdown",
   "metadata": {
    "colab_type": "text",
    "id": "Hrxu0C9Il4Wc"
   },
   "source": [
    "#### data preparation"
   ]
  },
  {
   "cell_type": "code",
   "execution_count": 0,
   "metadata": {
    "colab": {},
    "colab_type": "code",
    "id": "1bxWX4hGl4Wk"
   },
   "outputs": [],
   "source": [
    "from keras.datasets import cifar10"
   ]
  },
  {
   "cell_type": "code",
   "execution_count": 6,
   "metadata": {
    "colab": {
     "base_uri": "https://localhost:8080/",
     "height": 52
    },
    "colab_type": "code",
    "id": "NmHbKnHKl4W-",
    "outputId": "128164eb-bff5-42ba-9ec1-261d55321ef0"
   },
   "outputs": [
    {
     "name": "stdout",
     "output_type": "stream",
     "text": [
      "Downloading data from https://www.cs.toronto.edu/~kriz/cifar-10-python.tar.gz\n",
      "170500096/170498071 [==============================] - 2s 0us/step\n"
     ]
    }
   ],
   "source": [
    "(x_train, y_train), (x_test, y_test) = cifar10.load_data()"
   ]
  },
  {
   "cell_type": "code",
   "execution_count": 7,
   "metadata": {
    "colab": {
     "base_uri": "https://localhost:8080/",
     "height": 52
    },
    "colab_type": "code",
    "id": "cz0mq4kul4XR",
    "outputId": "ae8daa91-2f8e-4b8d-cc53-557f5cea49da"
   },
   "outputs": [
    {
     "name": "stdout",
     "output_type": "stream",
     "text": [
      "(50000, 32, 32, 3) (50000, 1)\n",
      "(10000, 32, 32, 3) (10000, 1)\n"
     ]
    }
   ],
   "source": [
    "print(x_train.shape, y_train.shape)\n",
    "print(x_test.shape, y_test.shape)"
   ]
  },
  {
   "cell_type": "code",
   "execution_count": 8,
   "metadata": {
    "colab": {
     "base_uri": "https://localhost:8080/",
     "height": 52
    },
    "colab_type": "code",
    "id": "9afKj7ti7imK",
    "outputId": "14031782-9280-407d-e584-f8e90002f79d"
   },
   "outputs": [
    {
     "name": "stdout",
     "output_type": "stream",
     "text": [
      "(50000, 32, 32, 3) (50000, 1)\n",
      "(10000, 32, 32, 3) (10000, 1)\n"
     ]
    }
   ],
   "source": [
    "print(x_train.shape, y_train.shape)\n",
    "print(x_test.shape, y_test.shape)"
   ]
  },
  {
   "cell_type": "code",
   "execution_count": 0,
   "metadata": {
    "colab": {},
    "colab_type": "code",
    "id": "_iBp7uv44qmK"
   },
   "outputs": [],
   "source": [
    "# convert the label into one hot encoded\n",
    "y_train = keras.utils.np_utils.to_categorical(y_train)\n",
    "y_test = keras.utils.np_utils.to_categorical(y_test)"
   ]
  },
  {
   "cell_type": "code",
   "execution_count": 0,
   "metadata": {
    "colab": {},
    "colab_type": "code",
    "id": "yT2lXP93P_pY"
   },
   "outputs": [],
   "source": [
    "x_train = x_train/255.0\n",
    "x_test = x_test/255.0"
   ]
  },
  {
   "cell_type": "markdown",
   "metadata": {
    "colab_type": "text",
    "id": "KimecONMl4ZY"
   },
   "source": [
    "### CNN Model"
   ]
  },
  {
   "cell_type": "code",
   "execution_count": 20,
   "metadata": {
    "colab": {
     "base_uri": "https://localhost:8080/",
     "height": 486
    },
    "colab_type": "code",
    "id": "FqwAuTPel4Zo",
    "outputId": "aecaef01-abe2-43e7-d519-a0a4f4abcf58"
   },
   "outputs": [
    {
     "name": "stdout",
     "output_type": "stream",
     "text": [
      "_________________________________________________________________\n",
      "Layer (type)                 Output Shape              Param #   \n",
      "=================================================================\n",
      "conv2d_9 (Conv2D)            (None, 30, 30, 32)        896       \n",
      "_________________________________________________________________\n",
      "conv2d_10 (Conv2D)           (None, 28, 28, 64)        18496     \n",
      "_________________________________________________________________\n",
      "dropout_3 (Dropout)          (None, 28, 28, 64)        0         \n",
      "_________________________________________________________________\n",
      "max_pooling2d_2 (MaxPooling2 (None, 14, 14, 64)        0         \n",
      "_________________________________________________________________\n",
      "conv2d_11 (Conv2D)           (None, 10, 10, 64)        102464    \n",
      "_________________________________________________________________\n",
      "conv2d_12 (Conv2D)           (None, 6, 6, 64)          102464    \n",
      "_________________________________________________________________\n",
      "conv2d_13 (Conv2D)           (None, 4, 4, 32)          18464     \n",
      "_________________________________________________________________\n",
      "conv2d_14 (Conv2D)           (None, 2, 2, 16)          4624      \n",
      "_________________________________________________________________\n",
      "flatten_2 (Flatten)          (None, 64)                0         \n",
      "_________________________________________________________________\n",
      "dense_2 (Dense)              (None, 10)                650       \n",
      "=================================================================\n",
      "Total params: 248,058\n",
      "Trainable params: 248,058\n",
      "Non-trainable params: 0\n",
      "_________________________________________________________________\n"
     ]
    }
   ],
   "source": [
    "model = Sequential()\n",
    "model.add(Conv2D(32, kernel_size=(3, 3), activation='relu',input_shape = (32, 32, 3)))\n",
    "model.add(Conv2D(64, kernel_size=(3, 3), activation='relu'))\n",
    "model.add(Dropout(0.25))\n",
    "model.add(MaxPool2D(2, 2))\n",
    "model.add(Conv2D(64, kernel_size=(5, 5), activation='relu'))\n",
    "model.add(Conv2D(64, kernel_size=(5, 5), activation='relu'))\n",
    "model.add(Conv2D(32, kernel_size=(3, 3), activation='relu'))\n",
    "model.add(Conv2D(16, kernel_size=(3, 3), activation='relu'))\n",
    "\n",
    "model.add(Flatten())\n",
    "model.add(Dense(10, activation='softmax'))\n",
    "\n",
    "\n",
    "## compile the model\n",
    "model.compile(loss=\"categorical_crossentropy\", optimizer=\"adam\", metrics=[\"accuracy\"])\n",
    "\n",
    "\n",
    "model.summary()"
   ]
  },
  {
   "cell_type": "code",
   "execution_count": 21,
   "metadata": {
    "colab": {
     "base_uri": "https://localhost:8080/",
     "height": 1000
    },
    "colab_type": "code",
    "id": "x-zME3OEl4du",
    "outputId": "f9df576c-d7db-4848-8a1d-bceecc9fb2d9"
   },
   "outputs": [
    {
     "name": "stdout",
     "output_type": "stream",
     "text": [
      "Train on 43250 samples, validate on 6750 samples\n",
      "Epoch 1/50\n",
      "43250/43250 [==============================] - 6s 134us/step - loss: 1.9151 - acc: 0.2823 - val_loss: 1.6919 - val_acc: 0.3797\n",
      "Epoch 2/50\n",
      "43250/43250 [==============================] - 5s 121us/step - loss: 1.5242 - acc: 0.4367 - val_loss: 1.4934 - val_acc: 0.4625\n",
      "Epoch 3/50\n",
      "43250/43250 [==============================] - 5s 121us/step - loss: 1.3648 - acc: 0.5051 - val_loss: 1.3279 - val_acc: 0.5308\n",
      "Epoch 4/50\n",
      "43250/43250 [==============================] - 5s 121us/step - loss: 1.2613 - acc: 0.5422 - val_loss: 1.2833 - val_acc: 0.5302\n",
      "Epoch 5/50\n",
      "43250/43250 [==============================] - 5s 122us/step - loss: 1.1768 - acc: 0.5762 - val_loss: 1.2020 - val_acc: 0.5775\n",
      "Epoch 6/50\n",
      "43250/43250 [==============================] - 5s 121us/step - loss: 1.1135 - acc: 0.6018 - val_loss: 1.1210 - val_acc: 0.6076\n",
      "Epoch 7/50\n",
      "43250/43250 [==============================] - 5s 122us/step - loss: 1.0525 - acc: 0.6252 - val_loss: 1.1133 - val_acc: 0.6089\n",
      "Epoch 8/50\n",
      "43250/43250 [==============================] - 5s 122us/step - loss: 0.9902 - acc: 0.6464 - val_loss: 1.0371 - val_acc: 0.6256\n",
      "Epoch 9/50\n",
      "43250/43250 [==============================] - 5s 122us/step - loss: 0.9421 - acc: 0.6656 - val_loss: 0.9674 - val_acc: 0.6631\n",
      "Epoch 10/50\n",
      "43250/43250 [==============================] - 5s 121us/step - loss: 0.9121 - acc: 0.6759 - val_loss: 0.9583 - val_acc: 0.6671\n",
      "Epoch 11/50\n",
      "43250/43250 [==============================] - 5s 122us/step - loss: 0.8804 - acc: 0.6882 - val_loss: 0.9382 - val_acc: 0.6677\n",
      "Epoch 12/50\n",
      "43250/43250 [==============================] - 5s 121us/step - loss: 0.8366 - acc: 0.7028 - val_loss: 0.8688 - val_acc: 0.6951\n",
      "Epoch 13/50\n",
      "43250/43250 [==============================] - 5s 121us/step - loss: 0.8032 - acc: 0.7122 - val_loss: 0.8504 - val_acc: 0.7037\n",
      "Epoch 14/50\n",
      "43250/43250 [==============================] - 5s 121us/step - loss: 0.7824 - acc: 0.7204 - val_loss: 0.8762 - val_acc: 0.6840\n",
      "Epoch 15/50\n",
      "43250/43250 [==============================] - 5s 121us/step - loss: 0.7594 - acc: 0.7284 - val_loss: 0.8321 - val_acc: 0.7150\n",
      "Epoch 16/50\n",
      "43250/43250 [==============================] - 5s 121us/step - loss: 0.7296 - acc: 0.7421 - val_loss: 0.8184 - val_acc: 0.7130\n",
      "Epoch 17/50\n",
      "43250/43250 [==============================] - 5s 122us/step - loss: 0.7108 - acc: 0.7485 - val_loss: 0.8002 - val_acc: 0.7207\n",
      "Epoch 18/50\n",
      "43250/43250 [==============================] - 5s 122us/step - loss: 0.6796 - acc: 0.7580 - val_loss: 0.8112 - val_acc: 0.7136\n",
      "Epoch 19/50\n",
      "43250/43250 [==============================] - 5s 123us/step - loss: 0.6690 - acc: 0.7624 - val_loss: 0.7890 - val_acc: 0.7247\n",
      "Epoch 20/50\n",
      "43250/43250 [==============================] - 5s 122us/step - loss: 0.6468 - acc: 0.7720 - val_loss: 0.8192 - val_acc: 0.7160\n",
      "Epoch 21/50\n",
      "43250/43250 [==============================] - 5s 121us/step - loss: 0.6308 - acc: 0.7754 - val_loss: 0.7590 - val_acc: 0.7344\n",
      "Epoch 22/50\n",
      "43250/43250 [==============================] - 5s 121us/step - loss: 0.6084 - acc: 0.7845 - val_loss: 0.7674 - val_acc: 0.7344\n",
      "Epoch 23/50\n",
      "43250/43250 [==============================] - 5s 121us/step - loss: 0.5921 - acc: 0.7918 - val_loss: 0.7703 - val_acc: 0.7351\n",
      "Epoch 24/50\n",
      "43250/43250 [==============================] - 5s 121us/step - loss: 0.5866 - acc: 0.7914 - val_loss: 0.7889 - val_acc: 0.7292\n",
      "Epoch 25/50\n",
      "43250/43250 [==============================] - 5s 121us/step - loss: 0.5634 - acc: 0.7991 - val_loss: 0.7437 - val_acc: 0.7413\n",
      "Epoch 26/50\n",
      "43250/43250 [==============================] - 5s 121us/step - loss: 0.5440 - acc: 0.8059 - val_loss: 0.7604 - val_acc: 0.7464\n",
      "Epoch 27/50\n",
      "43250/43250 [==============================] - 5s 121us/step - loss: 0.5308 - acc: 0.8107 - val_loss: 0.7695 - val_acc: 0.7295\n",
      "Epoch 28/50\n",
      "43250/43250 [==============================] - 5s 121us/step - loss: 0.5184 - acc: 0.8161 - val_loss: 0.7524 - val_acc: 0.7401\n",
      "Epoch 29/50\n",
      "43250/43250 [==============================] - 5s 120us/step - loss: 0.5117 - acc: 0.8195 - val_loss: 0.7444 - val_acc: 0.7455\n",
      "Epoch 30/50\n",
      "43250/43250 [==============================] - 5s 121us/step - loss: 0.4966 - acc: 0.8239 - val_loss: 0.7523 - val_acc: 0.7403\n",
      "Epoch 31/50\n",
      "43250/43250 [==============================] - 5s 121us/step - loss: 0.4730 - acc: 0.8321 - val_loss: 0.7258 - val_acc: 0.7511\n",
      "Epoch 32/50\n",
      "43250/43250 [==============================] - 5s 122us/step - loss: 0.4631 - acc: 0.8341 - val_loss: 0.7520 - val_acc: 0.7406\n",
      "Epoch 33/50\n",
      "43250/43250 [==============================] - 5s 121us/step - loss: 0.4406 - acc: 0.8451 - val_loss: 0.7628 - val_acc: 0.7401\n",
      "Epoch 34/50\n",
      "43250/43250 [==============================] - 5s 120us/step - loss: 0.4495 - acc: 0.8409 - val_loss: 0.7330 - val_acc: 0.7498\n",
      "Epoch 35/50\n",
      "43250/43250 [==============================] - 5s 121us/step - loss: 0.4192 - acc: 0.8523 - val_loss: 0.7669 - val_acc: 0.7400\n",
      "Epoch 36/50\n",
      "43250/43250 [==============================] - 5s 121us/step - loss: 0.4242 - acc: 0.8488 - val_loss: 0.7798 - val_acc: 0.7419\n",
      "Epoch 37/50\n",
      "43250/43250 [==============================] - 5s 120us/step - loss: 0.3980 - acc: 0.8585 - val_loss: 0.7668 - val_acc: 0.7430\n",
      "Epoch 38/50\n",
      "43250/43250 [==============================] - 5s 121us/step - loss: 0.3907 - acc: 0.8611 - val_loss: 0.8334 - val_acc: 0.7339\n",
      "Epoch 39/50\n",
      "43250/43250 [==============================] - 5s 121us/step - loss: 0.3651 - acc: 0.8701 - val_loss: 0.8087 - val_acc: 0.7424\n",
      "Epoch 40/50\n",
      "43250/43250 [==============================] - 5s 120us/step - loss: 0.3561 - acc: 0.8741 - val_loss: 0.8024 - val_acc: 0.7447\n",
      "Epoch 41/50\n",
      "43250/43250 [==============================] - 5s 121us/step - loss: 0.3452 - acc: 0.8774 - val_loss: 0.8325 - val_acc: 0.7356\n",
      "Epoch 42/50\n",
      "43250/43250 [==============================] - 5s 121us/step - loss: 0.3272 - acc: 0.8828 - val_loss: 0.8002 - val_acc: 0.7397\n",
      "Epoch 43/50\n",
      "43250/43250 [==============================] - 5s 121us/step - loss: 0.3296 - acc: 0.8838 - val_loss: 0.8019 - val_acc: 0.7487\n",
      "Epoch 44/50\n",
      "43250/43250 [==============================] - 5s 121us/step - loss: 0.3262 - acc: 0.8842 - val_loss: 0.8113 - val_acc: 0.7455\n",
      "Epoch 45/50\n",
      "43250/43250 [==============================] - 5s 120us/step - loss: 0.3093 - acc: 0.8887 - val_loss: 0.8076 - val_acc: 0.7464\n",
      "Epoch 46/50\n",
      "43250/43250 [==============================] - 5s 121us/step - loss: 0.2958 - acc: 0.8958 - val_loss: 0.8416 - val_acc: 0.7479\n",
      "Epoch 47/50\n",
      "43250/43250 [==============================] - 5s 121us/step - loss: 0.2785 - acc: 0.9011 - val_loss: 0.8571 - val_acc: 0.7527\n",
      "Epoch 48/50\n",
      "43250/43250 [==============================] - 5s 121us/step - loss: 0.2687 - acc: 0.9049 - val_loss: 0.8803 - val_acc: 0.7347\n",
      "Epoch 49/50\n",
      "43250/43250 [==============================] - 5s 121us/step - loss: 0.2587 - acc: 0.9087 - val_loss: 0.8618 - val_acc: 0.7413\n",
      "Epoch 50/50\n",
      "43250/43250 [==============================] - 5s 121us/step - loss: 0.2383 - acc: 0.9150 - val_loss: 0.8773 - val_acc: 0.7529\n"
     ]
    }
   ],
   "source": [
    "hist = model.fit(x_train,y_train,epochs=50,shuffle=True, batch_size=512, validation_split=0.135)"
   ]
  },
  {
   "cell_type": "code",
   "execution_count": 22,
   "metadata": {
    "colab": {
     "base_uri": "https://localhost:8080/",
     "height": 304
    },
    "colab_type": "code",
    "id": "BBnIR7vGl4eN",
    "outputId": "35878086-c260-41b0-aeb5-cab03ad01284"
   },
   "outputs": [
    {
     "name": "stdout",
     "output_type": "stream",
     "text": [
      "training_loss = 0.2382858657457925    val_loss = 0.8772645601696438\n",
      "training_acc = 91.49826588851178    val_acc = 75.28888885709975\n"
     ]
    },
    {
     "data": {
      "image/png": "[encoded data removed]",
      "text/plain": [
       "<Figure size 432x288 with 1 Axes>"
      ]
     },
     "metadata": {
      "tags": []
     },
     "output_type": "display_data"
    }
   ],
   "source": [
    "# plot loss\n",
    "print(\"training_loss =\", hist.history['loss'][-1],  \"   val_loss =\", hist.history['val_loss'][-1])\n",
    "print(\"training_acc =\", hist.history['acc'][-1]*100, \"   val_acc =\", hist.history['val_acc'][-1]*100)\n",
    "plt.plot(hist.history['val_loss'], label='val_loss')\n",
    "plt.plot(hist.history['loss'], label='training_loss')\n",
    "\n",
    "# plot accuracy\n",
    "plt.plot(hist.history['val_acc'], label='val_acc')\n",
    "plt.plot(hist.history['acc'], label='training_acc')\n",
    "plt.legend()\n",
    "plt.show()"
   ]
  },
  {
   "cell_type": "code",
   "execution_count": 23,
   "metadata": {
    "colab": {
     "base_uri": "https://localhost:8080/",
     "height": 52
    },
    "colab_type": "code",
    "id": "xBdgJxE57Jyz",
    "outputId": "3172ce1a-b5fd-41f3-9e0f-1ea64102a536"
   },
   "outputs": [
    {
     "name": "stdout",
     "output_type": "stream",
     "text": [
      "10000/10000 [==============================] - 1s 119us/step\n"
     ]
    },
    {
     "data": {
      "text/plain": [
       "[0.8997683685779572, 0.7433]"
      ]
     },
     "execution_count": 23,
     "metadata": {
      "tags": []
     },
     "output_type": "execute_result"
    }
   ],
   "source": [
    "model.evaluate(x_test, y_test)"
   ]
  },
  {
   "cell_type": "code",
   "execution_count": 0,
   "metadata": {
    "colab": {},
    "colab_type": "code",
    "id": "7jCj5eYSW-fK"
   },
   "outputs": [],
   "source": []
  }
 ],
 "metadata": {
  "accelerator": "GPU",
  "colab": {
   "collapsed_sections": [],
   "name": "cnn-cifar10-no-augmentation.ipynb",
   "provenance": [],
   "version": "0.3.2"
  },
  "kernelspec": {
   "display_name": "Python 3",
   "language": "python",
   "name": "python3"
  },
  "language_info": {
   "codemirror_mode": {
    "name": "ipython",
    "version": 3
   },
   "file_extension": ".py",
   "mimetype": "text/x-python",
   "name": "python",
   "nbconvert_exporter": "python",
   "pygments_lexer": "ipython3",
   "version": "3.6.8"
  }
 },
 "nbformat": 4,
 "nbformat_minor": 1
}
