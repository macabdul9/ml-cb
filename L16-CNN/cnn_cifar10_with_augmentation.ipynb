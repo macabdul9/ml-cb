{
  "nbformat": 4,
  "nbformat_minor": 0,
  "metadata": {
    "kernelspec": {
      "name": "python3",
      "display_name": "Python 3"
    },
    "language_info": {
      "codemirror_mode": {
        "name": "ipython",
        "version": 3
      },
      "file_extension": ".py",
      "mimetype": "text/x-python",
      "name": "python",
      "nbconvert_exporter": "python",
      "pygments_lexer": "ipython3",
      "version": "3.6.8"
    },
    "colab": {
      "name": "cnn-cifar10-with-augmentation.ipynb",
      "version": "0.3.2",
      "provenance": [],
      "collapsed_sections": []
    },
    "accelerator": "GPU"
  },
  "cells": [
    {
      "cell_type": "code",
      "metadata": {
        "id": "urIz9kZhl4Us",
        "colab_type": "code",
        "colab": {}
      },
      "source": [
        "import warnings\n",
        "warnings.filterwarnings('ignore')"
      ],
      "execution_count": 0,
      "outputs": []
    },
    {
      "cell_type": "code",
      "metadata": {
        "id": "UBCbrZtTl4Ve",
        "colab_type": "code",
        "colab": {}
      },
      "source": [
        "import numpy as np\n",
        "import pandas as pd\n",
        "import cv2\n",
        "import matplotlib.pyplot as plt\n",
        "%matplotlib inline"
      ],
      "execution_count": 0,
      "outputs": []
    },
    {
      "cell_type": "code",
      "metadata": {
        "id": "QfMSQBPBl4Vz",
        "colab_type": "code",
        "colab": {}
      },
      "source": [
        "import keras\n",
        "from keras.models import Sequential\n",
        "from keras.layers import Input, Conv2D, Convolution3D, MaxPool2D, Dense, Dropout, Flatten, Activation"
      ],
      "execution_count": 0,
      "outputs": []
    },
    {
      "cell_type": "markdown",
      "metadata": {
        "id": "Hrxu0C9Il4Wc",
        "colab_type": "text"
      },
      "source": [
        "#### data preparation"
      ]
    },
    {
      "cell_type": "code",
      "metadata": {
        "id": "1bxWX4hGl4Wk",
        "colab_type": "code",
        "colab": {}
      },
      "source": [
        "from keras.datasets import cifar10"
      ],
      "execution_count": 0,
      "outputs": []
    },
    {
      "cell_type": "code",
      "metadata": {
        "id": "NmHbKnHKl4W-",
        "colab_type": "code",
        "colab": {}
      },
      "source": [
        "(x_train, y_train), (x_test, y_test) = cifar10.load_data()"
      ],
      "execution_count": 0,
      "outputs": []
    },
    {
      "cell_type": "code",
      "metadata": {
        "id": "cz0mq4kul4XR",
        "colab_type": "code",
        "outputId": "26584841-25b2-413b-9d49-76231c157667",
        "colab": {
          "base_uri": "https://localhost:8080/",
          "height": 52
        }
      },
      "source": [
        "print(x_train.shape, y_train.shape)\n",
        "print(x_test.shape, y_test.shape)"
      ],
      "execution_count": 34,
      "outputs": [
        {
          "output_type": "stream",
          "text": [
            "(50000, 32, 32, 3) (50000, 1)\n",
            "(10000, 32, 32, 3) (10000, 1)\n"
          ],
          "name": "stdout"
        }
      ]
    },
    {
      "cell_type": "code",
      "metadata": {
        "id": "9afKj7ti7imK",
        "colab_type": "code",
        "outputId": "96ee7e6b-261c-4c70-8819-d208eec7d52a",
        "colab": {
          "base_uri": "https://localhost:8080/",
          "height": 52
        }
      },
      "source": [
        "print(x_train.shape, y_train.shape)\n",
        "print(x_test.shape, y_test.shape)"
      ],
      "execution_count": 35,
      "outputs": [
        {
          "output_type": "stream",
          "text": [
            "(50000, 32, 32, 3) (50000, 1)\n",
            "(10000, 32, 32, 3) (10000, 1)\n"
          ],
          "name": "stdout"
        }
      ]
    },
    {
      "cell_type": "code",
      "metadata": {
        "id": "_iBp7uv44qmK",
        "colab_type": "code",
        "colab": {}
      },
      "source": [
        "# convert the label into one hot encoded\n",
        "y_train = keras.utils.np_utils.to_categorical(y_train)\n",
        "y_test = keras.utils.np_utils.to_categorical(y_test)"
      ],
      "execution_count": 0,
      "outputs": []
    },
    {
      "cell_type": "code",
      "metadata": {
        "id": "yT2lXP93P_pY",
        "colab_type": "code",
        "colab": {}
      },
      "source": [
        "x_train = x_train/255.0\n",
        "x_test = x_test/255.0"
      ],
      "execution_count": 0,
      "outputs": []
    },
    {
      "cell_type": "markdown",
      "metadata": {
        "id": "KimecONMl4ZY",
        "colab_type": "text"
      },
      "source": [
        "### CNN Model"
      ]
    },
    {
      "cell_type": "code",
      "metadata": {
        "id": "FqwAuTPel4Zo",
        "colab_type": "code",
        "outputId": "19934fd3-8c35-479a-fae8-8092269d44dd",
        "colab": {
          "base_uri": "https://localhost:8080/",
          "height": 486
        }
      },
      "source": [
        "model = Sequential()\n",
        "model.add(Conv2D(32, kernel_size=(3, 3), activation='relu',input_shape = (32, 32, 3)))\n",
        "model.add(Conv2D(64, kernel_size=(3, 3), activation='relu'))\n",
        "model.add(Dropout(0.25))\n",
        "model.add(MaxPool2D(2, 2))\n",
        "model.add(Conv2D(64, kernel_size=(5, 5), activation='relu'))\n",
        "model.add(Conv2D(64, kernel_size=(5, 5), activation='relu'))\n",
        "model.add(Conv2D(32, kernel_size=(3, 3), activation='relu'))\n",
        "model.add(Conv2D(16, kernel_size=(3, 3), activation='relu'))\n",
        "\n",
        "model.add(Flatten())\n",
        "model.add(Dense(10, activation='softmax'))\n",
        "\n",
        "\n",
        "## compile the model\n",
        "model.compile(loss=\"categorical_crossentropy\", optimizer=\"adam\", metrics=[\"accuracy\"])\n",
        "\n",
        "\n",
        "model.summary()"
      ],
      "execution_count": 48,
      "outputs": [
        {
          "output_type": "stream",
          "text": [
            "_________________________________________________________________\n",
            "Layer (type)                 Output Shape              Param #   \n",
            "=================================================================\n",
            "conv2d_37 (Conv2D)           (None, 30, 30, 32)        896       \n",
            "_________________________________________________________________\n",
            "conv2d_38 (Conv2D)           (None, 28, 28, 64)        18496     \n",
            "_________________________________________________________________\n",
            "dropout_7 (Dropout)          (None, 28, 28, 64)        0         \n",
            "_________________________________________________________________\n",
            "max_pooling2d_7 (MaxPooling2 (None, 14, 14, 64)        0         \n",
            "_________________________________________________________________\n",
            "conv2d_39 (Conv2D)           (None, 10, 10, 64)        102464    \n",
            "_________________________________________________________________\n",
            "conv2d_40 (Conv2D)           (None, 6, 6, 64)          102464    \n",
            "_________________________________________________________________\n",
            "conv2d_41 (Conv2D)           (None, 4, 4, 32)          18464     \n",
            "_________________________________________________________________\n",
            "conv2d_42 (Conv2D)           (None, 2, 2, 16)          4624      \n",
            "_________________________________________________________________\n",
            "flatten_7 (Flatten)          (None, 64)                0         \n",
            "_________________________________________________________________\n",
            "dense_7 (Dense)              (None, 10)                650       \n",
            "=================================================================\n",
            "Total params: 248,058\n",
            "Trainable params: 248,058\n",
            "Non-trainable params: 0\n",
            "_________________________________________________________________\n"
          ],
          "name": "stdout"
        }
      ]
    },
    {
      "cell_type": "code",
      "metadata": {
        "id": "ITgb4l5Ann-g",
        "colab_type": "code",
        "colab": {}
      },
      "source": [
        "# data augmentation\n",
        "from keras.preprocessing.image import ImageDataGenerator\n",
        "datagen = ImageDataGenerator(\n",
        "        featurewise_center=False,  # set input mean to 0 over the dataset\n",
        "        samplewise_center=False,  # set each sample mean to 0\n",
        "        featurewise_std_normalization=False,  # divide inputs by std of the dataset\n",
        "        samplewise_std_normalization=False,  # divide each input by its std\n",
        "        zca_whitening=False,  # apply ZCA whitening\n",
        "        zca_epsilon=1e-06,  # epsilon for ZCA whitening\n",
        "        rotation_range=0,  # randomly rotate images in the range (degrees, 0 to 180)\n",
        "        # randomly shift images horizontally (fraction of total width)\n",
        "        width_shift_range=0.1,\n",
        "        # randomly shift images vertically (fraction of total height)\n",
        "        height_shift_range=0.1,\n",
        "        shear_range=0.,  # set range for random shear\n",
        "        zoom_range=0.,  # set range for random zoom\n",
        "        channel_shift_range=0.,  # set range for random channel shifts\n",
        "        # set mode for filling points outside the input boundaries\n",
        "        fill_mode='nearest',\n",
        "        cval=0.,  # value used for fill_mode = \"constant\"\n",
        "        horizontal_flip=True,  # randomly flip images\n",
        "        vertical_flip=False,  # randomly flip images\n",
        "        # set rescaling factor (applied before any other transformation)\n",
        "        rescale=None,\n",
        "        # set function that will be applied on each input\n",
        "        preprocessing_function=None,\n",
        "        # image data format, either \"channels_first\" or \"channels_last\"\n",
        "        data_format=None,\n",
        "        # fraction of images reserved for validation (strictly between 0 and 1)\n",
        "        validation_split=0.0)\n",
        "\n",
        "    "
      ],
      "execution_count": 0,
      "outputs": []
    },
    {
      "cell_type": "code",
      "metadata": {
        "id": "ThZ9BGVpnz93",
        "colab_type": "code",
        "colab": {
          "base_uri": "https://localhost:8080/",
          "height": 1000
        },
        "outputId": "71202390-5030-45c7-fc48-ddce93b1cefa"
      },
      "source": [
        "# Compute quantities required for feature-wise normalization\n",
        "# (std, mean, and principal components if ZCA whitening is applied).\n",
        "datagen.fit(x_train)\n",
        "\n",
        "# Fit the model on the batches generated by datagen.flow().\n",
        "model.fit_generator(datagen.flow(x_train, y_train, batch_size=256), epochs=50, validation_data=(x_test, y_test),steps_per_epoch=256)"
      ],
      "execution_count": 50,
      "outputs": [
        {
          "output_type": "stream",
          "text": [
            "Epoch 1/50\n",
            "256/256 [==============================] - 27s 104ms/step - loss: 1.8415 - acc: 0.3000 - val_loss: 1.6512 - val_acc: 0.3872\n",
            "Epoch 2/50\n",
            "256/256 [==============================] - 26s 100ms/step - loss: 1.4686 - acc: 0.4586 - val_loss: 1.3432 - val_acc: 0.5000\n",
            "Epoch 3/50\n",
            "256/256 [==============================] - 26s 100ms/step - loss: 1.2997 - acc: 0.5263 - val_loss: 1.1775 - val_acc: 0.5787\n",
            "Epoch 4/50\n",
            "256/256 [==============================] - 26s 100ms/step - loss: 1.1943 - acc: 0.5689 - val_loss: 1.1703 - val_acc: 0.5728\n",
            "Epoch 5/50\n",
            "256/256 [==============================] - 26s 100ms/step - loss: 1.1239 - acc: 0.5943 - val_loss: 1.1003 - val_acc: 0.6005\n",
            "Epoch 6/50\n",
            "256/256 [==============================] - 26s 100ms/step - loss: 1.0545 - acc: 0.6197 - val_loss: 1.0180 - val_acc: 0.6339\n",
            "Epoch 7/50\n",
            "256/256 [==============================] - 26s 100ms/step - loss: 1.0057 - acc: 0.6403 - val_loss: 1.0192 - val_acc: 0.6456\n",
            "Epoch 8/50\n",
            "256/256 [==============================] - 26s 100ms/step - loss: 0.9712 - acc: 0.6538 - val_loss: 0.8917 - val_acc: 0.6871\n",
            "Epoch 9/50\n",
            "256/256 [==============================] - 25s 99ms/step - loss: 0.9270 - acc: 0.6695 - val_loss: 0.8581 - val_acc: 0.6995\n",
            "Epoch 10/50\n",
            "256/256 [==============================] - 25s 99ms/step - loss: 0.8936 - acc: 0.6819 - val_loss: 0.8705 - val_acc: 0.6961\n",
            "Epoch 11/50\n",
            "256/256 [==============================] - 26s 104ms/step - loss: 0.8701 - acc: 0.6907 - val_loss: 0.8079 - val_acc: 0.7174\n",
            "Epoch 12/50\n",
            "256/256 [==============================] - 26s 101ms/step - loss: 0.8570 - acc: 0.6958 - val_loss: 0.8085 - val_acc: 0.7190\n",
            "Epoch 13/50\n",
            "256/256 [==============================] - 26s 101ms/step - loss: 0.8323 - acc: 0.7064 - val_loss: 0.8028 - val_acc: 0.7247\n",
            "Epoch 14/50\n",
            "256/256 [==============================] - 25s 99ms/step - loss: 0.8072 - acc: 0.7148 - val_loss: 0.7898 - val_acc: 0.7239\n",
            "Epoch 15/50\n",
            "256/256 [==============================] - 26s 100ms/step - loss: 0.7927 - acc: 0.7193 - val_loss: 0.7981 - val_acc: 0.7177\n",
            "Epoch 16/50\n",
            "256/256 [==============================] - 26s 100ms/step - loss: 0.7775 - acc: 0.7267 - val_loss: 0.7311 - val_acc: 0.7463\n",
            "Epoch 17/50\n",
            "256/256 [==============================] - 26s 100ms/step - loss: 0.7578 - acc: 0.7334 - val_loss: 0.7230 - val_acc: 0.7466\n",
            "Epoch 18/50\n",
            "256/256 [==============================] - 25s 99ms/step - loss: 0.7508 - acc: 0.7347 - val_loss: 0.7447 - val_acc: 0.7435\n",
            "Epoch 19/50\n",
            "256/256 [==============================] - 26s 101ms/step - loss: 0.7297 - acc: 0.7433 - val_loss: 0.6991 - val_acc: 0.7564\n",
            "Epoch 20/50\n",
            "256/256 [==============================] - 26s 100ms/step - loss: 0.7354 - acc: 0.7429 - val_loss: 0.7199 - val_acc: 0.7496\n",
            "Epoch 21/50\n",
            "256/256 [==============================] - 25s 99ms/step - loss: 0.7129 - acc: 0.7484 - val_loss: 0.7074 - val_acc: 0.7568\n",
            "Epoch 22/50\n",
            "256/256 [==============================] - 25s 99ms/step - loss: 0.7075 - acc: 0.7523 - val_loss: 0.6973 - val_acc: 0.7569\n",
            "Epoch 23/50\n",
            "256/256 [==============================] - 25s 99ms/step - loss: 0.6938 - acc: 0.7569 - val_loss: 0.7221 - val_acc: 0.7497\n",
            "Epoch 24/50\n",
            "256/256 [==============================] - 25s 99ms/step - loss: 0.6911 - acc: 0.7583 - val_loss: 0.7295 - val_acc: 0.7490\n",
            "Epoch 25/50\n",
            "256/256 [==============================] - 25s 98ms/step - loss: 0.6749 - acc: 0.7637 - val_loss: 0.6673 - val_acc: 0.7722\n",
            "Epoch 26/50\n",
            "256/256 [==============================] - 25s 99ms/step - loss: 0.6648 - acc: 0.7661 - val_loss: 0.6786 - val_acc: 0.7675\n",
            "Epoch 27/50\n",
            "256/256 [==============================] - 25s 99ms/step - loss: 0.6675 - acc: 0.7678 - val_loss: 0.6820 - val_acc: 0.7639\n",
            "Epoch 28/50\n",
            "256/256 [==============================] - 25s 98ms/step - loss: 0.6516 - acc: 0.7716 - val_loss: 0.6679 - val_acc: 0.7728\n",
            "Epoch 29/50\n",
            "256/256 [==============================] - 26s 100ms/step - loss: 0.6396 - acc: 0.7764 - val_loss: 0.6674 - val_acc: 0.7722\n",
            "Epoch 30/50\n",
            "256/256 [==============================] - 26s 103ms/step - loss: 0.6345 - acc: 0.7763 - val_loss: 0.6963 - val_acc: 0.7646\n",
            "Epoch 31/50\n",
            "256/256 [==============================] - 26s 103ms/step - loss: 0.6244 - acc: 0.7823 - val_loss: 0.7201 - val_acc: 0.7552\n",
            "Epoch 32/50\n",
            "256/256 [==============================] - 26s 101ms/step - loss: 0.6285 - acc: 0.7805 - val_loss: 0.6972 - val_acc: 0.7646\n",
            "Epoch 33/50\n",
            "256/256 [==============================] - 25s 100ms/step - loss: 0.6267 - acc: 0.7817 - val_loss: 0.6469 - val_acc: 0.7795\n",
            "Epoch 34/50\n",
            "256/256 [==============================] - 25s 99ms/step - loss: 0.6087 - acc: 0.7883 - val_loss: 0.6599 - val_acc: 0.7748\n",
            "Epoch 35/50\n",
            "256/256 [==============================] - 26s 100ms/step - loss: 0.6031 - acc: 0.7892 - val_loss: 0.6573 - val_acc: 0.7758\n",
            "Epoch 36/50\n",
            "256/256 [==============================] - 25s 99ms/step - loss: 0.6027 - acc: 0.7906 - val_loss: 0.6119 - val_acc: 0.7878\n",
            "Epoch 37/50\n",
            "256/256 [==============================] - 25s 99ms/step - loss: 0.5967 - acc: 0.7916 - val_loss: 0.6433 - val_acc: 0.7854\n",
            "Epoch 38/50\n",
            "256/256 [==============================] - 26s 100ms/step - loss: 0.5919 - acc: 0.7941 - val_loss: 0.6064 - val_acc: 0.7923\n",
            "Epoch 39/50\n",
            "256/256 [==============================] - 25s 99ms/step - loss: 0.5857 - acc: 0.7959 - val_loss: 0.6221 - val_acc: 0.7879\n",
            "Epoch 40/50\n",
            "256/256 [==============================] - 25s 99ms/step - loss: 0.5796 - acc: 0.7987 - val_loss: 0.6282 - val_acc: 0.7886\n",
            "Epoch 41/50\n",
            "256/256 [==============================] - 25s 98ms/step - loss: 0.5781 - acc: 0.7997 - val_loss: 0.6200 - val_acc: 0.7897\n",
            "Epoch 42/50\n",
            "256/256 [==============================] - 25s 98ms/step - loss: 0.5734 - acc: 0.7987 - val_loss: 0.6001 - val_acc: 0.7958\n",
            "Epoch 43/50\n",
            "256/256 [==============================] - 25s 98ms/step - loss: 0.5668 - acc: 0.8039 - val_loss: 0.6326 - val_acc: 0.7867\n",
            "Epoch 44/50\n",
            "256/256 [==============================] - 25s 98ms/step - loss: 0.5616 - acc: 0.8045 - val_loss: 0.5943 - val_acc: 0.7985\n",
            "Epoch 45/50\n",
            "256/256 [==============================] - 25s 99ms/step - loss: 0.5615 - acc: 0.8050 - val_loss: 0.6340 - val_acc: 0.7851\n",
            "Epoch 46/50\n",
            "256/256 [==============================] - 25s 99ms/step - loss: 0.5471 - acc: 0.8099 - val_loss: 0.6464 - val_acc: 0.7848\n",
            "Epoch 47/50\n",
            "256/256 [==============================] - 25s 100ms/step - loss: 0.5554 - acc: 0.8047 - val_loss: 0.6297 - val_acc: 0.7886\n",
            "Epoch 48/50\n",
            "256/256 [==============================] - 25s 98ms/step - loss: 0.5476 - acc: 0.8115 - val_loss: 0.6259 - val_acc: 0.7842\n",
            "Epoch 49/50\n",
            "256/256 [==============================] - 25s 99ms/step - loss: 0.5427 - acc: 0.8118 - val_loss: 0.6431 - val_acc: 0.7855\n",
            "Epoch 50/50\n",
            "256/256 [==============================] - 25s 99ms/step - loss: 0.5399 - acc: 0.8112 - val_loss: 0.6088 - val_acc: 0.7950\n"
          ],
          "name": "stdout"
        },
        {
          "output_type": "execute_result",
          "data": {
            "text/plain": [
              "<keras.callbacks.History at 0x7fa73642f438>"
            ]
          },
          "metadata": {
            "tags": []
          },
          "execution_count": 50
        }
      ]
    },
    {
      "cell_type": "code",
      "metadata": {
        "id": "LKrrp3y1n0Si",
        "colab_type": "code",
        "colab": {}
      },
      "source": [
        "hist = model.history"
      ],
      "execution_count": 0,
      "outputs": []
    },
    {
      "cell_type": "code",
      "metadata": {
        "id": "BBnIR7vGl4eN",
        "colab_type": "code",
        "colab": {}
      },
      "source": [
        "def plot_loss_accuracy():\n",
        "  # plot loss\n",
        "  print(\"training_loss =\", hist.history['loss'][-1],  \"   val_loss =\", hist.history['val_loss'][-1])\n",
        "  print(\"training_acc =\", hist.history['acc'][-1]*100, \"   val_acc =\", hist.history['val_acc'][-1]*100)\n",
        "  plt.plot(hist.history['val_loss'], label='val_loss')\n",
        "  plt.plot(hist.history['loss'], label='training_loss')\n",
        "\n",
        "  # plot accuracy\n",
        "  plt.plot(hist.history['val_acc'], label='val_acc')\n",
        "  plt.plot(hist.history['acc'], label='training_acc')\n",
        "  plt.legend()\n",
        "  plt.show()\n"
      ],
      "execution_count": 0,
      "outputs": []
    },
    {
      "cell_type": "code",
      "metadata": {
        "id": "xBdgJxE57Jyz",
        "colab_type": "code",
        "outputId": "d4853bf3-d752-4b24-af46-37e5df3a794e",
        "colab": {
          "base_uri": "https://localhost:8080/",
          "height": 304
        }
      },
      "source": [
        "plot_loss_accuracy()"
      ],
      "execution_count": 54,
      "outputs": [
        {
          "output_type": "stream",
          "text": [
            "training_loss = 0.5398567504223295    val_loss = 0.608846135854721\n",
            "training_acc = 81.12301101737098    val_acc = 79.5\n"
          ],
          "name": "stdout"
        },
        {
          "output_type": "display_data",
          "data": {
            "image/png": "[encoded data removed]",
            "text/plain": [
              "<Figure size 432x288 with 1 Axes>"
            ]
          },
          "metadata": {
            "tags": []
          }
        }
      ]
    },
    {
      "cell_type": "code",
      "metadata": {
        "id": "7jCj5eYSW-fK",
        "colab_type": "code",
        "colab": {}
      },
      "source": [
        ""
      ],
      "execution_count": 0,
      "outputs": []
    }
  ]
}