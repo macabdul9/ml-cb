{
  "nbformat": 4,
  "nbformat_minor": 0,
  "metadata": {
    "colab": {
      "name": "flower102-recognition-efficient-nets.ipynb",
      "version": "0.3.2",
      "provenance": [],
      "collapsed_sections": [],
      "toc_visible": true,
      "machine_shape": "hm"
    },
    "kernelspec": {
      "name": "python3",
      "display_name": "Python 3"
    },
    "accelerator": "GPU"
  },
  "cells": [
    {
      "cell_type": "markdown",
      "metadata": {
        "id": "HQhFYpINDGFD",
        "colab_type": "text"
      },
      "source": [
        "\n",
        "### url for challenge : https://www.hackerearth.com/challenges/competitive/garden-nerd-data-science-competition/"
      ]
    },
    {
      "cell_type": "code",
      "metadata": {
        "id": "kMFUhzj5BFRG",
        "colab_type": "code",
        "colab": {}
      },
      "source": [
        "# !wget https://he-public-data.s3-ap-southeast-1.amazonaws.com/HE_Challenge_data.zip"
      ],
      "execution_count": 0,
      "outputs": []
    },
    {
      "cell_type": "code",
      "metadata": {
        "id": "wHy7_F5xs8U_",
        "colab_type": "code",
        "colab": {}
      },
      "source": [
        "# from google.colab import drive\n",
        "# drive.mount('/content/drive')"
      ],
      "execution_count": 0,
      "outputs": []
    },
    {
      "cell_type": "code",
      "metadata": {
        "id": "z2KQNwqkbwyQ",
        "colab_type": "code",
        "colab": {}
      },
      "source": [
        "# !unzip HE_Challenge_data"
      ],
      "execution_count": 0,
      "outputs": []
    },
    {
      "cell_type": "code",
      "metadata": {
        "id": "S8pFS92ttOqJ",
        "colab_type": "code",
        "colab": {
          "base_uri": "https://localhost:8080/",
          "height": 139
        },
        "outputId": "db4fae0f-efc1-462a-c632-b70a7bf4cad3"
      },
      "source": [
        "# unzip weights\n",
        "!unzip drive/My\\ Drive/flower102-weights"
      ],
      "execution_count": 103,
      "outputs": [
        {
          "output_type": "stream",
          "text": [
            "Archive:  drive/My Drive/flower102-weights.zip\n",
            "   creating: flower102-weights/\n",
            "  inflating: flower102-weights/resnext.h5  \n",
            "  inflating: flower102-weights/efficient_net_weights.h5  \n",
            "  inflating: flower102-weights/vgg.h5  \n",
            "  inflating: flower102-weights/xception_net_weights.h5  \n",
            "  inflating: flower102-weights/efficient_netb0_weights.h5  \n"
          ],
          "name": "stdout"
        }
      ]
    },
    {
      "cell_type": "code",
      "metadata": {
        "id": "wR18oMhwDbVm",
        "colab_type": "code",
        "colab": {}
      },
      "source": [
        "import warnings\n",
        "warnings.filterwarnings('ignore')"
      ],
      "execution_count": 0,
      "outputs": []
    },
    {
      "cell_type": "code",
      "metadata": {
        "id": "W1cDhpgoDQQa",
        "colab_type": "code",
        "outputId": "34dc6116-7864-4db2-bc0c-fca21870d510",
        "colab": {
          "base_uri": "https://localhost:8080/",
          "height": 34
        }
      },
      "source": [
        "import os\n",
        "import shutil\n",
        "import numpy as np\n",
        "import pandas as pd\n",
        "import matplotlib.pyplot as plt\n",
        "import keras"
      ],
      "execution_count": 6,
      "outputs": [
        {
          "output_type": "stream",
          "text": [
            "Using TensorFlow backend.\n"
          ],
          "name": "stderr"
        }
      ]
    },
    {
      "cell_type": "code",
      "metadata": {
        "id": "P6fKtmfJW8p4",
        "colab_type": "code",
        "colab": {}
      },
      "source": [
        ""
      ],
      "execution_count": 0,
      "outputs": []
    },
    {
      "cell_type": "markdown",
      "metadata": {
        "id": "DvoANZ_FDPbO",
        "colab_type": "text"
      },
      "source": [
        "## Data Pipeline"
      ]
    },
    {
      "cell_type": "code",
      "metadata": {
        "id": "r0iL_gi_SAPx",
        "colab_type": "code",
        "colab": {}
      },
      "source": [
        "train = pd.read_csv('data/train.csv')\n",
        "test = pd.read_csv('data/test.csv')\n",
        "sample = pd.read_csv('data/sample_submission.csv')"
      ],
      "execution_count": 0,
      "outputs": []
    },
    {
      "cell_type": "code",
      "metadata": {
        "id": "CsS--OGVDYQ9",
        "colab_type": "code",
        "outputId": "ae34c9d1-7012-4091-9428-563446ee399c",
        "colab": {
          "base_uri": "https://localhost:8080/",
          "height": 143
        }
      },
      "source": [
        "train.tail(3)"
      ],
      "execution_count": 8,
      "outputs": [
        {
          "output_type": "execute_result",
          "data": {
            "text/html": [
              "<div>\n",
              "<style scoped>\n",
              "    .dataframe tbody tr th:only-of-type {\n",
              "        vertical-align: middle;\n",
              "    }\n",
              "\n",
              "    .dataframe tbody tr th {\n",
              "        vertical-align: top;\n",
              "    }\n",
              "\n",
              "    .dataframe thead th {\n",
              "        text-align: right;\n",
              "    }\n",
              "</style>\n",
              "<table border=\"1\" class=\"dataframe\">\n",
              "  <thead>\n",
              "    <tr style=\"text-align: right;\">\n",
              "      <th></th>\n",
              "      <th>image_id</th>\n",
              "      <th>category</th>\n",
              "    </tr>\n",
              "  </thead>\n",
              "  <tbody>\n",
              "    <tr>\n",
              "      <th>18537</th>\n",
              "      <td>18537</td>\n",
              "      <td>78</td>\n",
              "    </tr>\n",
              "    <tr>\n",
              "      <th>18538</th>\n",
              "      <td>18538</td>\n",
              "      <td>74</td>\n",
              "    </tr>\n",
              "    <tr>\n",
              "      <th>18539</th>\n",
              "      <td>18539</td>\n",
              "      <td>29</td>\n",
              "    </tr>\n",
              "  </tbody>\n",
              "</table>\n",
              "</div>"
            ],
            "text/plain": [
              "       image_id  category\n",
              "18537     18537        78\n",
              "18538     18538        74\n",
              "18539     18539        29"
            ]
          },
          "metadata": {
            "tags": []
          },
          "execution_count": 8
        }
      ]
    },
    {
      "cell_type": "code",
      "metadata": {
        "id": "aZUxuUGOrKdJ",
        "colab_type": "code",
        "outputId": "bafc4213-ae51-4a9e-d256-d6cd15b0096a",
        "colab": {
          "base_uri": "https://localhost:8080/",
          "height": 143
        }
      },
      "source": [
        "test.head(3)"
      ],
      "execution_count": 9,
      "outputs": [
        {
          "output_type": "execute_result",
          "data": {
            "text/html": [
              "<div>\n",
              "<style scoped>\n",
              "    .dataframe tbody tr th:only-of-type {\n",
              "        vertical-align: middle;\n",
              "    }\n",
              "\n",
              "    .dataframe tbody tr th {\n",
              "        vertical-align: top;\n",
              "    }\n",
              "\n",
              "    .dataframe thead th {\n",
              "        text-align: right;\n",
              "    }\n",
              "</style>\n",
              "<table border=\"1\" class=\"dataframe\">\n",
              "  <thead>\n",
              "    <tr style=\"text-align: right;\">\n",
              "      <th></th>\n",
              "      <th>image_id</th>\n",
              "      <th>category</th>\n",
              "    </tr>\n",
              "  </thead>\n",
              "  <tbody>\n",
              "    <tr>\n",
              "      <th>0</th>\n",
              "      <td>18540</td>\n",
              "      <td>NaN</td>\n",
              "    </tr>\n",
              "    <tr>\n",
              "      <th>1</th>\n",
              "      <td>18541</td>\n",
              "      <td>NaN</td>\n",
              "    </tr>\n",
              "    <tr>\n",
              "      <th>2</th>\n",
              "      <td>18542</td>\n",
              "      <td>NaN</td>\n",
              "    </tr>\n",
              "  </tbody>\n",
              "</table>\n",
              "</div>"
            ],
            "text/plain": [
              "   image_id  category\n",
              "0     18540       NaN\n",
              "1     18541       NaN\n",
              "2     18542       NaN"
            ]
          },
          "metadata": {
            "tags": []
          },
          "execution_count": 9
        }
      ]
    },
    {
      "cell_type": "code",
      "metadata": {
        "id": "S0N9CAyutTV-",
        "colab_type": "code",
        "outputId": "aa022405-e292-4c58-ad0a-b6faf5f03ac3",
        "colab": {
          "base_uri": "https://localhost:8080/",
          "height": 143
        }
      },
      "source": [
        "sample.head(3)"
      ],
      "execution_count": 10,
      "outputs": [
        {
          "output_type": "execute_result",
          "data": {
            "text/html": [
              "<div>\n",
              "<style scoped>\n",
              "    .dataframe tbody tr th:only-of-type {\n",
              "        vertical-align: middle;\n",
              "    }\n",
              "\n",
              "    .dataframe tbody tr th {\n",
              "        vertical-align: top;\n",
              "    }\n",
              "\n",
              "    .dataframe thead th {\n",
              "        text-align: right;\n",
              "    }\n",
              "</style>\n",
              "<table border=\"1\" class=\"dataframe\">\n",
              "  <thead>\n",
              "    <tr style=\"text-align: right;\">\n",
              "      <th></th>\n",
              "      <th>image_id</th>\n",
              "      <th>category</th>\n",
              "    </tr>\n",
              "  </thead>\n",
              "  <tbody>\n",
              "    <tr>\n",
              "      <th>0</th>\n",
              "      <td>18540</td>\n",
              "      <td>0</td>\n",
              "    </tr>\n",
              "    <tr>\n",
              "      <th>1</th>\n",
              "      <td>18541</td>\n",
              "      <td>0</td>\n",
              "    </tr>\n",
              "    <tr>\n",
              "      <th>2</th>\n",
              "      <td>18542</td>\n",
              "      <td>0</td>\n",
              "    </tr>\n",
              "  </tbody>\n",
              "</table>\n",
              "</div>"
            ],
            "text/plain": [
              "   image_id  category\n",
              "0     18540         0\n",
              "1     18541         0\n",
              "2     18542         0"
            ]
          },
          "metadata": {
            "tags": []
          },
          "execution_count": 10
        }
      ]
    },
    {
      "cell_type": "code",
      "metadata": {
        "id": "jZmK96L2Dhal",
        "colab_type": "code",
        "colab": {}
      },
      "source": [
        "train = train.values"
      ],
      "execution_count": 0,
      "outputs": []
    },
    {
      "cell_type": "code",
      "metadata": {
        "id": "tSaa_0LeDhYB",
        "colab_type": "code",
        "colab": {}
      },
      "source": [
        "folders, num_samples = np.unique(train[:, 1], return_counts=True)"
      ],
      "execution_count": 0,
      "outputs": []
    },
    {
      "cell_type": "code",
      "metadata": {
        "id": "sL6sZu_cDhVL",
        "colab_type": "code",
        "colab": {}
      },
      "source": [
        "# make subdirectory of each class\n",
        "for folder in folders:\n",
        "  p = os.path.join('data/train', str(folder))\n",
        "  if not os.path.isdir(p):\n",
        "    os.mkdir(p)"
      ],
      "execution_count": 0,
      "outputs": []
    },
    {
      "cell_type": "code",
      "metadata": {
        "id": "TXMlWyFODhSk",
        "colab_type": "code",
        "colab": {}
      },
      "source": [
        "for i in range(train.shape[0]):\n",
        "  dest = os.path.join('data/train/', str(train[i][1]))\n",
        "  src = os.path.join('data/train', str(train[i][0]) + '.jpg')\n",
        "  shutil.move(src, dest)"
      ],
      "execution_count": 0,
      "outputs": []
    },
    {
      "cell_type": "markdown",
      "metadata": {
        "id": "0uVItCbdD3fz",
        "colab_type": "text"
      },
      "source": [
        "#### validation - training split"
      ]
    },
    {
      "cell_type": "code",
      "metadata": {
        "id": "4MS2-7G_DhPv",
        "colab_type": "code",
        "colab": {}
      },
      "source": [
        "SPLIT = 0.95 # 95% for training 5% for validation"
      ],
      "execution_count": 0,
      "outputs": []
    },
    {
      "cell_type": "code",
      "metadata": {
        "id": "H_0fU5ccDhL3",
        "colab_type": "code",
        "colab": {}
      },
      "source": [
        "# create the validation directory\n",
        "if not os.path.isdir('data/val'):\n",
        "  os.mkdir('data/val')\n"
      ],
      "execution_count": 0,
      "outputs": []
    },
    {
      "cell_type": "code",
      "metadata": {
        "id": "2W3t38QaDhFy",
        "colab_type": "code",
        "colab": {}
      },
      "source": [
        "# creating subdirectories (of each category) in validation directory\n",
        "for folder in folders:\n",
        "  p = os.path.join('data/val', str(folder))\n",
        "  if not os.path.isdir(p):\n",
        "    os.mkdir(p)\n"
      ],
      "execution_count": 0,
      "outputs": []
    },
    {
      "cell_type": "code",
      "metadata": {
        "id": "d0qZMEuIDhA9",
        "colab_type": "code",
        "colab": {}
      },
      "source": [
        "# move the 3% data from training directory to validation directory\n",
        "for f in folders:\n",
        "  path = 'data/train/'+str(f)\n",
        "  imgs = os.listdir(path)\n",
        "  split_size = int(SPLIT*len(imgs))\n",
        "  file_to_move = imgs[split_size:]\n",
        "  \n",
        "  for img_f in file_to_move:\n",
        "    src = os.path.join(path, img_f)\n",
        "    dest = os.path.join('data/val/'+str(f), img_f)\n",
        "    shutil.move(src, dest)"
      ],
      "execution_count": 0,
      "outputs": []
    },
    {
      "cell_type": "markdown",
      "metadata": {
        "id": "x8aWBrLVEMiL",
        "colab_type": "text"
      },
      "source": [
        "\n",
        "###Data Augmentation\n"
      ]
    },
    {
      "cell_type": "code",
      "metadata": {
        "id": "f3kbB_7cEVe2",
        "colab_type": "code",
        "colab": {}
      },
      "source": [
        "from keras.preprocessing.image import ImageDataGenerator"
      ],
      "execution_count": 0,
      "outputs": []
    },
    {
      "cell_type": "code",
      "metadata": {
        "id": "V4PLjyt_DmUz",
        "colab_type": "code",
        "colab": {}
      },
      "source": [
        "train_img_gen = ImageDataGenerator(\n",
        "    rescale = 1/255.0,\n",
        "    rotation_range = 60,\n",
        "    width_shift_range = 0.2,\n",
        "    height_shift_range = 0.2,\n",
        "    shear_range = 0.3,\n",
        "    zoom_range = 0.3,\n",
        "    horizontal_flip = True,\n",
        ")\n",
        "val_img_gen = ImageDataGenerator(\n",
        "    rescale = 1/255.0,\n",
        ")"
      ],
      "execution_count": 0,
      "outputs": []
    },
    {
      "cell_type": "code",
      "metadata": {
        "id": "pInP4pPtDmS1",
        "colab_type": "code",
        "outputId": "d377c069-57d9-4ecb-be73-d969160167e4",
        "colab": {
          "base_uri": "https://localhost:8080/",
          "height": 52
        }
      },
      "source": [
        "train_gen = train_img_gen.flow_from_directory(\n",
        "    'data/train',\n",
        "    batch_size = 8,\n",
        "    \n",
        "\n",
        ")\n",
        "val_gen = val_img_gen.flow_from_directory(\n",
        "    'data/val/',\n",
        ")"
      ],
      "execution_count": 22,
      "outputs": [
        {
          "output_type": "stream",
          "text": [
            "Found 17562 images belonging to 102 classes.\n",
            "Found 978 images belonging to 102 classes.\n"
          ],
          "name": "stdout"
        }
      ]
    },
    {
      "cell_type": "code",
      "metadata": {
        "id": "t1-SVE5FDmQf",
        "colab_type": "code",
        "outputId": "777de774-2a6a-4580-ee1f-8e17ee80863d",
        "colab": {
          "base_uri": "https://localhost:8080/",
          "height": 34
        }
      },
      "source": [
        "for (x, y) in train_gen:\n",
        "  print(x.shape, y.shape)\n",
        "  break"
      ],
      "execution_count": 23,
      "outputs": [
        {
          "output_type": "stream",
          "text": [
            "(8, 256, 256, 3) (8, 102)\n"
          ],
          "name": "stdout"
        }
      ]
    },
    {
      "cell_type": "code",
      "metadata": {
        "id": "iiN5gS9zzU8Y",
        "colab_type": "code",
        "colab": {}
      },
      "source": [
        "# train_gen.class_indices"
      ],
      "execution_count": 0,
      "outputs": []
    },
    {
      "cell_type": "code",
      "metadata": {
        "id": "HYs8Av5Bzu2X",
        "colab_type": "code",
        "colab": {}
      },
      "source": [
        "# val_gen.class_indices"
      ],
      "execution_count": 0,
      "outputs": []
    },
    {
      "cell_type": "markdown",
      "metadata": {
        "id": "Pu26rJ6GEii0",
        "colab_type": "text"
      },
      "source": [
        "# Claasifiers Models\n"
      ]
    },
    {
      "cell_type": "code",
      "metadata": {
        "id": "xgfO39m8DmME",
        "colab_type": "code",
        "colab": {}
      },
      "source": [
        "from keras.models import *\n",
        "from keras.layers import *\n",
        "from keras.optimizers import *"
      ],
      "execution_count": 0,
      "outputs": []
    },
    {
      "cell_type": "code",
      "metadata": {
        "id": "-gFool2Idh4R",
        "colab_type": "code",
        "colab": {}
      },
      "source": [
        "adam = Adam(lr=0.00003)"
      ],
      "execution_count": 0,
      "outputs": []
    },
    {
      "cell_type": "markdown",
      "metadata": {
        "id": "muchhZWHEpCm",
        "colab_type": "text"
      },
      "source": [
        "####  Callback and Checkpoints\n"
      ]
    },
    {
      "cell_type": "code",
      "metadata": {
        "id": "28eApyggDmBr",
        "colab_type": "code",
        "colab": {}
      },
      "source": [
        "from keras.callbacks import Callback,  EarlyStopping"
      ],
      "execution_count": 0,
      "outputs": []
    },
    {
      "cell_type": "code",
      "metadata": {
        "id": "zbvp6qGnDm8Y",
        "colab_type": "code",
        "colab": {}
      },
      "source": [
        "# early stopping\n",
        "es = keras.callbacks.EarlyStopping(monitor='val_loss', min_delta=0.05, patience=3)\n",
        "\n",
        "# models checkpoints-- saves best only \n",
        "cp_efficient = keras.callbacks.ModelCheckpoint('efficient_net_weights.h5', monitor='val_loss', verbose=0, save_best_only=True, save_weights_only=False, mode='auto', period = 1)\n",
        "cp_xception = keras.callbacks.ModelCheckpoint('xception_net_weights.h5', monitor='val_loss', verbose=0, save_best_only=True, save_weights_only=False, mode='auto', period = 1)\n",
        "cp_vgg = keras.callbacks.ModelCheckpoint('vgg.h5', monitor='val_loss', verbose=0, save_best_only=True, save_weights_only=False, mode='auto', period = 1)\n",
        "cp_resnet = keras.callbacks.ModelCheckpoint('resnet.h5', monitor='val_loss', verbose=0, save_best_only=True, save_weights_only=False, mode='auto', period = 1)\n",
        "cp_nas = keras.callbacks.ModelCheckpoint('nas_net.h5', monitor='val_loss', verbose=0, save_best_only=True, save_weights_only=False, mode='auto', period = 1)"
      ],
      "execution_count": 0,
      "outputs": []
    },
    {
      "cell_type": "markdown",
      "metadata": {
        "id": "YARbhFd4FBoK",
        "colab_type": "text"
      },
      "source": [
        "## Models Architecture"
      ]
    },
    {
      "cell_type": "markdown",
      "metadata": {
        "id": "JupIMoBJRPHM",
        "colab_type": "text"
      },
      "source": [
        "### 1. EfficientNet"
      ]
    },
    {
      "cell_type": "code",
      "metadata": {
        "id": "PX8NRjLSDm5t",
        "colab_type": "code",
        "colab": {}
      },
      "source": [
        "# ! pip install keras_efficientnets\n",
        "from keras_efficientnets import EfficientNetB5"
      ],
      "execution_count": 0,
      "outputs": []
    },
    {
      "cell_type": "code",
      "metadata": {
        "id": "Sf1EcTb7Dm26",
        "colab_type": "code",
        "colab": {}
      },
      "source": [
        "efficient = EfficientNetB5((256, 256, 3), classes=102, include_top=False, weights='imagenet')"
      ],
      "execution_count": 0,
      "outputs": []
    },
    {
      "cell_type": "code",
      "metadata": {
        "id": "JlYlkj8TFbcV",
        "colab_type": "code",
        "colab": {}
      },
      "source": [
        "# efficient.summary()"
      ],
      "execution_count": 0,
      "outputs": []
    },
    {
      "cell_type": "code",
      "metadata": {
        "id": "fdQ0ee9QDm0l",
        "colab_type": "code",
        "colab": {}
      },
      "source": [
        "### adding layers for flower classification\n",
        "\n",
        "eff_avg = GlobalAveragePooling2D()(efficient.output)\n",
        "eff_fc_1 = Dense(256, activation='relu')(eff_avg)\n",
        "eff_fc_2 = Dense(128, activation='relu')(eff_fc_1)\n",
        "eff_d = Dropout(0.25)(eff_fc_2)\n",
        "eff_fc_3 = Dense(102, activation='softmax')(eff_d)\n"
      ],
      "execution_count": 0,
      "outputs": []
    },
    {
      "cell_type": "code",
      "metadata": {
        "id": "fgXMOnTKDmx3",
        "colab_type": "code",
        "colab": {}
      },
      "source": [
        "efficient = Model(efficient.input, outputs  = eff_fc_3)"
      ],
      "execution_count": 0,
      "outputs": []
    },
    {
      "cell_type": "code",
      "metadata": {
        "id": "Md-AGr8sDmvU",
        "colab_type": "code",
        "colab": {}
      },
      "source": [
        "# efficient.summary()"
      ],
      "execution_count": 0,
      "outputs": []
    },
    {
      "cell_type": "markdown",
      "metadata": {
        "id": "0Yj70omSGT5k",
        "colab_type": "text"
      },
      "source": [
        "#### compilation and training"
      ]
    },
    {
      "cell_type": "code",
      "metadata": {
        "id": "FBFB42EDDmsY",
        "colab_type": "code",
        "colab": {}
      },
      "source": [
        "efficient.compile(loss='categorical_crossentropy', optimizer='adam', metrics=['accuracy'])"
      ],
      "execution_count": 0,
      "outputs": []
    },
    {
      "cell_type": "code",
      "metadata": {
        "id": "joqNTuwHxLcN",
        "colab_type": "code",
        "colab": {}
      },
      "source": [
        "# load the weights\n",
        "efficient.load_weights('flower102-weights/efficient_net_weights.h5')"
      ],
      "execution_count": 0,
      "outputs": []
    },
    {
      "cell_type": "code",
      "metadata": {
        "id": "iezTPyI9DmpA",
        "colab_type": "code",
        "outputId": "66901f06-dd65-4bfb-9f8a-6cfb8f874b10",
        "colab": {
          "base_uri": "https://localhost:8080/",
          "height": 384
        }
      },
      "source": [
        "efficient_hist = efficient.fit_generator(train_gen, steps_per_epoch=18305//16, validation_data=val_gen, validation_steps=235//16, epochs=20, callbacks=[es, cp_efficient])"
      ],
      "execution_count": 0,
      "outputs": [
        {
          "output_type": "stream",
          "text": [
            "Epoch 1/20\n",
            "1144/1144 [==============================] - 1027s 897ms/step - loss: 1.5999 - acc: 0.6207 - val_loss: 0.9304 - val_acc: 0.8054\n",
            "Epoch 2/20\n",
            "1144/1144 [==============================] - 953s 833ms/step - loss: 0.6006 - acc: 0.8462 - val_loss: 0.4831 - val_acc: 0.8665\n",
            "Epoch 3/20\n",
            "1144/1144 [==============================] - 954s 834ms/step - loss: 0.4193 - acc: 0.8930 - val_loss: 0.4611 - val_acc: 0.9261\n",
            "Epoch 4/20\n",
            "1144/1144 [==============================] - 954s 834ms/step - loss: 0.3970 - acc: 0.8987 - val_loss: 0.4217 - val_acc: 0.8941\n",
            "Epoch 5/20\n",
            "1144/1144 [==============================] - 954s 834ms/step - loss: 0.3019 - acc: 0.9223 - val_loss: 0.2996 - val_acc: 0.9433\n",
            "Epoch 6/20\n",
            "1144/1144 [==============================] - 953s 833ms/step - loss: 0.3006 - acc: 0.9272 - val_loss: 0.2225 - val_acc: 0.9438\n",
            "Epoch 7/20\n",
            "1144/1144 [==============================] - 953s 833ms/step - loss: 0.2877 - acc: 0.9277 - val_loss: 0.1657 - val_acc: 0.9458\n",
            "Epoch 8/20\n",
            "1144/1144 [==============================] - 953s 833ms/step - loss: 0.2471 - acc: 0.9373 - val_loss: 0.2205 - val_acc: 0.9360\n",
            "Epoch 9/20\n",
            "1144/1144 [==============================] - 953s 833ms/step - loss: 0.2374 - acc: 0.9389 - val_loss: 0.1569 - val_acc: 0.9680\n",
            "Epoch 10/20\n",
            "1144/1144 [==============================] - 953s 833ms/step - loss: 0.2061 - acc: 0.9473 - val_loss: 0.1682 - val_acc: 0.9672\n"
          ],
          "name": "stdout"
        }
      ]
    },
    {
      "cell_type": "code",
      "metadata": {
        "id": "hQNV7OmBT3io",
        "colab_type": "code",
        "colab": {}
      },
      "source": [
        ""
      ],
      "execution_count": 0,
      "outputs": []
    },
    {
      "cell_type": "code",
      "metadata": {
        "id": "Hre-vm1uDma8",
        "colab_type": "code",
        "colab": {}
      },
      "source": [
        "def plot_loss_accuracy():\n",
        "  # plot loss\n",
        "  print(\"training_loss =\", hist.history['loss'][-1],  \"   val_loss =\", hist.history['val_loss'][-1])\n",
        "  print(\"training_acc =\", hist.history['acc'][-1]*100, \"   val_acc =\", hist.history['val_acc'][-1]*100)\n",
        "  plt.plot(hist.history['val_loss'], label='val_loss')\n",
        "  plt.plot(hist.history['loss'], label='training_loss')\n",
        "\n",
        "  # plot accuracy\n",
        "  plt.plot(hist.history['val_acc'], label='val_acc')\n",
        "  plt.plot(hist.history['acc'], label='training_acc')\n",
        "  plt.legend()\n",
        "  plt.show()"
      ],
      "execution_count": 0,
      "outputs": []
    },
    {
      "cell_type": "code",
      "metadata": {
        "id": "RIeR7wa_G07u",
        "colab_type": "code",
        "outputId": "835463a9-ce45-4a39-c3e6-2333a01e2ddc",
        "colab": {
          "base_uri": "https://localhost:8080/",
          "height": 304
        }
      },
      "source": [
        "plot_loss_accuracy()"
      ],
      "execution_count": 0,
      "outputs": [
        {
          "output_type": "stream",
          "text": [
            "training_loss = 0.19134688666930103    val_loss = 0.4899317234401574\n",
            "training_acc = 94.9321873081431    val_acc = 91.53976312345257\n"
          ],
          "name": "stdout"
        },
        {
          "output_type": "display_data",
          "data": {
            "image/png": "[encoded data removed]",
            "text/plain": [
              "<Figure size 432x288 with 1 Axes>"
            ]
          },
          "metadata": {
            "tags": []
          }
        }
      ]
    },
    {
      "cell_type": "code",
      "metadata": {
        "id": "DJQXaJjjH0GT",
        "colab_type": "code",
        "colab": {}
      },
      "source": [
        "preserved_model = model"
      ],
      "execution_count": 0,
      "outputs": []
    },
    {
      "cell_type": "markdown",
      "metadata": {
        "id": "mDrX0V6leAix",
        "colab_type": "text"
      },
      "source": [
        ""
      ]
    },
    {
      "cell_type": "code",
      "metadata": {
        "id": "EbaGYiSWeAEj",
        "colab_type": "code",
        "colab": {}
      },
      "source": [
        ""
      ],
      "execution_count": 0,
      "outputs": []
    },
    {
      "cell_type": "markdown",
      "metadata": {
        "id": "9V-xCE6-Bg-r",
        "colab_type": "text"
      },
      "source": [
        "### 2.VGG19 \n"
      ]
    },
    {
      "cell_type": "code",
      "metadata": {
        "id": "yQgUcNvgBtvP",
        "colab_type": "code",
        "colab": {}
      },
      "source": [
        "vgg = keras.applications.vgg19.VGG19(include_top=False, weights='imagenet', input_shape=(256, 256, 3))"
      ],
      "execution_count": 0,
      "outputs": []
    },
    {
      "cell_type": "code",
      "metadata": {
        "id": "d7Fti7gQBy1S",
        "colab_type": "code",
        "colab": {}
      },
      "source": [
        "# vgg.summary()"
      ],
      "execution_count": 0,
      "outputs": []
    },
    {
      "cell_type": "code",
      "metadata": {
        "id": "zj5yGGJ-BtdI",
        "colab_type": "code",
        "colab": {}
      },
      "source": [
        "### adding layers for flower classification\n",
        "vgg_avg = GlobalAveragePooling2D()(vgg.output)\n",
        "vgg_fc_1 = Dense(256, activation='relu')(vgg_avg)\n",
        "vgg_fc_2 = Dense(128, activation='relu')(vgg_fc_1)\n",
        "vgg_d = Dropout(0.25)(vgg_fc_2)\n",
        "vgg_fc_3 = Dense(102, activation='softmax')(vgg_d)"
      ],
      "execution_count": 0,
      "outputs": []
    },
    {
      "cell_type": "code",
      "metadata": {
        "id": "ErN1_Xf1BtR5",
        "colab_type": "code",
        "colab": {}
      },
      "source": [
        "vgg = Model(vgg.input, outputs  = vgg_fc_3)"
      ],
      "execution_count": 0,
      "outputs": []
    },
    {
      "cell_type": "code",
      "metadata": {
        "id": "uAjA_5ymBtDn",
        "colab_type": "code",
        "colab": {}
      },
      "source": [
        "# vgg.summary()"
      ],
      "execution_count": 0,
      "outputs": []
    },
    {
      "cell_type": "code",
      "metadata": {
        "id": "Ao2UoidFBs2T",
        "colab_type": "code",
        "colab": {}
      },
      "source": [
        "vgg.compile(loss='categorical_crossentropy', optimizer=adam, metrics=['accuracy'])"
      ],
      "execution_count": 0,
      "outputs": []
    },
    {
      "cell_type": "code",
      "metadata": {
        "id": "lPcrsrTaxRdI",
        "colab_type": "code",
        "colab": {}
      },
      "source": [
        "# load the weights\n",
        "vgg.load_weights('flower102-weights/vgg.h5')"
      ],
      "execution_count": 0,
      "outputs": []
    },
    {
      "cell_type": "code",
      "metadata": {
        "id": "sie6-CCDBsl0",
        "colab_type": "code",
        "outputId": "53fa8179-48b8-4fe4-81db-9aabfcd10e60",
        "colab": {
          "base_uri": "https://localhost:8080/",
          "height": 680
        }
      },
      "source": [
        "vgg_hist = vgg.fit_generator(train_gen, steps_per_epoch=18305//16, validation_data=val_gen, validation_steps=235//16, epochs=20, callbacks=[es, cp_vgg])"
      ],
      "execution_count": 0,
      "outputs": [
        {
          "output_type": "stream",
          "text": [
            "W0819 13:57:12.817914 139621115123584 deprecation.py:323] From /usr/local/lib/python3.6/dist-packages/tensorflow/python/ops/math_grad.py:1250: add_dispatch_support.<locals>.wrapper (from tensorflow.python.ops.array_ops) is deprecated and will be removed in a future version.\n",
            "Instructions for updating:\n",
            "Use tf.where in 2.0, which has the same broadcast rule as np.where\n"
          ],
          "name": "stderr"
        },
        {
          "output_type": "stream",
          "text": [
            "Epoch 1/20\n",
            "1144/1144 [==============================] - 772s 675ms/step - loss: 4.1744 - acc: 0.0978 - val_loss: 3.2947 - val_acc: 0.2881\n",
            "Epoch 2/20\n",
            "1144/1144 [==============================] - 757s 661ms/step - loss: 2.3881 - acc: 0.4337 - val_loss: 1.4322 - val_acc: 0.6626\n",
            "Epoch 3/20\n",
            "1144/1144 [==============================] - 756s 661ms/step - loss: 1.4062 - acc: 0.6495 - val_loss: 1.0895 - val_acc: 0.7241\n",
            "Epoch 4/20\n",
            "1144/1144 [==============================] - 756s 661ms/step - loss: 0.9432 - acc: 0.7561 - val_loss: 0.5591 - val_acc: 0.8276\n",
            "Epoch 5/20\n",
            "1144/1144 [==============================] - 757s 661ms/step - loss: 0.7069 - acc: 0.8145 - val_loss: 0.5660 - val_acc: 0.8548\n",
            "Epoch 6/20\n",
            "1144/1144 [==============================] - 757s 661ms/step - loss: 0.5448 - acc: 0.8559 - val_loss: 0.3157 - val_acc: 0.9138\n",
            "Epoch 7/20\n",
            "1144/1144 [==============================] - 756s 661ms/step - loss: 0.4480 - acc: 0.8804 - val_loss: 0.3707 - val_acc: 0.9089\n",
            "Epoch 8/20\n",
            "1144/1144 [==============================] - 756s 661ms/step - loss: 0.3833 - acc: 0.8952 - val_loss: 0.2347 - val_acc: 0.9261\n",
            "Epoch 9/20\n",
            "1144/1144 [==============================] - 755s 660ms/step - loss: 0.3305 - acc: 0.9103 - val_loss: 0.2856 - val_acc: 0.9368\n",
            "Epoch 10/20\n",
            "1144/1144 [==============================] - 755s 660ms/step - loss: 0.2866 - acc: 0.9216 - val_loss: 0.1688 - val_acc: 0.9557\n",
            "Epoch 11/20\n",
            "1144/1144 [==============================] - 755s 660ms/step - loss: 0.2567 - acc: 0.9305 - val_loss: 0.2450 - val_acc: 0.9532\n",
            "Epoch 12/20\n",
            "1144/1144 [==============================] - 755s 660ms/step - loss: 0.2499 - acc: 0.9315 - val_loss: 0.2684 - val_acc: 0.9335\n",
            "Epoch 13/20\n",
            "1144/1144 [==============================] - 755s 660ms/step - loss: 0.2029 - acc: 0.9433 - val_loss: 0.1061 - val_acc: 0.9649\n",
            "Epoch 14/20\n",
            "1144/1144 [==============================] - 754s 659ms/step - loss: 0.1886 - acc: 0.9498 - val_loss: 0.0485 - val_acc: 0.9828\n",
            "Epoch 15/20\n",
            "1144/1144 [==============================] - 753s 659ms/step - loss: 0.1806 - acc: 0.9500 - val_loss: 0.2008 - val_acc: 0.9532\n",
            "Epoch 16/20\n",
            "1144/1144 [==============================] - 753s 658ms/step - loss: 0.1719 - acc: 0.9537 - val_loss: 0.0542 - val_acc: 0.9778\n",
            "Epoch 17/20\n",
            "1144/1144 [==============================] - 754s 659ms/step - loss: 0.1491 - acc: 0.9588 - val_loss: 0.0980 - val_acc: 0.9672\n"
          ],
          "name": "stdout"
        }
      ]
    },
    {
      "cell_type": "markdown",
      "metadata": {
        "id": "YD2N9_c-ef5g",
        "colab_type": "text"
      },
      "source": [
        "### 3. XceptionNet"
      ]
    },
    {
      "cell_type": "code",
      "metadata": {
        "id": "7kN2h0jeeAAD",
        "colab_type": "code",
        "colab": {}
      },
      "source": [
        "from keras.applications.xception import Xception"
      ],
      "execution_count": 0,
      "outputs": []
    },
    {
      "cell_type": "code",
      "metadata": {
        "id": "HPUMorEsd_8N",
        "colab_type": "code",
        "colab": {}
      },
      "source": [
        "xception = Xception(include_top = False, weights = 'imagenet', input_shape = (256, 256, 3))"
      ],
      "execution_count": 0,
      "outputs": []
    },
    {
      "cell_type": "code",
      "metadata": {
        "id": "NrzLpwLxd_1Z",
        "colab_type": "code",
        "colab": {}
      },
      "source": [
        "# xception.summary()"
      ],
      "execution_count": 0,
      "outputs": []
    },
    {
      "cell_type": "code",
      "metadata": {
        "id": "6RWrFqEUd_wx",
        "colab_type": "code",
        "colab": {}
      },
      "source": [
        "xc_avg = GlobalAveragePooling2D()(xception.output)\n",
        "xc_fc_1 = Dense(256, activation='relu')(xc_avg)\n",
        "xc_fc_2 = Dense(128, activation='relu')(xc_fc_1)\n",
        "xc_d = Dropout(0.25)(xc_fc_2)\n",
        "xc_fc_3 = Dense(102, activation='softmax')(xc_d)"
      ],
      "execution_count": 0,
      "outputs": []
    },
    {
      "cell_type": "code",
      "metadata": {
        "id": "c3PH-Cbud_N9",
        "colab_type": "code",
        "colab": {}
      },
      "source": [
        "xception = Model(xception.input, outputs  = xc_fc_3)"
      ],
      "execution_count": 0,
      "outputs": []
    },
    {
      "cell_type": "code",
      "metadata": {
        "id": "2kIbtpvrfdhF",
        "colab_type": "code",
        "colab": {}
      },
      "source": [
        "xception.compile(loss='categorical_crossentropy', optimizer=adam, metrics=['accuracy'])"
      ],
      "execution_count": 0,
      "outputs": []
    },
    {
      "cell_type": "code",
      "metadata": {
        "id": "DqZOWa_HxanO",
        "colab_type": "code",
        "colab": {}
      },
      "source": [
        "# load the weights\n",
        "xception.load_weights('flower102-weights/xception_net_weights.h5')"
      ],
      "execution_count": 0,
      "outputs": []
    },
    {
      "cell_type": "code",
      "metadata": {
        "id": "k3HrhGuYfdP7",
        "colab_type": "code",
        "outputId": "dd6cbe89-08e3-4fe3-febc-2432791e2876",
        "colab": {
          "base_uri": "https://localhost:8080/",
          "height": 245
        }
      },
      "source": [
        "xception_hist = xception.fit_generator(train_gen, steps_per_epoch=18305//16, validation_data=val_gen, validation_steps=235//16, epochs=20, callbacks=[es, cp_xception])"
      ],
      "execution_count": 0,
      "outputs": [
        {
          "output_type": "stream",
          "text": [
            "Epoch 1/20\n",
            "1144/1144 [==============================] - 1048s 916ms/step - loss: 1.9454 - acc: 0.5909 - val_loss: 0.4648 - val_acc: 0.8876\n",
            "Epoch 2/20\n",
            "1144/1144 [==============================] - 1033s 903ms/step - loss: 0.5133 - acc: 0.8881 - val_loss: 0.1565 - val_acc: 0.9631\n",
            "Epoch 3/20\n",
            "1144/1144 [==============================] - 1038s 907ms/step - loss: 0.2517 - acc: 0.9473 - val_loss: 0.0823 - val_acc: 0.9655\n",
            "Epoch 4/20\n",
            "1144/1144 [==============================] - 1035s 904ms/step - loss: 0.1482 - acc: 0.9679 - val_loss: 0.0345 - val_acc: 0.9926\n",
            "Epoch 5/20\n",
            "1144/1144 [==============================] - 1035s 905ms/step - loss: 0.1082 - acc: 0.9755 - val_loss: 0.0330 - val_acc: 0.9906\n",
            "Epoch 6/20\n",
            "1144/1144 [==============================] - 1034s 904ms/step - loss: 0.0731 - acc: 0.9845 - val_loss: 0.0333 - val_acc: 0.9901\n"
          ],
          "name": "stdout"
        }
      ]
    },
    {
      "cell_type": "markdown",
      "metadata": {
        "id": "QwaoFDk-MKQw",
        "colab_type": "text"
      },
      "source": [
        "### 4. EfficientNetB0 "
      ]
    },
    {
      "cell_type": "code",
      "metadata": {
        "id": "K8dhbdCcMUTq",
        "colab_type": "code",
        "colab": {}
      },
      "source": [
        "from keras_efficientnets import EfficientNetB0"
      ],
      "execution_count": 0,
      "outputs": []
    },
    {
      "cell_type": "code",
      "metadata": {
        "id": "LOjx9A1tLeaw",
        "colab_type": "code",
        "colab": {}
      },
      "source": [
        "efficientb0 = EfficientNetB0((256, 256, 3), classes=102, include_top=False, weights='imagenet')"
      ],
      "execution_count": 0,
      "outputs": []
    },
    {
      "cell_type": "code",
      "metadata": {
        "id": "kY3YSXGdMRGV",
        "colab_type": "code",
        "colab": {}
      },
      "source": [
        "# efficientb0.summary()"
      ],
      "execution_count": 0,
      "outputs": []
    },
    {
      "cell_type": "code",
      "metadata": {
        "id": "4gjqfS9NMp9P",
        "colab_type": "code",
        "colab": {}
      },
      "source": [
        "effb0_avg = GlobalAveragePooling2D()(efficientb0.output)\n",
        "effb0_fc_1 = Dense(256, activation='relu')(effb0_avg)\n",
        "effb0_fc_2 = Dense(128, activation='relu')(effb0_fc_1)\n",
        "effb0_d = Dropout(0.25)(effb0_fc_2)\n",
        "effb0_fc_3 = Dense(102, activation='softmax')(effb0_d)"
      ],
      "execution_count": 0,
      "outputs": []
    },
    {
      "cell_type": "code",
      "metadata": {
        "id": "eDCcHRUhMt2E",
        "colab_type": "code",
        "colab": {}
      },
      "source": [
        "efficientb0 = Model(efficientb0.input, outputs  = effb0_fc_3)"
      ],
      "execution_count": 0,
      "outputs": []
    },
    {
      "cell_type": "code",
      "metadata": {
        "id": "b7t34a9EMwgX",
        "colab_type": "code",
        "colab": {}
      },
      "source": [
        "# efficientb0.summary()"
      ],
      "execution_count": 0,
      "outputs": []
    },
    {
      "cell_type": "code",
      "metadata": {
        "id": "qV6XbQIwTVuW",
        "colab_type": "code",
        "colab": {}
      },
      "source": [
        "cp_efficientb0 = keras.callbacks.ModelCheckpoint('efficient_netb0_weights.h5', monitor='val_loss', verbose=0, save_best_only=True, save_weights_only=False, mode='auto', period = 1)\n"
      ],
      "execution_count": 0,
      "outputs": []
    },
    {
      "cell_type": "code",
      "metadata": {
        "id": "yRumkPd1MwLy",
        "colab_type": "code",
        "colab": {}
      },
      "source": [
        "efficientb0.compile(loss='categorical_crossentropy', optimizer=adam, metrics=['accuracy'])"
      ],
      "execution_count": 0,
      "outputs": []
    },
    {
      "cell_type": "code",
      "metadata": {
        "id": "wyXWOUTrxjd8",
        "colab_type": "code",
        "colab": {}
      },
      "source": [
        "# load the weights\n",
        "efficientb0.load_weights('flower102-weights/efficient_netb0_weights.h5')"
      ],
      "execution_count": 0,
      "outputs": []
    },
    {
      "cell_type": "code",
      "metadata": {
        "id": "FECs8O--Mv2X",
        "colab_type": "code",
        "colab": {}
      },
      "source": [
        "efficientb0_hist = efficientb0.fit_generator(train_gen, steps_per_epoch=18305//16, validation_data=val_gen, validation_steps=235/16, epochs=20, callbacks=[es, cp_efficientb0])"
      ],
      "execution_count": 0,
      "outputs": []
    },
    {
      "cell_type": "code",
      "metadata": {
        "id": "b0Va3zVlMvhX",
        "colab_type": "code",
        "colab": {}
      },
      "source": [
        ""
      ],
      "execution_count": 0,
      "outputs": []
    },
    {
      "cell_type": "markdown",
      "metadata": {
        "id": "aRV137IQLgyI",
        "colab_type": "text"
      },
      "source": [
        "### 5. Resnext"
      ]
    },
    {
      "cell_type": "code",
      "metadata": {
        "id": "31MLk62EvWWc",
        "colab_type": "code",
        "colab": {}
      },
      "source": [
        "import keras\n",
        "from keras_applications.resnext import ResNeXt50\n",
        "\n",
        "resnext = ResNeXt50(weights='imagenet', input_shape = (256, 256, 3), classes=102, include_top=False, backend=keras.backend, layers=keras.layers, models=keras.models, utils=keras.utils)"
      ],
      "execution_count": 0,
      "outputs": []
    },
    {
      "cell_type": "code",
      "metadata": {
        "id": "xdNkvPT8Alkb",
        "colab_type": "code",
        "colab": {}
      },
      "source": [
        "# resnext.summary()"
      ],
      "execution_count": 0,
      "outputs": []
    },
    {
      "cell_type": "code",
      "metadata": {
        "id": "mbPXIkgZ6hwK",
        "colab_type": "code",
        "colab": {}
      },
      "source": [
        "res_avg = GlobalAveragePooling2D()(resnext.output)\n",
        "res_fc_1 = Dense(256, activation='relu')(res_avg)\n",
        "res_fc_2 = Dense(128, activation='relu')(res_fc_1)\n",
        "res_d = Dropout(0.25)(res_fc_2)\n",
        "res_fc_3 = Dense(102, activation='softmax')(res_d)"
      ],
      "execution_count": 0,
      "outputs": []
    },
    {
      "cell_type": "code",
      "metadata": {
        "id": "MCSQur-j6yOX",
        "colab_type": "code",
        "colab": {}
      },
      "source": [
        "resnext = Model(resnext.input, outputs  = res_fc_3)"
      ],
      "execution_count": 0,
      "outputs": []
    },
    {
      "cell_type": "code",
      "metadata": {
        "id": "drhL6Znt7Jg8",
        "colab_type": "code",
        "colab": {}
      },
      "source": [
        "# resnext.summary()\n"
      ],
      "execution_count": 0,
      "outputs": []
    },
    {
      "cell_type": "code",
      "metadata": {
        "id": "12kFbi5QLkb_",
        "colab_type": "code",
        "colab": {}
      },
      "source": [
        "resnext.compile(loss='categorical_crossentropy', optimizer=adam, metrics=['accuracy'])"
      ],
      "execution_count": 0,
      "outputs": []
    },
    {
      "cell_type": "code",
      "metadata": {
        "id": "X0M1zb5Gxqbe",
        "colab_type": "code",
        "colab": {}
      },
      "source": [
        "resnext.load_weights('flower102-weights/resnext.h5')"
      ],
      "execution_count": 0,
      "outputs": []
    },
    {
      "cell_type": "code",
      "metadata": {
        "id": "EgQSyRowxVlv",
        "colab_type": "code",
        "colab": {}
      },
      "source": [
        "cp_resnext = keras.callbacks.ModelCheckpoint('resnext.h5', monitor='val_loss', verbose=0, save_best_only=True, save_weights_only=False, mode='auto', period = 1)"
      ],
      "execution_count": 0,
      "outputs": []
    },
    {
      "cell_type": "code",
      "metadata": {
        "id": "v3v_c1sJwg5Z",
        "colab_type": "code",
        "outputId": "288df1c5-0394-4344-d8f8-2570d5d01395",
        "colab": {
          "base_uri": "https://localhost:8080/",
          "height": 263
        }
      },
      "source": [
        "resnext_hist = resnext.fit_generator(train_gen, steps_per_epoch=17562//8, validation_data=val_gen, validation_steps=978//8, epochs=20, callbacks=[es, cp_resnext])\n"
      ],
      "execution_count": 37,
      "outputs": [
        {
          "output_type": "stream",
          "text": [
            "W0821 10:38:12.671050 139885793322880 deprecation.py:323] From /usr/local/lib/python3.6/dist-packages/tensorflow/python/ops/math_grad.py:1250: add_dispatch_support.<locals>.wrapper (from tensorflow.python.ops.array_ops) is deprecated and will be removed in a future version.\n",
            "Instructions for updating:\n",
            "Use tf.where in 2.0, which has the same broadcast rule as np.where\n"
          ],
          "name": "stderr"
        },
        {
          "output_type": "stream",
          "text": [
            "Epoch 1/20\n",
            "2195/2195 [==============================] - 2776s 1s/step - loss: 1.7563 - acc: 0.6372 - val_loss: 0.0873 - val_acc: 0.9788\n",
            "Epoch 2/20\n",
            "2195/2195 [==============================] - 2760s 1s/step - loss: 0.2927 - acc: 0.9380 - val_loss: 0.0230 - val_acc: 0.9906\n",
            "Epoch 3/20\n",
            "2195/2195 [==============================] - 2758s 1s/step - loss: 0.1572 - acc: 0.9642 - val_loss: 0.0384 - val_acc: 0.9917\n",
            "Epoch 4/20\n",
            "2195/2195 [==============================] - 2755s 1s/step - loss: 0.1110 - acc: 0.9752 - val_loss: 0.0066 - val_acc: 0.9990\n",
            "Epoch 5/20\n",
            "2195/2195 [==============================] - 2757s 1s/step - loss: 0.0938 - acc: 0.9786 - val_loss: 0.0198 - val_acc: 0.9956\n"
          ],
          "name": "stdout"
        }
      ]
    },
    {
      "cell_type": "code",
      "metadata": {
        "id": "jD8DNwJxv59A",
        "colab_type": "code",
        "colab": {}
      },
      "source": [
        ""
      ],
      "execution_count": 0,
      "outputs": []
    },
    {
      "cell_type": "markdown",
      "metadata": {
        "id": "PDxAPKyDv6kP",
        "colab_type": "text"
      },
      "source": [
        "#### Archive the model weights and evaluate on val data(to check whether weights are loaded properly or not) -- preventive measure"
      ]
    },
    {
      "cell_type": "code",
      "metadata": {
        "id": "OMdm4r5hv-zt",
        "colab_type": "code",
        "colab": {}
      },
      "source": [
        "efficient_archive = efficient\n",
        "efficientb0_archive = efficientb0\n",
        "vgg_archive = vgg\n",
        "xception_archive = xception\n",
        "resenext_archive = resnext"
      ],
      "execution_count": 0,
      "outputs": []
    },
    {
      "cell_type": "code",
      "metadata": {
        "id": "nKxzztaZwggq",
        "colab_type": "code",
        "colab": {
          "base_uri": "https://localhost:8080/",
          "height": 34
        },
        "outputId": "e7383d7b-7956-4520-8138-a4f41b77b40e"
      },
      "source": [
        "efficient.evaluate_generator(val_gen, steps=978//8)"
      ],
      "execution_count": 238,
      "outputs": [
        {
          "output_type": "execute_result",
          "data": {
            "text/plain": [
              "[0.09671708277134472, 0.9799896050205845]"
            ]
          },
          "metadata": {
            "tags": []
          },
          "execution_count": 238
        }
      ]
    },
    {
      "cell_type": "code",
      "metadata": {
        "id": "HxZFIkyYnlmW",
        "colab_type": "code",
        "colab": {
          "base_uri": "https://localhost:8080/",
          "height": 34
        },
        "outputId": "d3499d7d-ee8d-4175-bb04-600e1d6fecec"
      },
      "source": [
        "efficientb0.evaluate_generator(val_gen, steps=978//8)"
      ],
      "execution_count": 239,
      "outputs": [
        {
          "output_type": "execute_result",
          "data": {
            "text/plain": [
              "[0.014953158555742113, 1.0]"
            ]
          },
          "metadata": {
            "tags": []
          },
          "execution_count": 239
        }
      ]
    },
    {
      "cell_type": "code",
      "metadata": {
        "id": "v2LZjykNwgPh",
        "colab_type": "code",
        "colab": {
          "base_uri": "https://localhost:8080/",
          "height": 34
        },
        "outputId": "50e9a85f-2208-4c7e-8216-193d1e15901a"
      },
      "source": [
        "vgg.evaluate_generator(val_gen, steps=978//8)"
      ],
      "execution_count": 240,
      "outputs": [
        {
          "output_type": "execute_result",
          "data": {
            "text/plain": [
              "[0.04328215931932609, 0.9838877338877339]"
            ]
          },
          "metadata": {
            "tags": []
          },
          "execution_count": 240
        }
      ]
    },
    {
      "cell_type": "code",
      "metadata": {
        "id": "F07hobduwy8B",
        "colab_type": "code",
        "colab": {
          "base_uri": "https://localhost:8080/",
          "height": 34
        },
        "outputId": "bff391f1-fabd-44e1-ffff-1aa2e4fb9ff4"
      },
      "source": [
        "xception.evaluate_generator(val_gen, steps=978//8)"
      ],
      "execution_count": 241,
      "outputs": [
        {
          "output_type": "execute_result",
          "data": {
            "text/plain": [
              "[0.01216567932496069, 0.9955821203342842]"
            ]
          },
          "metadata": {
            "tags": []
          },
          "execution_count": 241
        }
      ]
    },
    {
      "cell_type": "code",
      "metadata": {
        "id": "GvzVUPR-wyr2",
        "colab_type": "code",
        "colab": {}
      },
      "source": [
        "resnext.evaluate_generator(val_gen, steps=978//8)"
      ],
      "execution_count": 0,
      "outputs": []
    },
    {
      "cell_type": "markdown",
      "metadata": {
        "id": "4WFIUOb2Tdpj",
        "colab_type": "text"
      },
      "source": [
        "## Time to make prediction"
      ]
    },
    {
      "cell_type": "code",
      "metadata": {
        "id": "gNVhR4Cup06W",
        "colab_type": "code",
        "colab": {}
      },
      "source": [
        "shutil.rmtree."
      ],
      "execution_count": 0,
      "outputs": []
    },
    {
      "cell_type": "code",
      "metadata": {
        "id": "DkuFCkdfTiXs",
        "colab_type": "code",
        "colab": {}
      },
      "source": [
        "if not os.path.isdir('data/test/test_data'):\n",
        "  os.mkdir('data/test/test_data')"
      ],
      "execution_count": 0,
      "outputs": []
    },
    {
      "cell_type": "code",
      "metadata": {
        "id": "b8KakkrtUO0_",
        "colab_type": "code",
        "colab": {}
      },
      "source": [
        "# make subdirectory of each class\n",
        "for each in os.listdir('data/test/'):\n",
        "  dest = 'data/test/test_data'\n",
        "  src = os.path.join('data/test', each)\n",
        "  shutil.move(src, dest)\n",
        "\n"
      ],
      "execution_count": 0,
      "outputs": []
    },
    {
      "cell_type": "code",
      "metadata": {
        "id": "kiaHKXsbHlbY",
        "colab_type": "code",
        "outputId": "ba425e4e-aed1-416b-9ae1-097ee24a729e",
        "colab": {
          "base_uri": "https://localhost:8080/",
          "height": 34
        }
      },
      "source": [
        "len(os.listdir('data/test/test_data/'))"
      ],
      "execution_count": 80,
      "outputs": [
        {
          "output_type": "execute_result",
          "data": {
            "text/plain": [
              "2010"
            ]
          },
          "metadata": {
            "tags": []
          },
          "execution_count": 80
        }
      ]
    },
    {
      "cell_type": "code",
      "metadata": {
        "id": "5UUEaYNGU1ED",
        "colab_type": "code",
        "colab": {}
      },
      "source": [
        "test_datagen = ImageDataGenerator(rescale=1./255)"
      ],
      "execution_count": 0,
      "outputs": []
    },
    {
      "cell_type": "code",
      "metadata": {
        "id": "Cty3Td9dUUCL",
        "colab_type": "code",
        "outputId": "3d46b240-60e1-4688-83e3-b3d38ae8475b",
        "colab": {
          "base_uri": "https://localhost:8080/",
          "height": 34
        }
      },
      "source": [
        "test_generator = test_datagen.flow_from_directory(\n",
        "        'data/test',\n",
        "        shuffle = False,\n",
        "        class_mode='categorical',\n",
        "        batch_size=1\n",
        ")"
      ],
      "execution_count": 219,
      "outputs": [
        {
          "output_type": "stream",
          "text": [
            "Found 2009 images belonging to 1 classes.\n"
          ],
          "name": "stdout"
        }
      ]
    },
    {
      "cell_type": "code",
      "metadata": {
        "id": "O5djVgdZYHfy",
        "colab_type": "code",
        "colab": {}
      },
      "source": [
        "train_dict = train_gen.class_indices"
      ],
      "execution_count": 0,
      "outputs": []
    },
    {
      "cell_type": "code",
      "metadata": {
        "id": "dT-cpGSAIL_N",
        "colab_type": "code",
        "colab": {}
      },
      "source": [
        "new_dict = dict([(value, key) for key, value in train_dict.items()])"
      ],
      "execution_count": 0,
      "outputs": []
    },
    {
      "cell_type": "code",
      "metadata": {
        "id": "D3fR02baVA_8",
        "colab_type": "code",
        "colab": {}
      },
      "source": [
        "filenames = test_generator.filenames"
      ],
      "execution_count": 0,
      "outputs": []
    },
    {
      "cell_type": "code",
      "metadata": {
        "id": "5cf5YKl9VFL1",
        "colab_type": "code",
        "colab": {}
      },
      "source": [
        "nb_samples = len(filenames)"
      ],
      "execution_count": 0,
      "outputs": []
    },
    {
      "cell_type": "code",
      "metadata": {
        "id": "GhsW7uRn8JVx",
        "colab_type": "code",
        "colab": {}
      },
      "source": [
        "models = [resnext, efficientb0, efficient, xception, vgg]"
      ],
      "execution_count": 0,
      "outputs": []
    },
    {
      "cell_type": "code",
      "metadata": {
        "id": "iFLC7POL2mhJ",
        "colab_type": "code",
        "colab": {}
      },
      "source": [
        "def prediction_n_decode(model):\n",
        "  predictions = model.predict_generator(test_generator,steps = nb_samples)\n",
        "  predictions = np.argmax(predictions, axis=1)\n",
        "  actual_predictions = [int(new_dict[each]) for each in predictions]\n",
        "  return actual_predictions"
      ],
      "execution_count": 0,
      "outputs": []
    },
    {
      "cell_type": "code",
      "metadata": {
        "id": "yS6DluvQ9ur4",
        "colab_type": "code",
        "colab": {}
      },
      "source": [
        "p1 = vgg.predict_generator(test_generator,steps = nb_samples)\n",
        "p1 = np.argmax(p1, axis=1)\n",
        "actual_p1 = [int(new_dict[each]) for each in p1]"
      ],
      "execution_count": 0,
      "outputs": []
    },
    {
      "cell_type": "code",
      "metadata": {
        "id": "7g3wd-3s79-5",
        "colab_type": "code",
        "colab": {
          "base_uri": "https://localhost:8080/",
          "height": 34
        },
        "outputId": "bf243841-2172-4952-91c8-dcf0452bc52a"
      },
      "source": [
        "actual_p1[-5:]"
      ],
      "execution_count": 237,
      "outputs": [
        {
          "output_type": "execute_result",
          "data": {
            "text/plain": [
              "[19, 57, 74, 76, 37]"
            ]
          },
          "metadata": {
            "tags": []
          },
          "execution_count": 237
        }
      ]
    },
    {
      "cell_type": "code",
      "metadata": {
        "id": "TjLSwBMI9OZd",
        "colab_type": "code",
        "colab": {
          "base_uri": "https://localhost:8080/",
          "height": 34
        },
        "outputId": "32cbf9ca-89d0-4fa2-f021-641961778be1"
      },
      "source": [
        "resnext_pred[-5:]"
      ],
      "execution_count": 226,
      "outputs": [
        {
          "output_type": "execute_result",
          "data": {
            "text/plain": [
              "[67, 51, 72, 89, 63]"
            ]
          },
          "metadata": {
            "tags": []
          },
          "execution_count": 226
        }
      ]
    },
    {
      "cell_type": "code",
      "metadata": {
        "id": "A0ky8AF3VnPR",
        "colab_type": "code",
        "colab": {}
      },
      "source": [
        "pred_of_all_models = []"
      ],
      "execution_count": 0,
      "outputs": []
    },
    {
      "cell_type": "code",
      "metadata": {
        "id": "U5EsXNds5Yvc",
        "colab_type": "code",
        "colab": {}
      },
      "source": [
        "pred_arr = np.array(predictions)"
      ],
      "execution_count": 0,
      "outputs": []
    },
    {
      "cell_type": "code",
      "metadata": {
        "id": "cCslH3fa5YnB",
        "colab_type": "code",
        "colab": {
          "base_uri": "https://localhost:8080/",
          "height": 34
        },
        "outputId": "4cec2bcc-fa05-4070-ae6c-f9815137affa"
      },
      "source": [
        "pred_arr.shape"
      ],
      "execution_count": 207,
      "outputs": [
        {
          "output_type": "execute_result",
          "data": {
            "text/plain": [
              "(5, 2009)"
            ]
          },
          "metadata": {
            "tags": []
          },
          "execution_count": 207
        }
      ]
    },
    {
      "cell_type": "code",
      "metadata": {
        "id": "W7c8eR2y5Ygq",
        "colab_type": "code",
        "colab": {
          "base_uri": "https://localhost:8080/",
          "height": 104
        },
        "outputId": "fdf1fef4-7f7c-49f0-b6c8-9350bf27fadf"
      },
      "source": [
        "pred_arr[:, -5:]"
      ],
      "execution_count": 209,
      "outputs": [
        {
          "output_type": "execute_result",
          "data": {
            "text/plain": [
              "array([[67, 51, 72, 89, 63],\n",
              "       [10, 42, 89, 85, 76],\n",
              "       [19, 57, 74, 76, 37],\n",
              "       [93, 52, 21, 95, 89],\n",
              "       [80, 80, 65, 70, 17]])"
            ]
          },
          "metadata": {
            "tags": []
          },
          "execution_count": 209
        }
      ]
    },
    {
      "cell_type": "code",
      "metadata": {
        "id": "bB4t5r245YSB",
        "colab_type": "code",
        "colab": {}
      },
      "source": [
        ""
      ],
      "execution_count": 0,
      "outputs": []
    },
    {
      "cell_type": "code",
      "metadata": {
        "id": "DEEe4T85V_rj",
        "colab_type": "code",
        "outputId": "54bb1488-bd89-4114-91af-9e3f69b03951",
        "colab": {
          "base_uri": "https://localhost:8080/",
          "height": 175
        }
      },
      "source": [
        "sample.head(4)"
      ],
      "execution_count": 93,
      "outputs": [
        {
          "output_type": "execute_result",
          "data": {
            "text/html": [
              "<div>\n",
              "<style scoped>\n",
              "    .dataframe tbody tr th:only-of-type {\n",
              "        vertical-align: middle;\n",
              "    }\n",
              "\n",
              "    .dataframe tbody tr th {\n",
              "        vertical-align: top;\n",
              "    }\n",
              "\n",
              "    .dataframe thead th {\n",
              "        text-align: right;\n",
              "    }\n",
              "</style>\n",
              "<table border=\"1\" class=\"dataframe\">\n",
              "  <thead>\n",
              "    <tr style=\"text-align: right;\">\n",
              "      <th></th>\n",
              "      <th>image_id</th>\n",
              "      <th>category</th>\n",
              "    </tr>\n",
              "  </thead>\n",
              "  <tbody>\n",
              "    <tr>\n",
              "      <th>0</th>\n",
              "      <td>18540</td>\n",
              "      <td>74</td>\n",
              "    </tr>\n",
              "    <tr>\n",
              "      <th>1</th>\n",
              "      <td>18541</td>\n",
              "      <td>3</td>\n",
              "    </tr>\n",
              "    <tr>\n",
              "      <th>2</th>\n",
              "      <td>18542</td>\n",
              "      <td>76</td>\n",
              "    </tr>\n",
              "    <tr>\n",
              "      <th>3</th>\n",
              "      <td>18543</td>\n",
              "      <td>12</td>\n",
              "    </tr>\n",
              "  </tbody>\n",
              "</table>\n",
              "</div>"
            ],
            "text/plain": [
              "   image_id  category\n",
              "0     18540        74\n",
              "1     18541         3\n",
              "2     18542        76\n",
              "3     18543        12"
            ]
          },
          "metadata": {
            "tags": []
          },
          "execution_count": 93
        }
      ]
    },
    {
      "cell_type": "code",
      "metadata": {
        "id": "LVr62TM5WBn7",
        "colab_type": "code",
        "colab": {}
      },
      "source": [
        "sample.category = actual_predictions"
      ],
      "execution_count": 0,
      "outputs": []
    },
    {
      "cell_type": "code",
      "metadata": {
        "id": "_0jKsZ_66HQc",
        "colab_type": "code",
        "colab": {
          "base_uri": "https://localhost:8080/",
          "height": 34
        },
        "outputId": "cb26cbdb-f9e7-45f6-8bb3-60b5554e3bca"
      },
      "source": [
        "actual_predictions[-5:]"
      ],
      "execution_count": 227,
      "outputs": [
        {
          "output_type": "execute_result",
          "data": {
            "text/plain": [
              "[58, 51, 97, 72, 51]"
            ]
          },
          "metadata": {
            "tags": []
          },
          "execution_count": 227
        }
      ]
    },
    {
      "cell_type": "code",
      "metadata": {
        "id": "qDoicp6JWPnk",
        "colab_type": "code",
        "outputId": "75214486-50fc-4a0a-b010-1f4d13dc3fd6",
        "colab": {
          "base_uri": "https://localhost:8080/",
          "height": 363
        }
      },
      "source": [
        "sample.tail(10)"
      ],
      "execution_count": 95,
      "outputs": [
        {
          "output_type": "execute_result",
          "data": {
            "text/html": [
              "<div>\n",
              "<style scoped>\n",
              "    .dataframe tbody tr th:only-of-type {\n",
              "        vertical-align: middle;\n",
              "    }\n",
              "\n",
              "    .dataframe tbody tr th {\n",
              "        vertical-align: top;\n",
              "    }\n",
              "\n",
              "    .dataframe thead th {\n",
              "        text-align: right;\n",
              "    }\n",
              "</style>\n",
              "<table border=\"1\" class=\"dataframe\">\n",
              "  <thead>\n",
              "    <tr style=\"text-align: right;\">\n",
              "      <th></th>\n",
              "      <th>image_id</th>\n",
              "      <th>category</th>\n",
              "    </tr>\n",
              "  </thead>\n",
              "  <tbody>\n",
              "    <tr>\n",
              "      <th>1999</th>\n",
              "      <td>20539</td>\n",
              "      <td>77</td>\n",
              "    </tr>\n",
              "    <tr>\n",
              "      <th>2000</th>\n",
              "      <td>20540</td>\n",
              "      <td>3</td>\n",
              "    </tr>\n",
              "    <tr>\n",
              "      <th>2001</th>\n",
              "      <td>20541</td>\n",
              "      <td>77</td>\n",
              "    </tr>\n",
              "    <tr>\n",
              "      <th>2002</th>\n",
              "      <td>20542</td>\n",
              "      <td>81</td>\n",
              "    </tr>\n",
              "    <tr>\n",
              "      <th>2003</th>\n",
              "      <td>20543</td>\n",
              "      <td>77</td>\n",
              "    </tr>\n",
              "    <tr>\n",
              "      <th>2004</th>\n",
              "      <td>20544</td>\n",
              "      <td>58</td>\n",
              "    </tr>\n",
              "    <tr>\n",
              "      <th>2005</th>\n",
              "      <td>20545</td>\n",
              "      <td>51</td>\n",
              "    </tr>\n",
              "    <tr>\n",
              "      <th>2006</th>\n",
              "      <td>20546</td>\n",
              "      <td>97</td>\n",
              "    </tr>\n",
              "    <tr>\n",
              "      <th>2007</th>\n",
              "      <td>20547</td>\n",
              "      <td>72</td>\n",
              "    </tr>\n",
              "    <tr>\n",
              "      <th>2008</th>\n",
              "      <td>20548</td>\n",
              "      <td>51</td>\n",
              "    </tr>\n",
              "  </tbody>\n",
              "</table>\n",
              "</div>"
            ],
            "text/plain": [
              "      image_id  category\n",
              "1999     20539        77\n",
              "2000     20540         3\n",
              "2001     20541        77\n",
              "2002     20542        81\n",
              "2003     20543        77\n",
              "2004     20544        58\n",
              "2005     20545        51\n",
              "2006     20546        97\n",
              "2007     20547        72\n",
              "2008     20548        51"
            ]
          },
          "metadata": {
            "tags": []
          },
          "execution_count": 95
        }
      ]
    },
    {
      "cell_type": "code",
      "metadata": {
        "id": "NNHXg3hQWRlL",
        "colab_type": "code",
        "outputId": "c6c94cda-bd98-4506-bb89-79f5fd68abec",
        "colab": {
          "base_uri": "https://localhost:8080/",
          "height": 34
        }
      },
      "source": [
        "type(sample)"
      ],
      "execution_count": 96,
      "outputs": [
        {
          "output_type": "execute_result",
          "data": {
            "text/plain": [
              "pandas.core.frame.DataFrame"
            ]
          },
          "metadata": {
            "tags": []
          },
          "execution_count": 96
        }
      ]
    },
    {
      "cell_type": "code",
      "metadata": {
        "id": "betz2Lf5WrJF",
        "colab_type": "code",
        "colab": {}
      },
      "source": [
        "sample.to_csv('submission.csv', index=False)"
      ],
      "execution_count": 0,
      "outputs": []
    },
    {
      "cell_type": "code",
      "metadata": {
        "id": "d7JkGeuTYTjI",
        "colab_type": "code",
        "colab": {}
      },
      "source": [
        ""
      ],
      "execution_count": 0,
      "outputs": []
    }
  ]
}