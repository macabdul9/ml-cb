{
 "cells": [
  {
   "cell_type": "code",
   "execution_count": 6,
   "metadata": {},
   "outputs": [],
   "source": [
    "import numpy as np\n",
    "import matplotlib.pyplot as plt"
   ]
  },
  {
   "cell_type": "code",
   "execution_count": 269,
   "metadata": {},
   "outputs": [],
   "source": [
    "x_ = np.random.randn(200, 1) # standared normal distribution\n",
    "g_err = np.random.randn(200, 1) # gaussian error\n",
    "y_ = 2*x_ + 0.6*g_err"
   ]
  },
  {
   "cell_type": "code",
   "execution_count": 270,
   "metadata": {},
   "outputs": [
    {
     "data": {
      "image/png": "[encoded data removed]",
      "text/plain": [
       "<Figure size 432x288 with 1 Axes>"
      ]
     },
     "metadata": {
      "needs_background": "light"
     },
     "output_type": "display_data"
    }
   ],
   "source": [
    "plt.scatter(x_, y_);"
   ]
  },
  {
   "cell_type": "code",
   "execution_count": 325,
   "metadata": {},
   "outputs": [],
   "source": [
    "x = ((x_ - np.mean(x_))/np.std(x_))   # normal standard distribution\n",
    "y = y_"
   ]
  },
  {
   "cell_type": "code",
   "execution_count": 326,
   "metadata": {},
   "outputs": [
    {
     "data": {
      "text/plain": [
       "<matplotlib.collections.PathCollection at 0x7fa6daf74710>"
      ]
     },
     "execution_count": 326,
     "metadata": {},
     "output_type": "execute_result"
    },
    {
     "data": {
      "image/png": "[encoded data removed]",
      "text/plain": [
       "<Figure size 432x288 with 1 Axes>"
      ]
     },
     "metadata": {
      "needs_background": "light"
     },
     "output_type": "display_data"
    }
   ],
   "source": [
    "plt.scatter(x, y, color = \"red\")"
   ]
  },
  {
   "cell_type": "code",
   "execution_count": 351,
   "metadata": {},
   "outputs": [],
   "source": [
    "# gradient descent\n",
    "# hypothesis\n",
    "# y = w.x + b   a-> weight, b-> bias\n",
    "\n",
    "# hypothesis function\n",
    "def hypothesis(x, w, b):\n",
    "    #print(x.shape, w.shape)\n",
    "    return np.dot(x, w) + b\n",
    "\n",
    "def mse(x, y, w, b):\n",
    "    \n",
    "    y_ = hypothesis(x, w, b)\n",
    "    \n",
    "    # mse\n",
    "    l = 0\n",
    "    for i in range(y_.shape[0]):\n",
    "        e = (y_[i] - y[i])**2\n",
    "        l += e\n",
    "    \n",
    "    return l/x.shape[0]\n",
    "\n",
    "\n",
    "def grad(x, y, w, b):\n",
    "\n",
    "    m = x.shape[0]\n",
    "    \n",
    "    y_ = hypothesis(x, w, b)\n",
    "    \n",
    "#     #print(x.shape, y_.shape)\n",
    "#     grad_b = np.sum(y -  y_)/m\n",
    "#     grad_w = np.sum((y - y_))\n",
    "\n",
    "    grad_b, grad_w = 0.0, 0.0\n",
    "\n",
    "    for i in range(y_.shape[0]):\n",
    "        d = y_[i] - y[i]\n",
    "        #print(d)\n",
    "        grad_b += d\n",
    "        grad_w += d*x[i]\n",
    "    \n",
    "    #print('grad_w_shape ', grad_w.shape)\n",
    "    \n",
    "    return grad_w/m, grad_b/m\n",
    "\n",
    "def fit(x, y, learning_rate = 0.01, maxItr = 1000):\n",
    "    \n",
    "    w = np.zeros((x.shape[1], 1))\n",
    "    b = 0\n",
    "    \n",
    "    error = []\n",
    "    \n",
    "    for i in range(maxItr):\n",
    "        \n",
    "        #print(w.shape)\n",
    "        \n",
    "        grad_w, grad_b = grad(x, y, w, b)\n",
    "        \n",
    "        #print(grad_w, grad_b)\n",
    "        w = w - learning_rate*grad_w\n",
    "        \n",
    "        b = b - learning_rate*grad_b\n",
    "        \n",
    "        e = mse(x, y, w, b)\n",
    "        \n",
    "        error.append(e)\n",
    "    \n",
    "    return error, w, b"
   ]
  },
  {
   "cell_type": "code",
   "execution_count": 352,
   "metadata": {},
   "outputs": [],
   "source": [
    "error, w, b = fit(x, y)"
   ]
  },
  {
   "cell_type": "code",
   "execution_count": 353,
   "metadata": {},
   "outputs": [
    {
     "data": {
      "text/plain": [
       "[<matplotlib.lines.Line2D at 0x7fa6dacd3a58>]"
      ]
     },
     "execution_count": 353,
     "metadata": {},
     "output_type": "execute_result"
    },
    {
     "data": {
      "image/png": "[encoded data removed]",
      "text/plain": [
       "<Figure size 432x288 with 1 Axes>"
      ]
     },
     "metadata": {
      "needs_background": "light"
     },
     "output_type": "display_data"
    }
   ],
   "source": [
    "plt.plot(error)"
   ]
  },
  {
   "cell_type": "code",
   "execution_count": 354,
   "metadata": {},
   "outputs": [
    {
     "data": {
      "text/plain": [
       "array([0.39782722])"
      ]
     },
     "execution_count": 354,
     "metadata": {},
     "output_type": "execute_result"
    }
   ],
   "source": [
    "error[-5]"
   ]
  },
  {
   "cell_type": "code",
   "execution_count": null,
   "metadata": {},
   "outputs": [],
   "source": []
  }
 ],
 "metadata": {
  "kernelspec": {
   "display_name": "Python 3",
   "language": "python",
   "name": "python3"
  },
  "language_info": {
   "codemirror_mode": {
    "name": "ipython",
    "version": 3
   },
   "file_extension": ".py",
   "mimetype": "text/x-python",
   "name": "python",
   "nbconvert_exporter": "python",
   "pygments_lexer": "ipython3",
   "version": "3.6.8"
  }
 },
 "nbformat": 4,
 "nbformat_minor": 2
}
