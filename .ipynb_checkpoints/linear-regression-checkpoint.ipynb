{
 "cells": [
  {
   "cell_type": "code",
   "execution_count": 68,
   "metadata": {},
   "outputs": [],
   "source": [
    "import numpy as np\n",
    "import matplotlib.pyplot as plt\n",
    "%matplotlib inline"
   ]
  },
  {
   "cell_type": "markdown",
   "metadata": {},
   "source": [
    "### standard deviation - :\n",
    "a quantity expressing by how much the members of a group differ from the mean value for the group."
   ]
  },
  {
   "cell_type": "code",
   "execution_count": 69,
   "metadata": {},
   "outputs": [],
   "source": [
    "arr = np.random.randn(10) +  10"
   ]
  },
  {
   "cell_type": "code",
   "execution_count": 70,
   "metadata": {},
   "outputs": [
    {
     "data": {
      "text/plain": [
       "array([ 8.41854209,  9.47844427,  9.35948206,  9.53807367, 10.87308778,\n",
       "        8.27850616, 10.39490089,  9.44213047, 10.24935496,  9.6143145 ])"
      ]
     },
     "execution_count": 70,
     "metadata": {},
     "output_type": "execute_result"
    }
   ],
   "source": [
    "arr"
   ]
  },
  {
   "cell_type": "code",
   "execution_count": 71,
   "metadata": {},
   "outputs": [],
   "source": [
    "std = np.std(arr)"
   ]
  },
  {
   "cell_type": "code",
   "execution_count": 72,
   "metadata": {},
   "outputs": [
    {
     "data": {
      "text/plain": [
       "0.7684780648094857"
      ]
     },
     "execution_count": 72,
     "metadata": {},
     "output_type": "execute_result"
    }
   ],
   "source": [
    "std"
   ]
  },
  {
   "cell_type": "code",
   "execution_count": 147,
   "metadata": {},
   "outputs": [
    {
     "name": "stdout",
     "output_type": "stream",
     "text": [
      "[ 1.4739507   0.77931703 -0.36060129  0.22902427  0.47640105  0.71093968\n",
      " -1.2385964  -2.47020029 -0.34452172 -0.88557076 -1.75170204 -0.24335405\n",
      "  1.29987705 -0.87395944 -0.92285049 -1.78267978 -0.62340388 -0.25170603\n",
      " -0.06213488 -0.92378884  0.47766506  0.45554129  2.19097777  0.56539319\n",
      " -1.2055474   0.10876449 -0.8863838  -0.02208387  0.17888579 -0.14492881\n",
      "  1.44309514  0.3355441  -0.52930613 -1.20899331 -0.57738111  1.73704033\n",
      "  0.32315049  0.43199339 -1.18505454 -0.56336992  0.63189347  0.14071091\n",
      "  0.45842136  1.79930547 -0.42509885  0.02311004 -0.79691552 -1.77319381\n",
      " -0.02086578  0.27350168]\n",
      "[7.88172161 6.97049968 4.45267178 5.4944905  6.61859679 6.12436073\n",
      " 2.78983343 0.31408064 4.85056728 3.77105714 0.92072778 3.70887786\n",
      " 7.85742985 3.19302205 2.90863123 1.75692102 3.45558168 5.49548101\n",
      " 4.73025756 2.96645428 6.36423119 5.45951184 9.44877896 6.12636483\n",
      " 2.61575461 4.83905231 3.29228632 4.87951691 4.55289251 3.98909339\n",
      " 8.47573121 5.66622941 4.11489498 2.32142594 4.39279953 8.22381648\n",
      " 5.5402488  5.5667997  2.54606946 3.43255459 6.41580448 4.87022427\n",
      " 5.70624946 8.92468411 4.54242336 4.97541779 3.39271397 1.39863135\n",
      " 4.7896106  6.75237542]\n"
     ]
    }
   ],
   "source": [
    "x = np.random.randn(50)\n",
    "e = np.random.randn(50) # gaussian noise\n",
    "y = 2*x + 5 + 0.4*e \n",
    "\n",
    "print(x)\n",
    "print(y)"
   ]
  },
  {
   "cell_type": "code",
   "execution_count": 148,
   "metadata": {},
   "outputs": [
    {
     "name": "stdout",
     "output_type": "stream",
     "text": [
      "-0.11059377997448207 4.79754903296158\n"
     ]
    }
   ],
   "source": [
    "x_mean = np.mean(x)\n",
    "y_mean = np.mean(y)\n",
    "print(x_mean, y_mean)"
   ]
  },
  {
   "cell_type": "code",
   "execution_count": 149,
   "metadata": {},
   "outputs": [
    {
     "data": {
      "image/png": "[encoded data removed]",
      "text/plain": [
       "<Figure size 432x288 with 1 Axes>"
      ]
     },
     "metadata": {
      "needs_background": "light"
     },
     "output_type": "display_data"
    }
   ],
   "source": [
    "plt.scatter(x_mean, y_mean, color = \"red\")\n",
    "plt.scatter(x, y, color = 'green')\n",
    "plt.xlabel('x')\n",
    "plt.ylabel('y')\n",
    "plt.show()"
   ]
  },
  {
   "cell_type": "code",
   "execution_count": 150,
   "metadata": {},
   "outputs": [],
   "source": [
    "sx = np.std(x)\n",
    "sy = np.std(y)"
   ]
  },
  {
   "cell_type": "code",
   "execution_count": 159,
   "metadata": {},
   "outputs": [],
   "source": [
    "r = np.corrcoef(x, y)\n",
    "r = r[0][1]"
   ]
  },
  {
   "cell_type": "code",
   "execution_count": 161,
   "metadata": {},
   "outputs": [],
   "source": [
    "slope = (sy/sx)*r"
   ]
  },
  {
   "cell_type": "code",
   "execution_count": 182,
   "metadata": {},
   "outputs": [],
   "source": [
    "x_reg = np.arange(start = x_mean , step = 1, stop = max(y))"
   ]
  },
  {
   "cell_type": "code",
   "execution_count": 183,
   "metadata": {},
   "outputs": [
    {
     "data": {
      "text/plain": [
       "array([-0.11059378,  0.88940622,  1.88940622,  2.88940622,  3.88940622,\n",
       "        4.88940622,  5.88940622,  6.88940622,  7.88940622,  8.88940622])"
      ]
     },
     "execution_count": 183,
     "metadata": {},
     "output_type": "execute_result"
    }
   ],
   "source": [
    "x_reg"
   ]
  },
  {
   "cell_type": "code",
   "execution_count": 184,
   "metadata": {},
   "outputs": [],
   "source": [
    "y_reg = x_reg + slope"
   ]
  },
  {
   "cell_type": "code",
   "execution_count": 186,
   "metadata": {},
   "outputs": [
    {
     "data": {
      "text/plain": [
       "[<matplotlib.lines.Line2D at 0x7f0590ea3eb8>]"
      ]
     },
     "execution_count": 186,
     "metadata": {},
     "output_type": "execute_result"
    },
    {
     "data": {
      "image/png": "[encoded data removed]",
      "text/plain": [
       "<Figure size 432x288 with 1 Axes>"
      ]
     },
     "metadata": {
      "needs_background": "light"
     },
     "output_type": "display_data"
    }
   ],
   "source": [
    "plt.scatter(x, y, color = 'green')\n",
    "plt.plot(x_reg, y_reg, color = \"red\")"
   ]
  },
  {
   "cell_type": "markdown",
   "metadata": {},
   "source": [
    "# Linear  Regeression\n",
    "### gradient descent algorithm\n",
    "gradient descent algorithm is based upon minimizing the total error."
   ]
  },
  {
   "cell_type": "code",
   "execution_count": 87,
   "metadata": {},
   "outputs": [],
   "source": [
    "import pandas as pd\n",
    "import numpy as np\n",
    "import matplotlib.pyplot as plt"
   ]
  },
  {
   "cell_type": "markdown",
   "metadata": {},
   "source": [
    "### Preparing Data"
   ]
  },
  {
   "cell_type": "code",
   "execution_count": 88,
   "metadata": {},
   "outputs": [],
   "source": [
    "x = np.random.randn(100) # standared normal distribution\n",
    "e = np.random.randn(100) # gaussian error\n",
    "y = 2*x + 0.5*e"
   ]
  },
  {
   "cell_type": "markdown",
   "metadata": {},
   "source": [
    "### visualization and normalizing data"
   ]
  },
  {
   "cell_type": "code",
   "execution_count": 89,
   "metadata": {},
   "outputs": [
    {
     "data": {
      "image/png": "[encoded data removed]",
      "text/plain": [
       "<Figure size 432x288 with 1 Axes>"
      ]
     },
     "metadata": {
      "needs_background": "light"
     },
     "output_type": "display_data"
    }
   ],
   "source": [
    "plt.scatter(x, y, color = \"orange\")\n",
    "X = (x - np.mean(x))/np.std(x) # normal standard distribution\n",
    "Y = y\n",
    "plt.scatter(X, Y, color = \"red\")\n",
    "plt.show()"
   ]
  },
  {
   "cell_type": "code",
   "execution_count": 90,
   "metadata": {},
   "outputs": [
    {
     "data": {
      "image/png": "[encoded data removed]",
      "text/plain": [
       "<Figure size 432x288 with 1 Axes>"
      ]
     },
     "metadata": {
      "needs_background": "light"
     },
     "output_type": "display_data"
    }
   ],
   "source": [
    "plt.scatter(X, Y);"
   ]
  },
  {
   "cell_type": "markdown",
   "metadata": {},
   "source": [
    "### now we have to fit a line in the above training data (X, Y) \n",
    "###### we will do that by minimizing the error and this algorithm is called gradient descent"
   ]
  },
  {
   "cell_type": "markdown",
   "metadata": {},
   "source": [
    "## Gradient Descent Algorithm\n",
    "- Start with random theta\n",
    "- Update the theta as per update <br>\n",
    "   - Repeat step 2 until convergance"
   ]
  },
  {
   "cell_type": "code",
   "execution_count": null,
   "metadata": {},
   "outputs": [],
   "source": [
    "\n",
    "\n",
    "\n"
   ]
  },
  {
   "cell_type": "code",
   "execution_count": 124,
   "metadata": {},
   "outputs": [],
   "source": [
    "# hyptothesis function or regression line\n",
    "def line_hypothesis(x, theta):\n",
    "    return theta[0] + theta[1]*x\n",
    "\n",
    "# calculating total error\n",
    "def err(X, Y, theta):\n",
    "    m = X.shape[0]\n",
    "    e = 0 # initial error value\n",
    "    for i in range(m):\n",
    "        hx = line_hypothesis(X[i], theta)\n",
    "        e += (hx - Y[i])**2    \n",
    "    return  e\n",
    "\n",
    "def gradient(X, Y, theta):\n",
    "    grad = np.zeros((2,))\n",
    "    m = X.shape[0]\n",
    "    for i in range(m):\n",
    "        hx = line_hypothesis(X[i], theta)\n",
    "        grad[0] += hx - Y[i]\n",
    "        grad[1] += (hx - Y[i])*X[i]\n",
    "    return grad\n",
    "\n",
    "# gradient descent function\n",
    "def gradient_descent(X, Y, learning_rate = 0.002):\n",
    "    theta = np.zeros((2,))\n",
    "    error_list = []\n",
    "    for i in range(100):\n",
    "        grad = gradient(X, Y, theta)\n",
    "        e = err(X, Y, theta)\n",
    "        error_list.append(e)\n",
    "        theta[0]  = theta[0] - learning_rate*grad[0]\n",
    "        theta[1]  = theta[1]  - learning_rate*grad[1]\n",
    "\n",
    "    return error_list, theta\n",
    "    \n",
    "    \n",
    "    \n",
    "    "
   ]
  },
  {
   "cell_type": "code",
   "execution_count": 125,
   "metadata": {},
   "outputs": [],
   "source": [
    "error_list, final_theta = gradient_descent(X, Y)"
   ]
  },
  {
   "cell_type": "code",
   "execution_count": 130,
   "metadata": {},
   "outputs": [
    {
     "data": {
      "image/png": "[encoded data removed]",
      "text/plain": [
       "<Figure size 432x288 with 1 Axes>"
      ]
     },
     "metadata": {
      "needs_background": "light"
     },
     "output_type": "display_data"
    }
   ],
   "source": [
    "plt.plot(error_list);"
   ]
  },
  {
   "cell_type": "code",
   "execution_count": 131,
   "metadata": {},
   "outputs": [],
   "source": [
    "test = np.linspace(-5, 5, 10)"
   ]
  },
  {
   "cell_type": "code",
   "execution_count": null,
   "metadata": {},
   "outputs": [],
   "source": []
  },
  {
   "cell_type": "code",
   "execution_count": null,
   "metadata": {},
   "outputs": [],
   "source": []
  }
 ],
 "metadata": {
  "kernelspec": {
   "display_name": "Python 3",
   "language": "python",
   "name": "python3"
  },
  "language_info": {
   "codemirror_mode": {
    "name": "ipython",
    "version": 3
   },
   "file_extension": ".py",
   "mimetype": "text/x-python",
   "name": "python",
   "nbconvert_exporter": "python",
   "pygments_lexer": "ipython3",
   "version": "3.6.7"
  }
 },
 "nbformat": 4,
 "nbformat_minor": 2
}
